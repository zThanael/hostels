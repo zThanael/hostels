{
 "cells": [
  {
   "cell_type": "markdown",
   "id": "72580dec-947d-4212-b8fb-96966d007b12",
   "metadata": {},
   "source": [
    "<h3 style='color:orange'> Importação das Bibliotecas </h3>"
   ]
  },
  {
   "cell_type": "code",
   "execution_count": 23,
   "id": "18d7b273-6184-4e26-8c92-5d987e457c8b",
   "metadata": {},
   "outputs": [],
   "source": [
    "import connections\n",
    "import pandas as pd"
   ]
  },
  {
   "cell_type": "code",
   "execution_count": 2,
   "id": "0c317d4a-cd8d-4894-91d5-62be02273b3a",
   "metadata": {},
   "outputs": [],
   "source": [
    "pd.set_option('display.max_columns', 500)"
   ]
  },
  {
   "cell_type": "code",
   "execution_count": 24,
   "id": "c34d7bcf-95d8-4473-89fd-e0d0a1fd747f",
   "metadata": {},
   "outputs": [],
   "source": [
    "connection = connections.get_db()"
   ]
  },
  {
   "cell_type": "markdown",
   "id": "2fbfb0eb-439d-4e88-8142-c94c4138caf3",
   "metadata": {},
   "source": [
    "## Obtenção dos dados"
   ]
  },
  {
   "cell_type": "code",
   "execution_count": 4,
   "id": "e6c6ee73-2d75-4683-b1ae-1e0f65e347ba",
   "metadata": {},
   "outputs": [],
   "source": [
    "df_raw = pd.read_csv('hostel_detail_data.csv',sep=';')"
   ]
  },
  {
   "cell_type": "code",
   "execution_count": 5,
   "id": "99c53c04-2e3d-4466-926e-12597134fa1b",
   "metadata": {},
   "outputs": [
    {
     "data": {
      "text/plain": [
       "Index(['id_hostel', 'name', 'currency', 'type', 'maxNumberOfGuestsPerBooking',\n",
       "       'isFeatured', 'latestCheckOut', 'rating', 'totalRatings', 'starRating',\n",
       "       'facilities', 'description', 'latitude', 'longitude', 'address1',\n",
       "       'address2', 'directions', 'depositPercentage', 'checkIn.startsAt',\n",
       "       'checkIn.endsAt', 'city.id', 'city.name', 'city.country',\n",
       "       'city.idCountry', 'region.id', 'region.name', 'payments.payNow',\n",
       "       'cancellationPolicy.depositOnly.description',\n",
       "       'cancellationPolicy.depositOnly.numberOfDays',\n",
       "       'cancellationPolicy.nonRefundable.description',\n",
       "       'cancellationPolicy.freeCancellation.description',\n",
       "       'freeCancellation.isAvailable', 'freeCancellation.daysInAdvance',\n",
       "       'groupInformation.groupMaxPax', 'taxInfo.included', 'taxInfo.taxes'],\n",
       "      dtype='object')"
      ]
     },
     "execution_count": 5,
     "metadata": {},
     "output_type": "execute_result"
    }
   ],
   "source": [
    "df_raw.columns"
   ]
  },
  {
   "cell_type": "markdown",
   "id": "484e91e2-7738-4210-9d44-913cc4c11ba9",
   "metadata": {},
   "source": [
    "### Remover as colunas desnecessárias"
   ]
  },
  {
   "cell_type": "code",
   "execution_count": 6,
   "id": "4befdb30-2789-4a16-8548-f9df9e5dc840",
   "metadata": {},
   "outputs": [],
   "source": [
    "colunas_drop = ['rating',\n",
    "                'directions',\n",
    "                'groupInformation.groupMaxPax',\n",
    "                'cancellationPolicy.nonRefundable.description',\n",
    "                'cancellationPolicy.nonRefundable.description',\n",
    "                'address2',\n",
    "                'cancellationPolicy.freeCancellation.description',\n",
    "                'cancellationPolicy.depositOnly.numberOfDays',\n",
    "                'taxInfo.taxes',\n",
    "                'maxNumberOfGuestsPerBooking',\n",
    "                'isFeatured',\n",
    "                'city.id',\n",
    "                'city.idCountry',\n",
    "                'region.id',\n",
    "                'payments.payNow',\n",
    "                'cancellationPolicy.depositOnly.description'\n",
    "               ]\n",
    "\n",
    "df = df_raw.drop(columns = colunas_drop)"
   ]
  },
  {
   "cell_type": "markdown",
   "id": "80e5b07d-5c21-4db4-b05d-37103ee79aef",
   "metadata": {},
   "source": [
    "### Renomear as colunas"
   ]
  },
  {
   "cell_type": "code",
   "execution_count": 7,
   "id": "79b9df94-1600-46cd-b74b-2b857fb163ab",
   "metadata": {},
   "outputs": [],
   "source": [
    "df.rename(columns = {\n",
    "        'latestCheckOut':   'last_checkout',\n",
    "        'totalRatings':     'qtd_rating',\n",
    "        'starRating':       'min_rating',\n",
    "        'address1':         'address',\n",
    "        'depositPercentage':'deposit_percentage',\n",
    "        'checkIn.startsAt': 'checkin_start',\n",
    "        'checkIn.endsAt':   'checkin_end',\n",
    "        'city.name':        'city',\n",
    "        'city.country':     'country',\n",
    "        'region.name':      'region',\n",
    "        'freeCancellation.isAvailable': 'free_cancelation_is_available',\n",
    "        'freeCancellation.daysInAdvance': 'free_cancelation_days_in_advance',\n",
    "        'taxInfo.included': 'tax_is_included'\n",
    "    }, inplace = True\n",
    ")"
   ]
  },
  {
   "cell_type": "code",
   "execution_count": 8,
   "id": "9fac46a2-5088-4077-bff4-997690af49e8",
   "metadata": {},
   "outputs": [],
   "source": [
    "df['facilities'] = df['facilities'].apply(eval)"
   ]
  },
  {
   "cell_type": "markdown",
   "id": "680ed18a-2c14-479c-ae0f-d13cbe1d5ec6",
   "metadata": {},
   "source": [
    "## Normalizações"
   ]
  },
  {
   "cell_type": "markdown",
   "id": "4230b883-4e17-4db9-aee7-508a2f2aacd1",
   "metadata": {},
   "source": [
    "<h3 style='color:orange'> Categoria de Facilidade </h3>"
   ]
  },
  {
   "cell_type": "code",
   "execution_count": 9,
   "id": "2bc40fcf-9f6e-47da-86cf-2f32a636b4a8",
   "metadata": {
    "scrolled": true
   },
   "outputs": [],
   "source": [
    "# Explodir o DataFrame para obtenção de todas as Categorias\n",
    "df_exploded = df[['id_hostel','facilities']].explode('facilities').reset_index(drop = True)\n",
    "\n",
    "# Usar o Json_Normalize para criar o DataFrame\n",
    "df_category_raw = pd.json_normalize(df_exploded['facilities'])\n",
    "\n",
    "# Adicionar o Id do Hostel\n",
    "df_category_raw.insert(0, 'id_hostel', df_exploded['id_hostel'])"
   ]
  },
  {
   "cell_type": "code",
   "execution_count": 10,
   "id": "61116229-add2-421a-b9ba-a5f782e32079",
   "metadata": {},
   "outputs": [],
   "source": [
    "# Criar o DataFrame somente com as Categorias Existentes\n",
    "df_category = df_category_raw[['numericId','name','id']].drop_duplicates()\n",
    "\n",
    "# Remover registros Nulos\n",
    "df_category = df_category.dropna()\n",
    "\n",
    "# Ajustaro  tipo de dados para INT\n",
    "df_category['numericId'] = df_category['numericId'].astype(int)\n",
    "\n",
    "# Renomear as colunas\n",
    "df_category.rename(columns = {\n",
    "    'numericId':'id_category',\n",
    "    'name':'category',\n",
    "}, inplace = True)\n",
    "\n",
    "# Remover colunas desnecessarias\n",
    "df_category.drop(columns = ['id'], inplace = True)"
   ]
  },
  {
   "cell_type": "markdown",
   "id": "527fceb0-1dc3-47d9-b51b-96453ec145fb",
   "metadata": {},
   "source": [
    "#### Inserir no Banco de dados"
   ]
  },
  {
   "cell_type": "code",
   "execution_count": 12,
   "id": "adecff9d-26f2-448e-bbda-1f43dbd967ab",
   "metadata": {},
   "outputs": [
    {
     "data": {
      "text/plain": [
       "5"
      ]
     },
     "execution_count": 12,
     "metadata": {},
     "output_type": "execute_result"
    }
   ],
   "source": [
    "df_category.to_sql('hostelworld_category_facilities', connection, index = False, if_exists = 'append')"
   ]
  },
  {
   "cell_type": "markdown",
   "id": "11ec1334-aad7-4f61-b33a-fc35409a2bee",
   "metadata": {},
   "source": [
    "<h3 style='color:orange'> Facilidades </h3>"
   ]
  },
  {
   "cell_type": "code",
   "execution_count": 13,
   "id": "071af868-8d58-44f4-92a3-ac1d5a969944",
   "metadata": {},
   "outputs": [],
   "source": [
    "# Explodir em mais uma camada para obter as facilidades das categorias\n",
    "df_exploded = df_category_raw[['id_hostel','numericId','facilities']].explode('facilities').reset_index(drop = True)\n",
    "\n",
    "# Criar o Novo DataFrame contendo as Facilidades\n",
    "df_facilities_raw  = pd.json_normalize(df_exploded['facilities'])"
   ]
  },
  {
   "cell_type": "code",
   "execution_count": 14,
   "id": "fcd1428f-4d1d-4d74-9cab-86a50932a060",
   "metadata": {},
   "outputs": [],
   "source": [
    "# Remover os Registros Nulos\n",
    "df_facilities_raw = df_facilities_raw.dropna()\n",
    "\n",
    "# Inserir as colunas de Identificação do Hostel e da Categoria da Facilidade\n",
    "df_facilities_raw.insert(0,'id_category', df_exploded['numericId'])\n",
    "df_facilities_raw.insert(0,'id_hostel', df_exploded['id_hostel'])"
   ]
  },
  {
   "cell_type": "code",
   "execution_count": 15,
   "id": "2283c0b5-62ad-41e1-bbf7-87025d90a8bf",
   "metadata": {},
   "outputs": [],
   "source": [
    "# Criar o DataFrame das Facilidades que existem\n",
    "df_facilities = df_facilities_raw[['numericId','name','id']].drop_duplicates()\n",
    "\n",
    "# Remover os Nulos\n",
    "df_facilities = df_facilities.dropna()\n",
    "\n",
    "# Ajustar os tipos de dados\n",
    "df_facilities['numericId'] = df_facilities['numericId'].astype(int)\n",
    "\n",
    "# Renomear as colunas\n",
    "df_facilities.rename(columns = {\n",
    "    'numericId':'id_facility',\n",
    "    'name':'facility'\n",
    "}, inplace = True)"
   ]
  },
  {
   "cell_type": "markdown",
   "id": "000503b4-4357-4222-9bab-a0692e1258f4",
   "metadata": {},
   "source": [
    "### Inserir a tabela de Facilidades no Banco"
   ]
  },
  {
   "cell_type": "code",
   "execution_count": 16,
   "id": "49950bf6-c516-49b4-aaec-b7f8923904be",
   "metadata": {},
   "outputs": [
    {
     "data": {
      "text/html": [
       "<div>\n",
       "<style scoped>\n",
       "    .dataframe tbody tr th:only-of-type {\n",
       "        vertical-align: middle;\n",
       "    }\n",
       "\n",
       "    .dataframe tbody tr th {\n",
       "        vertical-align: top;\n",
       "    }\n",
       "\n",
       "    .dataframe thead th {\n",
       "        text-align: right;\n",
       "    }\n",
       "</style>\n",
       "<table border=\"1\" class=\"dataframe\">\n",
       "  <thead>\n",
       "    <tr style=\"text-align: right;\">\n",
       "      <th></th>\n",
       "      <th>id_facility</th>\n",
       "      <th>facility</th>\n",
       "      <th>id</th>\n",
       "    </tr>\n",
       "  </thead>\n",
       "  <tbody>\n",
       "    <tr>\n",
       "      <th>0</th>\n",
       "      <td>80</td>\n",
       "      <td>Free City Maps</td>\n",
       "      <td>FREECITYMAPS</td>\n",
       "    </tr>\n",
       "    <tr>\n",
       "      <th>1</th>\n",
       "      <td>90</td>\n",
       "      <td>Free WiFi</td>\n",
       "      <td>FREEWIFI</td>\n",
       "    </tr>\n",
       "    <tr>\n",
       "      <th>2</th>\n",
       "      <td>87</td>\n",
       "      <td>Towels Included</td>\n",
       "      <td>TOWELSINCLUDED</td>\n",
       "    </tr>\n",
       "    <tr>\n",
       "      <th>3</th>\n",
       "      <td>37</td>\n",
       "      <td>Breakfast Not Included</td>\n",
       "      <td>BREAKFASTNOTINCLUDED</td>\n",
       "    </tr>\n",
       "    <tr>\n",
       "      <th>4</th>\n",
       "      <td>27</td>\n",
       "      <td>Elevator</td>\n",
       "      <td>ELEVATOR</td>\n",
       "    </tr>\n",
       "    <tr>\n",
       "      <th>...</th>\n",
       "      <td>...</td>\n",
       "      <td>...</td>\n",
       "      <td>...</td>\n",
       "    </tr>\n",
       "    <tr>\n",
       "      <th>3075</th>\n",
       "      <td>113</td>\n",
       "      <td>Jobs Board</td>\n",
       "      <td>JOBSBOARD</td>\n",
       "    </tr>\n",
       "    <tr>\n",
       "      <th>3586</th>\n",
       "      <td>144</td>\n",
       "      <td>Sauna</td>\n",
       "      <td>SAUNA</td>\n",
       "    </tr>\n",
       "    <tr>\n",
       "      <th>7552</th>\n",
       "      <td>143</td>\n",
       "      <td>Golf Course</td>\n",
       "      <td>GOLFCOURSE</td>\n",
       "    </tr>\n",
       "    <tr>\n",
       "      <th>11730</th>\n",
       "      <td>302</td>\n",
       "      <td>UKRAINEREFUGEES</td>\n",
       "      <td>UKRAINEREFUGEES</td>\n",
       "    </tr>\n",
       "    <tr>\n",
       "      <th>112040</th>\n",
       "      <td>149</td>\n",
       "      <td>CRCHE</td>\n",
       "      <td>CRCHE</td>\n",
       "    </tr>\n",
       "  </tbody>\n",
       "</table>\n",
       "<p>103 rows × 3 columns</p>\n",
       "</div>"
      ],
      "text/plain": [
       "        id_facility                facility                    id\n",
       "0                80          Free City Maps          FREECITYMAPS\n",
       "1                90               Free WiFi              FREEWIFI\n",
       "2                87         Towels Included        TOWELSINCLUDED\n",
       "3                37  Breakfast Not Included  BREAKFASTNOTINCLUDED\n",
       "4                27                Elevator              ELEVATOR\n",
       "...             ...                     ...                   ...\n",
       "3075            113              Jobs Board             JOBSBOARD\n",
       "3586            144                   Sauna                 SAUNA\n",
       "7552            143             Golf Course            GOLFCOURSE\n",
       "11730           302         UKRAINEREFUGEES       UKRAINEREFUGEES\n",
       "112040          149                   CRCHE                 CRCHE\n",
       "\n",
       "[103 rows x 3 columns]"
      ]
     },
     "execution_count": 16,
     "metadata": {},
     "output_type": "execute_result"
    }
   ],
   "source": [
    "df_facilities"
   ]
  },
  {
   "cell_type": "code",
   "execution_count": 17,
   "id": "16995f30-60bd-479b-8caa-f36df7fc1467",
   "metadata": {},
   "outputs": [
    {
     "data": {
      "text/plain": [
       "103"
      ]
     },
     "execution_count": 17,
     "metadata": {},
     "output_type": "execute_result"
    }
   ],
   "source": [
    "df_facilities.to_sql('hostelworld_facilities', connection, index = False, if_exists = 'append')"
   ]
  },
  {
   "cell_type": "markdown",
   "id": "297ee668-0ca9-4d76-91ed-8bbb832ecd65",
   "metadata": {},
   "source": [
    "<h3 style='color:orange'> Tabela Fato </h3>"
   ]
  },
  {
   "cell_type": "code",
   "execution_count": 18,
   "id": "7660a7fb-d9c8-4d8f-9fc1-0f97ca20823b",
   "metadata": {},
   "outputs": [],
   "source": [
    "# Renomear as colunas\n",
    "df_facilities_raw.rename(columns = {\n",
    "    'numericId': 'id_facility'\n",
    "}, inplace = True)\n",
    "\n",
    "# Ajustar os tipos de dados\n",
    "df_facilities_raw['id_category'] = df_facilities_raw['id_category'].astype(int)\n",
    "df_facilities_raw['id_facility'] = df_facilities_raw['id_facility'].astype(int)\n",
    "\n",
    "# Remover colunas não usadas\n",
    "df_facilities_raw.drop(columns = ['name','id'], inplace = True)"
   ]
  },
  {
   "cell_type": "markdown",
   "id": "bcfb1ed1-c442-47d2-9100-8e7e295591cd",
   "metadata": {},
   "source": [
    "### Inserir a tabela Fato no Banco"
   ]
  },
  {
   "cell_type": "code",
   "execution_count": 19,
   "id": "d96cfb63-99f9-45b1-8836-832349d4e442",
   "metadata": {},
   "outputs": [
    {
     "data": {
      "text/html": [
       "<div>\n",
       "<style scoped>\n",
       "    .dataframe tbody tr th:only-of-type {\n",
       "        vertical-align: middle;\n",
       "    }\n",
       "\n",
       "    .dataframe tbody tr th {\n",
       "        vertical-align: top;\n",
       "    }\n",
       "\n",
       "    .dataframe thead th {\n",
       "        text-align: right;\n",
       "    }\n",
       "</style>\n",
       "<table border=\"1\" class=\"dataframe\">\n",
       "  <thead>\n",
       "    <tr style=\"text-align: right;\">\n",
       "      <th></th>\n",
       "      <th>id_hostel</th>\n",
       "      <th>id_category</th>\n",
       "      <th>id_facility</th>\n",
       "    </tr>\n",
       "  </thead>\n",
       "  <tbody>\n",
       "    <tr>\n",
       "      <th>0</th>\n",
       "      <td>177051</td>\n",
       "      <td>1</td>\n",
       "      <td>80</td>\n",
       "    </tr>\n",
       "    <tr>\n",
       "      <th>1</th>\n",
       "      <td>177051</td>\n",
       "      <td>1</td>\n",
       "      <td>90</td>\n",
       "    </tr>\n",
       "    <tr>\n",
       "      <th>2</th>\n",
       "      <td>177051</td>\n",
       "      <td>1</td>\n",
       "      <td>87</td>\n",
       "    </tr>\n",
       "    <tr>\n",
       "      <th>3</th>\n",
       "      <td>177051</td>\n",
       "      <td>2</td>\n",
       "      <td>37</td>\n",
       "    </tr>\n",
       "    <tr>\n",
       "      <th>4</th>\n",
       "      <td>177051</td>\n",
       "      <td>2</td>\n",
       "      <td>27</td>\n",
       "    </tr>\n",
       "    <tr>\n",
       "      <th>...</th>\n",
       "      <td>...</td>\n",
       "      <td>...</td>\n",
       "      <td>...</td>\n",
       "    </tr>\n",
       "    <tr>\n",
       "      <th>887910</th>\n",
       "      <td>300001</td>\n",
       "      <td>3</td>\n",
       "      <td>4</td>\n",
       "    </tr>\n",
       "    <tr>\n",
       "      <th>887911</th>\n",
       "      <td>300001</td>\n",
       "      <td>3</td>\n",
       "      <td>15</td>\n",
       "    </tr>\n",
       "    <tr>\n",
       "      <th>887912</th>\n",
       "      <td>300001</td>\n",
       "      <td>3</td>\n",
       "      <td>13</td>\n",
       "    </tr>\n",
       "    <tr>\n",
       "      <th>887913</th>\n",
       "      <td>300001</td>\n",
       "      <td>4</td>\n",
       "      <td>125</td>\n",
       "    </tr>\n",
       "    <tr>\n",
       "      <th>887914</th>\n",
       "      <td>300001</td>\n",
       "      <td>5</td>\n",
       "      <td>133</td>\n",
       "    </tr>\n",
       "  </tbody>\n",
       "</table>\n",
       "<p>887375 rows × 3 columns</p>\n",
       "</div>"
      ],
      "text/plain": [
       "        id_hostel  id_category  id_facility\n",
       "0          177051            1           80\n",
       "1          177051            1           90\n",
       "2          177051            1           87\n",
       "3          177051            2           37\n",
       "4          177051            2           27\n",
       "...           ...          ...          ...\n",
       "887910     300001            3            4\n",
       "887911     300001            3           15\n",
       "887912     300001            3           13\n",
       "887913     300001            4          125\n",
       "887914     300001            5          133\n",
       "\n",
       "[887375 rows x 3 columns]"
      ]
     },
     "execution_count": 19,
     "metadata": {},
     "output_type": "execute_result"
    }
   ],
   "source": [
    "df_facilities_raw"
   ]
  },
  {
   "cell_type": "code",
   "execution_count": 21,
   "id": "622c9ef8-80eb-42c4-816d-8bc89d6f8de1",
   "metadata": {},
   "outputs": [
    {
     "data": {
      "text/plain": [
       "887375"
      ]
     },
     "execution_count": 21,
     "metadata": {},
     "output_type": "execute_result"
    }
   ],
   "source": [
    "df_facilities_raw.to_sql('hostelworld_hostel_facilities', connection, index = False, if_exists = 'append', method = 'multi')"
   ]
  },
  {
   "cell_type": "code",
   "execution_count": null,
   "id": "8c623533-0a77-4848-b1fe-e5b84ffa9e62",
   "metadata": {},
   "outputs": [],
   "source": []
  }
 ],
 "metadata": {
  "kernelspec": {
   "display_name": "Python 3 (ipykernel)",
   "language": "python",
   "name": "python3"
  },
  "language_info": {
   "codemirror_mode": {
    "name": "ipython",
    "version": 3
   },
   "file_extension": ".py",
   "mimetype": "text/x-python",
   "name": "python",
   "nbconvert_exporter": "python",
   "pygments_lexer": "ipython3",
   "version": "3.12.2"
  }
 },
 "nbformat": 4,
 "nbformat_minor": 5
}
