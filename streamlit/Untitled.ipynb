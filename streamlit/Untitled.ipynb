{
 "cells": [
  {
   "cell_type": "code",
   "execution_count": 7,
   "id": "e240e188-5ce6-45ce-acc9-bad65a2c9786",
   "metadata": {},
   "outputs": [],
   "source": [
    "import pandas as pd \n",
    "import connections\n",
    "import plotly.express as px"
   ]
  },
  {
   "cell_type": "code",
   "execution_count": 3,
   "id": "4308f486-c7f7-4813-b946-79d039952791",
   "metadata": {},
   "outputs": [],
   "source": [
    "con = connections.get_connection()"
   ]
  },
  {
   "cell_type": "code",
   "execution_count": 6,
   "id": "007194ab-c76a-4166-8cc8-ea87f5bbc296",
   "metadata": {},
   "outputs": [],
   "source": [
    "df = pd.read_sql('''\n",
    "select * from hostelworld_hostel hh  where country = 'Brazil'\n",
    "''', con)"
   ]
  },
  {
   "cell_type": "code",
   "execution_count": 17,
   "id": "1446f527-8135-4354-9492-4cb892c08162",
   "metadata": {},
   "outputs": [
    {
     "data": {
      "application/vnd.plotly.v1+json": {
       "config": {
        "plotlyServerURL": "https://plot.ly"
       },
       "data": [
        {
         "customdata": [
          [
           "Babitonga Hostel"
          ],
          [
           "Pousada Marinheiro"
          ],
          [
           "Boutique Hotel Gávea Tropical"
          ],
          [
           "Praia Hotel Enseada"
          ],
          [
           "Hostel Villa Cacau Trancoso"
          ],
          [
           "Sitio Sapiranga"
          ],
          [
           "Pousada Chales Madu"
          ],
          [
           "Morro das Pedras Clube Hotel & Spa"
          ],
          [
           "Real Foz"
          ],
          [
           "Pousada Inn Falls Park"
          ],
          [
           "Aldeia Gaia"
          ],
          [
           "Arte da Tribo Hostel & Camping"
          ],
          [
           "Porto Galeão"
          ],
          [
           "Hostel Brazilian House"
          ],
          [
           "Bistu Hotel & Hostel"
          ],
          [
           "Bougainville Hostel"
          ],
          [
           "Kaleidoscópio Hostel"
          ],
          [
           "Hostel Ipe"
          ],
          [
           "Solar da Praia"
          ],
          [
           "Sono Vitoria"
          ],
          [
           "Economy Apart"
          ],
          [
           "Tarobá Express"
          ],
          [
           "Economy Suites"
          ],
          [
           "Calamares Hotel"
          ],
          [
           "Hostel Caribe de Ubatuba"
          ],
          [
           "Hotel Dany"
          ],
          [
           "Iguassu Holiday Hotel"
          ],
          [
           "Hotel Estancia Bonanza"
          ],
          [
           "CLH Suites Bonito Sul"
          ],
          [
           "CLH Suites Bonito Centro"
          ],
          [
           "Pousada Por do Sol Buzios"
          ],
          [
           "Hostel Barroco Salvador"
          ],
          [
           "Pousada Cajaiba"
          ],
          [
           "Pousada Foz Igu"
          ],
          [
           "Irawo Hotel"
          ],
          [
           "Villa Iguaçu Palace Hotel"
          ],
          [
           "Mirante do Arvrao"
          ],
          [
           "Hotel Panorama Cuiaba"
          ],
          [
           "Aruanda Hostel"
          ],
          [
           "Pousada Lua Cheia"
          ],
          [
           "Hotel Faguile"
          ],
          [
           "Hotel Blumenau"
          ],
          [
           "Tapera Hotel"
          ],
          [
           "Alvorada Iguassu Hotel"
          ],
          [
           "Hotel Ocean Imperium"
          ],
          [
           "Chale Oasis"
          ],
          [
           "Pousada Estrelamar - Porto Mirim"
          ],
          [
           "Pousada Amagali"
          ],
          [
           "Corais de Maracajaú"
          ],
          [
           "Pousada Sobre as Ondas"
          ],
          [
           "Paraty Hostel - Casa do Rio"
          ],
          [
           "Athenas Apart-Hotel"
          ],
          [
           "Hotel Pousada Terras do Sem Fim - Ilheus - Bahia"
          ],
          [
           "Pousada da Angelica"
          ],
          [
           "Ramada Airport Hotel"
          ],
          [
           "Ritz Suites Hotel"
          ],
          [
           "Tropico Praia Hotel"
          ],
          [
           "Hotel Delphia Marsallis"
          ],
          [
           "Marambaia Apart Hotel"
          ],
          [
           "Harmoni Hostel e Pousada"
          ],
          [
           "Pousada Praia do Flamengo"
          ],
          [
           "Malibu Porto Hotel"
          ],
          [
           "Amazonas Palace Hotel"
          ],
          [
           "Hotel Paraiso Marili"
          ],
          [
           "Hotel Ver O Peso"
          ],
          [
           "Hotel Blumenhof"
          ],
          [
           "Hotel Pousada Lagoas"
          ],
          [
           "Pousada Bons Amigos"
          ],
          [
           "Grande Hotel Blumenau"
          ],
          [
           "Abudi Palace Hotel"
          ],
          [
           "Esplanada Brasilia Hotel"
          ],
          [
           "Hotel Iguacu"
          ],
          [
           "America Praia Flat"
          ],
          [
           "Nautico Praia Hotel & Convention Center"
          ],
          [
           "Hotel Estalagem Porto Seguro"
          ],
          [
           "Portobello Park Hotel"
          ],
          [
           "Hotel Costa Verde"
          ],
          [
           "Hotel Vale Verde"
          ],
          [
           "Paraty Hotel"
          ],
          [
           "Residencial Sol e Mar de Floripa"
          ],
          [
           "Bella Italia Hotel e Eventos Ltda"
          ],
          [
           "Hotel Del Rey"
          ],
          [
           "Aguas do Iguaçu Hotel Centro"
          ],
          [
           "Eco Pousada Villa Verde"
          ],
          [
           "Hotel Cupim Lazer"
          ],
          [
           "Nautilus Apart Hotel"
          ],
          [
           "Paudimar Cataratas Hotel"
          ],
          [
           "Hotel Rojas All Suite"
          ],
          [
           "Colinas Residencia"
          ],
          [
           "Foz Express Hotel"
          ],
          [
           "Montepascual Ecovillage"
          ],
          [
           "Ibis Budget Belém"
          ],
          [
           "Stella Solaris Cataratas"
          ],
          [
           "Espaço Revive  Hostel e Camping"
          ],
          [
           "Mono Beach Hostel"
          ],
          [
           "Hotel Villa Canoas"
          ],
          [
           "Castelo de Itaipava Hotel - Eventos - Gastronomia"
          ],
          [
           "Hotel e Hostel Piazza Batel"
          ],
          [
           "MoBu Hostel"
          ],
          [
           "CLH Suites Copacabana @ Domingos Ferreira"
          ],
          [
           "Hostel Passos MG"
          ],
          [
           "Hostel Praia Grande de Ubatuba"
          ],
          [
           "Hostel Vila Flor Jericoacoara"
          ],
          [
           "Aconchego do  lar Hospedagem"
          ],
          [
           "Pousada Gostoso Village"
          ],
          [
           "Pousada Jubaia"
          ],
          [
           "Hotel Ibis budget Sao Paulo Sao Joao"
          ],
          [
           "Today Hostel"
          ],
          [
           "Pousada Paraty Paradiso"
          ],
          [
           "Pousada Campo Verde"
          ],
          [
           "Sao Paulo Hostel Downtown"
          ],
          [
           "Solar Beach Hostel"
          ],
          [
           "Iguassu Flats Hotel"
          ],
          [
           "Pousada Ville Provence"
          ],
          [
           "Salvatti Cataratas Hotel"
          ],
          [
           "Hotel Fazenda Caco de Cuia"
          ],
          [
           "Ace Suites Inn Rio"
          ],
          [
           "Casa Tuxi"
          ],
          [
           "Pousada Terral"
          ],
          [
           "Pousada e Hostel São Paulo – Unidade Comfort"
          ],
          [
           "Alma Tropical Resort"
          ],
          [
           "Peixe Gordo Adults Only Hotel"
          ],
          [
           "Pousada Mojomar Buzios"
          ],
          [
           "Boulevard Bed & Breakfast"
          ],
          [
           "Riverside Inn"
          ],
          [
           "La Hotel Votuporanga"
          ],
          [
           "Hotel Barao Ribeirao"
          ],
          [
           "Pousada Beluga"
          ],
          [
           "Aldeia Hostel II"
          ],
          [
           "La Musica Hostel Ouro Preto"
          ],
          [
           "Pousada Encanto do Amor Buzios"
          ],
          [
           "Pousada Casa da Praia Buzios"
          ],
          [
           "Pousada Beira Dagua"
          ],
          [
           "Pousada 3J Hotel Fazenda"
          ],
          [
           "Naim Hotel"
          ],
          [
           "Woods Hostel"
          ],
          [
           "Casa Maker Redario & Camping"
          ],
          [
           "Pousada Delle Rose"
          ],
          [
           "Pousada Afrika"
          ],
          [
           "Pousada Toa Toa Em Pipa"
          ],
          [
           "Hostel Trilhas e Rotas"
          ],
          [
           "Guest House Copacabana Hostel"
          ],
          [
           "Villa Sabia - Eco Bungalows"
          ],
          [
           "Ivos Hostel & Camping"
          ],
          [
           "Para Vos y Porque Si"
          ],
          [
           "Hotel Rio Vale Verde"
          ],
          [
           "Live in Fortaleza Hotel"
          ]
         ],
         "hovertemplate": "type=HOTEL<br>latitude=%{lat}<br>longitude=%{lon}<br>name=%{customdata[0]}<extra></extra>",
         "lat": [
          -26.2295867,
          -13.3789396,
          -22.9846956,
          -9.6719381,
          -16.5923148,
          -29.6735969,
          -23.5166368,
          -27.7137145,
          -25.5375931,
          -25.5896633,
          -22.4141182,
          -28.1291787,
          -6.3694408,
          -15.877654,
          -23.5967993,
          -23.1413445,
          -23.544697,
          -23.5643051,
          -23.1404887,
          -20.289725,
          -5.8752959,
          -25.5409237,
          -5.8715615,
          -23.6221328,
          -23.5298779,
          -25.5385838,
          -25.5770749,
          -22.485218,
          -21.1336089,
          -21.127263,
          -22.75,
          -12.9709619,
          -13.381162,
          -25.5362367,
          -12.9723388,
          -25.5442783,
          -22.9955185,
          -15.6007085,
          -16.8068542,
          -22.8954837,
          -25.5344265,
          -25.4243665,
          -21.1285987,
          -25.5066622,
          -5.9481157,
          -5.0942806,
          -5.5442297,
          -5.0942864,
          -5.4088297,
          -25.459379,
          -23.2179336,
          -20.4498867,
          -14.9196158,
          -25.5509162,
          -19.6416194,
          -9.6325168,
          -9.660699,
          -5.8731294,
          -5.8778818,
          -23.1442347,
          -12.9272823,
          -16.4438991,
          -19.9176259,
          -1.4402068,
          -1.4514947,
          -26.9123134,
          -9.6429085,
          -3.2383922,
          -26.9227124,
          -15.5965437,
          -15.794607,
          -20.4621924,
          -16.385757,
          -16.3937759,
          -16.4476781,
          -16.3917332,
          -16.445024,
          -16.4434833,
          -23.2198876,
          -27.42971,
          -25.5348906,
          -25.5347685,
          -25.5347855,
          -21.1162531,
          -20.8166228,
          -5.8830875,
          -25.5999645,
          -23.5388878,
          -22.9833811,
          -25.539541,
          -3.347088,
          -1.4488791,
          -25.5095369,
          -8.9623935,
          -8.5070967,
          -25.5342331,
          -22.3608611,
          -25.4357687,
          -23.0141433,
          -22.9716564,
          -20.730209,
          -23.4655179,
          -2.7945643,
          -12.5609013,
          -5.1246753,
          -21.1291904,
          -23.5397789,
          -23.527861,
          -23.2422218,
          -21.1447251,
          -23.539425,
          -27.4282998,
          -25.5460694,
          -22.7635286,
          -25.5455669,
          -20.299563,
          -22.9493493,
          -22.9443267,
          -14.2868583,
          -23.5588985,
          -13.068977,
          -4.781979,
          -22.7511891,
          0,
          -2.7576023,
          -20.4238875,
          -21.1822305,
          -22.7713509,
          -3.1369234,
          -20.3857546,
          -22.7681777,
          -22.7765916,
          -8.529969,
          -16.0555554,
          -20.6121582,
          -19.8564698,
          -2.056219,
          -8.5046341,
          -22.753425,
          -6.2315162,
          -23.5567369,
          -22.9727787,
          -2.8191396,
          -22.3701437,
          -13.3826117,
          -22.6141255,
          -3.747904
         ],
         "legendgroup": "HOTEL",
         "lon": [
          -48.5018,
          -38.9132194,
          -43.2424213,
          -35.7164946,
          -39.1028396,
          -50.9920258,
          -45.1979911,
          -48.5025784,
          -54.5813332,
          -54.5181884,
          -42.9035758,
          -48.6469208,
          -35.0083048,
          -52.2941715,
          -46.6727525,
          -44.1678441,
          -46.698818,
          -46.6332483,
          -44.1676141,
          -40.2977758,
          -35.1800012,
          -54.5881419,
          -35.1825192,
          -46.549354,
          -45.2226589,
          -54.5858002,
          -54.5422531,
          -48.9604835,
          -56.4781156,
          -56.485184,
          -41.8833333,
          -38.5059072,
          -38.91111,
          -54.5888183,
          -38.5089815,
          -54.5866699,
          -43.2425069,
          -56.0996895,
          -39.1495099,
          -48.4907605,
          -54.5858362,
          -49.2708642,
          -56.4845886,
          -54.5891421,
          -35.1552445,
          -36.2746341,
          -35.2575302,
          -36.2723109,
          -35.3112532,
          -48.24469,
          -44.7188338,
          -54.6286694,
          -39.0208748,
          -54.5753402,
          -43.9043753,
          -35.6973354,
          -35.704856,
          -35.1791954,
          -35.1756249,
          -44.1660156,
          -38.3210831,
          -39.0666389,
          -43.9364413,
          -48.4586105,
          -48.5023832,
          -49.0669784,
          -35.7080093,
          -39.2368872,
          -49.0602066,
          -56.0901971,
          -47.889436,
          -54.6238999,
          -39.034434,
          -39.0433311,
          -39.0677881,
          -39.0423317,
          -39.0625692,
          -39.0676574,
          -44.7164563,
          -48.449954,
          -54.5766234,
          -54.5881128,
          -54.585968,
          -56.5062986,
          -43.8099796,
          -35.1728714,
          -54.5240052,
          -46.6465759,
          -43.1947933,
          -54.581659,
          -39.136756,
          -48.4693673,
          -54.5489429,
          -35.1749603,
          -35.0054963,
          -54.5849482,
          -43.125098,
          -49.287154,
          -44.2298421,
          -43.1856447,
          -46.6196836,
          -45.0628612,
          -40.5142953,
          -41.3895157,
          -35.6250976,
          -56.4809722,
          -46.6442427,
          -46.682561,
          -44.6398304,
          -44.2243812,
          -46.644629,
          -48.4653147,
          -54.5890235,
          -41.8926824,
          -54.5869238,
          -43.8178677,
          -43.1829508,
          -43.1855243,
          -38.9856606,
          -46.6745481,
          -38.729839,
          -37.2828254,
          -41.8799393,
          0,
          -42.8378885,
          -49.9739568,
          -47.8121602,
          -41.901132,
          -60.0194159,
          -43.5038054,
          -41.9040724,
          -41.908471,
          -35.008523,
          -56.5663592,
          -46.0634864,
          -43.9768088,
          -60.0280191,
          -35.0017348,
          -41.879622,
          -35.0430387,
          -46.6635705,
          -43.1913069,
          -40.4066135,
          -44.8851342,
          -38.9105742,
          -46.4687246,
          -38.467814
         ],
         "marker": {
          "color": "#636efa"
         },
         "mode": "markers",
         "name": "HOTEL",
         "showlegend": true,
         "subplot": "mapbox",
         "textposition": "top center",
         "type": "scattermapbox",
         "visible": "legendonly"
        },
        {
         "customdata": [
          [
           "Jardim Secreto Guesthouse"
          ],
          [
           "Hostel Clube Vaa"
          ],
          [
           "Noronha 350"
          ],
          [
           "Casa Guarnicê Hostel"
          ],
          [
           "O Viajante Hostel"
          ],
          [
           "Varandas do Arraial"
          ],
          [
           "Hostel Zen Garden"
          ],
          [
           "Swan Generation"
          ],
          [
           "Tropical Hostel"
          ],
          [
           "Proxima Estacion Hostel"
          ],
          [
           "Hostel Estação Maracanã"
          ],
          [
           "IHostel Aldeota"
          ],
          [
           "EcoRupestre Hostel Serra da Capivara"
          ],
          [
           "Nomads MultiCultural"
          ],
          [
           "Mandala Hostel"
          ],
          [
           "Puleiro Hostel"
          ],
          [
           "La Plage Salvador - Boutique Hostel"
          ],
          [
           "ClanDestino"
          ],
          [
           "Mare Blu Pousada Hostel"
          ],
          [
           "Hostel Leblon"
          ],
          [
           "Rosemary Dream"
          ],
          [
           "Araucária Hostel"
          ],
          [
           "Kuki's Hostel"
          ],
          [
           "Santo Hostel"
          ],
          [
           "Maragogi Social Hostel"
          ],
          [
           "Da Orla Pampulha Hostel"
          ],
          [
           "My House Hostel Buzio"
          ],
          [
           "Hostel Manjericão"
          ],
          [
           "Sitio Simple Life"
          ],
          [
           "Lamparina Hostel"
          ],
          [
           "Mundo da Lua Hostel"
          ],
          [
           "Selina Copacabana"
          ],
          [
           "Hospedaria & Camping Pingo de Ouro"
          ],
          [
           "Maracanã Hostel Vila Isabel"
          ],
          [
           "Your Hostel"
          ],
          [
           "Casa Odara"
          ],
          [
           "Bananas Hostel"
          ],
          [
           "Mini Hostel Tutóia-MA"
          ],
          [
           "O Hostel - Gru | SP"
          ],
          [
           "Hostel Minho"
          ],
          [
           "Longboard Paradise Surf Club"
          ],
          [
           "Joy Hostel"
          ],
          [
           "Casa do Professor Hostel"
          ],
          [
           "Hostel Econômico"
          ],
          [
           "Ka'a Hostel & Pousada"
          ],
          [
           "É Hostel"
          ],
          [
           "Espaço Luz do Sol"
          ],
          [
           "Hostel Liberdade"
          ],
          [
           "Qué onda!"
          ],
          [
           "Sangha Urbana"
          ],
          [
           "Jundu Beach Hostel"
          ],
          [
           "Manhatã Hostel"
          ],
          [
           "Hostel More SP"
          ],
          [
           "Nossa Casa em Floripa"
          ],
          [
           "Udihostel Albergue e Hospedaria Ltda"
          ],
          [
           "Tapera Hostel"
          ],
          [
           "Hostel Popular Canto da Praia"
          ],
          [
           "Z-18 Hostel"
          ],
          [
           "Innbox - Porto Belo"
          ],
          [
           "Flet Point Hostel"
          ],
          [
           "Hostel Vagamundo"
          ],
          [
           "Beach Hostel & Suites Los Pibes de Flores"
          ],
          [
           "Casa Alma Zen - Hostel Boutique & Bistrô Ubatuba"
          ],
          [
           "Duque Hostel"
          ],
          [
           "Hobi Guest House"
          ],
          [
           "Azul Maria Hostel"
          ],
          [
           "Quintal Hostel"
          ],
          [
           "Manaca Hospedaria"
          ],
          [
           "Rio Surf House"
          ],
          [
           "APRAIANA HOSTEL"
          ],
          [
           "Chez Zany"
          ],
          [
           "Lampiao Hostel"
          ],
          [
           "Nômades Adventure Hostel"
          ],
          [
           "Beach House Ilha Grande Hostel"
          ],
          [
           "Espaco Agroecologico Caminho das Pedras"
          ],
          [
           "Hostel Central São Sebastião"
          ],
          [
           "Chamos Hostel Cultural"
          ],
          [
           "Pantai Chill House"
          ],
          [
           "Namoa Pollastrini"
          ],
          [
           "Hostel Banana House"
          ],
          [
           "Oma Hostel"
          ],
          [
           "Pequi Hostel"
          ],
          [
           "I'm Hostel - Be happy"
          ],
          [
           "El Misti Hostel Buzios"
          ],
          [
           "Por el Mundo Hostel"
          ],
          [
           "Agora Hostel Natal"
          ],
          [
           "Rosa Surf Hostel"
          ],
          [
           "Hostel Casa do Rogerio"
          ],
          [
           "Viçosa Hostel"
          ],
          [
           "Brazilian Cult Hostel"
          ],
          [
           "Raiz Kite Cabana"
          ],
          [
           "Casa Feliz Hostel Boa Viagem"
          ],
          [
           "Abrigo de Montanha Xique Xique"
          ],
          [
           "Hostel Paulista"
          ],
          [
           "Rasta House"
          ],
          [
           "Hostel Cristo da Barra"
          ],
          [
           "Hostel e Suítes Lar Azul"
          ],
          [
           "Selina Paraty"
          ],
          [
           "Imagina Hostel"
          ],
          [
           "Galeria SP Hostel"
          ],
          [
           "Jardins Village Hostel - Unidade Brigadeiro"
          ],
          [
           "Hostel Calábria Vila Madalena"
          ],
          [
           "Visto Hostel"
          ],
          [
           "Abaré House Floating Hostel"
          ],
          [
           "Un dia mas Hostel"
          ],
          [
           "Lá na Praia Hostel e Pousada"
          ],
          [
           "Red Monkey Hostel Barra Funda"
          ],
          [
           "The Search House Beachfront Hostel"
          ],
          [
           "Hostel UFO na Chapada"
          ],
          [
           "Solar Hostel Beach Copacabana"
          ],
          [
           "Guapuruvu Hostel"
          ],
          [
           "Marlin Hostel Ilha Grande"
          ],
          [
           "Hostel 142"
          ],
          [
           "Maracujá Hostel"
          ],
          [
           "Pandora Hostel"
          ],
          [
           "Pousada e Hostel Estacoes"
          ],
          [
           "Sonho Floripa"
          ],
          [
           "Flutuante Das Bandeiras"
          ],
          [
           "Micasa Su Casa"
          ],
          [
           "Pousada Recanto das Ondas"
          ],
          [
           "Casa Bacarira Ecolodge"
          ],
          [
           "Verde Hostel Ilhabela"
          ],
          [
           "Hostel Toca da Moréia Bombinhas"
          ],
          [
           "Leo's Clan Beach Hostel"
          ],
          [
           "Che Pepe Hostel"
          ],
          [
           "Ramon HostelBar"
          ],
          [
           "Remo Hostel"
          ],
          [
           "Hostel Matilda"
          ],
          [
           "Beira Mar Hostel Centro"
          ],
          [
           "Paradiso Bnb"
          ],
          [
           "Soul Hostel"
          ],
          [
           "Casa de Mainha Friendly Hostel"
          ],
          [
           "Massape Rio Hostel"
          ],
          [
           "CLH Suites Curitiba"
          ],
          [
           "LaTaperaJeri"
          ],
          [
           "Gaia Hostel"
          ],
          [
           "Sea Wolf Surf Hostel"
          ],
          [
           "Hostel Farroupilha"
          ],
          [
           "Nomade In Arte e Hostel"
          ],
          [
           "Tetris Container Hostel"
          ],
          [
           "Stammtisch Hostel"
          ],
          [
           "Na Praia - Family Hostel & Coworking"
          ],
          [
           "Paraíso do Caju House Hostel"
          ],
          [
           "Garopaba - Cidade Baixa Hostel"
          ],
          [
           "Hostel Campo de Pouso"
          ],
          [
           "Belem Hostel"
          ],
          [
           "Hostel Savassi"
          ],
          [
           "Villa Hostel"
          ],
          [
           "Namoa Castelinho"
          ],
          [
           "José e Maria Hostel Bar"
          ],
          [
           "Hostel Boi Bumba"
          ],
          [
           "Café Hostel"
          ],
          [
           "Guanaaní Hostel"
          ],
          [
           "Hostel Poesia"
          ],
          [
           "Pampulha Adventure Hostel"
          ],
          [
           "Bada Hostel & Kite School"
          ],
          [
           "Che Lagarto Hostel Foz do Iguaçu"
          ],
          [
           "Solar63 Hostel"
          ],
          [
           "Hostel Rio Guesthouse"
          ],
          [
           "Refúgio Hostel Fortaleza"
          ],
          [
           "Rock! and Hostel"
          ],
          [
           "Gadhega’s Hostel Salvador"
          ],
          [
           "Pousada Morada do Sol - My Space"
          ],
          [
           "Abrigo Lapinha"
          ],
          [
           "Hostel Marraial"
          ],
          [
           "Mindu GuestHouse"
          ],
          [
           "Guappo Chácara Hostel"
          ],
          [
           "Hostel Anauê"
          ],
          [
           "Lulilo Hostel"
          ],
          [
           "Casa Viva Paraty"
          ],
          [
           "Vibe Hostel"
          ],
          [
           "Local Hostel Manaus"
          ],
          [
           "Lobo Urban Stay"
          ],
          [
           "Did's Hostel"
          ],
          [
           "Britânico Suítes e Hostel"
          ],
          [
           "Pousada Tudo de Bom"
          ],
          [
           "Maraca Hostel Rio"
          ],
          [
           "Mambembe Hostel"
          ],
          [
           "Barra Surf Hostel"
          ],
          [
           "Hostel Carioca Buzios"
          ],
          [
           "Hostel Ponto Praia"
          ],
          [
           "Pousada Jardim Da Lagoa"
          ],
          [
           "Bela Casa Quartos e Hostel"
          ],
          [
           "Caracol Hostel"
          ],
          [
           "Hello Hostel Design"
          ],
          [
           "Viva Hostel Design"
          ],
          [
           "Haleakala Hostel"
          ],
          [
           "Solar Hostel Búzios"
          ],
          [
           "Hostel SP011 Sao Paulo"
          ],
          [
           "Geckos Hostel"
          ],
          [
           "Freedom Hostel - MG"
          ],
          [
           "Onca da Praia - Hostel"
          ],
          [
           "HI Hostel Campo Grande MS"
          ],
          [
           "Hostel Brasil Boutique"
          ],
          [
           "Hostel Duarte Coelho"
          ],
          [
           "O'Riley's Perdizes Hostel"
          ],
          [
           "Concept Design Hostel"
          ],
          [
           "Che Lagarto Hostel Porto de Galinhas"
          ],
          [
           "Hostel Aloha Foz do Iguacu"
          ],
          [
           "Hostel Frontier"
          ],
          [
           "Garoa Hostel"
          ],
          [
           "Sagui Hostel"
          ],
          [
           "Green Haven Hostel"
          ],
          [
           "Hospedaria da Glória"
          ],
          [
           "Anhembi Hostel"
          ],
          [
           "Estacao do Mangue Hostel"
          ],
          [
           "Guaruja Ilha Hostel"
          ],
          [
           "Mama Brasil Hostel"
          ],
          [
           "Brazilodge All Suites Hostel"
          ],
          [
           "Boa Viagem Hostel"
          ],
          [
           "Casa da Lagoa Guest House"
          ],
          [
           "Art Beach Hostel Búzios"
          ],
          [
           "Linetur"
          ],
          [
           "Iguassu Falls Hostel"
          ],
          [
           "Namoa Paulista"
          ],
          [
           "Hostel Aventurismus Chapada Diamantina - Lencois"
          ],
          [
           "Señor Hostel"
          ],
          [
           "Hostel Guaratingueta"
          ],
          [
           "Hostel BH"
          ],
          [
           "Hostel Da Ilha De Sao Francisco Do Sul"
          ],
          [
           "Discovery Hostel"
          ],
          [
           "Minas Hostel"
          ],
          [
           "Vila Rock Hostel"
          ],
          [
           "Hostel Sete Lagoas"
          ],
          [
           "Moa Backpackers - Campeche"
          ],
          [
           "Pantanal Backpakers"
          ],
          [
           "Rio Forest Hostel"
          ],
          [
           "Hostel Pousada do Tapajos"
          ],
          [
           "Goiabada com Queijo Hostel"
          ],
          [
           "Eco Hostel Instituto Pindorama"
          ],
          [
           "Pousada Caminhos da Chapada"
          ],
          [
           "Iguassu Eco Hostel"
          ],
          [
           "Hostel Praia das Flexas"
          ],
          [
           "Slow Hostel"
          ],
          [
           "CityLights Hostel"
          ],
          [
           "HI Floripa Hostel Centro"
          ],
          [
           "Albergue Explorer"
          ],
          [
           "Green House Hostel & Camping"
          ],
          [
           "Floripa Surf Hostel"
          ],
          [
           "Porto Alegre Eco Hostel"
          ],
          [
           "Republika Hostel"
          ],
          [
           "Arraial do Cabo Central Hostel"
          ],
          [
           "Che Lagarto Hostel Copacabana"
          ],
          [
           "Panorama Hostel EcoBackpackers"
          ],
          [
           "Hostel Manga Rosa"
          ],
          [
           "MOx Hostel Arraial d'Ajuda"
          ],
          [
           "HI Diamantina Hostel"
          ],
          [
           "HI Praia do Forte Hostel"
          ],
          [
           "Pousada e Hostel Papagaio"
          ],
          [
           "Mamma's Hostel"
          ],
          [
           "Albergue Hostel Palmas"
          ],
          [
           "Hostel In Rio Suites"
          ],
          [
           "Surf Camp Pipa Hostel"
          ],
          [
           "Hostel Canasvieiras"
          ],
          [
           "Hostel Alice & Padoca Vegan"
          ],
          [
           "Pauliceia Hostel"
          ],
          [
           "HI Bonns Ventos Hostel"
          ],
          [
           "Mais que Nada Hostel & Patio-Bar"
          ],
          [
           "HI Hostel Chapada - Lencois"
          ],
          [
           "Pontal Hostel"
          ],
          [
           "Albergue Veraneio"
          ],
          [
           "Surf Hostel Padang"
          ],
          [
           "Iguassu Guest House"
          ],
          [
           "Hostel Encantadas Ecologic"
          ],
          [
           "Pura Vida Hostel Rio de Janeiro"
          ],
          [
           "Hostel e Pousada Natureza Foz"
          ],
          [
           "Che Lagarto Hostel Itacaré"
          ],
          [
           "HI Refugio do Pomar"
          ],
          [
           "Campeche Hostel"
          ],
          [
           "Casa Alto Vidigal"
          ],
          [
           "Biergarten Hostel"
          ],
          [
           "Books Hostel"
          ],
          [
           "HI Arrecifes Hostel"
          ],
          [
           "O de Casa Hostel Bar"
          ],
          [
           "Albergue da Rose Hostel"
          ],
          [
           "Albergaria Hostel"
          ],
          [
           "Joinville Hostel E Pousada"
          ],
          [
           "Pousada da Diva"
          ],
          [
           "Beach Life Porto de Galinhas"
          ],
          [
           "Che Lagarto Hostel Morro de Sao Paulo"
          ],
          [
           "Sao Paulo Global Hostel"
          ],
          [
           "Hostel Central Ilhabela"
          ],
          [
           "Submarino Hostel"
          ],
          [
           "Che Lagarto Hostel Buzios"
          ],
          [
           "SugarCane Hostel"
          ],
          [
           "Hostel Lobo Inn Buzios"
          ],
          [
           "Olah Hostel - Vila Mariana"
          ],
          [
           "Che Lagarto Hostel Paraty"
          ],
          [
           "CabanaCopa Hostel"
          ],
          [
           "Hostel Piratas do Sol Recife"
          ],
          [
           "Guaruja Hostel"
          ],
          [
           "Manaus Jungle Hostel"
          ],
          [
           "Hostel New Ipanema"
          ],
          [
           "Sampa Hostel"
          ],
          [
           "Pousada São Francisco de Assis"
          ],
          [
           "Bamboo Rio Hostel"
          ],
          [
           "Surfcamp Arara"
          ],
          [
           "Open House Barra"
          ],
          [
           "Tucano House Summer Hostel"
          ],
          [
           "Hostel Galeria 13"
          ],
          [
           "Hostel e Pousada El Shaddai"
          ],
          [
           "HI Holandes"
          ],
          [
           "Mango Tree Hostel Ipanema"
          ],
          [
           "HI Manaira"
          ],
          [
           "Hostel Manaus"
          ],
          [
           "Trindade Sea and Forest Yoga Hostel"
          ],
          [
           "Hostel Bambu"
          ],
          [
           "Walk On The Beach Hostel"
          ],
          [
           "Tupiniquim Hostel"
          ],
          [
           "Pousada e Hostel Ancora"
          ],
          [
           "HI Marina dos Anjos"
          ],
          [
           "O Sorriso do Lagarto"
          ],
          [
           "Che Lagarto Hostel Ilha Grande"
          ],
          [
           "Imbassai Eco Lujimba"
          ],
          [
           "Pousada Daime Sono - Lencois"
          ],
          [
           "Pousada Favelinha"
          ],
          [
           "HI Paudimar Falls"
          ],
          [
           "Aquario Hostel Bar & Night Club"
          ],
          [
           "Albergue da Costa Hostel"
          ],
          [
           "Ipanema Beach House"
          ],
          [
           "Nega Maluca Guesthouse"
          ],
          [
           "Che Lagarto Hostel Ipanema"
          ],
          [
           "HI Laranjeiras"
          ],
          [
           "Selina Aurora SP"
          ],
          [
           "Sonho de Iracema Hostel Boutique"
          ],
          [
           "Innbox - Centro"
          ],
          [
           "Numa Boa Hostel"
          ],
          [
           "Selina Floripa"
          ],
          [
           "Family Backpackers Cabo Frio Hostel"
          ],
          [
           "Tropicalia Hostel"
          ],
          [
           "Hostel Chapada Dos Guimarães"
          ],
          [
           "Hostel Casa de Paixão"
          ],
          [
           "Way Up Hostel"
          ],
          [
           "Pousada Galeria Artes"
          ],
          [
           "Hostel Casa Azul"
          ],
          [
           "Hospedagem Perllas Hostel Pinda.ba"
          ],
          [
           "Hostel Nos Veremos Otra Vez"
          ],
          [
           "Quiron Hostel"
          ],
          [
           "DiCasa Hostel"
          ],
          [
           "Selina Madalena Sao Paulo"
          ],
          [
           "Vila Santa Eulalia Hostel"
          ],
          [
           "Social Hostel"
          ],
          [
           "OuroPreto Hostel"
          ],
          [
           "DS Hostel"
          ],
          [
           "Itauna Hostel"
          ],
          [
           "Hostel das Cores"
          ],
          [
           "Reserva do Tombo Lounge Hostel"
          ],
          [
           "Hostel Lapa 166"
          ],
          [
           "Dax Bombinhas Hostel"
          ],
          [
           "Massambaba Hostel"
          ],
          [
           "Innbox - Canasvieiras"
          ],
          [
           "Enseada Hostel"
          ],
          [
           "Casa Recreanext"
          ],
          [
           "Hostel Cape Town"
          ],
          [
           "Aquarela Hospedaria"
          ],
          [
           "Cantinho dos Acores"
          ],
          [
           "Selina Lapa Rio de Janeiro"
          ],
          [
           "Flow Hostel Juquehy"
          ],
          [
           "Don Preguiça"
          ],
          [
           "Hostel da Milla"
          ],
          [
           "DPM Eco Hostal"
          ],
          [
           "Palmas Hostel"
          ],
          [
           "Hostel California Café Bar"
          ],
          [
           "Acasarosa Hostel"
          ],
          [
           "Casa Hostel Floresce"
          ],
          [
           "Hostel Cacari"
          ],
          [
           "Hospedaria Rio"
          ],
          [
           "Parnaiba Hostel"
          ],
          [
           "Pousada Thiany"
          ],
          [
           "Kasa Hostel Bar e Karaoke"
          ],
          [
           "Casa Toscano"
          ],
          [
           "Br Hostel"
          ],
          [
           "Ilha Hostel"
          ],
          [
           "Mangamel Hostel"
          ],
          [
           "Hostel Home Eireli"
          ],
          [
           "Hostel Lencois Park"
          ],
          [
           "Dom Alberto Hostel"
          ],
          [
           "Bamboo Buzios Hostel"
          ],
          [
           "Innbox - Praia do Rosa"
          ],
          [
           "Reviver Hostel"
          ],
          [
           "Mambembe Ilha Grande"
          ],
          [
           "La Casa Hostel"
          ],
          [
           "Hostel e Pousada Boa Vista"
          ],
          [
           "Farofa Loca Hostel & Suites"
          ],
          [
           "Bonabrigo Hostel"
          ],
          [
           "Kaimana Hostel"
          ],
          [
           "Eleganz Hostel & Suites"
          ],
          [
           "Ôvibe Party Hostel & Arts"
          ],
          [
           "Hostel Barra"
          ],
          [
           "Vila Moa"
          ],
          [
           "Canto dos Artistas"
          ],
          [
           "Hostel Casarao 65"
          ],
          [
           "Muiraquitã Residence"
          ],
          [
           "Hostel Tribos Livres"
          ],
          [
           "Porto de Cima Surf Hostel"
          ],
          [
           "Porto das Palmeiras Hostel"
          ],
          [
           "Meu Hostel"
          ],
          [
           "Hostel Berghaus"
          ],
          [
           "Casa Swell"
          ],
          [
           "Estacao Indaia"
          ],
          [
           "Zinga Beach Hostel & Beer"
          ],
          [
           "Casamatta Hostel"
          ],
          [
           "Casa Terra Hospedagem"
          ],
          [
           "Savana Hostel"
          ],
          [
           "Tanan Hostel"
          ],
          [
           "Piratas do Morro Pousada e Hostel"
          ],
          [
           "Porto Alegre Hostel Boutique"
          ],
          [
           "Hostel Central"
          ],
          [
           "Hostel Casarao"
          ],
          [
           "Hostel Boipeba Surf"
          ],
          [
           "Apiaka Hostel"
          ],
          [
           "Hostel Tiradentes"
          ],
          [
           "Free Hostel"
          ],
          [
           "Casarao Hostel"
          ],
          [
           "Acquarela Hostel"
          ],
          [
           "Um Hostel"
          ],
          [
           "Bonito Hostel"
          ],
          [
           "Hostel Chale Mineiro"
          ],
          [
           "Hostel Vivacre"
          ],
          [
           "Maraga Beach Hostel"
          ],
          [
           "Beer Hostel Ilhabela"
          ],
          [
           "Vila Hostel"
          ],
          [
           "Hostel Chocolatche"
          ],
          [
           "Drifter Hostel"
          ],
          [
           "Rolds Hostel"
          ],
          [
           "Hostel Boedo"
          ],
          [
           "Pousada Navio Hostel & Camping"
          ],
          [
           "Hostel Refugio"
          ],
          [
           "Hostel Vila Praiana"
          ],
          [
           "Hostel Central Brasil"
          ],
          [
           "Hostel Surf Paradise"
          ],
          [
           "Coco Knots Kite Lodge"
          ],
          [
           "World Hostel Canasvieiras"
          ],
          [
           "A Coroa Hostel"
          ],
          [
           "Canto Caiçara Hostel"
          ],
          [
           "Raizes Eco Hostel"
          ],
          [
           "Villa 25 - Hostel & Suites"
          ],
          [
           "Oceano Azul Bed and Breakfast"
          ],
          [
           "Guantanamera Hostel"
          ],
          [
           "Kiwi Hostel & Lounge"
          ],
          [
           "Refúgio Nômade Hostel"
          ],
          [
           "Le House Hostel"
          ],
          [
           "Hostel Da Bruna Botafogo"
          ],
          [
           "Caxinguele"
          ],
          [
           "Pantanal Hostel Safari Tours"
          ],
          [
           "Hostel Sereia do Mar"
          ],
          [
           "Lagarto na Banana"
          ],
          [
           "Ipanema Beach Hostel"
          ],
          [
           "Metro Hostel SP"
          ],
          [
           "Pipa Peace Hostel"
          ],
          [
           "Aquarela do Leme"
          ],
          [
           "Hospedaria Green"
          ],
          [
           "Positive Hostel"
          ],
          [
           "Natural Do Rio  Guesthouse"
          ],
          [
           "Mandala Hostel"
          ],
          [
           "Albergue de Lencois Backpackers"
          ],
          [
           "Hostel By Hotel Galicia"
          ],
          [
           "Hostel Uai"
          ],
          [
           "Hostel Mandala"
          ],
          [
           "Pousada Sol de Itamambuca"
          ],
          [
           "Noosa Brasil Surf Republic"
          ],
          [
           "Saqua Beach Hostel"
          ],
          [
           "Hostel Pousada do Alemao"
          ],
          [
           "Social Hostel"
          ],
          [
           "Villa Guest House and Hostel"
          ],
          [
           "Hostel e Pousada Casa de Chica"
          ],
          [
           "Pup Hostel SC"
          ],
          [
           "Mamangua Beach Hostel"
          ],
          [
           "Hostel Nirvana"
          ],
          [
           "Quatro Ilhas Beach Hostel"
          ],
          [
           "Rephostel"
          ],
          [
           "Universo Pol Bamboo Hostel"
          ],
          [
           "Hostel da Vila"
          ],
          [
           "Iguassu Eco Hostel - Backpackers"
          ],
          [
           "Blue Magic Hostel"
          ],
          [
           "Hostel W3"
          ],
          [
           "Hostel Blau Hause"
          ],
          [
           "Pampulha Hostel"
          ],
          [
           "El Misti Hostel Ipanema"
          ],
          [
           "Jeri Kite Surf Hostel"
          ],
          [
           "Madá Hostel"
          ],
          [
           "Palma Hostel"
          ],
          [
           "Pipa Pura Vida"
          ],
          [
           "Ohanalu"
          ],
          [
           "Oxe Hostel"
          ],
          [
           "Rio World Connection Hostel"
          ],
          [
           "Casa Amarela"
          ],
          [
           "Casa Andalucia"
          ],
          [
           "Namorada Brava Guest House"
          ],
          [
           "Mar e Sertao"
          ],
          [
           "Floripa Beach House Hostel"
          ],
          [
           "Makeba"
          ],
          [
           "Chez Zany - Copacabana"
          ],
          [
           "Blu Hostel"
          ],
          [
           "Hostel Sao Xico"
          ],
          [
           "Hostel Quintal de Casa"
          ],
          [
           "Nômades Beach Hostel"
          ],
          [
           "Hostel Peditrilha - Chapada Diamantina"
          ],
          [
           "Green Haven Ilha Anchieta"
          ],
          [
           "Paraiso Das Conchas Hostel"
          ],
          [
           "I Love Hostel Rio"
          ],
          [
           "Hostel Kaizen"
          ],
          [
           "Hostel Dela"
          ],
          [
           "Vulva Caraíva Hostel & Pousada Feminino"
          ],
          [
           "Youse Hostel"
          ],
          [
           "Morada City Hostel"
          ],
          [
           "Golden Garden Hostel"
          ],
          [
           "Lulle Hostel"
          ],
          [
           "Abaporu Art Hostel"
          ],
          [
           "Insta Hostel Floripa"
          ],
          [
           "Tamboleiros Hotel & Hostel"
          ],
          [
           "Pousada Joaquina 433 Floripa"
          ],
          [
           "Lagomar Hostel"
          ],
          [
           "Hostel Maresia Paraty"
          ],
          [
           "Tubiba Hostel"
          ],
          [
           "Get Up Hostel"
          ],
          [
           "Central Hostel"
          ],
          [
           "Aurora Hostel Rio"
          ],
          [
           "Local Hostel Novo Airao"
          ],
          [
           "No Worries Pipa"
          ],
          [
           "Praieira Hostel"
          ],
          [
           "Conceitual Hostel Natal"
          ],
          [
           "Nuna Hostel Floripa"
          ],
          [
           "Hostel Pelo Mundo"
          ],
          [
           "Casulo Hostel Guest House"
          ],
          [
           "Hostel Holly Land"
          ],
          [
           "Coyote Pousada & Hostel"
          ],
          [
           "Hostel do Rasta"
          ],
          [
           "Casarão das Figueiras Hostel"
          ],
          [
           "Oncoto Palmas Hostel"
          ],
          [
           "Nuh Hostel - Lourdes"
          ],
          [
           "Hostel Gentileza - Guest House"
          ],
          [
           "Catavento da Pipa Pousada & Hostel"
          ],
          [
           "Friends Forever Hostel"
          ],
          [
           "Hostel & Camping Cavalcante"
          ],
          [
           "CasAMARelo Hostel"
          ],
          [
           "Lapa Casa"
          ],
          [
           "Hostel Jabuticaba"
          ],
          [
           "Guest House Vida Vibra"
          ],
          [
           "Hostel Da Jo"
          ],
          [
           "Oh! Madalena Hostel"
          ],
          [
           "Tranquilandia Hostel"
          ],
          [
           "Le Chat Qui Peche Hostel"
          ],
          [
           "Fujima Hostel"
          ],
          [
           "Floriarte Guest House"
          ],
          [
           "Happy Paradise Hostel"
          ],
          [
           "Canoa Roots Hostel"
          ],
          [
           "Salve Maloca Hostel"
          ],
          [
           "Rio Hostel 40 Graus"
          ],
          [
           "Projeto Lontra"
          ],
          [
           "Matianellu"
          ],
          [
           "Soul Lounge Hostel"
          ],
          [
           "The Eco Palace Hostel"
          ],
          [
           "Hostel Villa Virtudes"
          ],
          [
           "Hostel Teodoro"
          ],
          [
           "Chill Inn Hostel & Pousada Centro"
          ],
          [
           "Rodrigo Hostel Campestre"
          ],
          [
           "CasaMar Maraca"
          ],
          [
           "Sea Wolf Hostel Lagoa da Conceição"
          ],
          [
           "Casa Kare"
          ],
          [
           "Rodrigo Hostel Suites"
          ],
          [
           "Hostel Pousada Flor de Paris"
          ],
          [
           "Espaco Vaidya Pousada"
          ],
          [
           "Man's Place Hostel Masculino"
          ],
          [
           "Pelotas Bier Hostel"
          ],
          [
           "Bahia Pelo Hostel"
          ],
          [
           "Recanto do Cajueiro"
          ],
          [
           "Sunflower Hostel"
          ],
          [
           "Hostel Barra 161"
          ],
          [
           "Americo Hostel"
          ],
          [
           "Pedramarca Hostel Club"
          ],
          [
           "Hostel LB"
          ],
          [
           "Hostel Terra do Sol"
          ],
          [
           "Bela Curitiba Hostel"
          ],
          [
           "Fiko na Pituba"
          ],
          [
           "Grande Familia Hostel"
          ],
          [
           "Ooxe Hostel"
          ],
          [
           "Aldeia Hostel"
          ],
          [
           "Hostel Caminho da Cachoeira"
          ],
          [
           "Hostel Engenho do Vô"
          ],
          [
           "Maktub Hostel Prea"
          ],
          [
           "Navio Hostel & Camping"
          ],
          [
           "Friends e Hostels"
          ],
          [
           "More Ipanema Hostel"
          ],
          [
           "Hostel Farol da Barra"
          ],
          [
           "Hostel Airport Rooms"
          ],
          [
           "Ruda Hostel & Suites"
          ],
          [
           "Guara Hostel"
          ],
          [
           "Hostel Castelo Branco"
          ],
          [
           "Manero Hostel"
          ],
          [
           "BahakaJeri"
          ],
          [
           "Fin Soul House"
          ],
          [
           "Hostel Lize"
          ],
          [
           "Samo Hostel"
          ],
          [
           "Hostel Praia 102"
          ],
          [
           "Casa Ecotrips Barra Funda"
          ],
          [
           "Residencia 346"
          ],
          [
           "Gup Hostel"
          ],
          [
           "Costa Terral"
          ],
          [
           "Tropicalia Hostel"
          ],
          [
           "Shangri-La Hostels"
          ],
          [
           "UP2! HostelBar"
          ],
          [
           "Ammonite Hostel - Itacare"
          ],
          [
           "Vidigal Hostel"
          ],
          [
           "Easy Hospedagem"
          ],
          [
           "JO&JOE Rio de Janeiro Largo do Boticário"
          ],
          [
           "Lila Limao Hostel"
          ],
          [
           "Meu Mundo Hostel Bar"
          ],
          [
           "Hope Hostel"
          ],
          [
           "Curvao Surf House"
          ],
          [
           "Pousada&Hostel Bahia"
          ],
          [
           "Ipanema Club Hostel"
          ],
          [
           "Villa Nevada Hostel"
          ],
          [
           "Hostel Music and Sports"
          ],
          [
           "Soul do Mar Hostel"
          ],
          [
           "Hostel Morocha"
          ],
          [
           "Graffi Beach Hostel"
          ],
          [
           "Surf Base Hostel"
          ],
          [
           "Hostel do Céu"
          ],
          [
           "Iduna Hostel"
          ],
          [
           "Voilà Hostel"
          ],
          [
           "Selina Buzios"
          ],
          [
           "Georges House"
          ],
          [
           "Welcome SP Hostel - Aeroporto de Congonhas"
          ],
          [
           "EcoVille Organic Life"
          ],
          [
           "Porto Paraiso Hostel Pe Na Areia"
          ],
          [
           "Patz Houz Hostel"
          ],
          [
           "Barra Porto - Suites & Hostel"
          ],
          [
           "Frida Hostel"
          ],
          [
           "Selina Bonito"
          ],
          [
           "Solar Hostel Parnaíba"
          ],
          [
           "Redário Gengibre Hostel Hammocks to Sleep in Alca"
          ],
          [
           "ArtèE Hostel Búzios"
          ],
          [
           "Selina Foz"
          ],
          [
           "Praia Virgem Hostel"
          ],
          [
           "Espaço Primatas"
          ],
          [
           "Santo Hostel"
          ],
          [
           "Chales Toatoa em Pipa"
          ],
          [
           "Hostel Recanto da Sol"
          ],
          [
           "O Brejo Encantado Hospedagem e Hostel"
          ]
         ],
         "hovertemplate": "type=HOSTEL<br>latitude=%{lat}<br>longitude=%{lon}<br>name=%{customdata[0]}<extra></extra>",
         "lat": [
          -22.7575705,
          -23.1416425,
          -3.8491694,
          -2.5254809,
          -23.5577317,
          -22.969251,
          -23.6063288,
          -30.0217658,
          -6.2369011,
          -9.489086,
          -22.9154491,
          -3.7429023,
          -9.0088341,
          -13.0023907,
          -21.7260092,
          -12.9501243,
          -13.0120577,
          -23.7792258,
          -29.3373844,
          -22.9848985,
          -27.5762487,
          -26.2506215,
          -6.2368174,
          -16.4419764,
          -9.0155009,
          -19.8588742,
          -22.7638018,
          -27.600239,
          -23.4098263,
          -23.5526186,
          -13.3819554,
          -22.980119,
          -2.5790624,
          -22.9152242,
          -26.9956962,
          -3.6295403,
          -14.2798459,
          -2.760617,
          -23.4713016,
          -23.5359036,
          -23.0310266,
          -15.7807902,
          -2.748265,
          -23.3191199,
          -23.4631763,
          -20.383841,
          -7.0628198,
          -23.553165,
          -23.4521944,
          -22.898504,
          -23.8425633,
          -13.0049492,
          -23.5594465,
          -27.3963317,
          -18.9181871,
          -23.576624,
          -23.7116762,
          -2.7491617,
          -27.1556094,
          -13.3925136,
          -27.7506223,
          -22.929341,
          -23.4357159,
          -27.573363,
          -23.6128189,
          -21.7064937,
          -23.572749,
          -23.8165838,
          -23.0264177,
          -8.11562,
          -22.9190958,
          -27.6869925,
          -27.5813042,
          -23.1421157,
          -2.5206514,
          -23.8029668,
          -22.968109,
          -27.609296,
          -24.187109,
          -27.1508299,
          -26.91244,
          -27.6051972,
          -22.9846712,
          -22.7625357,
          -22.9163158,
          -5.87039,
          -28.1213102,
          -29.1628578,
          -20.754514,
          -25.3869797,
          -2.7952786,
          -8.1327612,
          -12.896287,
          -23.5649656,
          -15.4591174,
          -13.0093557,
          -27.1499513,
          -23.217245,
          -23.5538689,
          -23.586203,
          -23.573254,
          -23.560125,
          -23.6323554,
          -3.0119471,
          -27.784801,
          -3.7493058,
          -23.5313129,
          -27.5729068,
          -12.5632502,
          -22.9792775,
          -23.0345918,
          -23.141695,
          -29.3623512,
          -23.2179308,
          -14.2766606,
          -29.3544078,
          -27.592124,
          -3.0889734,
          -8.0480714,
          -28.0741905,
          -23.7586735,
          -23.8128967,
          -27.1480104,
          -23.216368,
          -6.229394,
          -8.1294208,
          -23.2441976,
          -25.426691,
          -27.5799088,
          -23.5491096,
          -23.5637334,
          -12.970246,
          -22.9102333,
          -25.4435735,
          -2.7955681,
          -22.954113,
          -27.575191,
          -20.749801,
          -23.579372,
          -25.5502494,
          -26.8967037,
          -23.4430542,
          -2.759708,
          -28.0279512,
          -22.776776,
          -1.449969,
          -19.9359499,
          -23.545889,
          -23.5833454,
          -20.3822717,
          -7.11834,
          -12.9675252,
          -20.3186267,
          -25.5620367,
          -19.8575314,
          -3.62829,
          -25.5365692,
          -30.0396098,
          -22.9624384,
          -3.7257202,
          -19.9459455,
          -12.9709619,
          -3.7221119,
          -19.564197,
          -16.489799,
          -3.0782198,
          -22.579827,
          -25.5581107,
          -23.5431366,
          -23.2155556,
          -23.2222324,
          -3.1306184,
          -23.559925,
          -23.5695882,
          -29.3757283,
          -22.7743514,
          -22.91855,
          -22.9161716,
          -27.574725,
          -22.7588011,
          -27.5767574,
          -27.61424,
          -23.1443171,
          -27.6056416,
          -31.7591,
          -23.5486034,
          -28.1250876,
          -22.777487,
          -23.5440981,
          -27.6019444,
          -20.3866878,
          -20.2908458,
          -20.4665103,
          -23.5552934,
          -8.0180582,
          -23.5339061,
          -25.5542653,
          -8.5070989,
          -25.5530556,
          -25.5071491,
          -23.5660163,
          -27.6756534,
          -23.4182208,
          -22.922347,
          -23.5068527,
          -8.1281933,
          -23.9950449,
          -23.5579167,
          -23.5861137,
          -8.1100604,
          -22.7749449,
          -22.7753304,
          -15.8543667,
          -25.598254,
          -23.5649656,
          -12.5629294,
          -26.9567846,
          -14.235,
          -19.9111783,
          -26.2124337,
          -22.9204996,
          -19.9070818,
          -23.5507864,
          -19.4565516,
          -27.6624725,
          -15.5983,
          -22.9165384,
          -2.502384,
          -20.3865039,
          -22.296819,
          -12.5139199,
          -25.609356,
          -22.9048979,
          -7.1072061,
          -23.5618988,
          -27.5905918,
          -28.1345335,
          -25.5448054,
          -27.6927854,
          -30.0394594,
          -5.8718685,
          -22.9674369,
          -22.9641456,
          -27.599101,
          -25.4907558,
          -16.491691,
          -18.2383175,
          -12.5778227,
          -13.3796141,
          -29.1896561,
          -10.1826086,
          -22.934878,
          -6.2301308,
          -27.4310828,
          -23.5475579,
          -23.555467,
          -23.8158333,
          -14.2774924,
          -12.5639197,
          -23.030972,
          -3.7670038,
          -28.1890965,
          -25.5344804,
          -25.5696057,
          -22.9805466,
          -25.5303636,
          -14.2798112,
          -29.4867866,
          -27.6756591,
          -22.995788,
          -23.1415414,
          -22.9145681,
          -8.1401532,
          -23.5606513,
          -6.2304802,
          -3.7221898,
          -26.2903141,
          -24.552743,
          -8.507023,
          -13.379004,
          -23.579777,
          -23.8128678,
          -27.598427,
          -22.7588011,
          -6.2302788,
          -22.770735,
          -23.5791499,
          -23.218484,
          -22.963028,
          -8.1287044,
          -23.980351,
          -3.1337942,
          -22.9836101,
          -23.5544168,
          -12.9678473,
          -22.968464,
          -6.230777,
          -13.0042807,
          -27.601016,
          -12.973731,
          -25.535531,
          -23.1442228,
          -22.9852334,
          -7.1053848,
          -3.133578,
          -23.3487912,
          -25.5447915,
          -22.971768,
          -22.954917,
          -27.5813742,
          -22.973009,
          -20.3832694,
          -23.1414896,
          -12.487782,
          -12.5626721,
          -22.9285757,
          -25.5498756,
          -23.1409947,
          -5.8700643,
          -22.9831533,
          -12.967763,
          -22.9845323,
          -12.9740753,
          -23.5420508,
          -3.7193874,
          -27.598841,
          -22.7734071,
          -27.602144,
          -22.8935679,
          -12.5624785,
          -15.4571593,
          -16.8075461,
          -27.5821559,
          -21.1208114,
          -23.6085091,
          -22.9425142,
          -22.759039,
          -16.5950405,
          -10.1789836,
          -23.5567456,
          -31.7773658,
          -22.9868171,
          -20.3868223,
          -22.9214873,
          -22.932931,
          -7.204928,
          -24.0158662,
          -22.9122477,
          -27.1530656,
          -22.9721455,
          -27.4341296,
          -22.9750599,
          -27.438543,
          -29.0504435,
          -2.7593375,
          -27.778753,
          -22.914374,
          -23.7666182,
          -2.502506,
          -2.0476682,
          -13.3781778,
          -10.1931768,
          -23.56018,
          -29.198243,
          -28.1241027,
          2.8453402,
          -22.9470657,
          -2.9110154,
          -29.171441,
          -26.9829043,
          -23.0244194,
          -19.9358061,
          -3.8403973,
          -12.5658046,
          -23.569414,
          -2.7554611,
          -18.9993298,
          -22.7555953,
          -28.1256666,
          -2.5286728,
          -23.1428151,
          -22.9707354,
          -8.0500393,
          -13.3844744,
          -26.9909258,
          -28.129304,
          -29.3801104,
          -1.4540764,
          -11.568946,
          -8.554429,
          -8.0171808,
          -13.0052813,
          -4.527256,
          -29.3910033,
          -13.3796187,
          -13.0035104,
          -9.6268256,
          -27.6085006,
          -3.8451427,
          -23.8164112,
          -27.4436857,
          -15.8515145,
          -27.6521587,
          -14.1759615,
          -2.5038957,
          -13.381221,
          -30.0216601,
          -26.9881356,
          -20.61487,
          -13.5908669,
          -3.0675969,
          -21.1063209,
          -6.2325439,
          -23.1439069,
          -22.9751139,
          -22.5061111,
          -21.1228651,
          -19.922024,
          -9.9503689,
          -9.0166388,
          -23.7793844,
          -3.8423176,
          -29.377332,
          -23.7682985,
          -23.9648579,
          -22.7641195,
          -14.2764321,
          -23.143641,
          -22.966525,
          -22.9104927,
          -27.902147,
          -2.8806775,
          -27.430382,
          -22.977563,
          -23.2016492,
          -2.9107417,
          -22.9312134,
          -27.6308905,
          -28.1349897,
          -3.6240992,
          -21.710815,
          -22.9609276,
          -22.9578561,
          -23.788398,
          -15.5965566,
          -23.207114,
          -6.2393846,
          -22.9849018,
          -23.5012779,
          -6.23369,
          -22.9605445,
          -27.4521772,
          -26.9727902,
          -22.9962852,
          -2.7954655,
          -12.5603278,
          -22.910652,
          -20.3859591,
          -25.549924,
          -23.4059286,
          -22.9747383,
          -22.9324342,
          -25.5607008,
          -25.4437829,
          -27.675914,
          -8.0168819,
          -27.5755889,
          -23.262683,
          -24.8037727,
          -27.153669,
          -20.2365832,
          -13.38435,
          -23.778813,
          -25.609356,
          -27.5790749,
          -15.7519374,
          -26.9279804,
          -19.8588791,
          -22.9850647,
          -2.7952414,
          -23.5578239,
          -2.5300149,
          -6.230153,
          -24.1883564,
          -13.6068461,
          -22.9170394,
          -7.0967312,
          -27.4283852,
          -22.7522298,
          -9.6528286,
          -27.6509938,
          -6.2294024,
          -22.9716226,
          -26.9074053,
          -22.9113633,
          -25.5009088,
          -27.576057,
          -12.5632247,
          -23.55,
          -22.8554274,
          -22.8955104,
          -25.4195733,
          -21.1135097,
          -16.8082128,
          -23.5603241,
          -23.554731,
          -23.4518845,
          -23.6215527,
          -27.5874762,
          -27.5768295,
          -12.9702236,
          -27.6122944,
          -27.7508857,
          -23.2187748,
          -8.7533808,
          -5.8831902,
          -22.9085842,
          -22.9545478,
          -2.6246454,
          -6.231521,
          -14.2781053,
          -5.867506,
          -27.6035057,
          -22.9689633,
          -8.5260945,
          -2.499687,
          -25.5598184,
          -13.013446,
          -29.1618897,
          -10.1783697,
          -19.926707,
          -14.1342524,
          -6.2313496,
          -23.5546973,
          -13.7981289,
          -13.0049035,
          -22.915182,
          -19.9120656,
          -23.40183,
          -14.8223523,
          -23.5587847,
          -14.2784494,
          -9.6724936,
          -23.5539507,
          -27.4278684,
          -5.8850191,
          -4.5293396,
          -3.7324,
          -22.9289122,
          -27.735627,
          -22.9740215,
          -2.4837165,
          -22.7740891,
          -20.668319,
          -23.555671,
          -23.2225336,
          -21.1210421,
          -8.5263459,
          -27.6048257,
          -14.2815189,
          -21.1315476,
          -9.462011,
          -12.6257481,
          -30.0368496,
          -31.7712873,
          -12.969188,
          -9.6317096,
          -22.927944,
          -13.0092213,
          -2.5297431,
          -28.0731813,
          -2.5589194,
          -16.3807452,
          -25.4423444,
          -14.2796128,
          -23.5554051,
          -14.2810802,
          -3.1290031,
          -27.6056467,
          -22.7556034,
          -2.814553,
          -14.2764719,
          -19.9110616,
          -22.984542,
          -27.5747931,
          -23.6373811,
          -14.2810047,
          -2.5275976,
          -3.7234648,
          -5.8769755,
          -2.7952653,
          -23.4387284,
          -23.4493579,
          -6.2335,
          -23.4372816,
          -23.5236129,
          -2.5280379,
          -25.4268992,
          -25.7863545,
          -14.2793055,
          -13.8937862,
          -3.6304562,
          -14.2810514,
          -22.9973307,
          -27.5741849,
          -22.9394266,
          -23.1412649,
          -14.281077,
          -20.7358933,
          -23.9860788,
          -30.0271859,
          -22.9854695,
          -6.7539233,
          -23.5361607,
          -22.881633,
          -9.6522298,
          -27.702304,
          -23.401587,
          -6.2296023,
          -6.2335174,
          -27.5883581,
          -22.7489147,
          -3.8461483,
          -23.6235,
          -23.3096262,
          -8.4832038,
          -27.5712368,
          -13.0049005,
          -2.797981,
          -21.1243769,
          -2.9073029,
          -2.4048912,
          -22.756913,
          -25.5468272,
          -22.5309949,
          -2.9139551,
          -23.2206756,
          -6.2322637,
          -24.0119811,
          -23.6325177
         ],
         "legendgroup": "HOSTEL",
         "lon": [
          -41.8879341,
          -44.1613715,
          -32.4200741,
          -44.2996931,
          -46.6555705,
          -42.0202745,
          -46.6464588,
          -51.1923934,
          -35.046172,
          -35.5757479,
          -43.2303264,
          -38.505784,
          -42.6821801,
          -38.5282633,
          -44.9628115,
          -38.3670897,
          -38.5007423,
          -45.3578064,
          -49.7241723,
          -43.2204522,
          -48.4215725,
          -49.3837031,
          -35.0486292,
          -39.0689886,
          -35.2225019,
          -43.9759936,
          -41.8925686,
          -48.4713319,
          -45.0148326,
          -46.6778113,
          -38.910348,
          -43.189949,
          -42.7520562,
          -43.2285606,
          -48.6311527,
          -38.7259365,
          -38.9913211,
          -42.274485,
          -46.5357441,
          -46.6412999,
          -43.478632,
          -47.8900402,
          -42.825796,
          -46.7858719,
          -45.0625176,
          -43.5029453,
          -34.8415987,
          -46.635617,
          -45.0667503,
          -43.17803,
          -46.134459,
          -38.5329502,
          -46.6634883,
          -48.4284972,
          -48.2796278,
          -46.64005,
          -45.4265222,
          -42.8280957,
          -48.5445206,
          -38.9349598,
          -48.5101311,
          -42.038911,
          -45.0737664,
          -48.426848,
          -46.6749192,
          -47.2723122,
          -46.641798,
          -45.3660284,
          -43.4782795,
          -34.897107,
          -43.1798615,
          -48.4837044,
          -48.4294047,
          -44.1672561,
          -54.9341198,
          -45.399081,
          -42.0213189,
          -48.442717,
          -46.79278,
          -48.4851101,
          -49.0711089,
          -48.4676514,
          -43.2196461,
          -41.8949999,
          -43.1772025,
          -35.184442,
          -48.6509482,
          -51.1890852,
          -42.8823637,
          -49.1996137,
          -40.517241,
          -34.904266,
          -41.318896,
          -46.6548632,
          -55.7442034,
          -38.5248136,
          -48.4998256,
          -44.719704,
          -46.6590483,
          -46.6458131,
          -46.654872,
          -46.688848,
          -46.6935393,
          -60.0968564,
          -48.5336171,
          -38.4495835,
          -46.652317,
          -48.4270195,
          -41.391576,
          -43.1911108,
          -44.1762626,
          -44.167413,
          -50.8102518,
          -44.7191244,
          -38.9863455,
          -50.8146697,
          -48.5445953,
          -60.0618138,
          -34.8799683,
          -48.6264373,
          -45.6200336,
          -45.3658638,
          -48.481949,
          -44.7152245,
          -35.050072,
          -34.9033351,
          -44.6453208,
          -49.2717348,
          -48.5369054,
          -46.6800991,
          -46.6517108,
          -38.489853,
          -43.183958,
          -49.2770363,
          -40.513851,
          -43.1864509,
          -48.4232743,
          -49.319818,
          -46.644863,
          -54.5731703,
          -49.0890884,
          -45.0689773,
          -42.8277,
          -48.6194157,
          -41.9118922,
          -48.495314,
          -43.939926,
          -46.6873488,
          -46.6376991,
          -43.5040785,
          -34.827054,
          -38.5065914,
          -40.3389238,
          -54.5688392,
          -43.9587364,
          -38.7250104,
          -54.5869604,
          -51.2186785,
          -43.1694713,
          -38.5220141,
          -43.9412071,
          -38.5059072,
          -38.5177955,
          -43.941766,
          -39.073442,
          -60.0038317,
          -46.521159,
          -54.5738778,
          -46.4560941,
          -44.72,
          -44.7167175,
          -60.0215591,
          -46.663772,
          -46.6566385,
          -50.8639043,
          -41.9301452,
          -43.2378164,
          -43.1810372,
          -48.4273907,
          -41.8886072,
          -48.425237,
          -48.462924,
          -44.1679036,
          -48.4689863,
          -52.336922,
          -46.6930402,
          -48.6527155,
          -41.90522,
          -46.6897675,
          -48.4641667,
          -43.5008034,
          -40.2940439,
          -54.6286323,
          -46.6909933,
          -34.8529301,
          -46.6709612,
          -54.5698685,
          -35.0055371,
          -54.5736111,
          -54.5888749,
          -46.6962472,
          -48.4866409,
          -45.0600992,
          -43.177291,
          -46.6275258,
          -34.9063069,
          -46.2561535,
          -46.6505208,
          -46.6435764,
          -34.8942125,
          -41.9068422,
          -41.9215101,
          -47.9531641,
          -54.569145,
          -46.6548632,
          -41.3897187,
          -48.6302561,
          -51.92528,
          -43.957248,
          -48.5286817,
          -43.1777581,
          -43.954053,
          -46.6755325,
          -44.2491166,
          -48.4932661,
          -56.1044,
          -43.1831796,
          -54.956476,
          -43.5063956,
          -42.469942,
          -41.5749877,
          -54.480288,
          -43.1243634,
          -34.827793,
          -46.6932839,
          -48.558345,
          -48.6482977,
          -54.580374,
          -48.4863194,
          -51.2215273,
          -35.1840806,
          -42.0258742,
          -43.1784432,
          -48.466971,
          -54.5717425,
          -39.072685,
          -43.6061677,
          -38.0082846,
          -38.9176673,
          -51.1914404,
          -48.3402109,
          -43.180026,
          -35.0473324,
          -48.4579796,
          -46.6918179,
          -46.653946,
          -45.37,
          -38.9915584,
          -41.3899988,
          -43.4777331,
          -38.4408681,
          -48.6637003,
          -54.5900589,
          -48.3141666,
          -43.1921835,
          -54.5894574,
          -38.9919512,
          -50.7299709,
          -48.5043815,
          -43.242133,
          -44.1685638,
          -43.182605,
          -34.914025,
          -46.6902935,
          -35.049337,
          -38.5107356,
          -48.8403311,
          -48.680655,
          -35.004415,
          -38.91742,
          -46.646288,
          -45.3672507,
          -48.4640488,
          -41.8886072,
          -35.0492905,
          -41.912047,
          -46.6360448,
          -44.716926,
          -43.180694,
          -34.9049728,
          -46.227532,
          -60.0198357,
          -43.2012085,
          -46.6900444,
          -38.5059429,
          -43.1907066,
          -35.0476626,
          -38.5289593,
          -48.465521,
          -38.5081848,
          -54.590819,
          -44.1656442,
          -43.2023853,
          -34.8329849,
          -60.018467,
          -44.7262311,
          -54.5803912,
          -43.190689,
          -43.186521,
          -48.4349671,
          -42.0222861,
          -43.5009624,
          -44.1614466,
          -37.9587241,
          -41.3894465,
          -43.1939042,
          -54.5847129,
          -44.1612095,
          -35.1819496,
          -43.2087479,
          -38.506624,
          -43.21411,
          -38.5084839,
          -46.6437252,
          -38.5134978,
          -48.549769,
          -41.9158094,
          -48.4368664,
          -42.029562,
          -41.3886524,
          -55.7468418,
          -39.149169,
          -48.5253959,
          -56.4972839,
          -46.6415024,
          -45.4202884,
          -41.890756,
          -39.1036727,
          -48.3457728,
          -46.687821,
          -52.3452687,
          -43.1910998,
          -43.5013616,
          -43.2146887,
          -42.4816736,
          -39.319218,
          -46.2770627,
          -43.185806,
          -48.5020939,
          -42.0306765,
          -48.4602239,
          -42.022185,
          -48.484279,
          -50.1417544,
          -42.8272649,
          -48.528965,
          -43.178733,
          -45.736382,
          -54.9554149,
          -60.0210493,
          -38.9172253,
          -48.3610134,
          -46.678092,
          -49.954787,
          -48.6496915,
          -60.653801,
          -43.1852896,
          -41.7689465,
          -51.5040105,
          -48.641508,
          -44.3474266,
          -43.9399023,
          -32.4107429,
          -41.3903525,
          -46.7086608,
          -42.8247196,
          -57.6566488,
          -41.8887118,
          -48.6545201,
          -44.3051449,
          -44.1702657,
          -42.0284376,
          -34.892071,
          -38.9186618,
          -48.6406138,
          -48.6560679,
          -50.8763364,
          -48.4886369,
          -39.278325,
          -35.0135804,
          -34.8512824,
          -38.5273491,
          -37.702459,
          -49.7792399,
          -38.9175552,
          -38.5304541,
          -35.6960225,
          -48.5476826,
          -32.4062672,
          -46.0460031,
          -48.3824662,
          -48.9483777,
          -48.4726562,
          -47.8127944,
          -44.294072,
          -38.91123,
          -51.2105669,
          -48.6321135,
          -46.05091,
          -38.9261556,
          -60.0041733,
          -44.1744499,
          -35.0452882,
          -44.1690439,
          -42.0227361,
          -43.1836111,
          -56.5017819,
          -43.9153229,
          -67.8188132,
          -35.2231292,
          -45.3581169,
          -32.4114075,
          -50.874674,
          -45.6936388,
          -46.3500725,
          -41.8947579,
          -38.9909063,
          -44.166562,
          -42.028547,
          -47.0684361,
          -48.5936592,
          -39.9099207,
          -48.458935,
          -42.026227,
          -44.7212078,
          -41.4041521,
          -43.1803035,
          -48.4722901,
          -48.6596241,
          -38.7484359,
          -41.093466,
          -43.1694951,
          -43.1843075,
          -45.361111,
          -56.0987701,
          -44.7177698,
          -35.0440688,
          -43.2144252,
          -46.6188794,
          -35.0432809,
          -43.1701791,
          -48.411974,
          -48.6371576,
          -43.2405869,
          -40.513769,
          -41.3863028,
          -43.18736,
          -43.501211,
          -54.5755907,
          -45.0149811,
          -42.0283391,
          -42.5202901,
          -54.5718315,
          -49.2752264,
          -48.5042748,
          -34.8510657,
          -48.5373611,
          -44.635289,
          -47.6344299,
          -48.484205,
          -40.2736214,
          -38.918856,
          -45.356863,
          -54.480288,
          -48.4320111,
          -47.8954,
          -49.0420022,
          -43.9758682,
          -43.2050437,
          -40.5160131,
          -46.6907639,
          -44.3042727,
          -35.0474271,
          -46.8180871,
          -38.91218,
          -43.1785591,
          -34.8431192,
          -48.4596944,
          -41.8766092,
          -35.7057142,
          -48.4752519,
          -35.0500496,
          -43.190928,
          -49.0808114,
          -45.9589515,
          -54.5546564,
          -48.42852,
          -41.3863114,
          -45.066667,
          -41.9900914,
          -43.2293449,
          -49.2734204,
          -44.1605349,
          -39.1482031,
          -46.7113914,
          -46.692716,
          -45.0658565,
          -46.6633951,
          -48.541205,
          -48.5277021,
          -38.5079237,
          -48.4434595,
          -48.5116315,
          -44.7200078,
          -35.0934551,
          -35.1786867,
          -43.1921099,
          -43.1940323,
          -60.9443704,
          -35.047462,
          -38.9971665,
          -35.1818347,
          -48.4656237,
          -43.1902778,
          -35.0099238,
          -43.2506791,
          -54.5709235,
          -38.4829706,
          -51.1786736,
          -48.3462239,
          -43.94574,
          -47.5152239,
          -35.0466307,
          -46.676627,
          -47.4450571,
          -38.532786,
          -43.1821136,
          -43.9697807,
          -45.015267,
          -39.0288686,
          -46.6872518,
          -38.9925455,
          -35.7185476,
          -46.6354446,
          -48.4033123,
          -35.177567,
          -37.7018119,
          -38.46158,
          -43.1771891,
          -48.5153697,
          -43.1932616,
          -44.2490907,
          -41.8933792,
          -40.493912,
          -46.674742,
          -44.7255694,
          -56.4978779,
          -35.0101485,
          -48.4688482,
          -38.9887143,
          -56.483125,
          -35.550904,
          -41.491316,
          -51.2207831,
          -52.3403946,
          -38.50758,
          -35.6982966,
          -43.177103,
          -38.5305644,
          -44.3043957,
          -48.6271755,
          -44.2705383,
          -39.0358111,
          -49.2443734,
          -38.992187,
          -46.6539687,
          -38.9887654,
          -60.0216397,
          -48.5146887,
          -46.1484729,
          -40.41489,
          -38.9910635,
          -43.9766164,
          -43.214107,
          -48.4222308,
          -46.6588602,
          -38.9899764,
          -44.3001579,
          -38.5213872,
          -35.1803098,
          -40.5130031,
          -45.0717292,
          -46.474488,
          -35.0458,
          -45.0787888,
          -46.6663887,
          -44.2948189,
          -49.2540036,
          -48.5205197,
          -38.9942432,
          -38.9500478,
          -38.7206589,
          -38.9899196,
          -43.2409966,
          -48.5344167,
          -43.2013159,
          -44.170279,
          -38.9887641,
          -40.5356404,
          -46.2270201,
          -51.2148647,
          -43.2055648,
          -35.635807,
          -46.6519784,
          -42.02045,
          -35.7056666,
          -48.4950678,
          -45.015615,
          -35.050813,
          -35.0433543,
          -48.5249885,
          -41.8813487,
          -32.414094,
          -46.66383,
          -44.7503096,
          -34.9997368,
          -48.4304649,
          -38.5320978,
          -40.5144769,
          -56.4856638,
          -41.7744049,
          -44.4166224,
          -41.887247,
          -54.5796466,
          -41.929504,
          -41.4026641,
          -44.7188833,
          -35.0555929,
          -46.2797737,
          -46.8822714
         ],
         "marker": {
          "color": "#EF553B"
         },
         "mode": "markers",
         "name": "HOSTEL",
         "showlegend": true,
         "subplot": "mapbox",
         "textposition": "top center",
         "type": "scattermapbox",
         "visible": true
        },
        {
         "customdata": [
          [
           "Hostel Porto Maravilha"
          ],
          [
           "Pousada Cores de Buzios"
          ],
          [
           "Pousada California"
          ],
          [
           "Maré Mansa Pousada e Hostel"
          ],
          [
           "Pousada Tupi"
          ],
          [
           "Pousada Oasis"
          ],
          [
           "Biotiful Bed & Breakfast"
          ],
          [
           "Pousada Terral Surf"
          ],
          [
           "Villa Isola Bella"
          ],
          [
           "Rio Deal Guest House"
          ],
          [
           "Da Praia Caraíva"
          ],
          [
           "Hauzz Hostel"
          ],
          [
           "Suites Jeri 360 Graus"
          ],
          [
           "Pousada VelhoBateau"
          ],
          [
           "Zeca 343"
          ],
          [
           "Hostob - Vila Madelena"
          ],
          [
           "JM Guesthouse Ipanema"
          ],
          [
           "Casa Tribus Itamambuca"
          ],
          [
           "Apto Copacabana"
          ],
          [
           "Pousada do Atoba"
          ],
          [
           "Cabane Paradis"
          ],
          [
           "Host N´Roll"
          ],
          [
           "Pousada Lua Cheia"
          ],
          [
           "Pousada Casa de Praia Trindade"
          ],
          [
           "Hostel Pai Pai Jose"
          ],
          [
           "Aldeia Itamambuca Chale Ubatuba"
          ],
          [
           "Pousada Fairmont"
          ],
          [
           "Pousada Maria Bonita"
          ],
          [
           "Casa das Orquideas Foz"
          ],
          [
           "Pousada Galeão"
          ],
          [
           "Casa da Floresta"
          ],
          [
           "Casa de Flor"
          ],
          [
           "Pousada da Rosa"
          ],
          [
           "Iguaçu Falls Room"
          ],
          [
           "Capitão Gancho"
          ],
          [
           "Cama, Café e Aventura"
          ],
          [
           "Pousada Aventura"
          ],
          [
           "Pousada Savoy"
          ],
          [
           "Pousada Kasa dos Micos"
          ],
          [
           "Eco Hostel Residencial Bananeiras"
          ],
          [
           "Otedis Petrolina"
          ],
          [
           "Pousada Vila Do Sossego"
          ],
          [
           "Pousada Diamante"
          ],
          [
           "Ocean Ipanema"
          ],
          [
           "Casa Mihika"
          ],
          [
           "Pouso de Carpa"
          ],
          [
           "Pousada Villa do Sol Itacare"
          ],
          [
           "Casa de Jorge - Lencois"
          ],
          [
           "Cantinho de Geriba"
          ],
          [
           "Casa do Abacateiro"
          ],
          [
           "Pousada Alto da Lapa"
          ],
          [
           "Pousada Aruana"
          ],
          [
           "Pousada Viva"
          ],
          [
           "Pousada Cuiaba"
          ],
          [
           "Pousada Ribas"
          ],
          [
           "Pousada Pequizeiro"
          ],
          [
           "Pousada dos Girassois"
          ],
          [
           "Pousada do Canal"
          ],
          [
           "Pousada Kurumin"
          ],
          [
           "Pousada Recanto dos Bentos"
          ],
          [
           "Pousada Ideal Beach"
          ],
          [
           "Pousada Manupi"
          ],
          [
           "Recanto Verde Mata"
          ],
          [
           "Residence Vila Europa"
          ],
          [
           "Pousada Lavramor"
          ],
          [
           "Pousada Passarte Rua Biquinha"
          ],
          [
           "Pousada do Limoeiro"
          ],
          [
           "Pousada Terra Sul"
          ],
          [
           "Pousada do Ó"
          ],
          [
           "Pousada Internacional"
          ],
          [
           "Pousada Taynara"
          ],
          [
           "Pousada 21 de abril"
          ],
          [
           "Pousada Papyrus"
          ],
          [
           "Pousada Inconfidencia Mineira"
          ],
          [
           "Pousada Fazenda Xalés de Maracaípe"
          ],
          [
           "Pousada Capitães de Areia"
          ],
          [
           "Chalés Cavalo Marinho"
          ],
          [
           "Zoya Bed and Breakfast"
          ],
          [
           "Pousada da Seresta"
          ],
          [
           "Familiar Accomodation"
          ],
          [
           "Pousada Porto Tropical"
          ],
          [
           "Pousada Cores do Mar"
          ],
          [
           "Pousada dos Coqueiros"
          ],
          [
           "B&B Botarezinha"
          ],
          [
           "Pousada do Quiririm"
          ],
          [
           "Pousada Rancho Hanna"
          ],
          [
           "Pousada Casa de Pedra"
          ],
          [
           "Pousada da Tammy"
          ],
          [
           "Hotel Santa Clara Franca"
          ],
          [
           "Favela Nova"
          ],
          [
           "Hospedaria da Joatinga"
          ],
          [
           "Pousada Beijo Mar"
          ],
          [
           "Pousada Juscelino"
          ],
          [
           "Hotel Farol de Galinhos"
          ],
          [
           "Pousada Brisa do Mar - RN"
          ],
          [
           "Pousada do Farol"
          ],
          [
           "Pousada Crepusculo"
          ],
          [
           "Hostel Pousada Tia Preta"
          ],
          [
           "Pousada EcoJeri"
          ],
          [
           "Pousada Lampiao e Maria Bonita"
          ],
          [
           "Pousada Imigrantes Jabaquara"
          ],
          [
           "Hotel Pousada Saudosa Maloca"
          ],
          [
           "Residencial Castor"
          ],
          [
           "Pousada Recanto da Piragui"
          ],
          [
           "Pousada Pousada Willian Michaud"
          ],
          [
           "Pousada Dona Tereza"
          ],
          [
           "Pousada da Ilha"
          ],
          [
           "Pousada e Restaurante Bella Ilha"
          ],
          [
           "Pousada Recanto do Maruja"
          ],
          [
           "Pousada Cost'Azul"
          ],
          [
           "Pousada Centauro"
          ],
          [
           "Pousada e Lanchonete Magal"
          ],
          [
           "GoBrazil"
          ],
          [
           "Pousada Acalanto Ilha Grande"
          ],
          [
           "Pousada Topo Do Cipo"
          ],
          [
           "Karaguashouse"
          ],
          [
           "Maison Tordeur Bed & Breakfast"
          ],
          [
           "Pousada Canto das Laranjeiras-Tombo"
          ],
          [
           "Pousada Recanto da Villa"
          ],
          [
           "B&B O Veleiro Bed and Breakfast"
          ],
          [
           "Pousada do Suiço Parnaiba"
          ],
          [
           "Green Mountain Pousada"
          ],
          [
           "B&B  Barra da Tijuca"
          ],
          [
           "Pousada Galo Suiço"
          ],
          [
           "Bed & Breakfast Leblon Militza"
          ],
          [
           "B&B Praia Leme"
          ],
          [
           "B&B Lagoa Vitoria Regia"
          ],
          [
           "B&B Botafogo Lilian"
          ],
          [
           "Pousada Lanai Gramado"
          ],
          [
           "B&B Copacabana Verde"
          ],
          [
           "Pousada Vovó Idalina"
          ],
          [
           "Natus Hostel"
          ],
          [
           "Nice Surf House in Pituba"
          ],
          [
           "Pousada Estalagem"
          ],
          [
           "Pantanal Ranch Meia Lua"
          ],
          [
           "Santo Mirante Hostel"
          ],
          [
           "Pousada Bangalo"
          ],
          [
           "La Aldea Zen Guesthouse"
          ],
          [
           "Guest House Canto do Sabia"
          ],
          [
           "Pousada Leste"
          ],
          [
           "Mao Dupla Hostel"
          ],
          [
           "Pousada Bella Casa, Foz do Iguacu"
          ],
          [
           "Pousada Italia"
          ],
          [
           "Sonja´s Almhütte"
          ],
          [
           "Pousada Bicho Preguica"
          ],
          [
           "Pousada Vila Bacana"
          ],
          [
           "Pousada TonaPraia"
          ],
          [
           "Marcia Bed and Breakfast"
          ],
          [
           "Pousada Galoo"
          ],
          [
           "Vista Bela Pousada"
          ],
          [
           "U Surf Me"
          ],
          [
           "Pousada Millennium 2"
          ],
          [
           "Pousada Sudoeste Inn"
          ],
          [
           "Pousada Abais"
          ],
          [
           "Pousada Violeiro - Lencois"
          ],
          [
           "Pousada Lua de Cristal - Lencois"
          ],
          [
           "Pousada Piratas de Buzios"
          ],
          [
           "Pousada Estacao do do Trem"
          ],
          [
           "Pousada Atlantis"
          ],
          [
           "Pousada Inn Brunello Paraty"
          ],
          [
           "Bella Vista Village Buzios"
          ],
          [
           "Pousada Bem-te-vi"
          ],
          [
           "Pousada Alto do Cajueiro"
          ],
          [
           "Pousada Brasil Tropical"
          ],
          [
           "Pousada Baluarte"
          ],
          [
           "Casa Cohiba"
          ],
          [
           "Pousada Le Palmier"
          ],
          [
           "Catarino's Guest House"
          ],
          [
           "Pousada Indaia Eco Village"
          ],
          [
           "Flat Mar do Cabo Branco"
          ],
          [
           "Pousada Marcos"
          ],
          [
           "Pousada Halai"
          ],
          [
           "Rocinha Guest House"
          ],
          [
           "Luiz Leblon Guest House"
          ],
          [
           "Pousada Pé na Estrada"
          ],
          [
           "Pousada SR"
          ],
          [
           "Pousada Paraguassu"
          ],
          [
           "Pousada Ecoverde"
          ],
          [
           "Pousada Ciranda"
          ],
          [
           "Anacardium Vihara"
          ],
          [
           "Pousada Caramanchão"
          ],
          [
           "Vilage Capoeira"
          ],
          [
           "Global Rio de Janeiro"
          ],
          [
           "Hotel Pousada O Sol"
          ],
          [
           "Pousada Manga Rosa"
          ],
          [
           "Pousada Aldeia Portuguesa"
          ],
          [
           "Pousada Brisa do Mar"
          ],
          [
           "Pousada Carol"
          ],
          [
           "Canto das Laranjeiras"
          ],
          [
           "Pousada Mar e Terra"
          ],
          [
           "Pousada Naquela Jericoacoara"
          ],
          [
           "Pousada Surfing Jeri"
          ],
          [
           "HospedaSalvador"
          ],
          [
           "Bora Mora Bed and Breakfast"
          ],
          [
           "Pousada Fiori di Mare"
          ],
          [
           "Pousada Janellas do Mar"
          ],
          [
           "Pousada D' Pillel"
          ],
          [
           "Pousada Aldeia do Sol"
          ],
          [
           "Pousada Santuário da Madre"
          ],
          [
           "Pousada Santa Trem"
          ],
          [
           "Pousada Cabanas do Curupira"
          ],
          [
           "Casa do Miguel"
          ],
          [
           "Pousada Rios"
          ],
          [
           "Pousada Bonaparte"
          ],
          [
           "Pousada Casablanca"
          ],
          [
           "Refron du Mar Bed & Breakfast Paraty"
          ],
          [
           "Pousada Cheia de Onda"
          ],
          [
           "Eco Pousada Miriti"
          ],
          [
           "Casa Mango Mango"
          ],
          [
           "Condominio dos Nativos"
          ],
          [
           "Pousada dos Corais"
          ],
          [
           "Pousada da Cachoeira"
          ],
          [
           "Pousada Paloma"
          ],
          [
           "Studio Formana"
          ],
          [
           "Geko Pousada Paraty"
          ],
          [
           "Fatima Macintyre House"
          ],
          [
           "Albergue Santa Teresa"
          ],
          [
           "Pousada Estrelas no Mar"
          ],
          [
           "La Villa Francaise"
          ],
          [
           "Hostel Pousada Cancun"
          ],
          [
           "Deauville Pousada"
          ],
          [
           "Pousada Casa Zaza"
          ],
          [
           "A Meson Pousada"
          ],
          [
           "Pousada Sítio dos Tucanos"
          ],
          [
           "Favela Receptiva"
          ],
          [
           "Buzios Pousada Telhado Verde"
          ],
          [
           "BaronGarden"
          ],
          [
           "Tropical Dolphin Hostel e Pousada"
          ],
          [
           "Pousada Pouso do Marujo"
          ],
          [
           "Som do Mar"
          ],
          [
           "Refúgio dos Carneiros Guesthouse"
          ],
          [
           "Temporada em Maceió"
          ],
          [
           "Cantinho Tres Coracoes"
          ],
          [
           "Hospedagem Casa Paulista"
          ],
          [
           "Pousada Papaya Container"
          ],
          [
           "Hostel Pé de Caju"
          ],
          [
           "Fazenda Quatro Cantos"
          ],
          [
           "Búzios Colinas Homestay"
          ],
          [
           "Pousada Vivenda dos Sonhos"
          ],
          [
           "Pousada Parque Imperial"
          ],
          [
           "Pousada Tropicália"
          ],
          [
           "Recanto Lus"
          ],
          [
           "Casa Ceara"
          ],
          [
           "Lia Travel Inn"
          ],
          [
           "Maresias Bnb"
          ],
          [
           "Pousada Vayu"
          ],
          [
           "Pousada Semente"
          ],
          [
           "Do Bosque Guest House"
          ],
          [
           "Solar do Cosme"
          ],
          [
           "Pousada D Lia"
          ],
          [
           "Pousada Mata Nativa"
          ],
          [
           "CLH Suites Ilha Grande"
          ],
          [
           "Pousada Chef Brasil"
          ],
          [
           "Pousada Vevo"
          ],
          [
           "Laboratorio de Art Telmas Guest House"
          ],
          [
           "El Misti Suites"
          ],
          [
           "Pousada Adriana Beach"
          ],
          [
           "Doug Backpackers"
          ],
          [
           "Pousada Casa del Angel"
          ],
          [
           "TerrAmor"
          ],
          [
           "Ace Praia de Botafogo Suites"
          ],
          [
           "Alma Livre Hostel"
          ],
          [
           "Casa Tulipa Hospedagens"
          ],
          [
           "Pousada My House Cabo Frio"
          ],
          [
           "Pousada Nos Na Trilha"
          ],
          [
           "Hospedaria Doce Lar"
          ],
          [
           "Torre Guesthouse"
          ],
          [
           "Pensionato PUP"
          ],
          [
           "Haute Haus"
          ],
          [
           "Morada do Aventureiro"
          ],
          [
           "Hospedaria Flor de CaJu"
          ],
          [
           "Liras da Poesia Hostel e Pousada"
          ],
          [
           "Pousada Casa Verde"
          ],
          [
           "Pousada e Hostel São Paulo – Unidade Econômica"
          ],
          [
           "Pousada do Trevo Paraty"
          ],
          [
           "Arte Sagrada Hospedaria"
          ],
          [
           "Gemeos Gamboa"
          ],
          [
           "Pousada Piçarras"
          ],
          [
           "Pousada Ronco do Mar Cumbuco"
          ],
          [
           "Pousada Coralia"
          ],
          [
           "Taj Mahal Suites"
          ],
          [
           "Pousada e Hostel Coracao Verde"
          ],
          [
           "Sitio dos Oriundos"
          ],
          [
           "Hostel da Montanha"
          ],
          [
           "Pousada Bed & Breakfast Cicerone"
          ],
          [
           "Sabatico Beach House"
          ],
          [
           "CasaJomo"
          ],
          [
           "Hostel Lumiar Don"
          ],
          [
           "Pouso do Marujo"
          ]
         ],
         "hovertemplate": "type=GUESTHOUSE<br>latitude=%{lat}<br>longitude=%{lon}<br>name=%{customdata[0]}<extra></extra>",
         "lat": [
          -22.8946738,
          -22.7511662,
          -4.5254015,
          -14.2785407,
          -12.5006769,
          -6.2287306,
          -23.1424935,
          -14.2868583,
          -4.3972938,
          -22.9699068,
          -16.806632,
          -20.4557879,
          -2.7976507,
          -2.5783197,
          -23.545252,
          -23.5604173,
          -22.985002,
          -23.405202,
          -22.9673467,
          -27.4613849,
          -22.5006043,
          -27.6874033,
          -6.690158,
          -23.3515801,
          -23.8126218,
          -23.4065236,
          -23.61527,
          -9.2389245,
          -25.5690702,
          -14.2803721,
          -22.9321259,
          -15.843163,
          -23.350983,
          -25.557774,
          -13.89151,
          -2.7502314,
          -29.3218632,
          -3.7266933,
          -22.9956072,
          -25.6274283,
          -9.1856122,
          -13.381892,
          -21.1179264,
          -22.9836813,
          -3.6281337,
          -16.4629575,
          -14.277238,
          -12.5707494,
          -22.7710997,
          -22.9527327,
          -13.7278019,
          -13.791398,
          -15.4638478,
          -15.552056,
          -15.4701389,
          -15.4602893,
          -17.3311547,
          -27.5854946,
          -4.039789,
          -22.745285,
          -3.7244694,
          -8.7571195,
          -27.9002601,
          -16.385611,
          -12.5598899,
          -13.3785447,
          -23.216164,
          -30.0439257,
          -21.1089237,
          -23.1522047,
          -20.3866673,
          -21.1118073,
          -21.1103751,
          -20.3763316,
          -8.5338944,
          -8.4846079,
          -8.6964266,
          -8.1257539,
          -18.2501201,
          -12.9667063,
          -8.5011667,
          -8.4824217,
          -23.6219254,
          -22.9,
          -24.5548475,
          -24.5848954,
          -24.5903303,
          -24.5562379,
          -20.5315534,
          -22.995808,
          -23.0112125,
          -4.8544173,
          -4.8557496,
          -5.0856436,
          -5.4068437,
          -5.0566048,
          -25.4575,
          -13.378792,
          -2.7968388,
          -5.8817066,
          -23.6484804,
          -16.494134,
          -5.881723,
          -25.4504049,
          -25.381725,
          -25.2164171,
          -25.2136111,
          -25.3525,
          -25.212348,
          -25.459085,
          -25.4601057,
          -25.3525,
          -9.585042,
          -23.1422816,
          -19.3380708,
          -27.6499052,
          -22.9423834,
          -24.013367,
          -23.7798982,
          -22.9412689,
          -2.9039628,
          -27.5066768,
          -22.9740457,
          -9.6443952,
          -22.9921566,
          -22.9619892,
          -22.9651021,
          -22.954086,
          -29.3727603,
          -22.9706624,
          -25.481596,
          -9.839643,
          -14.283681,
          -23.2165276,
          -20.2658201,
          -22.9415298,
          -2.7975325,
          -20.373134,
          -23.5169952,
          -23.5366717,
          -12.9742445,
          -25.5482532,
          -18.9097969,
          -22.7237104,
          -6.2321881,
          -5.124376,
          -27.6669127,
          -22.9709538,
          -2.7942892,
          -13.3784127,
          -23.025139,
          -13.3794928,
          -22.9363425,
          -10.9932934,
          -12.5601624,
          -12.562846,
          -22.7675791,
          -21.1341006,
          -2.797934,
          -23.207282,
          -22.7557237,
          -7.306186,
          -12.5568585,
          -25.5654302,
          -12.9630172,
          -3.6255126,
          -22.7623989,
          -21.1249034,
          -15.0556509,
          -7.130377,
          -13.0095538,
          -13.3919441,
          -22.995762,
          -22.9841546,
          -16.4927839,
          -20.3869442,
          -12.6076347,
          -15.593956,
          -7.7873087,
          -5.9796681,
          -21.1270618,
          -16.3861472,
          -22.914915,
          -28.0712324,
          -23.7751635,
          -16.3417454,
          -16.4534424,
          -4.5267927,
          -23.964824,
          -22.79367,
          -2.794326,
          -2.796588,
          -12.9754614,
          -23.4661791,
          -16.4845945,
          -22.7499397,
          -23.1426241,
          -16.5928206,
          -27.8997796,
          -22.9159415,
          -25.4395508,
          -14.2767345,
          -1.1329191,
          -9.6674811,
          -23.1413281,
          -23.2152615,
          -16.5887616,
          -1.4550515,
          -22.9162261,
          -16.5863208,
          -27.5747848,
          -23.1449383,
          -23.1427138,
          -27.6096431,
          -23.2150218,
          -22.9845108,
          -22.9161716,
          -27.7816111,
          -13.0042325,
          -13.008245,
          -22.750587,
          -14.2773387,
          -12.9726945,
          -27.7693068,
          -22.9955689,
          -22.7761509,
          -22.9231569,
          -23.423943,
          -27.5828975,
          -16.5874057,
          -8.7176917,
          -9.660216,
          -21.688025,
          -23.5706981,
          -23.4475574,
          -20.1449534,
          -19.0048305,
          -22.772464,
          -29.3577161,
          -23.2229392,
          -12.8991886,
          -12.5921466,
          -3.6232154,
          -23.6051931,
          -12.487767,
          -3.022252,
          -16.4917398,
          -22.7759592,
          -22.9434034,
          -9.6044805,
          -23.143648,
          -23.1414896,
          -26.6282536,
          -14.2817402,
          -12.9006489,
          -22.9699344,
          -24.7356536,
          -27.6098474,
          -22.9811279,
          -2.5123685,
          -22.9492259,
          -22.2871356,
          -23.2087919,
          -22.9034686,
          -12.6160294,
          -12.5637089,
          -21.1182364,
          -30.0678837,
          -27.6133652,
          -22.9999629,
          -6.2293418,
          -8.5064051,
          -20.7222285,
          -23.5589351,
          -23.181567,
          -6.309241,
          -13.3886005,
          -12.5641252,
          -3.6242382,
          -9.2406659,
          -9.0827024,
          -2.5047314,
          -14.3835365,
          -22.73128,
          -23.2172105,
          -22.7552652,
          -22.9229322,
          -22.3408871,
          -27.5830567
         ],
         "legendgroup": "GUESTHOUSE",
         "lon": [
          -43.1925447,
          -41.8799602,
          -37.7018988,
          -38.9929398,
          -37.9628418,
          -35.0501411,
          -44.1678422,
          -38.9856606,
          -37.7959565,
          -43.1885169,
          -39.146347,
          -54.5895989,
          -40.510824,
          -42.7513365,
          -46.6731679,
          -46.6904907,
          -43.195695,
          -45.014658,
          -43.1813791,
          -48.3827455,
          -42.9946639,
          -48.4868609,
          -34.9324965,
          -44.7245656,
          -45.3657757,
          -45.0150009,
          -46.6790545,
          -35.3526222,
          -54.5540412,
          -38.9912721,
          -42.4644656,
          -47.97949,
          -44.7240795,
          -54.5704886,
          -38.9519351,
          -42.8149962,
          -49.7132683,
          -38.5168833,
          -43.243093,
          -48.5360848,
          -38.2675155,
          -38.919441,
          -56.5045014,
          -43.2011058,
          -38.7271277,
          -39.0623437,
          -38.9885326,
          -41.389858,
          -41.9061428,
          -43.182093,
          -46.3542267,
          -47.464898,
          -55.7541179,
          -56.097697,
          -55.7488983,
          -55.7584681,
          -39.2202227,
          -48.4334272,
          -38.1982827,
          -46.231275,
          -38.5072036,
          -35.0962784,
          -48.5907939,
          -39.037226,
          -41.3901248,
          -38.9165935,
          -44.713917,
          -51.2026444,
          -44.1771894,
          -44.732475,
          -43.5117698,
          -44.1663414,
          -44.1828472,
          -43.51762,
          -35.0067715,
          -35.0009623,
          -35.1074123,
          -34.8990963,
          -43.59804,
          -38.5058019,
          -35.0056224,
          -35.000416,
          -45.3795738,
          -43.2333333,
          -48.6784487,
          -48.6291486,
          -48.5975323,
          -48.6779201,
          -47.3885133,
          -43.2415623,
          -43.2953208,
          -37.240371,
          -37.2395958,
          -36.5839576,
          -35.3210449,
          -36.0400554,
          -48.2461111,
          -38.917316,
          -40.5116181,
          -35.1764092,
          -46.6400865,
          -39.074872,
          -35.1808369,
          -48.2502365,
          -48.238999,
          -48.002622,
          -47.9986111,
          -48.1683333,
          -47.996186,
          -48.245132,
          -48.2443856,
          -48.1683333,
          -35.664903,
          -44.1691978,
          -43.6180706,
          -48.4754911,
          -43.1938379,
          -46.2744719,
          -45.3570058,
          -43.187192,
          -41.7677864,
          -48.4238484,
          -43.4004405,
          -35.713037,
          -43.2331485,
          -43.1741237,
          -43.1980402,
          -43.1799602,
          -50.8820573,
          -43.1856679,
          -48.834309,
          -35.897265,
          -38.993225,
          -44.7335046,
          -56.3033166,
          -43.1898709,
          -40.5139015,
          -43.501869,
          -45.1872938,
          -46.5726511,
          -38.5083185,
          -54.5847278,
          -48.2581444,
          -45.5659102,
          -35.0441195,
          -35.62485,
          -48.4850679,
          -43.1894059,
          -40.5192314,
          -38.914899,
          -43.5114841,
          -38.912584,
          -42.475956,
          -37.0532279,
          -41.3908134,
          -41.389446,
          -41.9038768,
          -44.2575619,
          -40.515908,
          -44.717563,
          -41.8798236,
          -34.8096449,
          -41.3912743,
          -48.3151715,
          -38.5024207,
          -38.7349475,
          -41.8902545,
          -56.4879903,
          -38.9976235,
          -34.822439,
          -38.5294362,
          -38.9338536,
          -43.2445,
          -43.2201403,
          -39.0732526,
          -43.505247,
          -38.9658773,
          -56.0937574,
          -34.8397149,
          -35.1241493,
          -56.4900438,
          -39.0425561,
          -43.180019,
          -48.6270975,
          -45.3547328,
          -39.0075569,
          -39.0642973,
          -37.7053852,
          -46.189142,
          -41.93089,
          -40.514268,
          -40.516663,
          -38.5111134,
          -45.0641691,
          -39.0808602,
          -41.8783855,
          -44.1678017,
          -39.1037706,
          -48.5917424,
          -43.1898978,
          -48.7883955,
          -38.9988458,
          -48.459831,
          -35.7146543,
          -44.1678993,
          -44.7120064,
          -39.0986385,
          -48.4953868,
          -43.1836076,
          -39.0915321,
          -48.4307798,
          -44.1691566,
          -44.1632457,
          -48.4408004,
          -44.7120351,
          -43.2251071,
          -43.1810372,
          -48.5085448,
          -38.5260985,
          -38.5275399,
          -41.875858,
          -38.9878406,
          -38.5094416,
          -48.532243,
          -43.2695969,
          -41.9057224,
          -43.1749729,
          -45.0645382,
          -48.4358695,
          -39.0907582,
          -35.0877527,
          -35.709422,
          -45.2641376,
          -46.6564918,
          -45.0689459,
          -44.1937833,
          -57.6429184,
          -41.913842,
          -50.8487129,
          -44.7186339,
          -38.6575333,
          -38.0362933,
          -38.7397879,
          -46.6170349,
          -37.958517,
          -39.641744,
          -39.0743312,
          -41.9245423,
          -43.201532,
          -37.7708409,
          -44.167707,
          -44.1614466,
          -48.6977019,
          -38.9886436,
          -38.4846934,
          -43.1889633,
          -47.529551,
          -48.4485951,
          -43.1962842,
          -54.9426921,
          -43.1829586,
          -42.5336978,
          -44.7188497,
          -42.0322319,
          -41.4928928,
          -41.3871146,
          -44.1681622,
          -51.1895504,
          -48.4632182,
          -44.3099198,
          -35.050753,
          -35.0060902,
          -40.5268645,
          -46.6772384,
          -44.712121,
          -35.038249,
          -38.9302044,
          -41.3897579,
          -38.7408685,
          -35.3525311,
          -35.2728096,
          -54.949571,
          -39.048916,
          -45.58174,
          -44.7327392,
          -41.8890009,
          -43.1891119,
          -42.3191128,
          -48.4357289
         ],
         "marker": {
          "color": "#00cc96"
         },
         "mode": "markers",
         "name": "GUESTHOUSE",
         "showlegend": true,
         "subplot": "mapbox",
         "textposition": "top center",
         "type": "scattermapbox",
         "visible": "legendonly"
        },
        {
         "customdata": [
          [
           "Vila Castelo Branco"
          ],
          [
           "Cores da Pipa"
          ],
          [
           "Costeira Praia Flat"
          ],
          [
           "Studio Centro Lapa"
          ],
          [
           "N0013 Duplex Arraial do Cabo"
          ],
          [
           "Vintage Apartments Florianópolis"
          ],
          [
           "Copacabana Beach N 001"
          ],
          [
           "Amorelli Private Residence"
          ],
          [
           "Apartamento Cristina Condo"
          ],
          [
           "Apartamento Janaína"
          ],
          [
           "Apartamento Maria Julia"
          ],
          [
           "Apartamento Centro SP"
          ],
          [
           "Buzios Casa"
          ],
          [
           "Morada da Mangaba"
          ],
          [
           "Tropical Sun Rio Flats"
          ],
          [
           "Casa Pitanga"
          ],
          [
           "Copacabana Apart"
          ],
          [
           "Apartment in Copacabana"
          ],
          [
           "Copacabana Apartment"
          ],
          [
           "Paraiso Tropical"
          ],
          [
           "Ipanema Copa Posto 6"
          ],
          [
           "Flamengo Apartment"
          ],
          [
           "Recanto Sul Flat"
          ],
          [
           "Porto Verano Residence"
          ],
          [
           "Ron Rio Apartments"
          ],
          [
           "Pousada Ondas de Floripa"
          ],
          [
           "Casa de Theo"
          ],
          [
           "Stellamares Apartamentos"
          ],
          [
           "House of the stone"
          ],
          [
           "AElfgar House - Vacation Rental"
          ],
          [
           "Amazon Forest Backpackers"
          ],
          [
           "Acomodacao Ipojuca Bella"
          ],
          [
           "Solar Chacara Suites"
          ],
          [
           "Ajuricaba Suites 2"
          ],
          [
           "Ajuricaba Suites 1"
          ],
          [
           "Casa Do Cacau e Mumu"
          ],
          [
           "Residencial Casa Flor, Ponta Negra"
          ],
          [
           "Village Retreat, you in the heart of Ilhabela"
          ],
          [
           "Buzios Flat Pousada"
          ]
         ],
         "hovertemplate": "type=APARTMENT<br>latitude=%{lat}<br>longitude=%{lon}<br>name=%{customdata[0]}<extra></extra>",
         "lat": [
          -25.5354009,
          -6.2288027,
          -5.8659892,
          -22.9131468,
          -22.9689476,
          -27.603075,
          -22.9686986,
          -22.9733569,
          -26.9991926,
          -26.9872969,
          -26.9954998,
          -23.5451589,
          -22.7812374,
          -13.4159616,
          -22.9824519,
          -22.7578289,
          -22.9736751,
          -22.9622263,
          -22.9736751,
          -22.9238566,
          -22.984533,
          -22.9349033,
          -5.8827441,
          -16.3836732,
          -22.9843951,
          -27.4368679,
          -12.9278385,
          -12.9497802,
          -21.7236994,
          -20.465795,
          -3.0435933,
          -8.3976757,
          -22.9904763,
          -3.1343972,
          -3.137698,
          -27.5771314,
          -5.888709,
          -23.7783563,
          -22.7844949
         ],
         "legendgroup": "APARTMENT",
         "lon": [
          -54.5786148,
          -35.0472863,
          -35.1806381,
          -43.1811869,
          -42.0316632,
          -48.4666214,
          -43.1823365,
          -43.4140837,
          -48.6241128,
          -48.633392,
          -48.6291064,
          -46.6439768,
          -41.9494075,
          -38.9292297,
          -43.1923272,
          -41.8890205,
          -43.1893129,
          -43.1769132,
          -43.1893129,
          -43.36911,
          -43.193232,
          -43.1783685,
          -35.1764145,
          -39.0353049,
          -43.1918041,
          -48.3961889,
          -38.6178364,
          -38.3469205,
          -44.9856716,
          -54.60504,
          -59.9742962,
          -35.0433665,
          -43.2316679,
          -60.0201953,
          -60.0237749,
          -48.423069,
          -35.173635,
          -45.3582328,
          -41.9295907
         ],
         "marker": {
          "color": "#ab63fa"
         },
         "mode": "markers",
         "name": "APARTMENT",
         "showlegend": true,
         "subplot": "mapbox",
         "textposition": "top center",
         "type": "scattermapbox",
         "visible": "legendonly"
        },
        {
         "customdata": [
          [
           "Vila Prana"
          ],
          [
           "Camping Sununga"
          ],
          [
           "Camp in Brazil"
          ],
          [
           "Ball n Kicka - Football Fan Camp"
          ],
          [
           "Jardim da Nova Era"
          ],
          [
           "Tucupi Hostel & Camping"
          ],
          [
           "Floripa Glamping"
          ],
          [
           "Ready Camp e Suites da Cachoeira"
          ],
          [
           "A Casa Concha Glamping Praia de Gravatá"
          ]
         ],
         "hovertemplate": "type=CAMPSITE<br>latitude=%{lat}<br>longitude=%{lon}<br>name=%{customdata[0]}<extra></extra>",
         "lat": [
          -2.9148703,
          -23.5088602,
          -22.8603968,
          -23.0228522,
          -14.1343918,
          -0.704711,
          -27.5810539,
          -23.1442215,
          -8.8457613
         ],
         "legendgroup": "CAMPSITE",
         "lon": [
          -41.4079667,
          -45.1323908,
          -42.4422478,
          -43.5209733,
          -47.5153247,
          -48.520249,
          -48.4308963,
          -44.1691437,
          -35.1483123
         ],
         "marker": {
          "color": "#FFA15A"
         },
         "mode": "markers",
         "name": "CAMPSITE",
         "showlegend": true,
         "subplot": "mapbox",
         "textposition": "top center",
         "type": "scattermapbox",
         "visible": "legendonly"
        }
       ],
       "layout": {
        "autosize": true,
        "dragmode": "pan",
        "legend": {
         "title": {
          "text": "type"
         },
         "tracegroupgap": 0
        },
        "mapbox": {
         "accesstoken": "pk.eyJ1IjoidGhhbmFlbCIsImEiOiJjbHdmbnFsMWwwMjh1MmtvN3k4bDlibGZrIn0.GV0-K-dJuFBuCw7HxZnmYA",
         "bearing": 0,
         "center": {
          "lat": -15.405809337729238,
          "lon": -82.07823584717426
         },
         "domain": {
          "x": [
           0,
           1
          ],
          "y": [
           0,
           1
          ]
         },
         "pitch": 0,
         "zoom": 2.6730380774972504
        },
        "margin": {
         "t": 60
        },
        "template": {
         "data": {
          "bar": [
           {
            "error_x": {
             "color": "#2a3f5f"
            },
            "error_y": {
             "color": "#2a3f5f"
            },
            "marker": {
             "line": {
              "color": "#E5ECF6",
              "width": 0.5
             },
             "pattern": {
              "fillmode": "overlay",
              "size": 10,
              "solidity": 0.2
             }
            },
            "type": "bar"
           }
          ],
          "barpolar": [
           {
            "marker": {
             "line": {
              "color": "#E5ECF6",
              "width": 0.5
             },
             "pattern": {
              "fillmode": "overlay",
              "size": 10,
              "solidity": 0.2
             }
            },
            "type": "barpolar"
           }
          ],
          "carpet": [
           {
            "aaxis": {
             "endlinecolor": "#2a3f5f",
             "gridcolor": "white",
             "linecolor": "white",
             "minorgridcolor": "white",
             "startlinecolor": "#2a3f5f"
            },
            "baxis": {
             "endlinecolor": "#2a3f5f",
             "gridcolor": "white",
             "linecolor": "white",
             "minorgridcolor": "white",
             "startlinecolor": "#2a3f5f"
            },
            "type": "carpet"
           }
          ],
          "choropleth": [
           {
            "colorbar": {
             "outlinewidth": 0,
             "ticks": ""
            },
            "type": "choropleth"
           }
          ],
          "contour": [
           {
            "colorbar": {
             "outlinewidth": 0,
             "ticks": ""
            },
            "colorscale": [
             [
              0,
              "#0d0887"
             ],
             [
              0.1111111111111111,
              "#46039f"
             ],
             [
              0.2222222222222222,
              "#7201a8"
             ],
             [
              0.3333333333333333,
              "#9c179e"
             ],
             [
              0.4444444444444444,
              "#bd3786"
             ],
             [
              0.5555555555555556,
              "#d8576b"
             ],
             [
              0.6666666666666666,
              "#ed7953"
             ],
             [
              0.7777777777777778,
              "#fb9f3a"
             ],
             [
              0.8888888888888888,
              "#fdca26"
             ],
             [
              1,
              "#f0f921"
             ]
            ],
            "type": "contour"
           }
          ],
          "contourcarpet": [
           {
            "colorbar": {
             "outlinewidth": 0,
             "ticks": ""
            },
            "type": "contourcarpet"
           }
          ],
          "heatmap": [
           {
            "colorbar": {
             "outlinewidth": 0,
             "ticks": ""
            },
            "colorscale": [
             [
              0,
              "#0d0887"
             ],
             [
              0.1111111111111111,
              "#46039f"
             ],
             [
              0.2222222222222222,
              "#7201a8"
             ],
             [
              0.3333333333333333,
              "#9c179e"
             ],
             [
              0.4444444444444444,
              "#bd3786"
             ],
             [
              0.5555555555555556,
              "#d8576b"
             ],
             [
              0.6666666666666666,
              "#ed7953"
             ],
             [
              0.7777777777777778,
              "#fb9f3a"
             ],
             [
              0.8888888888888888,
              "#fdca26"
             ],
             [
              1,
              "#f0f921"
             ]
            ],
            "type": "heatmap"
           }
          ],
          "heatmapgl": [
           {
            "colorbar": {
             "outlinewidth": 0,
             "ticks": ""
            },
            "colorscale": [
             [
              0,
              "#0d0887"
             ],
             [
              0.1111111111111111,
              "#46039f"
             ],
             [
              0.2222222222222222,
              "#7201a8"
             ],
             [
              0.3333333333333333,
              "#9c179e"
             ],
             [
              0.4444444444444444,
              "#bd3786"
             ],
             [
              0.5555555555555556,
              "#d8576b"
             ],
             [
              0.6666666666666666,
              "#ed7953"
             ],
             [
              0.7777777777777778,
              "#fb9f3a"
             ],
             [
              0.8888888888888888,
              "#fdca26"
             ],
             [
              1,
              "#f0f921"
             ]
            ],
            "type": "heatmapgl"
           }
          ],
          "histogram": [
           {
            "marker": {
             "pattern": {
              "fillmode": "overlay",
              "size": 10,
              "solidity": 0.2
             }
            },
            "type": "histogram"
           }
          ],
          "histogram2d": [
           {
            "colorbar": {
             "outlinewidth": 0,
             "ticks": ""
            },
            "colorscale": [
             [
              0,
              "#0d0887"
             ],
             [
              0.1111111111111111,
              "#46039f"
             ],
             [
              0.2222222222222222,
              "#7201a8"
             ],
             [
              0.3333333333333333,
              "#9c179e"
             ],
             [
              0.4444444444444444,
              "#bd3786"
             ],
             [
              0.5555555555555556,
              "#d8576b"
             ],
             [
              0.6666666666666666,
              "#ed7953"
             ],
             [
              0.7777777777777778,
              "#fb9f3a"
             ],
             [
              0.8888888888888888,
              "#fdca26"
             ],
             [
              1,
              "#f0f921"
             ]
            ],
            "type": "histogram2d"
           }
          ],
          "histogram2dcontour": [
           {
            "colorbar": {
             "outlinewidth": 0,
             "ticks": ""
            },
            "colorscale": [
             [
              0,
              "#0d0887"
             ],
             [
              0.1111111111111111,
              "#46039f"
             ],
             [
              0.2222222222222222,
              "#7201a8"
             ],
             [
              0.3333333333333333,
              "#9c179e"
             ],
             [
              0.4444444444444444,
              "#bd3786"
             ],
             [
              0.5555555555555556,
              "#d8576b"
             ],
             [
              0.6666666666666666,
              "#ed7953"
             ],
             [
              0.7777777777777778,
              "#fb9f3a"
             ],
             [
              0.8888888888888888,
              "#fdca26"
             ],
             [
              1,
              "#f0f921"
             ]
            ],
            "type": "histogram2dcontour"
           }
          ],
          "mesh3d": [
           {
            "colorbar": {
             "outlinewidth": 0,
             "ticks": ""
            },
            "type": "mesh3d"
           }
          ],
          "parcoords": [
           {
            "line": {
             "colorbar": {
              "outlinewidth": 0,
              "ticks": ""
             }
            },
            "type": "parcoords"
           }
          ],
          "pie": [
           {
            "automargin": true,
            "type": "pie"
           }
          ],
          "scatter": [
           {
            "fillpattern": {
             "fillmode": "overlay",
             "size": 10,
             "solidity": 0.2
            },
            "type": "scatter"
           }
          ],
          "scatter3d": [
           {
            "line": {
             "colorbar": {
              "outlinewidth": 0,
              "ticks": ""
             }
            },
            "marker": {
             "colorbar": {
              "outlinewidth": 0,
              "ticks": ""
             }
            },
            "type": "scatter3d"
           }
          ],
          "scattercarpet": [
           {
            "marker": {
             "colorbar": {
              "outlinewidth": 0,
              "ticks": ""
             }
            },
            "type": "scattercarpet"
           }
          ],
          "scattergeo": [
           {
            "marker": {
             "colorbar": {
              "outlinewidth": 0,
              "ticks": ""
             }
            },
            "type": "scattergeo"
           }
          ],
          "scattergl": [
           {
            "marker": {
             "colorbar": {
              "outlinewidth": 0,
              "ticks": ""
             }
            },
            "type": "scattergl"
           }
          ],
          "scattermapbox": [
           {
            "marker": {
             "colorbar": {
              "outlinewidth": 0,
              "ticks": ""
             }
            },
            "type": "scattermapbox"
           }
          ],
          "scatterpolar": [
           {
            "marker": {
             "colorbar": {
              "outlinewidth": 0,
              "ticks": ""
             }
            },
            "type": "scatterpolar"
           }
          ],
          "scatterpolargl": [
           {
            "marker": {
             "colorbar": {
              "outlinewidth": 0,
              "ticks": ""
             }
            },
            "type": "scatterpolargl"
           }
          ],
          "scatterternary": [
           {
            "marker": {
             "colorbar": {
              "outlinewidth": 0,
              "ticks": ""
             }
            },
            "type": "scatterternary"
           }
          ],
          "surface": [
           {
            "colorbar": {
             "outlinewidth": 0,
             "ticks": ""
            },
            "colorscale": [
             [
              0,
              "#0d0887"
             ],
             [
              0.1111111111111111,
              "#46039f"
             ],
             [
              0.2222222222222222,
              "#7201a8"
             ],
             [
              0.3333333333333333,
              "#9c179e"
             ],
             [
              0.4444444444444444,
              "#bd3786"
             ],
             [
              0.5555555555555556,
              "#d8576b"
             ],
             [
              0.6666666666666666,
              "#ed7953"
             ],
             [
              0.7777777777777778,
              "#fb9f3a"
             ],
             [
              0.8888888888888888,
              "#fdca26"
             ],
             [
              1,
              "#f0f921"
             ]
            ],
            "type": "surface"
           }
          ],
          "table": [
           {
            "cells": {
             "fill": {
              "color": "#EBF0F8"
             },
             "line": {
              "color": "white"
             }
            },
            "header": {
             "fill": {
              "color": "#C8D4E3"
             },
             "line": {
              "color": "white"
             }
            },
            "type": "table"
           }
          ]
         },
         "layout": {
          "annotationdefaults": {
           "arrowcolor": "#2a3f5f",
           "arrowhead": 0,
           "arrowwidth": 1
          },
          "autotypenumbers": "strict",
          "coloraxis": {
           "colorbar": {
            "outlinewidth": 0,
            "ticks": ""
           }
          },
          "colorscale": {
           "diverging": [
            [
             0,
             "#8e0152"
            ],
            [
             0.1,
             "#c51b7d"
            ],
            [
             0.2,
             "#de77ae"
            ],
            [
             0.3,
             "#f1b6da"
            ],
            [
             0.4,
             "#fde0ef"
            ],
            [
             0.5,
             "#f7f7f7"
            ],
            [
             0.6,
             "#e6f5d0"
            ],
            [
             0.7,
             "#b8e186"
            ],
            [
             0.8,
             "#7fbc41"
            ],
            [
             0.9,
             "#4d9221"
            ],
            [
             1,
             "#276419"
            ]
           ],
           "sequential": [
            [
             0,
             "#0d0887"
            ],
            [
             0.1111111111111111,
             "#46039f"
            ],
            [
             0.2222222222222222,
             "#7201a8"
            ],
            [
             0.3333333333333333,
             "#9c179e"
            ],
            [
             0.4444444444444444,
             "#bd3786"
            ],
            [
             0.5555555555555556,
             "#d8576b"
            ],
            [
             0.6666666666666666,
             "#ed7953"
            ],
            [
             0.7777777777777778,
             "#fb9f3a"
            ],
            [
             0.8888888888888888,
             "#fdca26"
            ],
            [
             1,
             "#f0f921"
            ]
           ],
           "sequentialminus": [
            [
             0,
             "#0d0887"
            ],
            [
             0.1111111111111111,
             "#46039f"
            ],
            [
             0.2222222222222222,
             "#7201a8"
            ],
            [
             0.3333333333333333,
             "#9c179e"
            ],
            [
             0.4444444444444444,
             "#bd3786"
            ],
            [
             0.5555555555555556,
             "#d8576b"
            ],
            [
             0.6666666666666666,
             "#ed7953"
            ],
            [
             0.7777777777777778,
             "#fb9f3a"
            ],
            [
             0.8888888888888888,
             "#fdca26"
            ],
            [
             1,
             "#f0f921"
            ]
           ]
          },
          "colorway": [
           "#636efa",
           "#EF553B",
           "#00cc96",
           "#ab63fa",
           "#FFA15A",
           "#19d3f3",
           "#FF6692",
           "#B6E880",
           "#FF97FF",
           "#FECB52"
          ],
          "font": {
           "color": "#2a3f5f"
          },
          "geo": {
           "bgcolor": "white",
           "lakecolor": "white",
           "landcolor": "#E5ECF6",
           "showlakes": true,
           "showland": true,
           "subunitcolor": "white"
          },
          "hoverlabel": {
           "align": "left"
          },
          "hovermode": "closest",
          "mapbox": {
           "style": "light"
          },
          "paper_bgcolor": "white",
          "plot_bgcolor": "#E5ECF6",
          "polar": {
           "angularaxis": {
            "gridcolor": "white",
            "linecolor": "white",
            "ticks": ""
           },
           "bgcolor": "#E5ECF6",
           "radialaxis": {
            "gridcolor": "white",
            "linecolor": "white",
            "ticks": ""
           }
          },
          "scene": {
           "xaxis": {
            "backgroundcolor": "#E5ECF6",
            "gridcolor": "white",
            "gridwidth": 2,
            "linecolor": "white",
            "showbackground": true,
            "ticks": "",
            "zerolinecolor": "white"
           },
           "yaxis": {
            "backgroundcolor": "#E5ECF6",
            "gridcolor": "white",
            "gridwidth": 2,
            "linecolor": "white",
            "showbackground": true,
            "ticks": "",
            "zerolinecolor": "white"
           },
           "zaxis": {
            "backgroundcolor": "#E5ECF6",
            "gridcolor": "white",
            "gridwidth": 2,
            "linecolor": "white",
            "showbackground": true,
            "ticks": "",
            "zerolinecolor": "white"
           }
          },
          "shapedefaults": {
           "line": {
            "color": "#2a3f5f"
           }
          },
          "ternary": {
           "aaxis": {
            "gridcolor": "white",
            "linecolor": "white",
            "ticks": ""
           },
           "baxis": {
            "gridcolor": "white",
            "linecolor": "white",
            "ticks": ""
           },
           "bgcolor": "#E5ECF6",
           "caxis": {
            "gridcolor": "white",
            "linecolor": "white",
            "ticks": ""
           }
          },
          "title": {
           "x": 0.05
          },
          "xaxis": {
           "automargin": true,
           "gridcolor": "white",
           "linecolor": "white",
           "ticks": "",
           "title": {
            "standoff": 15
           },
           "zerolinecolor": "white",
           "zerolinewidth": 2
          },
          "yaxis": {
           "automargin": true,
           "gridcolor": "white",
           "linecolor": "white",
           "ticks": "",
           "title": {
            "standoff": 15
           },
           "zerolinecolor": "white",
           "zerolinewidth": 2
          }
         }
        },
        "title": {
         "text": "Text",
         "x": 0.5
        }
       }
      },
      "text/html": [
       "<div>                            <div id=\"61c54f64-2e51-4228-b129-a743fc18a572\" class=\"plotly-graph-div\" style=\"height:525px; width:100%;\"></div>            <script type=\"text/javascript\">                require([\"plotly\"], function(Plotly) {                    window.PLOTLYENV=window.PLOTLYENV || {};                                    if (document.getElementById(\"61c54f64-2e51-4228-b129-a743fc18a572\")) {                    Plotly.newPlot(                        \"61c54f64-2e51-4228-b129-a743fc18a572\",                        [{\"customdata\":[[\"Babitonga Hostel\"],[\"Pousada Marinheiro\"],[\"Boutique Hotel G\\u00e1vea Tropical\"],[\"Praia Hotel Enseada\"],[\"Hostel Villa Cacau Trancoso\"],[\"Sitio Sapiranga\"],[\"Pousada Chales Madu\"],[\"Morro das Pedras Clube Hotel & Spa\"],[\"Real Foz\"],[\"Pousada Inn Falls Park\"],[\"Aldeia Gaia\"],[\"Arte da Tribo Hostel & Camping\"],[\"Porto Gale\\u00e3o\"],[\"Hostel Brazilian House\"],[\"Bistu Hotel & Hostel\"],[\"Bougainville Hostel\"],[\"Kaleidosc\\u00f3pio Hostel\"],[\"Hostel Ipe\"],[\"Solar da Praia\"],[\"Sono Vitoria\"],[\"Economy Apart\"],[\"Tarob\\u00e1 Express\"],[\"Economy Suites\"],[\"Calamares Hotel\"],[\"Hostel Caribe de Ubatuba\"],[\"Hotel Dany\"],[\"Iguassu Holiday Hotel\"],[\"Hotel Estancia Bonanza\"],[\"CLH Suites Bonito Sul\"],[\"CLH Suites Bonito Centro\"],[\"Pousada Por do Sol Buzios\"],[\"Hostel Barroco Salvador\"],[\"Pousada Cajaiba\"],[\"Pousada Foz Igu\"],[\"Irawo Hotel\"],[\"Villa Igua\\u00e7u Palace Hotel\"],[\"Mirante do Arvrao\"],[\"Hotel Panorama Cuiaba\"],[\"Aruanda Hostel\"],[\"Pousada Lua Cheia\"],[\"Hotel Faguile\"],[\"Hotel Blumenau\"],[\"Tapera Hotel\"],[\"Alvorada Iguassu Hotel\"],[\"Hotel Ocean Imperium\"],[\"Chale Oasis\"],[\"Pousada Estrelamar - Porto Mirim\"],[\"Pousada Amagali\"],[\"Corais de Maracaja\\u00fa\"],[\"Pousada Sobre as Ondas\"],[\"Paraty Hostel - Casa do Rio\"],[\"Athenas Apart-Hotel\"],[\"Hotel Pousada Terras do Sem Fim - Ilheus - Bahia\"],[\"Pousada da Angelica\"],[\"Ramada Airport Hotel\"],[\"Ritz Suites Hotel\"],[\"Tropico Praia Hotel\"],[\"Hotel Delphia Marsallis\"],[\"Marambaia Apart Hotel\"],[\"Harmoni Hostel e Pousada\"],[\"Pousada Praia do Flamengo\"],[\"Malibu Porto Hotel\"],[\"Amazonas Palace Hotel\"],[\"Hotel Paraiso Marili\"],[\"Hotel Ver O Peso\"],[\"Hotel Blumenhof\"],[\"Hotel Pousada Lagoas\"],[\"Pousada Bons Amigos\"],[\"Grande Hotel Blumenau\"],[\"Abudi Palace Hotel\"],[\"Esplanada Brasilia Hotel\"],[\"Hotel Iguacu\"],[\"America Praia Flat\"],[\"Nautico Praia Hotel & Convention Center\"],[\"Hotel Estalagem Porto Seguro\"],[\"Portobello Park Hotel\"],[\"Hotel Costa Verde\"],[\"Hotel Vale Verde\"],[\"Paraty Hotel\"],[\"Residencial Sol e Mar de Floripa\"],[\"Bella Italia Hotel e Eventos Ltda\"],[\"Hotel Del Rey\"],[\"Aguas do Igua\\u00e7u Hotel Centro\"],[\"Eco Pousada Villa Verde\"],[\"Hotel Cupim Lazer\"],[\"Nautilus Apart Hotel\"],[\"Paudimar Cataratas Hotel\"],[\"Hotel Rojas All Suite\"],[\"Colinas Residencia\"],[\"Foz Express Hotel\"],[\"Montepascual Ecovillage\"],[\"Ibis Budget Bel\\u00e9m\"],[\"Stella Solaris Cataratas\"],[\"Espa\\u00e7o Revive  Hostel e Camping\"],[\"Mono Beach Hostel\"],[\"Hotel Villa Canoas\"],[\"Castelo de Itaipava Hotel - Eventos - Gastronomia\"],[\"Hotel e Hostel Piazza Batel\"],[\"MoBu Hostel\"],[\"CLH Suites Copacabana @ Domingos Ferreira\"],[\"Hostel Passos MG\"],[\"Hostel Praia Grande de Ubatuba\"],[\"Hostel Vila Flor Jericoacoara\"],[\"Aconchego do  lar Hospedagem\"],[\"Pousada Gostoso Village\"],[\"Pousada Jubaia\"],[\"Hotel Ibis budget Sao Paulo Sao Joao\"],[\"Today Hostel\"],[\"Pousada Paraty Paradiso\"],[\"Pousada Campo Verde\"],[\"Sao Paulo Hostel Downtown\"],[\"Solar Beach Hostel\"],[\"Iguassu Flats Hotel\"],[\"Pousada Ville Provence\"],[\"Salvatti Cataratas Hotel\"],[\"Hotel Fazenda Caco de Cuia\"],[\"Ace Suites Inn Rio\"],[\"Casa Tuxi\"],[\"Pousada Terral\"],[\"Pousada e Hostel S\\u00e3o Paulo \\u2013 Unidade Comfort\"],[\"Alma Tropical Resort\"],[\"Peixe Gordo Adults Only Hotel\"],[\"Pousada Mojomar Buzios\"],[\"Boulevard Bed & Breakfast\"],[\"Riverside Inn\"],[\"La Hotel Votuporanga\"],[\"Hotel Barao Ribeirao\"],[\"Pousada Beluga\"],[\"Aldeia Hostel II\"],[\"La Musica Hostel Ouro Preto\"],[\"Pousada Encanto do Amor Buzios\"],[\"Pousada Casa da Praia Buzios\"],[\"Pousada Beira Dagua\"],[\"Pousada 3J Hotel Fazenda\"],[\"Naim Hotel\"],[\"Woods Hostel\"],[\"Casa Maker Redario & Camping\"],[\"Pousada Delle Rose\"],[\"Pousada Afrika\"],[\"Pousada Toa Toa Em Pipa\"],[\"Hostel Trilhas e Rotas\"],[\"Guest House Copacabana Hostel\"],[\"Villa Sabia - Eco Bungalows\"],[\"Ivos Hostel & Camping\"],[\"Para Vos y Porque Si\"],[\"Hotel Rio Vale Verde\"],[\"Live in Fortaleza Hotel\"]],\"hovertemplate\":\"type=HOTEL\\u003cbr\\u003elatitude=%{lat}\\u003cbr\\u003elongitude=%{lon}\\u003cbr\\u003ename=%{customdata[0]}\\u003cextra\\u003e\\u003c\\u002fextra\\u003e\",\"lat\":[-26.2295867,-13.3789396,-22.9846956,-9.6719381,-16.5923148,-29.6735969,-23.5166368,-27.7137145,-25.5375931,-25.5896633,-22.4141182,-28.1291787,-6.3694408,-15.877654,-23.5967993,-23.1413445,-23.544697,-23.5643051,-23.1404887,-20.289725,-5.8752959,-25.5409237,-5.8715615,-23.6221328,-23.5298779,-25.5385838,-25.5770749,-22.485218,-21.1336089,-21.127263,-22.75,-12.9709619,-13.381162,-25.5362367,-12.9723388,-25.5442783,-22.9955185,-15.6007085,-16.8068542,-22.8954837,-25.5344265,-25.4243665,-21.1285987,-25.5066622,-5.9481157,-5.0942806,-5.5442297,-5.0942864,-5.4088297,-25.459379,-23.2179336,-20.4498867,-14.9196158,-25.5509162,-19.6416194,-9.6325168,-9.660699,-5.8731294,-5.8778818,-23.1442347,-12.9272823,-16.4438991,-19.9176259,-1.4402068,-1.4514947,-26.9123134,-9.6429085,-3.2383922,-26.9227124,-15.5965437,-15.794607,-20.4621924,-16.385757,-16.3937759,-16.4476781,-16.3917332,-16.445024,-16.4434833,-23.2198876,-27.42971,-25.5348906,-25.5347685,-25.5347855,-21.1162531,-20.8166228,-5.8830875,-25.5999645,-23.5388878,-22.9833811,-25.539541,-3.347088,-1.4488791,-25.5095369,-8.9623935,-8.5070967,-25.5342331,-22.3608611,-25.4357687,-23.0141433,-22.9716564,-20.730209,-23.4655179,-2.7945643,-12.5609013,-5.1246753,-21.1291904,-23.5397789,-23.527861,-23.2422218,-21.1447251,-23.539425,-27.4282998,-25.5460694,-22.7635286,-25.5455669,-20.299563,-22.9493493,-22.9443267,-14.2868583,-23.5588985,-13.068977,-4.781979,-22.7511891,0.0,-2.7576023,-20.4238875,-21.1822305,-22.7713509,-3.1369234,-20.3857546,-22.7681777,-22.7765916,-8.529969,-16.0555554,-20.6121582,-19.8564698,-2.056219,-8.5046341,-22.753425,-6.2315162,-23.5567369,-22.9727787,-2.8191396,-22.3701437,-13.3826117,-22.6141255,-3.747904],\"legendgroup\":\"HOTEL\",\"lon\":[-48.5018,-38.9132194,-43.2424213,-35.7164946,-39.1028396,-50.9920258,-45.1979911,-48.5025784,-54.5813332,-54.5181884,-42.9035758,-48.6469208,-35.0083048,-52.2941715,-46.6727525,-44.1678441,-46.698818,-46.6332483,-44.1676141,-40.2977758,-35.1800012,-54.5881419,-35.1825192,-46.549354,-45.2226589,-54.5858002,-54.5422531,-48.9604835,-56.4781156,-56.485184,-41.8833333,-38.5059072,-38.91111,-54.5888183,-38.5089815,-54.5866699,-43.2425069,-56.0996895,-39.1495099,-48.4907605,-54.5858362,-49.2708642,-56.4845886,-54.5891421,-35.1552445,-36.2746341,-35.2575302,-36.2723109,-35.3112532,-48.24469,-44.7188338,-54.6286694,-39.0208748,-54.5753402,-43.9043753,-35.6973354,-35.704856,-35.1791954,-35.1756249,-44.1660156,-38.3210831,-39.0666389,-43.9364413,-48.4586105,-48.5023832,-49.0669784,-35.7080093,-39.2368872,-49.0602066,-56.0901971,-47.889436,-54.6238999,-39.034434,-39.0433311,-39.0677881,-39.0423317,-39.0625692,-39.0676574,-44.7164563,-48.449954,-54.5766234,-54.5881128,-54.585968,-56.5062986,-43.8099796,-35.1728714,-54.5240052,-46.6465759,-43.1947933,-54.581659,-39.136756,-48.4693673,-54.5489429,-35.1749603,-35.0054963,-54.5849482,-43.125098,-49.287154,-44.2298421,-43.1856447,-46.6196836,-45.0628612,-40.5142953,-41.3895157,-35.6250976,-56.4809722,-46.6442427,-46.682561,-44.6398304,-44.2243812,-46.644629,-48.4653147,-54.5890235,-41.8926824,-54.5869238,-43.8178677,-43.1829508,-43.1855243,-38.9856606,-46.6745481,-38.729839,-37.2828254,-41.8799393,0.0,-42.8378885,-49.9739568,-47.8121602,-41.901132,-60.0194159,-43.5038054,-41.9040724,-41.908471,-35.008523,-56.5663592,-46.0634864,-43.9768088,-60.0280191,-35.0017348,-41.879622,-35.0430387,-46.6635705,-43.1913069,-40.4066135,-44.8851342,-38.9105742,-46.4687246,-38.467814],\"marker\":{\"color\":\"#636efa\"},\"mode\":\"markers\",\"name\":\"HOTEL\",\"showlegend\":true,\"subplot\":\"mapbox\",\"type\":\"scattermapbox\",\"textposition\":\"top center\"},{\"customdata\":[[\"Jardim Secreto Guesthouse\"],[\"Hostel Clube Vaa\"],[\"Noronha 350\"],[\"Casa Guarnic\\u00ea Hostel\"],[\"O Viajante Hostel\"],[\"Varandas do Arraial\"],[\"Hostel Zen Garden\"],[\"Swan Generation\"],[\"Tropical Hostel\"],[\"Proxima Estacion Hostel\"],[\"Hostel Esta\\u00e7\\u00e3o Maracan\\u00e3\"],[\"IHostel Aldeota\"],[\"EcoRupestre Hostel Serra da Capivara\"],[\"Nomads MultiCultural\"],[\"Mandala Hostel\"],[\"Puleiro Hostel\"],[\"La Plage Salvador - Boutique Hostel\"],[\"ClanDestino\"],[\"Mare Blu Pousada Hostel\"],[\"Hostel Leblon\"],[\"Rosemary Dream\"],[\"Arauc\\u00e1ria Hostel\"],[\"Kuki's Hostel\"],[\"Santo Hostel\"],[\"Maragogi Social Hostel\"],[\"Da Orla Pampulha Hostel\"],[\"My House Hostel Buzio\"],[\"Hostel Manjeric\\u00e3o\"],[\"Sitio Simple Life\"],[\"Lamparina Hostel\"],[\"Mundo da Lua Hostel\"],[\"Selina Copacabana\"],[\"Hospedaria & Camping Pingo de Ouro\"],[\"Maracan\\u00e3 Hostel Vila Isabel\"],[\"Your Hostel\"],[\"Casa Odara\"],[\"Bananas Hostel\"],[\"Mini Hostel Tut\\u00f3ia-MA\"],[\"O Hostel - Gru | SP\"],[\"Hostel Minho\"],[\"Longboard Paradise Surf Club\"],[\"Joy Hostel\"],[\"Casa do Professor Hostel\"],[\"Hostel Econ\\u00f4mico\"],[\"Ka'a Hostel & Pousada\"],[\"\\u00c9 Hostel\"],[\"Espa\\u00e7o Luz do Sol\"],[\"Hostel Liberdade\"],[\"Qu\\u00e9 onda!\"],[\"Sangha Urbana\"],[\"Jundu Beach Hostel\"],[\"Manhat\\u00e3 Hostel\"],[\"Hostel More SP\"],[\"Nossa Casa em Floripa\"],[\"Udihostel Albergue e Hospedaria Ltda\"],[\"Tapera Hostel\"],[\"Hostel Popular Canto da Praia\"],[\"Z-18 Hostel\"],[\"Innbox - Porto Belo\"],[\"Flet Point Hostel\"],[\"Hostel Vagamundo\"],[\"Beach Hostel & Suites Los Pibes de Flores\"],[\"Casa Alma Zen - Hostel Boutique & Bistr\\u00f4 Ubatuba\"],[\"Duque Hostel\"],[\"Hobi Guest House\"],[\"Azul Maria Hostel\"],[\"Quintal Hostel\"],[\"Manaca Hospedaria\"],[\"Rio Surf House\"],[\"APRAIANA HOSTEL\"],[\"Chez Zany\"],[\"Lampiao Hostel\"],[\"N\\u00f4mades Adventure Hostel\"],[\"Beach House Ilha Grande Hostel\"],[\"Espaco Agroecologico Caminho das Pedras\"],[\"Hostel Central S\\u00e3o Sebasti\\u00e3o\"],[\"Chamos Hostel Cultural\"],[\"Pantai Chill House\"],[\"Namoa Pollastrini\"],[\"Hostel Banana House\"],[\"Oma Hostel\"],[\"Pequi Hostel\"],[\"I'm Hostel - Be happy\"],[\"El Misti Hostel Buzios\"],[\"Por el Mundo Hostel\"],[\"Agora Hostel Natal\"],[\"Rosa Surf Hostel\"],[\"Hostel Casa do Rogerio\"],[\"Vi\\u00e7osa Hostel\"],[\"Brazilian Cult Hostel\"],[\"Raiz Kite Cabana\"],[\"Casa Feliz Hostel Boa Viagem\"],[\"Abrigo de Montanha Xique Xique\"],[\"Hostel Paulista\"],[\"Rasta House\"],[\"Hostel Cristo da Barra\"],[\"Hostel e Su\\u00edtes Lar Azul\"],[\"Selina Paraty\"],[\"Imagina Hostel\"],[\"Galeria SP Hostel\"],[\"Jardins Village Hostel - Unidade Brigadeiro\"],[\"Hostel Cal\\u00e1bria Vila Madalena\"],[\"Visto Hostel\"],[\"Abar\\u00e9 House Floating Hostel\"],[\"Un dia mas Hostel\"],[\"L\\u00e1 na Praia Hostel e Pousada\"],[\"Red Monkey Hostel Barra Funda\"],[\"The Search House Beachfront Hostel\"],[\"Hostel UFO na Chapada\"],[\"Solar Hostel Beach Copacabana\"],[\"Guapuruvu Hostel\"],[\"Marlin Hostel Ilha Grande\"],[\"Hostel 142\"],[\"Maracuj\\u00e1 Hostel\"],[\"Pandora Hostel\"],[\"Pousada e Hostel Estacoes\"],[\"Sonho Floripa\"],[\"Flutuante Das Bandeiras\"],[\"Micasa Su Casa\"],[\"Pousada Recanto das Ondas\"],[\"Casa Bacarira Ecolodge\"],[\"Verde Hostel Ilhabela\"],[\"Hostel Toca da Mor\\u00e9ia Bombinhas\"],[\"Leo's Clan Beach Hostel\"],[\"Che Pepe Hostel\"],[\"Ramon HostelBar\"],[\"Remo Hostel\"],[\"Hostel Matilda\"],[\"Beira Mar Hostel Centro\"],[\"Paradiso Bnb\"],[\"Soul Hostel\"],[\"Casa de Mainha Friendly Hostel\"],[\"Massape Rio Hostel\"],[\"CLH Suites Curitiba\"],[\"LaTaperaJeri\"],[\"Gaia Hostel\"],[\"Sea Wolf Surf Hostel\"],[\"Hostel Farroupilha\"],[\"Nomade In Arte e Hostel\"],[\"Tetris Container Hostel\"],[\"Stammtisch Hostel\"],[\"Na Praia - Family Hostel & Coworking\"],[\"Para\\u00edso do Caju House Hostel\"],[\"Garopaba - Cidade Baixa Hostel\"],[\"Hostel Campo de Pouso\"],[\"Belem Hostel\"],[\"Hostel Savassi\"],[\"Villa Hostel\"],[\"Namoa Castelinho\"],[\"Jos\\u00e9 e Maria Hostel Bar\"],[\"Hostel Boi Bumba\"],[\"Caf\\u00e9 Hostel\"],[\"Guanaan\\u00ed Hostel\"],[\"Hostel Poesia\"],[\"Pampulha Adventure Hostel\"],[\"Bada Hostel & Kite School\"],[\"Che Lagarto Hostel Foz do Igua\\u00e7u\"],[\"Solar63 Hostel\"],[\"Hostel Rio Guesthouse\"],[\"Ref\\u00fagio Hostel Fortaleza\"],[\"Rock! and Hostel\"],[\"Gadhega\\u2019s Hostel Salvador\"],[\"Pousada Morada do Sol - My Space\"],[\"Abrigo Lapinha\"],[\"Hostel Marraial\"],[\"Mindu GuestHouse\"],[\"Guappo Ch\\u00e1cara Hostel\"],[\"Hostel Anau\\u00ea\"],[\"Lulilo Hostel\"],[\"Casa Viva Paraty\"],[\"Vibe Hostel\"],[\"Local Hostel Manaus\"],[\"Lobo Urban Stay\"],[\"Did's Hostel\"],[\"Brit\\u00e2nico Su\\u00edtes e Hostel\"],[\"Pousada Tudo de Bom\"],[\"Maraca Hostel Rio\"],[\"Mambembe Hostel\"],[\"Barra Surf Hostel\"],[\"Hostel Carioca Buzios\"],[\"Hostel Ponto Praia\"],[\"Pousada Jardim Da Lagoa\"],[\"Bela Casa Quartos e Hostel\"],[\"Caracol Hostel\"],[\"Hello Hostel Design\"],[\"Viva Hostel Design\"],[\"Haleakala Hostel\"],[\"Solar Hostel B\\u00fazios\"],[\"Hostel SP011 Sao Paulo\"],[\"Geckos Hostel\"],[\"Freedom Hostel - MG\"],[\"Onca da Praia - Hostel\"],[\"HI Hostel Campo Grande MS\"],[\"Hostel Brasil Boutique\"],[\"Hostel Duarte Coelho\"],[\"O'Riley's Perdizes Hostel\"],[\"Concept Design Hostel\"],[\"Che Lagarto Hostel Porto de Galinhas\"],[\"Hostel Aloha Foz do Iguacu\"],[\"Hostel Frontier\"],[\"Garoa Hostel\"],[\"Sagui Hostel\"],[\"Green Haven Hostel\"],[\"Hospedaria da Gl\\u00f3ria\"],[\"Anhembi Hostel\"],[\"Estacao do Mangue Hostel\"],[\"Guaruja Ilha Hostel\"],[\"Mama Brasil Hostel\"],[\"Brazilodge All Suites Hostel\"],[\"Boa Viagem Hostel\"],[\"Casa da Lagoa Guest House\"],[\"Art Beach Hostel B\\u00fazios\"],[\"Linetur\"],[\"Iguassu Falls Hostel\"],[\"Namoa Paulista\"],[\"Hostel Aventurismus Chapada Diamantina - Lencois\"],[\"Se\\u00f1or Hostel\"],[\"Hostel Guaratingueta\"],[\"Hostel BH\"],[\"Hostel Da Ilha De Sao Francisco Do Sul\"],[\"Discovery Hostel\"],[\"Minas Hostel\"],[\"Vila Rock Hostel\"],[\"Hostel Sete Lagoas\"],[\"Moa Backpackers - Campeche\"],[\"Pantanal Backpakers\"],[\"Rio Forest Hostel\"],[\"Hostel Pousada do Tapajos\"],[\"Goiabada com Queijo Hostel\"],[\"Eco Hostel Instituto Pindorama\"],[\"Pousada Caminhos da Chapada\"],[\"Iguassu Eco Hostel\"],[\"Hostel Praia das Flexas\"],[\"Slow Hostel\"],[\"CityLights Hostel\"],[\"HI Floripa Hostel Centro\"],[\"Albergue Explorer\"],[\"Green House Hostel & Camping\"],[\"Floripa Surf Hostel\"],[\"Porto Alegre Eco Hostel\"],[\"Republika Hostel\"],[\"Arraial do Cabo Central Hostel\"],[\"Che Lagarto Hostel Copacabana\"],[\"Panorama Hostel EcoBackpackers\"],[\"Hostel Manga Rosa\"],[\"MOx Hostel Arraial d'Ajuda\"],[\"HI Diamantina Hostel\"],[\"HI Praia do Forte Hostel\"],[\"Pousada e Hostel Papagaio\"],[\"Mamma's Hostel\"],[\"Albergue Hostel Palmas\"],[\"Hostel In Rio Suites\"],[\"Surf Camp Pipa Hostel\"],[\"Hostel Canasvieiras\"],[\"Hostel Alice & Padoca Vegan\"],[\"Pauliceia Hostel\"],[\"HI Bonns Ventos Hostel\"],[\"Mais que Nada Hostel & Patio-Bar\"],[\"HI Hostel Chapada - Lencois\"],[\"Pontal Hostel\"],[\"Albergue Veraneio\"],[\"Surf Hostel Padang\"],[\"Iguassu Guest House\"],[\"Hostel Encantadas Ecologic\"],[\"Pura Vida Hostel Rio de Janeiro\"],[\"Hostel e Pousada Natureza Foz\"],[\"Che Lagarto Hostel Itacar\\u00e9\"],[\"HI Refugio do Pomar\"],[\"Campeche Hostel\"],[\"Casa Alto Vidigal\"],[\"Biergarten Hostel\"],[\"Books Hostel\"],[\"HI Arrecifes Hostel\"],[\"O de Casa Hostel Bar\"],[\"Albergue da Rose Hostel\"],[\"Albergaria Hostel\"],[\"Joinville Hostel E Pousada\"],[\"Pousada da Diva\"],[\"Beach Life Porto de Galinhas\"],[\"Che Lagarto Hostel Morro de Sao Paulo\"],[\"Sao Paulo Global Hostel\"],[\"Hostel Central Ilhabela\"],[\"Submarino Hostel\"],[\"Che Lagarto Hostel Buzios\"],[\"SugarCane Hostel\"],[\"Hostel Lobo Inn Buzios\"],[\"Olah Hostel - Vila Mariana\"],[\"Che Lagarto Hostel Paraty\"],[\"CabanaCopa Hostel\"],[\"Hostel Piratas do Sol Recife\"],[\"Guaruja Hostel\"],[\"Manaus Jungle Hostel\"],[\"Hostel New Ipanema\"],[\"Sampa Hostel\"],[\"Pousada S\\u00e3o Francisco de Assis\"],[\"Bamboo Rio Hostel\"],[\"Surfcamp Arara\"],[\"Open House Barra\"],[\"Tucano House Summer Hostel\"],[\"Hostel Galeria 13\"],[\"Hostel e Pousada El Shaddai\"],[\"HI Holandes\"],[\"Mango Tree Hostel Ipanema\"],[\"HI Manaira\"],[\"Hostel Manaus\"],[\"Trindade Sea and Forest Yoga Hostel\"],[\"Hostel Bambu\"],[\"Walk On The Beach Hostel\"],[\"Tupiniquim Hostel\"],[\"Pousada e Hostel Ancora\"],[\"HI Marina dos Anjos\"],[\"O Sorriso do Lagarto\"],[\"Che Lagarto Hostel Ilha Grande\"],[\"Imbassai Eco Lujimba\"],[\"Pousada Daime Sono - Lencois\"],[\"Pousada Favelinha\"],[\"HI Paudimar Falls\"],[\"Aquario Hostel Bar & Night Club\"],[\"Albergue da Costa Hostel\"],[\"Ipanema Beach House\"],[\"Nega Maluca Guesthouse\"],[\"Che Lagarto Hostel Ipanema\"],[\"HI Laranjeiras\"],[\"Selina Aurora SP\"],[\"Sonho de Iracema Hostel Boutique\"],[\"Innbox - Centro\"],[\"Numa Boa Hostel\"],[\"Selina Floripa\"],[\"Family Backpackers Cabo Frio Hostel\"],[\"Tropicalia Hostel\"],[\"Hostel Chapada Dos Guimar\\u00e3es\"],[\"Hostel Casa de Paix\\u00e3o\"],[\"Way Up Hostel\"],[\"Pousada Galeria Artes\"],[\"Hostel Casa Azul\"],[\"Hospedagem Perllas Hostel Pinda.ba\"],[\"Hostel Nos Veremos Otra Vez\"],[\"Quiron Hostel\"],[\"DiCasa Hostel\"],[\"Selina Madalena Sao Paulo\"],[\"Vila Santa Eulalia Hostel\"],[\"Social Hostel\"],[\"OuroPreto Hostel\"],[\"DS Hostel\"],[\"Itauna Hostel\"],[\"Hostel das Cores\"],[\"Reserva do Tombo Lounge Hostel\"],[\"Hostel Lapa 166\"],[\"Dax Bombinhas Hostel\"],[\"Massambaba Hostel\"],[\"Innbox - Canasvieiras\"],[\"Enseada Hostel\"],[\"Casa Recreanext\"],[\"Hostel Cape Town\"],[\"Aquarela Hospedaria\"],[\"Cantinho dos Acores\"],[\"Selina Lapa Rio de Janeiro\"],[\"Flow Hostel Juquehy\"],[\"Don Pregui\\u00e7a\"],[\"Hostel da Milla\"],[\"DPM Eco Hostal\"],[\"Palmas Hostel\"],[\"Hostel California Caf\\u00e9 Bar\"],[\"Acasarosa Hostel\"],[\"Casa Hostel Floresce\"],[\"Hostel Cacari\"],[\"Hospedaria Rio\"],[\"Parnaiba Hostel\"],[\"Pousada Thiany\"],[\"Kasa Hostel Bar e Karaoke\"],[\"Casa Toscano\"],[\"Br Hostel\"],[\"Ilha Hostel\"],[\"Mangamel Hostel\"],[\"Hostel Home Eireli\"],[\"Hostel Lencois Park\"],[\"Dom Alberto Hostel\"],[\"Bamboo Buzios Hostel\"],[\"Innbox - Praia do Rosa\"],[\"Reviver Hostel\"],[\"Mambembe Ilha Grande\"],[\"La Casa Hostel\"],[\"Hostel e Pousada Boa Vista\"],[\"Farofa Loca Hostel & Suites\"],[\"Bonabrigo Hostel\"],[\"Kaimana Hostel\"],[\"Eleganz Hostel & Suites\"],[\"\\u00d4vibe Party Hostel & Arts\"],[\"Hostel Barra\"],[\"Vila Moa\"],[\"Canto dos Artistas\"],[\"Hostel Casarao 65\"],[\"Muiraquit\\u00e3 Residence\"],[\"Hostel Tribos Livres\"],[\"Porto de Cima Surf Hostel\"],[\"Porto das Palmeiras Hostel\"],[\"Meu Hostel\"],[\"Hostel Berghaus\"],[\"Casa Swell\"],[\"Estacao Indaia\"],[\"Zinga Beach Hostel & Beer\"],[\"Casamatta Hostel\"],[\"Casa Terra Hospedagem\"],[\"Savana Hostel\"],[\"Tanan Hostel\"],[\"Piratas do Morro Pousada e Hostel\"],[\"Porto Alegre Hostel Boutique\"],[\"Hostel Central\"],[\"Hostel Casarao\"],[\"Hostel Boipeba Surf\"],[\"Apiaka Hostel\"],[\"Hostel Tiradentes\"],[\"Free Hostel\"],[\"Casarao Hostel\"],[\"Acquarela Hostel\"],[\"Um Hostel\"],[\"Bonito Hostel\"],[\"Hostel Chale Mineiro\"],[\"Hostel Vivacre\"],[\"Maraga Beach Hostel\"],[\"Beer Hostel Ilhabela\"],[\"Vila Hostel\"],[\"Hostel Chocolatche\"],[\"Drifter Hostel\"],[\"Rolds Hostel\"],[\"Hostel Boedo\"],[\"Pousada Navio Hostel & Camping\"],[\"Hostel Refugio\"],[\"Hostel Vila Praiana\"],[\"Hostel Central Brasil\"],[\"Hostel Surf Paradise\"],[\"Coco Knots Kite Lodge\"],[\"World Hostel Canasvieiras\"],[\"A Coroa Hostel\"],[\"Canto Cai\\u00e7ara Hostel\"],[\"Raizes Eco Hostel\"],[\"Villa 25 - Hostel & Suites\"],[\"Oceano Azul Bed and Breakfast\"],[\"Guantanamera Hostel\"],[\"Kiwi Hostel & Lounge\"],[\"Ref\\u00fagio N\\u00f4made Hostel\"],[\"Le House Hostel\"],[\"Hostel Da Bruna Botafogo\"],[\"Caxinguele\"],[\"Pantanal Hostel Safari Tours\"],[\"Hostel Sereia do Mar\"],[\"Lagarto na Banana\"],[\"Ipanema Beach Hostel\"],[\"Metro Hostel SP\"],[\"Pipa Peace Hostel\"],[\"Aquarela do Leme\"],[\"Hospedaria Green\"],[\"Positive Hostel\"],[\"Natural Do Rio  Guesthouse\"],[\"Mandala Hostel\"],[\"Albergue de Lencois Backpackers\"],[\"Hostel By Hotel Galicia\"],[\"Hostel Uai\"],[\"Hostel Mandala\"],[\"Pousada Sol de Itamambuca\"],[\"Noosa Brasil Surf Republic\"],[\"Saqua Beach Hostel\"],[\"Hostel Pousada do Alemao\"],[\"Social Hostel\"],[\"Villa Guest House and Hostel\"],[\"Hostel e Pousada Casa de Chica\"],[\"Pup Hostel SC\"],[\"Mamangua Beach Hostel\"],[\"Hostel Nirvana\"],[\"Quatro Ilhas Beach Hostel\"],[\"Rephostel\"],[\"Universo Pol Bamboo Hostel\"],[\"Hostel da Vila\"],[\"Iguassu Eco Hostel - Backpackers\"],[\"Blue Magic Hostel\"],[\"Hostel W3\"],[\"Hostel Blau Hause\"],[\"Pampulha Hostel\"],[\"El Misti Hostel Ipanema\"],[\"Jeri Kite Surf Hostel\"],[\"Mad\\u00e1 Hostel\"],[\"Palma Hostel\"],[\"Pipa Pura Vida\"],[\"Ohanalu\"],[\"Oxe Hostel\"],[\"Rio World Connection Hostel\"],[\"Casa Amarela\"],[\"Casa Andalucia\"],[\"Namorada Brava Guest House\"],[\"Mar e Sertao\"],[\"Floripa Beach House Hostel\"],[\"Makeba\"],[\"Chez Zany - Copacabana\"],[\"Blu Hostel\"],[\"Hostel Sao Xico\"],[\"Hostel Quintal de Casa\"],[\"N\\u00f4mades Beach Hostel\"],[\"Hostel Peditrilha - Chapada Diamantina\"],[\"Green Haven Ilha Anchieta\"],[\"Paraiso Das Conchas Hostel\"],[\"I Love Hostel Rio\"],[\"Hostel Kaizen\"],[\"Hostel Dela\"],[\"Vulva Cara\\u00edva Hostel & Pousada Feminino\"],[\"Youse Hostel\"],[\"Morada City Hostel\"],[\"Golden Garden Hostel\"],[\"Lulle Hostel\"],[\"Abaporu Art Hostel\"],[\"Insta Hostel Floripa\"],[\"Tamboleiros Hotel & Hostel\"],[\"Pousada Joaquina 433 Floripa\"],[\"Lagomar Hostel\"],[\"Hostel Maresia Paraty\"],[\"Tubiba Hostel\"],[\"Get Up Hostel\"],[\"Central Hostel\"],[\"Aurora Hostel Rio\"],[\"Local Hostel Novo Airao\"],[\"No Worries Pipa\"],[\"Praieira Hostel\"],[\"Conceitual Hostel Natal\"],[\"Nuna Hostel Floripa\"],[\"Hostel Pelo Mundo\"],[\"Casulo Hostel Guest House\"],[\"Hostel Holly Land\"],[\"Coyote Pousada & Hostel\"],[\"Hostel do Rasta\"],[\"Casar\\u00e3o das Figueiras Hostel\"],[\"Oncoto Palmas Hostel\"],[\"Nuh Hostel - Lourdes\"],[\"Hostel Gentileza - Guest House\"],[\"Catavento da Pipa Pousada & Hostel\"],[\"Friends Forever Hostel\"],[\"Hostel & Camping Cavalcante\"],[\"CasAMARelo Hostel\"],[\"Lapa Casa\"],[\"Hostel Jabuticaba\"],[\"Guest House Vida Vibra\"],[\"Hostel Da Jo\"],[\"Oh! Madalena Hostel\"],[\"Tranquilandia Hostel\"],[\"Le Chat Qui Peche Hostel\"],[\"Fujima Hostel\"],[\"Floriarte Guest House\"],[\"Happy Paradise Hostel\"],[\"Canoa Roots Hostel\"],[\"Salve Maloca Hostel\"],[\"Rio Hostel 40 Graus\"],[\"Projeto Lontra\"],[\"Matianellu\"],[\"Soul Lounge Hostel\"],[\"The Eco Palace Hostel\"],[\"Hostel Villa Virtudes\"],[\"Hostel Teodoro\"],[\"Chill Inn Hostel & Pousada Centro\"],[\"Rodrigo Hostel Campestre\"],[\"CasaMar Maraca\"],[\"Sea Wolf Hostel Lagoa da Concei\\u00e7\\u00e3o\"],[\"Casa Kare\"],[\"Rodrigo Hostel Suites\"],[\"Hostel Pousada Flor de Paris\"],[\"Espaco Vaidya Pousada\"],[\"Man's Place Hostel Masculino\"],[\"Pelotas Bier Hostel\"],[\"Bahia Pelo Hostel\"],[\"Recanto do Cajueiro\"],[\"Sunflower Hostel\"],[\"Hostel Barra 161\"],[\"Americo Hostel\"],[\"Pedramarca Hostel Club\"],[\"Hostel LB\"],[\"Hostel Terra do Sol\"],[\"Bela Curitiba Hostel\"],[\"Fiko na Pituba\"],[\"Grande Familia Hostel\"],[\"Ooxe Hostel\"],[\"Aldeia Hostel\"],[\"Hostel Caminho da Cachoeira\"],[\"Hostel Engenho do V\\u00f4\"],[\"Maktub Hostel Prea\"],[\"Navio Hostel & Camping\"],[\"Friends e Hostels\"],[\"More Ipanema Hostel\"],[\"Hostel Farol da Barra\"],[\"Hostel Airport Rooms\"],[\"Ruda Hostel & Suites\"],[\"Guara Hostel\"],[\"Hostel Castelo Branco\"],[\"Manero Hostel\"],[\"BahakaJeri\"],[\"Fin Soul House\"],[\"Hostel Lize\"],[\"Samo Hostel\"],[\"Hostel Praia 102\"],[\"Casa Ecotrips Barra Funda\"],[\"Residencia 346\"],[\"Gup Hostel\"],[\"Costa Terral\"],[\"Tropicalia Hostel\"],[\"Shangri-La Hostels\"],[\"UP2! HostelBar\"],[\"Ammonite Hostel - Itacare\"],[\"Vidigal Hostel\"],[\"Easy Hospedagem\"],[\"JO&JOE Rio de Janeiro Largo do Botic\\u00e1rio\"],[\"Lila Limao Hostel\"],[\"Meu Mundo Hostel Bar\"],[\"Hope Hostel\"],[\"Curvao Surf House\"],[\"Pousada&Hostel Bahia\"],[\"Ipanema Club Hostel\"],[\"Villa Nevada Hostel\"],[\"Hostel Music and Sports\"],[\"Soul do Mar Hostel\"],[\"Hostel Morocha\"],[\"Graffi Beach Hostel\"],[\"Surf Base Hostel\"],[\"Hostel do C\\u00e9u\"],[\"Iduna Hostel\"],[\"Voil\\u00e0 Hostel\"],[\"Selina Buzios\"],[\"Georges House\"],[\"Welcome SP Hostel - Aeroporto de Congonhas\"],[\"EcoVille Organic Life\"],[\"Porto Paraiso Hostel Pe Na Areia\"],[\"Patz Houz Hostel\"],[\"Barra Porto - Suites & Hostel\"],[\"Frida Hostel\"],[\"Selina Bonito\"],[\"Solar Hostel Parna\\u00edba\"],[\"Red\\u00e1rio Gengibre Hostel Hammocks to Sleep in Alca\"],[\"Art\\u00e8E Hostel B\\u00fazios\"],[\"Selina Foz\"],[\"Praia Virgem Hostel\"],[\"Espa\\u00e7o Primatas\"],[\"Santo Hostel\"],[\"Chales Toatoa em Pipa\"],[\"Hostel Recanto da Sol\"],[\"O Brejo Encantado Hospedagem e Hostel\"]],\"hovertemplate\":\"type=HOSTEL\\u003cbr\\u003elatitude=%{lat}\\u003cbr\\u003elongitude=%{lon}\\u003cbr\\u003ename=%{customdata[0]}\\u003cextra\\u003e\\u003c\\u002fextra\\u003e\",\"lat\":[-22.7575705,-23.1416425,-3.8491694,-2.5254809,-23.5577317,-22.969251,-23.6063288,-30.0217658,-6.2369011,-9.489086,-22.9154491,-3.7429023,-9.0088341,-13.0023907,-21.7260092,-12.9501243,-13.0120577,-23.7792258,-29.3373844,-22.9848985,-27.5762487,-26.2506215,-6.2368174,-16.4419764,-9.0155009,-19.8588742,-22.7638018,-27.600239,-23.4098263,-23.5526186,-13.3819554,-22.980119,-2.5790624,-22.9152242,-26.9956962,-3.6295403,-14.2798459,-2.760617,-23.4713016,-23.5359036,-23.0310266,-15.7807902,-2.748265,-23.3191199,-23.4631763,-20.383841,-7.0628198,-23.553165,-23.4521944,-22.898504,-23.8425633,-13.0049492,-23.5594465,-27.3963317,-18.9181871,-23.576624,-23.7116762,-2.7491617,-27.1556094,-13.3925136,-27.7506223,-22.929341,-23.4357159,-27.573363,-23.6128189,-21.7064937,-23.572749,-23.8165838,-23.0264177,-8.11562,-22.9190958,-27.6869925,-27.5813042,-23.1421157,-2.5206514,-23.8029668,-22.968109,-27.609296,-24.187109,-27.1508299,-26.91244,-27.6051972,-22.9846712,-22.7625357,-22.9163158,-5.87039,-28.1213102,-29.1628578,-20.754514,-25.3869797,-2.7952786,-8.1327612,-12.896287,-23.5649656,-15.4591174,-13.0093557,-27.1499513,-23.217245,-23.5538689,-23.586203,-23.573254,-23.560125,-23.6323554,-3.0119471,-27.784801,-3.7493058,-23.5313129,-27.5729068,-12.5632502,-22.9792775,-23.0345918,-23.141695,-29.3623512,-23.2179308,-14.2766606,-29.3544078,-27.592124,-3.0889734,-8.0480714,-28.0741905,-23.7586735,-23.8128967,-27.1480104,-23.216368,-6.229394,-8.1294208,-23.2441976,-25.426691,-27.5799088,-23.5491096,-23.5637334,-12.970246,-22.9102333,-25.4435735,-2.7955681,-22.954113,-27.575191,-20.749801,-23.579372,-25.5502494,-26.8967037,-23.4430542,-2.759708,-28.0279512,-22.776776,-1.449969,-19.9359499,-23.545889,-23.5833454,-20.3822717,-7.11834,-12.9675252,-20.3186267,-25.5620367,-19.8575314,-3.62829,-25.5365692,-30.0396098,-22.9624384,-3.7257202,-19.9459455,-12.9709619,-3.7221119,-19.564197,-16.489799,-3.0782198,-22.579827,-25.5581107,-23.5431366,-23.2155556,-23.2222324,-3.1306184,-23.559925,-23.5695882,-29.3757283,-22.7743514,-22.91855,-22.9161716,-27.574725,-22.7588011,-27.5767574,-27.61424,-23.1443171,-27.6056416,-31.7591,-23.5486034,-28.1250876,-22.777487,-23.5440981,-27.6019444,-20.3866878,-20.2908458,-20.4665103,-23.5552934,-8.0180582,-23.5339061,-25.5542653,-8.5070989,-25.5530556,-25.5071491,-23.5660163,-27.6756534,-23.4182208,-22.922347,-23.5068527,-8.1281933,-23.9950449,-23.5579167,-23.5861137,-8.1100604,-22.7749449,-22.7753304,-15.8543667,-25.598254,-23.5649656,-12.5629294,-26.9567846,-14.235,-19.9111783,-26.2124337,-22.9204996,-19.9070818,-23.5507864,-19.4565516,-27.6624725,-15.5983,-22.9165384,-2.502384,-20.3865039,-22.296819,-12.5139199,-25.609356,-22.9048979,-7.1072061,-23.5618988,-27.5905918,-28.1345335,-25.5448054,-27.6927854,-30.0394594,-5.8718685,-22.9674369,-22.9641456,-27.599101,-25.4907558,-16.491691,-18.2383175,-12.5778227,-13.3796141,-29.1896561,-10.1826086,-22.934878,-6.2301308,-27.4310828,-23.5475579,-23.555467,-23.8158333,-14.2774924,-12.5639197,-23.030972,-3.7670038,-28.1890965,-25.5344804,-25.5696057,-22.9805466,-25.5303636,-14.2798112,-29.4867866,-27.6756591,-22.995788,-23.1415414,-22.9145681,-8.1401532,-23.5606513,-6.2304802,-3.7221898,-26.2903141,-24.552743,-8.507023,-13.379004,-23.579777,-23.8128678,-27.598427,-22.7588011,-6.2302788,-22.770735,-23.5791499,-23.218484,-22.963028,-8.1287044,-23.980351,-3.1337942,-22.9836101,-23.5544168,-12.9678473,-22.968464,-6.230777,-13.0042807,-27.601016,-12.973731,-25.535531,-23.1442228,-22.9852334,-7.1053848,-3.133578,-23.3487912,-25.5447915,-22.971768,-22.954917,-27.5813742,-22.973009,-20.3832694,-23.1414896,-12.487782,-12.5626721,-22.9285757,-25.5498756,-23.1409947,-5.8700643,-22.9831533,-12.967763,-22.9845323,-12.9740753,-23.5420508,-3.7193874,-27.598841,-22.7734071,-27.602144,-22.8935679,-12.5624785,-15.4571593,-16.8075461,-27.5821559,-21.1208114,-23.6085091,-22.9425142,-22.759039,-16.5950405,-10.1789836,-23.5567456,-31.7773658,-22.9868171,-20.3868223,-22.9214873,-22.932931,-7.204928,-24.0158662,-22.9122477,-27.1530656,-22.9721455,-27.4341296,-22.9750599,-27.438543,-29.0504435,-2.7593375,-27.778753,-22.914374,-23.7666182,-2.502506,-2.0476682,-13.3781778,-10.1931768,-23.56018,-29.198243,-28.1241027,2.8453402,-22.9470657,-2.9110154,-29.171441,-26.9829043,-23.0244194,-19.9358061,-3.8403973,-12.5658046,-23.569414,-2.7554611,-18.9993298,-22.7555953,-28.1256666,-2.5286728,-23.1428151,-22.9707354,-8.0500393,-13.3844744,-26.9909258,-28.129304,-29.3801104,-1.4540764,-11.568946,-8.554429,-8.0171808,-13.0052813,-4.527256,-29.3910033,-13.3796187,-13.0035104,-9.6268256,-27.6085006,-3.8451427,-23.8164112,-27.4436857,-15.8515145,-27.6521587,-14.1759615,-2.5038957,-13.381221,-30.0216601,-26.9881356,-20.61487,-13.5908669,-3.0675969,-21.1063209,-6.2325439,-23.1439069,-22.9751139,-22.5061111,-21.1228651,-19.922024,-9.9503689,-9.0166388,-23.7793844,-3.8423176,-29.377332,-23.7682985,-23.9648579,-22.7641195,-14.2764321,-23.143641,-22.966525,-22.9104927,-27.902147,-2.8806775,-27.430382,-22.977563,-23.2016492,-2.9107417,-22.9312134,-27.6308905,-28.1349897,-3.6240992,-21.710815,-22.9609276,-22.9578561,-23.788398,-15.5965566,-23.207114,-6.2393846,-22.9849018,-23.5012779,-6.23369,-22.9605445,-27.4521772,-26.9727902,-22.9962852,-2.7954655,-12.5603278,-22.910652,-20.3859591,-25.549924,-23.4059286,-22.9747383,-22.9324342,-25.5607008,-25.4437829,-27.675914,-8.0168819,-27.5755889,-23.262683,-24.8037727,-27.153669,-20.2365832,-13.38435,-23.778813,-25.609356,-27.5790749,-15.7519374,-26.9279804,-19.8588791,-22.9850647,-2.7952414,-23.5578239,-2.5300149,-6.230153,-24.1883564,-13.6068461,-22.9170394,-7.0967312,-27.4283852,-22.7522298,-9.6528286,-27.6509938,-6.2294024,-22.9716226,-26.9074053,-22.9113633,-25.5009088,-27.576057,-12.5632247,-23.55,-22.8554274,-22.8955104,-25.4195733,-21.1135097,-16.8082128,-23.5603241,-23.554731,-23.4518845,-23.6215527,-27.5874762,-27.5768295,-12.9702236,-27.6122944,-27.7508857,-23.2187748,-8.7533808,-5.8831902,-22.9085842,-22.9545478,-2.6246454,-6.231521,-14.2781053,-5.867506,-27.6035057,-22.9689633,-8.5260945,-2.499687,-25.5598184,-13.013446,-29.1618897,-10.1783697,-19.926707,-14.1342524,-6.2313496,-23.5546973,-13.7981289,-13.0049035,-22.915182,-19.9120656,-23.40183,-14.8223523,-23.5587847,-14.2784494,-9.6724936,-23.5539507,-27.4278684,-5.8850191,-4.5293396,-3.7324,-22.9289122,-27.735627,-22.9740215,-2.4837165,-22.7740891,-20.668319,-23.555671,-23.2225336,-21.1210421,-8.5263459,-27.6048257,-14.2815189,-21.1315476,-9.462011,-12.6257481,-30.0368496,-31.7712873,-12.969188,-9.6317096,-22.927944,-13.0092213,-2.5297431,-28.0731813,-2.5589194,-16.3807452,-25.4423444,-14.2796128,-23.5554051,-14.2810802,-3.1290031,-27.6056467,-22.7556034,-2.814553,-14.2764719,-19.9110616,-22.984542,-27.5747931,-23.6373811,-14.2810047,-2.5275976,-3.7234648,-5.8769755,-2.7952653,-23.4387284,-23.4493579,-6.2335,-23.4372816,-23.5236129,-2.5280379,-25.4268992,-25.7863545,-14.2793055,-13.8937862,-3.6304562,-14.2810514,-22.9973307,-27.5741849,-22.9394266,-23.1412649,-14.281077,-20.7358933,-23.9860788,-30.0271859,-22.9854695,-6.7539233,-23.5361607,-22.881633,-9.6522298,-27.702304,-23.401587,-6.2296023,-6.2335174,-27.5883581,-22.7489147,-3.8461483,-23.6235,-23.3096262,-8.4832038,-27.5712368,-13.0049005,-2.797981,-21.1243769,-2.9073029,-2.4048912,-22.756913,-25.5468272,-22.5309949,-2.9139551,-23.2206756,-6.2322637,-24.0119811,-23.6325177],\"legendgroup\":\"HOSTEL\",\"lon\":[-41.8879341,-44.1613715,-32.4200741,-44.2996931,-46.6555705,-42.0202745,-46.6464588,-51.1923934,-35.046172,-35.5757479,-43.2303264,-38.505784,-42.6821801,-38.5282633,-44.9628115,-38.3670897,-38.5007423,-45.3578064,-49.7241723,-43.2204522,-48.4215725,-49.3837031,-35.0486292,-39.0689886,-35.2225019,-43.9759936,-41.8925686,-48.4713319,-45.0148326,-46.6778113,-38.910348,-43.189949,-42.7520562,-43.2285606,-48.6311527,-38.7259365,-38.9913211,-42.274485,-46.5357441,-46.6412999,-43.478632,-47.8900402,-42.825796,-46.7858719,-45.0625176,-43.5029453,-34.8415987,-46.635617,-45.0667503,-43.17803,-46.134459,-38.5329502,-46.6634883,-48.4284972,-48.2796278,-46.64005,-45.4265222,-42.8280957,-48.5445206,-38.9349598,-48.5101311,-42.038911,-45.0737664,-48.426848,-46.6749192,-47.2723122,-46.641798,-45.3660284,-43.4782795,-34.897107,-43.1798615,-48.4837044,-48.4294047,-44.1672561,-54.9341198,-45.399081,-42.0213189,-48.442717,-46.79278,-48.4851101,-49.0711089,-48.4676514,-43.2196461,-41.8949999,-43.1772025,-35.184442,-48.6509482,-51.1890852,-42.8823637,-49.1996137,-40.517241,-34.904266,-41.318896,-46.6548632,-55.7442034,-38.5248136,-48.4998256,-44.719704,-46.6590483,-46.6458131,-46.654872,-46.688848,-46.6935393,-60.0968564,-48.5336171,-38.4495835,-46.652317,-48.4270195,-41.391576,-43.1911108,-44.1762626,-44.167413,-50.8102518,-44.7191244,-38.9863455,-50.8146697,-48.5445953,-60.0618138,-34.8799683,-48.6264373,-45.6200336,-45.3658638,-48.481949,-44.7152245,-35.050072,-34.9033351,-44.6453208,-49.2717348,-48.5369054,-46.6800991,-46.6517108,-38.489853,-43.183958,-49.2770363,-40.513851,-43.1864509,-48.4232743,-49.319818,-46.644863,-54.5731703,-49.0890884,-45.0689773,-42.8277,-48.6194157,-41.9118922,-48.495314,-43.939926,-46.6873488,-46.6376991,-43.5040785,-34.827054,-38.5065914,-40.3389238,-54.5688392,-43.9587364,-38.7250104,-54.5869604,-51.2186785,-43.1694713,-38.5220141,-43.9412071,-38.5059072,-38.5177955,-43.941766,-39.073442,-60.0038317,-46.521159,-54.5738778,-46.4560941,-44.72,-44.7167175,-60.0215591,-46.663772,-46.6566385,-50.8639043,-41.9301452,-43.2378164,-43.1810372,-48.4273907,-41.8886072,-48.425237,-48.462924,-44.1679036,-48.4689863,-52.336922,-46.6930402,-48.6527155,-41.90522,-46.6897675,-48.4641667,-43.5008034,-40.2940439,-54.6286323,-46.6909933,-34.8529301,-46.6709612,-54.5698685,-35.0055371,-54.5736111,-54.5888749,-46.6962472,-48.4866409,-45.0600992,-43.177291,-46.6275258,-34.9063069,-46.2561535,-46.6505208,-46.6435764,-34.8942125,-41.9068422,-41.9215101,-47.9531641,-54.569145,-46.6548632,-41.3897187,-48.6302561,-51.92528,-43.957248,-48.5286817,-43.1777581,-43.954053,-46.6755325,-44.2491166,-48.4932661,-56.1044,-43.1831796,-54.956476,-43.5063956,-42.469942,-41.5749877,-54.480288,-43.1243634,-34.827793,-46.6932839,-48.558345,-48.6482977,-54.580374,-48.4863194,-51.2215273,-35.1840806,-42.0258742,-43.1784432,-48.466971,-54.5717425,-39.072685,-43.6061677,-38.0082846,-38.9176673,-51.1914404,-48.3402109,-43.180026,-35.0473324,-48.4579796,-46.6918179,-46.653946,-45.37,-38.9915584,-41.3899988,-43.4777331,-38.4408681,-48.6637003,-54.5900589,-48.3141666,-43.1921835,-54.5894574,-38.9919512,-50.7299709,-48.5043815,-43.242133,-44.1685638,-43.182605,-34.914025,-46.6902935,-35.049337,-38.5107356,-48.8403311,-48.680655,-35.004415,-38.91742,-46.646288,-45.3672507,-48.4640488,-41.8886072,-35.0492905,-41.912047,-46.6360448,-44.716926,-43.180694,-34.9049728,-46.227532,-60.0198357,-43.2012085,-46.6900444,-38.5059429,-43.1907066,-35.0476626,-38.5289593,-48.465521,-38.5081848,-54.590819,-44.1656442,-43.2023853,-34.8329849,-60.018467,-44.7262311,-54.5803912,-43.190689,-43.186521,-48.4349671,-42.0222861,-43.5009624,-44.1614466,-37.9587241,-41.3894465,-43.1939042,-54.5847129,-44.1612095,-35.1819496,-43.2087479,-38.506624,-43.21411,-38.5084839,-46.6437252,-38.5134978,-48.549769,-41.9158094,-48.4368664,-42.029562,-41.3886524,-55.7468418,-39.149169,-48.5253959,-56.4972839,-46.6415024,-45.4202884,-41.890756,-39.1036727,-48.3457728,-46.687821,-52.3452687,-43.1910998,-43.5013616,-43.2146887,-42.4816736,-39.319218,-46.2770627,-43.185806,-48.5020939,-42.0306765,-48.4602239,-42.022185,-48.484279,-50.1417544,-42.8272649,-48.528965,-43.178733,-45.736382,-54.9554149,-60.0210493,-38.9172253,-48.3610134,-46.678092,-49.954787,-48.6496915,-60.653801,-43.1852896,-41.7689465,-51.5040105,-48.641508,-44.3474266,-43.9399023,-32.4107429,-41.3903525,-46.7086608,-42.8247196,-57.6566488,-41.8887118,-48.6545201,-44.3051449,-44.1702657,-42.0284376,-34.892071,-38.9186618,-48.6406138,-48.6560679,-50.8763364,-48.4886369,-39.278325,-35.0135804,-34.8512824,-38.5273491,-37.702459,-49.7792399,-38.9175552,-38.5304541,-35.6960225,-48.5476826,-32.4062672,-46.0460031,-48.3824662,-48.9483777,-48.4726562,-47.8127944,-44.294072,-38.91123,-51.2105669,-48.6321135,-46.05091,-38.9261556,-60.0041733,-44.1744499,-35.0452882,-44.1690439,-42.0227361,-43.1836111,-56.5017819,-43.9153229,-67.8188132,-35.2231292,-45.3581169,-32.4114075,-50.874674,-45.6936388,-46.3500725,-41.8947579,-38.9909063,-44.166562,-42.028547,-47.0684361,-48.5936592,-39.9099207,-48.458935,-42.026227,-44.7212078,-41.4041521,-43.1803035,-48.4722901,-48.6596241,-38.7484359,-41.093466,-43.1694951,-43.1843075,-45.361111,-56.0987701,-44.7177698,-35.0440688,-43.2144252,-46.6188794,-35.0432809,-43.1701791,-48.411974,-48.6371576,-43.2405869,-40.513769,-41.3863028,-43.18736,-43.501211,-54.5755907,-45.0149811,-42.0283391,-42.5202901,-54.5718315,-49.2752264,-48.5042748,-34.8510657,-48.5373611,-44.635289,-47.6344299,-48.484205,-40.2736214,-38.918856,-45.356863,-54.480288,-48.4320111,-47.8954,-49.0420022,-43.9758682,-43.2050437,-40.5160131,-46.6907639,-44.3042727,-35.0474271,-46.8180871,-38.91218,-43.1785591,-34.8431192,-48.4596944,-41.8766092,-35.7057142,-48.4752519,-35.0500496,-43.190928,-49.0808114,-45.9589515,-54.5546564,-48.42852,-41.3863114,-45.066667,-41.9900914,-43.2293449,-49.2734204,-44.1605349,-39.1482031,-46.7113914,-46.692716,-45.0658565,-46.6633951,-48.541205,-48.5277021,-38.5079237,-48.4434595,-48.5116315,-44.7200078,-35.0934551,-35.1786867,-43.1921099,-43.1940323,-60.9443704,-35.047462,-38.9971665,-35.1818347,-48.4656237,-43.1902778,-35.0099238,-43.2506791,-54.5709235,-38.4829706,-51.1786736,-48.3462239,-43.94574,-47.5152239,-35.0466307,-46.676627,-47.4450571,-38.532786,-43.1821136,-43.9697807,-45.015267,-39.0288686,-46.6872518,-38.9925455,-35.7185476,-46.6354446,-48.4033123,-35.177567,-37.7018119,-38.46158,-43.1771891,-48.5153697,-43.1932616,-44.2490907,-41.8933792,-40.493912,-46.674742,-44.7255694,-56.4978779,-35.0101485,-48.4688482,-38.9887143,-56.483125,-35.550904,-41.491316,-51.2207831,-52.3403946,-38.50758,-35.6982966,-43.177103,-38.5305644,-44.3043957,-48.6271755,-44.2705383,-39.0358111,-49.2443734,-38.992187,-46.6539687,-38.9887654,-60.0216397,-48.5146887,-46.1484729,-40.41489,-38.9910635,-43.9766164,-43.214107,-48.4222308,-46.6588602,-38.9899764,-44.3001579,-38.5213872,-35.1803098,-40.5130031,-45.0717292,-46.474488,-35.0458,-45.0787888,-46.6663887,-44.2948189,-49.2540036,-48.5205197,-38.9942432,-38.9500478,-38.7206589,-38.9899196,-43.2409966,-48.5344167,-43.2013159,-44.170279,-38.9887641,-40.5356404,-46.2270201,-51.2148647,-43.2055648,-35.635807,-46.6519784,-42.02045,-35.7056666,-48.4950678,-45.015615,-35.050813,-35.0433543,-48.5249885,-41.8813487,-32.414094,-46.66383,-44.7503096,-34.9997368,-48.4304649,-38.5320978,-40.5144769,-56.4856638,-41.7744049,-44.4166224,-41.887247,-54.5796466,-41.929504,-41.4026641,-44.7188833,-35.0555929,-46.2797737,-46.8822714],\"marker\":{\"color\":\"#EF553B\"},\"mode\":\"markers\",\"name\":\"HOSTEL\",\"showlegend\":true,\"subplot\":\"mapbox\",\"type\":\"scattermapbox\",\"textposition\":\"top center\"},{\"customdata\":[[\"Hostel Porto Maravilha\"],[\"Pousada Cores de Buzios\"],[\"Pousada California\"],[\"Mar\\u00e9 Mansa Pousada e Hostel\"],[\"Pousada Tupi\"],[\"Pousada Oasis\"],[\"Biotiful Bed & Breakfast\"],[\"Pousada Terral Surf\"],[\"Villa Isola Bella\"],[\"Rio Deal Guest House\"],[\"Da Praia Cara\\u00edva\"],[\"Hauzz Hostel\"],[\"Suites Jeri 360 Graus\"],[\"Pousada VelhoBateau\"],[\"Zeca 343\"],[\"Hostob - Vila Madelena\"],[\"JM Guesthouse Ipanema\"],[\"Casa Tribus Itamambuca\"],[\"Apto Copacabana\"],[\"Pousada do Atoba\"],[\"Cabane Paradis\"],[\"Host N\\u00b4Roll\"],[\"Pousada Lua Cheia\"],[\"Pousada Casa de Praia Trindade\"],[\"Hostel Pai Pai Jose\"],[\"Aldeia Itamambuca Chale Ubatuba\"],[\"Pousada Fairmont\"],[\"Pousada Maria Bonita\"],[\"Casa das Orquideas Foz\"],[\"Pousada Gale\\u00e3o\"],[\"Casa da Floresta\"],[\"Casa de Flor\"],[\"Pousada da Rosa\"],[\"Igua\\u00e7u Falls Room\"],[\"Capit\\u00e3o Gancho\"],[\"Cama, Caf\\u00e9 e Aventura\"],[\"Pousada Aventura\"],[\"Pousada Savoy\"],[\"Pousada Kasa dos Micos\"],[\"Eco Hostel Residencial Bananeiras\"],[\"Otedis Petrolina\"],[\"Pousada Vila Do Sossego\"],[\"Pousada Diamante\"],[\"Ocean Ipanema\"],[\"Casa Mihika\"],[\"Pouso de Carpa\"],[\"Pousada Villa do Sol Itacare\"],[\"Casa de Jorge - Lencois\"],[\"Cantinho de Geriba\"],[\"Casa do Abacateiro\"],[\"Pousada Alto da Lapa\"],[\"Pousada Aruana\"],[\"Pousada Viva\"],[\"Pousada Cuiaba\"],[\"Pousada Ribas\"],[\"Pousada Pequizeiro\"],[\"Pousada dos Girassois\"],[\"Pousada do Canal\"],[\"Pousada Kurumin\"],[\"Pousada Recanto dos Bentos\"],[\"Pousada Ideal Beach\"],[\"Pousada Manupi\"],[\"Recanto Verde Mata\"],[\"Residence Vila Europa\"],[\"Pousada Lavramor\"],[\"Pousada Passarte Rua Biquinha\"],[\"Pousada do Limoeiro\"],[\"Pousada Terra Sul\"],[\"Pousada do \\u00d3\"],[\"Pousada Internacional\"],[\"Pousada Taynara\"],[\"Pousada 21 de abril\"],[\"Pousada Papyrus\"],[\"Pousada Inconfidencia Mineira\"],[\"Pousada Fazenda Xal\\u00e9s de Maraca\\u00edpe\"],[\"Pousada Capit\\u00e3es de Areia\"],[\"Chal\\u00e9s Cavalo Marinho\"],[\"Zoya Bed and Breakfast\"],[\"Pousada da Seresta\"],[\"Familiar Accomodation\"],[\"Pousada Porto Tropical\"],[\"Pousada Cores do Mar\"],[\"Pousada dos Coqueiros\"],[\"B&B Botarezinha\"],[\"Pousada do Quiririm\"],[\"Pousada Rancho Hanna\"],[\"Pousada Casa de Pedra\"],[\"Pousada da Tammy\"],[\"Hotel Santa Clara Franca\"],[\"Favela Nova\"],[\"Hospedaria da Joatinga\"],[\"Pousada Beijo Mar\"],[\"Pousada Juscelino\"],[\"Hotel Farol de Galinhos\"],[\"Pousada Brisa do Mar - RN\"],[\"Pousada do Farol\"],[\"Pousada Crepusculo\"],[\"Hostel Pousada Tia Preta\"],[\"Pousada EcoJeri\"],[\"Pousada Lampiao e Maria Bonita\"],[\"Pousada Imigrantes Jabaquara\"],[\"Hotel Pousada Saudosa Maloca\"],[\"Residencial Castor\"],[\"Pousada Recanto da Piragui\"],[\"Pousada Pousada Willian Michaud\"],[\"Pousada Dona Tereza\"],[\"Pousada da Ilha\"],[\"Pousada e Restaurante Bella Ilha\"],[\"Pousada Recanto do Maruja\"],[\"Pousada Cost'Azul\"],[\"Pousada Centauro\"],[\"Pousada e Lanchonete Magal\"],[\"GoBrazil\"],[\"Pousada Acalanto Ilha Grande\"],[\"Pousada Topo Do Cipo\"],[\"Karaguashouse\"],[\"Maison Tordeur Bed & Breakfast\"],[\"Pousada Canto das Laranjeiras-Tombo\"],[\"Pousada Recanto da Villa\"],[\"B&B O Veleiro Bed and Breakfast\"],[\"Pousada do Sui\\u00e7o Parnaiba\"],[\"Green Mountain Pousada\"],[\"B&B  Barra da Tijuca\"],[\"Pousada Galo Sui\\u00e7o\"],[\"Bed & Breakfast Leblon Militza\"],[\"B&B Praia Leme\"],[\"B&B Lagoa Vitoria Regia\"],[\"B&B Botafogo Lilian\"],[\"Pousada Lanai Gramado\"],[\"B&B Copacabana Verde\"],[\"Pousada Vov\\u00f3 Idalina\"],[\"Natus Hostel\"],[\"Nice Surf House in Pituba\"],[\"Pousada Estalagem\"],[\"Pantanal Ranch Meia Lua\"],[\"Santo Mirante Hostel\"],[\"Pousada Bangalo\"],[\"La Aldea Zen Guesthouse\"],[\"Guest House Canto do Sabia\"],[\"Pousada Leste\"],[\"Mao Dupla Hostel\"],[\"Pousada Bella Casa, Foz do Iguacu\"],[\"Pousada Italia\"],[\"Sonja\\u00b4s Almh\\u00fctte\"],[\"Pousada Bicho Preguica\"],[\"Pousada Vila Bacana\"],[\"Pousada TonaPraia\"],[\"Marcia Bed and Breakfast\"],[\"Pousada Galoo\"],[\"Vista Bela Pousada\"],[\"U Surf Me\"],[\"Pousada Millennium 2\"],[\"Pousada Sudoeste Inn\"],[\"Pousada Abais\"],[\"Pousada Violeiro - Lencois\"],[\"Pousada Lua de Cristal - Lencois\"],[\"Pousada Piratas de Buzios\"],[\"Pousada Estacao do do Trem\"],[\"Pousada Atlantis\"],[\"Pousada Inn Brunello Paraty\"],[\"Bella Vista Village Buzios\"],[\"Pousada Bem-te-vi\"],[\"Pousada Alto do Cajueiro\"],[\"Pousada Brasil Tropical\"],[\"Pousada Baluarte\"],[\"Casa Cohiba\"],[\"Pousada Le Palmier\"],[\"Catarino's Guest House\"],[\"Pousada Indaia Eco Village\"],[\"Flat Mar do Cabo Branco\"],[\"Pousada Marcos\"],[\"Pousada Halai\"],[\"Rocinha Guest House\"],[\"Luiz Leblon Guest House\"],[\"Pousada P\\u00e9 na Estrada\"],[\"Pousada SR\"],[\"Pousada Paraguassu\"],[\"Pousada Ecoverde\"],[\"Pousada Ciranda\"],[\"Anacardium Vihara\"],[\"Pousada Caramanch\\u00e3o\"],[\"Vilage Capoeira\"],[\"Global Rio de Janeiro\"],[\"Hotel Pousada O Sol\"],[\"Pousada Manga Rosa\"],[\"Pousada Aldeia Portuguesa\"],[\"Pousada Brisa do Mar\"],[\"Pousada Carol\"],[\"Canto das Laranjeiras\"],[\"Pousada Mar e Terra\"],[\"Pousada Naquela Jericoacoara\"],[\"Pousada Surfing Jeri\"],[\"HospedaSalvador\"],[\"Bora Mora Bed and Breakfast\"],[\"Pousada Fiori di Mare\"],[\"Pousada Janellas do Mar\"],[\"Pousada D' Pillel\"],[\"Pousada Aldeia do Sol\"],[\"Pousada Santu\\u00e1rio da Madre\"],[\"Pousada Santa Trem\"],[\"Pousada Cabanas do Curupira\"],[\"Casa do Miguel\"],[\"Pousada Rios\"],[\"Pousada Bonaparte\"],[\"Pousada Casablanca\"],[\"Refron du Mar Bed & Breakfast Paraty\"],[\"Pousada Cheia de Onda\"],[\"Eco Pousada Miriti\"],[\"Casa Mango Mango\"],[\"Condominio dos Nativos\"],[\"Pousada dos Corais\"],[\"Pousada da Cachoeira\"],[\"Pousada Paloma\"],[\"Studio Formana\"],[\"Geko Pousada Paraty\"],[\"Fatima Macintyre House\"],[\"Albergue Santa Teresa\"],[\"Pousada Estrelas no Mar\"],[\"La Villa Francaise\"],[\"Hostel Pousada Cancun\"],[\"Deauville Pousada\"],[\"Pousada Casa Zaza\"],[\"A Meson Pousada\"],[\"Pousada S\\u00edtio dos Tucanos\"],[\"Favela Receptiva\"],[\"Buzios Pousada Telhado Verde\"],[\"BaronGarden\"],[\"Tropical Dolphin Hostel e Pousada\"],[\"Pousada Pouso do Marujo\"],[\"Som do Mar\"],[\"Ref\\u00fagio dos Carneiros Guesthouse\"],[\"Temporada em Macei\\u00f3\"],[\"Cantinho Tres Coracoes\"],[\"Hospedagem Casa Paulista\"],[\"Pousada Papaya Container\"],[\"Hostel P\\u00e9 de Caju\"],[\"Fazenda Quatro Cantos\"],[\"B\\u00fazios Colinas Homestay\"],[\"Pousada Vivenda dos Sonhos\"],[\"Pousada Parque Imperial\"],[\"Pousada Tropic\\u00e1lia\"],[\"Recanto Lus\"],[\"Casa Ceara\"],[\"Lia Travel Inn\"],[\"Maresias Bnb\"],[\"Pousada Vayu\"],[\"Pousada Semente\"],[\"Do Bosque Guest House\"],[\"Solar do Cosme\"],[\"Pousada D Lia\"],[\"Pousada Mata Nativa\"],[\"CLH Suites Ilha Grande\"],[\"Pousada Chef Brasil\"],[\"Pousada Vevo\"],[\"Laboratorio de Art Telmas Guest House\"],[\"El Misti Suites\"],[\"Pousada Adriana Beach\"],[\"Doug Backpackers\"],[\"Pousada Casa del Angel\"],[\"TerrAmor\"],[\"Ace Praia de Botafogo Suites\"],[\"Alma Livre Hostel\"],[\"Casa Tulipa Hospedagens\"],[\"Pousada My House Cabo Frio\"],[\"Pousada Nos Na Trilha\"],[\"Hospedaria Doce Lar\"],[\"Torre Guesthouse\"],[\"Pensionato PUP\"],[\"Haute Haus\"],[\"Morada do Aventureiro\"],[\"Hospedaria Flor de CaJu\"],[\"Liras da Poesia Hostel e Pousada\"],[\"Pousada Casa Verde\"],[\"Pousada e Hostel S\\u00e3o Paulo \\u2013 Unidade Econ\\u00f4mica\"],[\"Pousada do Trevo Paraty\"],[\"Arte Sagrada Hospedaria\"],[\"Gemeos Gamboa\"],[\"Pousada Pi\\u00e7arras\"],[\"Pousada Ronco do Mar Cumbuco\"],[\"Pousada Coralia\"],[\"Taj Mahal Suites\"],[\"Pousada e Hostel Coracao Verde\"],[\"Sitio dos Oriundos\"],[\"Hostel da Montanha\"],[\"Pousada Bed & Breakfast Cicerone\"],[\"Sabatico Beach House\"],[\"CasaJomo\"],[\"Hostel Lumiar Don\"],[\"Pouso do Marujo\"]],\"hovertemplate\":\"type=GUESTHOUSE\\u003cbr\\u003elatitude=%{lat}\\u003cbr\\u003elongitude=%{lon}\\u003cbr\\u003ename=%{customdata[0]}\\u003cextra\\u003e\\u003c\\u002fextra\\u003e\",\"lat\":[-22.8946738,-22.7511662,-4.5254015,-14.2785407,-12.5006769,-6.2287306,-23.1424935,-14.2868583,-4.3972938,-22.9699068,-16.806632,-20.4557879,-2.7976507,-2.5783197,-23.545252,-23.5604173,-22.985002,-23.405202,-22.9673467,-27.4613849,-22.5006043,-27.6874033,-6.690158,-23.3515801,-23.8126218,-23.4065236,-23.61527,-9.2389245,-25.5690702,-14.2803721,-22.9321259,-15.843163,-23.350983,-25.557774,-13.89151,-2.7502314,-29.3218632,-3.7266933,-22.9956072,-25.6274283,-9.1856122,-13.381892,-21.1179264,-22.9836813,-3.6281337,-16.4629575,-14.277238,-12.5707494,-22.7710997,-22.9527327,-13.7278019,-13.791398,-15.4638478,-15.552056,-15.4701389,-15.4602893,-17.3311547,-27.5854946,-4.039789,-22.745285,-3.7244694,-8.7571195,-27.9002601,-16.385611,-12.5598899,-13.3785447,-23.216164,-30.0439257,-21.1089237,-23.1522047,-20.3866673,-21.1118073,-21.1103751,-20.3763316,-8.5338944,-8.4846079,-8.6964266,-8.1257539,-18.2501201,-12.9667063,-8.5011667,-8.4824217,-23.6219254,-22.9,-24.5548475,-24.5848954,-24.5903303,-24.5562379,-20.5315534,-22.995808,-23.0112125,-4.8544173,-4.8557496,-5.0856436,-5.4068437,-5.0566048,-25.4575,-13.378792,-2.7968388,-5.8817066,-23.6484804,-16.494134,-5.881723,-25.4504049,-25.381725,-25.2164171,-25.2136111,-25.3525,-25.212348,-25.459085,-25.4601057,-25.3525,-9.585042,-23.1422816,-19.3380708,-27.6499052,-22.9423834,-24.013367,-23.7798982,-22.9412689,-2.9039628,-27.5066768,-22.9740457,-9.6443952,-22.9921566,-22.9619892,-22.9651021,-22.954086,-29.3727603,-22.9706624,-25.481596,-9.839643,-14.283681,-23.2165276,-20.2658201,-22.9415298,-2.7975325,-20.373134,-23.5169952,-23.5366717,-12.9742445,-25.5482532,-18.9097969,-22.7237104,-6.2321881,-5.124376,-27.6669127,-22.9709538,-2.7942892,-13.3784127,-23.025139,-13.3794928,-22.9363425,-10.9932934,-12.5601624,-12.562846,-22.7675791,-21.1341006,-2.797934,-23.207282,-22.7557237,-7.306186,-12.5568585,-25.5654302,-12.9630172,-3.6255126,-22.7623989,-21.1249034,-15.0556509,-7.130377,-13.0095538,-13.3919441,-22.995762,-22.9841546,-16.4927839,-20.3869442,-12.6076347,-15.593956,-7.7873087,-5.9796681,-21.1270618,-16.3861472,-22.914915,-28.0712324,-23.7751635,-16.3417454,-16.4534424,-4.5267927,-23.964824,-22.79367,-2.794326,-2.796588,-12.9754614,-23.4661791,-16.4845945,-22.7499397,-23.1426241,-16.5928206,-27.8997796,-22.9159415,-25.4395508,-14.2767345,-1.1329191,-9.6674811,-23.1413281,-23.2152615,-16.5887616,-1.4550515,-22.9162261,-16.5863208,-27.5747848,-23.1449383,-23.1427138,-27.6096431,-23.2150218,-22.9845108,-22.9161716,-27.7816111,-13.0042325,-13.008245,-22.750587,-14.2773387,-12.9726945,-27.7693068,-22.9955689,-22.7761509,-22.9231569,-23.423943,-27.5828975,-16.5874057,-8.7176917,-9.660216,-21.688025,-23.5706981,-23.4475574,-20.1449534,-19.0048305,-22.772464,-29.3577161,-23.2229392,-12.8991886,-12.5921466,-3.6232154,-23.6051931,-12.487767,-3.022252,-16.4917398,-22.7759592,-22.9434034,-9.6044805,-23.143648,-23.1414896,-26.6282536,-14.2817402,-12.9006489,-22.9699344,-24.7356536,-27.6098474,-22.9811279,-2.5123685,-22.9492259,-22.2871356,-23.2087919,-22.9034686,-12.6160294,-12.5637089,-21.1182364,-30.0678837,-27.6133652,-22.9999629,-6.2293418,-8.5064051,-20.7222285,-23.5589351,-23.181567,-6.309241,-13.3886005,-12.5641252,-3.6242382,-9.2406659,-9.0827024,-2.5047314,-14.3835365,-22.73128,-23.2172105,-22.7552652,-22.9229322,-22.3408871,-27.5830567],\"legendgroup\":\"GUESTHOUSE\",\"lon\":[-43.1925447,-41.8799602,-37.7018988,-38.9929398,-37.9628418,-35.0501411,-44.1678422,-38.9856606,-37.7959565,-43.1885169,-39.146347,-54.5895989,-40.510824,-42.7513365,-46.6731679,-46.6904907,-43.195695,-45.014658,-43.1813791,-48.3827455,-42.9946639,-48.4868609,-34.9324965,-44.7245656,-45.3657757,-45.0150009,-46.6790545,-35.3526222,-54.5540412,-38.9912721,-42.4644656,-47.97949,-44.7240795,-54.5704886,-38.9519351,-42.8149962,-49.7132683,-38.5168833,-43.243093,-48.5360848,-38.2675155,-38.919441,-56.5045014,-43.2011058,-38.7271277,-39.0623437,-38.9885326,-41.389858,-41.9061428,-43.182093,-46.3542267,-47.464898,-55.7541179,-56.097697,-55.7488983,-55.7584681,-39.2202227,-48.4334272,-38.1982827,-46.231275,-38.5072036,-35.0962784,-48.5907939,-39.037226,-41.3901248,-38.9165935,-44.713917,-51.2026444,-44.1771894,-44.732475,-43.5117698,-44.1663414,-44.1828472,-43.51762,-35.0067715,-35.0009623,-35.1074123,-34.8990963,-43.59804,-38.5058019,-35.0056224,-35.000416,-45.3795738,-43.2333333,-48.6784487,-48.6291486,-48.5975323,-48.6779201,-47.3885133,-43.2415623,-43.2953208,-37.240371,-37.2395958,-36.5839576,-35.3210449,-36.0400554,-48.2461111,-38.917316,-40.5116181,-35.1764092,-46.6400865,-39.074872,-35.1808369,-48.2502365,-48.238999,-48.002622,-47.9986111,-48.1683333,-47.996186,-48.245132,-48.2443856,-48.1683333,-35.664903,-44.1691978,-43.6180706,-48.4754911,-43.1938379,-46.2744719,-45.3570058,-43.187192,-41.7677864,-48.4238484,-43.4004405,-35.713037,-43.2331485,-43.1741237,-43.1980402,-43.1799602,-50.8820573,-43.1856679,-48.834309,-35.897265,-38.993225,-44.7335046,-56.3033166,-43.1898709,-40.5139015,-43.501869,-45.1872938,-46.5726511,-38.5083185,-54.5847278,-48.2581444,-45.5659102,-35.0441195,-35.62485,-48.4850679,-43.1894059,-40.5192314,-38.914899,-43.5114841,-38.912584,-42.475956,-37.0532279,-41.3908134,-41.389446,-41.9038768,-44.2575619,-40.515908,-44.717563,-41.8798236,-34.8096449,-41.3912743,-48.3151715,-38.5024207,-38.7349475,-41.8902545,-56.4879903,-38.9976235,-34.822439,-38.5294362,-38.9338536,-43.2445,-43.2201403,-39.0732526,-43.505247,-38.9658773,-56.0937574,-34.8397149,-35.1241493,-56.4900438,-39.0425561,-43.180019,-48.6270975,-45.3547328,-39.0075569,-39.0642973,-37.7053852,-46.189142,-41.93089,-40.514268,-40.516663,-38.5111134,-45.0641691,-39.0808602,-41.8783855,-44.1678017,-39.1037706,-48.5917424,-43.1898978,-48.7883955,-38.9988458,-48.459831,-35.7146543,-44.1678993,-44.7120064,-39.0986385,-48.4953868,-43.1836076,-39.0915321,-48.4307798,-44.1691566,-44.1632457,-48.4408004,-44.7120351,-43.2251071,-43.1810372,-48.5085448,-38.5260985,-38.5275399,-41.875858,-38.9878406,-38.5094416,-48.532243,-43.2695969,-41.9057224,-43.1749729,-45.0645382,-48.4358695,-39.0907582,-35.0877527,-35.709422,-45.2641376,-46.6564918,-45.0689459,-44.1937833,-57.6429184,-41.913842,-50.8487129,-44.7186339,-38.6575333,-38.0362933,-38.7397879,-46.6170349,-37.958517,-39.641744,-39.0743312,-41.9245423,-43.201532,-37.7708409,-44.167707,-44.1614466,-48.6977019,-38.9886436,-38.4846934,-43.1889633,-47.529551,-48.4485951,-43.1962842,-54.9426921,-43.1829586,-42.5336978,-44.7188497,-42.0322319,-41.4928928,-41.3871146,-44.1681622,-51.1895504,-48.4632182,-44.3099198,-35.050753,-35.0060902,-40.5268645,-46.6772384,-44.712121,-35.038249,-38.9302044,-41.3897579,-38.7408685,-35.3525311,-35.2728096,-54.949571,-39.048916,-45.58174,-44.7327392,-41.8890009,-43.1891119,-42.3191128,-48.4357289],\"marker\":{\"color\":\"#00cc96\"},\"mode\":\"markers\",\"name\":\"GUESTHOUSE\",\"showlegend\":true,\"subplot\":\"mapbox\",\"type\":\"scattermapbox\",\"textposition\":\"top center\"},{\"customdata\":[[\"Vila Castelo Branco\"],[\"Cores da Pipa\"],[\"Costeira Praia Flat\"],[\"Studio Centro Lapa\"],[\"N0013 Duplex Arraial do Cabo\"],[\"Vintage Apartments Florian\\u00f3polis\"],[\"Copacabana Beach N 001\"],[\"Amorelli Private Residence\"],[\"Apartamento Cristina Condo\"],[\"Apartamento Jana\\u00edna\"],[\"Apartamento Maria Julia\"],[\"Apartamento Centro SP\"],[\"Buzios Casa\"],[\"Morada da Mangaba\"],[\"Tropical Sun Rio Flats\"],[\"Casa Pitanga\"],[\"Copacabana Apart\"],[\"Apartment in Copacabana\"],[\"Copacabana Apartment\"],[\"Paraiso Tropical\"],[\"Ipanema Copa Posto 6\"],[\"Flamengo Apartment\"],[\"Recanto Sul Flat\"],[\"Porto Verano Residence\"],[\"Ron Rio Apartments\"],[\"Pousada Ondas de Floripa\"],[\"Casa de Theo\"],[\"Stellamares Apartamentos\"],[\"House of the stone\"],[\"AElfgar House - Vacation Rental\"],[\"Amazon Forest Backpackers\"],[\"Acomodacao Ipojuca Bella\"],[\"Solar Chacara Suites\"],[\"Ajuricaba Suites 2\"],[\"Ajuricaba Suites 1\"],[\"Casa Do Cacau e Mumu\"],[\"Residencial Casa Flor, Ponta Negra\"],[\"Village Retreat, you in the heart of Ilhabela\"],[\"Buzios Flat Pousada\"]],\"hovertemplate\":\"type=APARTMENT\\u003cbr\\u003elatitude=%{lat}\\u003cbr\\u003elongitude=%{lon}\\u003cbr\\u003ename=%{customdata[0]}\\u003cextra\\u003e\\u003c\\u002fextra\\u003e\",\"lat\":[-25.5354009,-6.2288027,-5.8659892,-22.9131468,-22.9689476,-27.603075,-22.9686986,-22.9733569,-26.9991926,-26.9872969,-26.9954998,-23.5451589,-22.7812374,-13.4159616,-22.9824519,-22.7578289,-22.9736751,-22.9622263,-22.9736751,-22.9238566,-22.984533,-22.9349033,-5.8827441,-16.3836732,-22.9843951,-27.4368679,-12.9278385,-12.9497802,-21.7236994,-20.465795,-3.0435933,-8.3976757,-22.9904763,-3.1343972,-3.137698,-27.5771314,-5.888709,-23.7783563,-22.7844949],\"legendgroup\":\"APARTMENT\",\"lon\":[-54.5786148,-35.0472863,-35.1806381,-43.1811869,-42.0316632,-48.4666214,-43.1823365,-43.4140837,-48.6241128,-48.633392,-48.6291064,-46.6439768,-41.9494075,-38.9292297,-43.1923272,-41.8890205,-43.1893129,-43.1769132,-43.1893129,-43.36911,-43.193232,-43.1783685,-35.1764145,-39.0353049,-43.1918041,-48.3961889,-38.6178364,-38.3469205,-44.9856716,-54.60504,-59.9742962,-35.0433665,-43.2316679,-60.0201953,-60.0237749,-48.423069,-35.173635,-45.3582328,-41.9295907],\"marker\":{\"color\":\"#ab63fa\"},\"mode\":\"markers\",\"name\":\"APARTMENT\",\"showlegend\":true,\"subplot\":\"mapbox\",\"type\":\"scattermapbox\",\"textposition\":\"top center\"},{\"customdata\":[[\"Vila Prana\"],[\"Camping Sununga\"],[\"Camp in Brazil\"],[\"Ball n Kicka - Football Fan Camp\"],[\"Jardim da Nova Era\"],[\"Tucupi Hostel & Camping\"],[\"Floripa Glamping\"],[\"Ready Camp e Suites da Cachoeira\"],[\"A Casa Concha Glamping Praia de Gravat\\u00e1\"]],\"hovertemplate\":\"type=CAMPSITE\\u003cbr\\u003elatitude=%{lat}\\u003cbr\\u003elongitude=%{lon}\\u003cbr\\u003ename=%{customdata[0]}\\u003cextra\\u003e\\u003c\\u002fextra\\u003e\",\"lat\":[-2.9148703,-23.5088602,-22.8603968,-23.0228522,-14.1343918,-0.704711,-27.5810539,-23.1442215,-8.8457613],\"legendgroup\":\"CAMPSITE\",\"lon\":[-41.4079667,-45.1323908,-42.4422478,-43.5209733,-47.5153247,-48.520249,-48.4308963,-44.1691437,-35.1483123],\"marker\":{\"color\":\"#FFA15A\"},\"mode\":\"markers\",\"name\":\"CAMPSITE\",\"showlegend\":true,\"subplot\":\"mapbox\",\"type\":\"scattermapbox\",\"textposition\":\"top center\"}],                        {\"template\":{\"data\":{\"histogram2dcontour\":[{\"type\":\"histogram2dcontour\",\"colorbar\":{\"outlinewidth\":0,\"ticks\":\"\"},\"colorscale\":[[0.0,\"#0d0887\"],[0.1111111111111111,\"#46039f\"],[0.2222222222222222,\"#7201a8\"],[0.3333333333333333,\"#9c179e\"],[0.4444444444444444,\"#bd3786\"],[0.5555555555555556,\"#d8576b\"],[0.6666666666666666,\"#ed7953\"],[0.7777777777777778,\"#fb9f3a\"],[0.8888888888888888,\"#fdca26\"],[1.0,\"#f0f921\"]]}],\"choropleth\":[{\"type\":\"choropleth\",\"colorbar\":{\"outlinewidth\":0,\"ticks\":\"\"}}],\"histogram2d\":[{\"type\":\"histogram2d\",\"colorbar\":{\"outlinewidth\":0,\"ticks\":\"\"},\"colorscale\":[[0.0,\"#0d0887\"],[0.1111111111111111,\"#46039f\"],[0.2222222222222222,\"#7201a8\"],[0.3333333333333333,\"#9c179e\"],[0.4444444444444444,\"#bd3786\"],[0.5555555555555556,\"#d8576b\"],[0.6666666666666666,\"#ed7953\"],[0.7777777777777778,\"#fb9f3a\"],[0.8888888888888888,\"#fdca26\"],[1.0,\"#f0f921\"]]}],\"heatmap\":[{\"type\":\"heatmap\",\"colorbar\":{\"outlinewidth\":0,\"ticks\":\"\"},\"colorscale\":[[0.0,\"#0d0887\"],[0.1111111111111111,\"#46039f\"],[0.2222222222222222,\"#7201a8\"],[0.3333333333333333,\"#9c179e\"],[0.4444444444444444,\"#bd3786\"],[0.5555555555555556,\"#d8576b\"],[0.6666666666666666,\"#ed7953\"],[0.7777777777777778,\"#fb9f3a\"],[0.8888888888888888,\"#fdca26\"],[1.0,\"#f0f921\"]]}],\"heatmapgl\":[{\"type\":\"heatmapgl\",\"colorbar\":{\"outlinewidth\":0,\"ticks\":\"\"},\"colorscale\":[[0.0,\"#0d0887\"],[0.1111111111111111,\"#46039f\"],[0.2222222222222222,\"#7201a8\"],[0.3333333333333333,\"#9c179e\"],[0.4444444444444444,\"#bd3786\"],[0.5555555555555556,\"#d8576b\"],[0.6666666666666666,\"#ed7953\"],[0.7777777777777778,\"#fb9f3a\"],[0.8888888888888888,\"#fdca26\"],[1.0,\"#f0f921\"]]}],\"contourcarpet\":[{\"type\":\"contourcarpet\",\"colorbar\":{\"outlinewidth\":0,\"ticks\":\"\"}}],\"contour\":[{\"type\":\"contour\",\"colorbar\":{\"outlinewidth\":0,\"ticks\":\"\"},\"colorscale\":[[0.0,\"#0d0887\"],[0.1111111111111111,\"#46039f\"],[0.2222222222222222,\"#7201a8\"],[0.3333333333333333,\"#9c179e\"],[0.4444444444444444,\"#bd3786\"],[0.5555555555555556,\"#d8576b\"],[0.6666666666666666,\"#ed7953\"],[0.7777777777777778,\"#fb9f3a\"],[0.8888888888888888,\"#fdca26\"],[1.0,\"#f0f921\"]]}],\"surface\":[{\"type\":\"surface\",\"colorbar\":{\"outlinewidth\":0,\"ticks\":\"\"},\"colorscale\":[[0.0,\"#0d0887\"],[0.1111111111111111,\"#46039f\"],[0.2222222222222222,\"#7201a8\"],[0.3333333333333333,\"#9c179e\"],[0.4444444444444444,\"#bd3786\"],[0.5555555555555556,\"#d8576b\"],[0.6666666666666666,\"#ed7953\"],[0.7777777777777778,\"#fb9f3a\"],[0.8888888888888888,\"#fdca26\"],[1.0,\"#f0f921\"]]}],\"mesh3d\":[{\"type\":\"mesh3d\",\"colorbar\":{\"outlinewidth\":0,\"ticks\":\"\"}}],\"scatter\":[{\"fillpattern\":{\"fillmode\":\"overlay\",\"size\":10,\"solidity\":0.2},\"type\":\"scatter\"}],\"parcoords\":[{\"type\":\"parcoords\",\"line\":{\"colorbar\":{\"outlinewidth\":0,\"ticks\":\"\"}}}],\"scatterpolargl\":[{\"type\":\"scatterpolargl\",\"marker\":{\"colorbar\":{\"outlinewidth\":0,\"ticks\":\"\"}}}],\"bar\":[{\"error_x\":{\"color\":\"#2a3f5f\"},\"error_y\":{\"color\":\"#2a3f5f\"},\"marker\":{\"line\":{\"color\":\"#E5ECF6\",\"width\":0.5},\"pattern\":{\"fillmode\":\"overlay\",\"size\":10,\"solidity\":0.2}},\"type\":\"bar\"}],\"scattergeo\":[{\"type\":\"scattergeo\",\"marker\":{\"colorbar\":{\"outlinewidth\":0,\"ticks\":\"\"}}}],\"scatterpolar\":[{\"type\":\"scatterpolar\",\"marker\":{\"colorbar\":{\"outlinewidth\":0,\"ticks\":\"\"}}}],\"histogram\":[{\"marker\":{\"pattern\":{\"fillmode\":\"overlay\",\"size\":10,\"solidity\":0.2}},\"type\":\"histogram\"}],\"scattergl\":[{\"type\":\"scattergl\",\"marker\":{\"colorbar\":{\"outlinewidth\":0,\"ticks\":\"\"}}}],\"scatter3d\":[{\"type\":\"scatter3d\",\"line\":{\"colorbar\":{\"outlinewidth\":0,\"ticks\":\"\"}},\"marker\":{\"colorbar\":{\"outlinewidth\":0,\"ticks\":\"\"}}}],\"scattermapbox\":[{\"type\":\"scattermapbox\",\"marker\":{\"colorbar\":{\"outlinewidth\":0,\"ticks\":\"\"}}}],\"scatterternary\":[{\"type\":\"scatterternary\",\"marker\":{\"colorbar\":{\"outlinewidth\":0,\"ticks\":\"\"}}}],\"scattercarpet\":[{\"type\":\"scattercarpet\",\"marker\":{\"colorbar\":{\"outlinewidth\":0,\"ticks\":\"\"}}}],\"carpet\":[{\"aaxis\":{\"endlinecolor\":\"#2a3f5f\",\"gridcolor\":\"white\",\"linecolor\":\"white\",\"minorgridcolor\":\"white\",\"startlinecolor\":\"#2a3f5f\"},\"baxis\":{\"endlinecolor\":\"#2a3f5f\",\"gridcolor\":\"white\",\"linecolor\":\"white\",\"minorgridcolor\":\"white\",\"startlinecolor\":\"#2a3f5f\"},\"type\":\"carpet\"}],\"table\":[{\"cells\":{\"fill\":{\"color\":\"#EBF0F8\"},\"line\":{\"color\":\"white\"}},\"header\":{\"fill\":{\"color\":\"#C8D4E3\"},\"line\":{\"color\":\"white\"}},\"type\":\"table\"}],\"barpolar\":[{\"marker\":{\"line\":{\"color\":\"#E5ECF6\",\"width\":0.5},\"pattern\":{\"fillmode\":\"overlay\",\"size\":10,\"solidity\":0.2}},\"type\":\"barpolar\"}],\"pie\":[{\"automargin\":true,\"type\":\"pie\"}]},\"layout\":{\"autotypenumbers\":\"strict\",\"colorway\":[\"#636efa\",\"#EF553B\",\"#00cc96\",\"#ab63fa\",\"#FFA15A\",\"#19d3f3\",\"#FF6692\",\"#B6E880\",\"#FF97FF\",\"#FECB52\"],\"font\":{\"color\":\"#2a3f5f\"},\"hovermode\":\"closest\",\"hoverlabel\":{\"align\":\"left\"},\"paper_bgcolor\":\"white\",\"plot_bgcolor\":\"#E5ECF6\",\"polar\":{\"bgcolor\":\"#E5ECF6\",\"angularaxis\":{\"gridcolor\":\"white\",\"linecolor\":\"white\",\"ticks\":\"\"},\"radialaxis\":{\"gridcolor\":\"white\",\"linecolor\":\"white\",\"ticks\":\"\"}},\"ternary\":{\"bgcolor\":\"#E5ECF6\",\"aaxis\":{\"gridcolor\":\"white\",\"linecolor\":\"white\",\"ticks\":\"\"},\"baxis\":{\"gridcolor\":\"white\",\"linecolor\":\"white\",\"ticks\":\"\"},\"caxis\":{\"gridcolor\":\"white\",\"linecolor\":\"white\",\"ticks\":\"\"}},\"coloraxis\":{\"colorbar\":{\"outlinewidth\":0,\"ticks\":\"\"}},\"colorscale\":{\"sequential\":[[0.0,\"#0d0887\"],[0.1111111111111111,\"#46039f\"],[0.2222222222222222,\"#7201a8\"],[0.3333333333333333,\"#9c179e\"],[0.4444444444444444,\"#bd3786\"],[0.5555555555555556,\"#d8576b\"],[0.6666666666666666,\"#ed7953\"],[0.7777777777777778,\"#fb9f3a\"],[0.8888888888888888,\"#fdca26\"],[1.0,\"#f0f921\"]],\"sequentialminus\":[[0.0,\"#0d0887\"],[0.1111111111111111,\"#46039f\"],[0.2222222222222222,\"#7201a8\"],[0.3333333333333333,\"#9c179e\"],[0.4444444444444444,\"#bd3786\"],[0.5555555555555556,\"#d8576b\"],[0.6666666666666666,\"#ed7953\"],[0.7777777777777778,\"#fb9f3a\"],[0.8888888888888888,\"#fdca26\"],[1.0,\"#f0f921\"]],\"diverging\":[[0,\"#8e0152\"],[0.1,\"#c51b7d\"],[0.2,\"#de77ae\"],[0.3,\"#f1b6da\"],[0.4,\"#fde0ef\"],[0.5,\"#f7f7f7\"],[0.6,\"#e6f5d0\"],[0.7,\"#b8e186\"],[0.8,\"#7fbc41\"],[0.9,\"#4d9221\"],[1,\"#276419\"]]},\"xaxis\":{\"gridcolor\":\"white\",\"linecolor\":\"white\",\"ticks\":\"\",\"title\":{\"standoff\":15},\"zerolinecolor\":\"white\",\"automargin\":true,\"zerolinewidth\":2},\"yaxis\":{\"gridcolor\":\"white\",\"linecolor\":\"white\",\"ticks\":\"\",\"title\":{\"standoff\":15},\"zerolinecolor\":\"white\",\"automargin\":true,\"zerolinewidth\":2},\"scene\":{\"xaxis\":{\"backgroundcolor\":\"#E5ECF6\",\"gridcolor\":\"white\",\"linecolor\":\"white\",\"showbackground\":true,\"ticks\":\"\",\"zerolinecolor\":\"white\",\"gridwidth\":2},\"yaxis\":{\"backgroundcolor\":\"#E5ECF6\",\"gridcolor\":\"white\",\"linecolor\":\"white\",\"showbackground\":true,\"ticks\":\"\",\"zerolinecolor\":\"white\",\"gridwidth\":2},\"zaxis\":{\"backgroundcolor\":\"#E5ECF6\",\"gridcolor\":\"white\",\"linecolor\":\"white\",\"showbackground\":true,\"ticks\":\"\",\"zerolinecolor\":\"white\",\"gridwidth\":2}},\"shapedefaults\":{\"line\":{\"color\":\"#2a3f5f\"}},\"annotationdefaults\":{\"arrowcolor\":\"#2a3f5f\",\"arrowhead\":0,\"arrowwidth\":1},\"geo\":{\"bgcolor\":\"white\",\"landcolor\":\"#E5ECF6\",\"subunitcolor\":\"white\",\"showland\":true,\"showlakes\":true,\"lakecolor\":\"white\"},\"title\":{\"x\":0.05},\"mapbox\":{\"style\":\"light\"}}},\"mapbox\":{\"domain\":{\"x\":[0.0,1.0],\"y\":[0.0,1.0]},\"center\":{\"lat\":-18.60403630685053,\"lon\":-44.20280943558719},\"accesstoken\":\"pk.eyJ1IjoidGhhbmFlbCIsImEiOiJjbHdmbnFsMWwwMjh1MmtvN3k4bDlibGZrIn0.GV0-K-dJuFBuCw7HxZnmYA\",\"zoom\":8},\"legend\":{\"title\":{\"text\":\"type\"},\"tracegroupgap\":0},\"margin\":{\"t\":60},\"title\":{\"text\":\"Text\",\"x\":0.5}},                        {\"responsive\": true}                    ).then(function(){\n",
       "                            \n",
       "var gd = document.getElementById('61c54f64-2e51-4228-b129-a743fc18a572');\n",
       "var x = new MutationObserver(function (mutations, observer) {{\n",
       "        var display = window.getComputedStyle(gd).display;\n",
       "        if (!display || display === 'none') {{\n",
       "            console.log([gd, 'removed!']);\n",
       "            Plotly.purge(gd);\n",
       "            observer.disconnect();\n",
       "        }}\n",
       "}});\n",
       "\n",
       "// Listen for the removal of the full notebook cells\n",
       "var notebookContainer = gd.closest('#notebook-container');\n",
       "if (notebookContainer) {{\n",
       "    x.observe(notebookContainer, {childList: true});\n",
       "}}\n",
       "\n",
       "// Listen for the clearing of the current output cell\n",
       "var outputEl = gd.closest('.output');\n",
       "if (outputEl) {{\n",
       "    x.observe(outputEl, {childList: true});\n",
       "}}\n",
       "\n",
       "                        })                };                });            </script>        </div>"
      ]
     },
     "metadata": {},
     "output_type": "display_data"
    }
   ],
   "source": [
    "fig = px.scatter_mapbox(df, hover_data=['name'],\n",
    "                            lat='latitude', lon='longitude',\n",
    "                            color='type', size=None,\n",
    "                            color_continuous_scale=px.colors.cyclical.IceFire,\n",
    "                            )\n",
    "fig.update_traces(textposition='top center')\n",
    "fig.update_layout(title_text=f'Text', title_x=0.5)"
   ]
  },
  {
   "cell_type": "code",
   "execution_count": 13,
   "id": "f358fc8e-25f5-4129-88e6-db2ea0b2ab37",
   "metadata": {},
   "outputs": [
    {
     "data": {
      "application/vnd.plotly.v1+json": {
       "config": {
        "plotlyServerURL": "https://plot.ly"
       },
       "data": [
        {
         "hovertemplate": "type=HOTEL<br>latitude=%{lat}<br>longitude=%{lon}<extra></extra>",
         "lat": [
          -26.2295867,
          -13.3789396,
          -22.9846956,
          -9.6719381,
          -16.5923148,
          -29.6735969,
          -23.5166368,
          -27.7137145,
          -25.5375931,
          -25.5896633,
          -22.4141182,
          -28.1291787,
          -6.3694408,
          -15.877654,
          -23.5967993,
          -23.1413445,
          -23.544697,
          -23.5643051,
          -23.1404887,
          -20.289725,
          -5.8752959,
          -25.5409237,
          -5.8715615,
          -23.6221328,
          -23.5298779,
          -25.5385838,
          -25.5770749,
          -22.485218,
          -21.1336089,
          -21.127263,
          -22.75,
          -12.9709619,
          -13.381162,
          -25.5362367,
          -12.9723388,
          -25.5442783,
          -22.9955185,
          -15.6007085,
          -16.8068542,
          -22.8954837,
          -25.5344265,
          -25.4243665,
          -21.1285987,
          -25.5066622,
          -5.9481157,
          -5.0942806,
          -5.5442297,
          -5.0942864,
          -5.4088297,
          -25.459379,
          -23.2179336,
          -20.4498867,
          -14.9196158,
          -25.5509162,
          -19.6416194,
          -9.6325168,
          -9.660699,
          -5.8731294,
          -5.8778818,
          -23.1442347,
          -12.9272823,
          -16.4438991,
          -19.9176259,
          -1.4402068,
          -1.4514947,
          -26.9123134,
          -9.6429085,
          -3.2383922,
          -26.9227124,
          -15.5965437,
          -15.794607,
          -20.4621924,
          -16.385757,
          -16.3937759,
          -16.4476781,
          -16.3917332,
          -16.445024,
          -16.4434833,
          -23.2198876,
          -27.42971,
          -25.5348906,
          -25.5347685,
          -25.5347855,
          -21.1162531,
          -20.8166228,
          -5.8830875,
          -25.5999645,
          -23.5388878,
          -22.9833811,
          -25.539541,
          -3.347088,
          -1.4488791,
          -25.5095369,
          -8.9623935,
          -8.5070967,
          -25.5342331,
          -22.3608611,
          -25.4357687,
          -23.0141433,
          -22.9716564,
          -20.730209,
          -23.4655179,
          -2.7945643,
          -12.5609013,
          -5.1246753,
          -21.1291904,
          -23.5397789,
          -23.527861,
          -23.2422218,
          -21.1447251,
          -23.539425,
          -27.4282998,
          -25.5460694,
          -22.7635286,
          -25.5455669,
          -20.299563,
          -22.9493493,
          -22.9443267,
          -14.2868583,
          -23.5588985,
          -13.068977,
          -4.781979,
          -22.7511891,
          0,
          -2.7576023,
          -20.4238875,
          -21.1822305,
          -22.7713509,
          -3.1369234,
          -20.3857546,
          -22.7681777,
          -22.7765916,
          -8.529969,
          -16.0555554,
          -20.6121582,
          -19.8564698,
          -2.056219,
          -8.5046341,
          -22.753425,
          -6.2315162,
          -23.5567369,
          -22.9727787,
          -2.8191396,
          -22.3701437,
          -13.3826117,
          -22.6141255,
          -3.747904
         ],
         "legendgroup": "HOTEL",
         "lon": [
          -48.5018,
          -38.9132194,
          -43.2424213,
          -35.7164946,
          -39.1028396,
          -50.9920258,
          -45.1979911,
          -48.5025784,
          -54.5813332,
          -54.5181884,
          -42.9035758,
          -48.6469208,
          -35.0083048,
          -52.2941715,
          -46.6727525,
          -44.1678441,
          -46.698818,
          -46.6332483,
          -44.1676141,
          -40.2977758,
          -35.1800012,
          -54.5881419,
          -35.1825192,
          -46.549354,
          -45.2226589,
          -54.5858002,
          -54.5422531,
          -48.9604835,
          -56.4781156,
          -56.485184,
          -41.8833333,
          -38.5059072,
          -38.91111,
          -54.5888183,
          -38.5089815,
          -54.5866699,
          -43.2425069,
          -56.0996895,
          -39.1495099,
          -48.4907605,
          -54.5858362,
          -49.2708642,
          -56.4845886,
          -54.5891421,
          -35.1552445,
          -36.2746341,
          -35.2575302,
          -36.2723109,
          -35.3112532,
          -48.24469,
          -44.7188338,
          -54.6286694,
          -39.0208748,
          -54.5753402,
          -43.9043753,
          -35.6973354,
          -35.704856,
          -35.1791954,
          -35.1756249,
          -44.1660156,
          -38.3210831,
          -39.0666389,
          -43.9364413,
          -48.4586105,
          -48.5023832,
          -49.0669784,
          -35.7080093,
          -39.2368872,
          -49.0602066,
          -56.0901971,
          -47.889436,
          -54.6238999,
          -39.034434,
          -39.0433311,
          -39.0677881,
          -39.0423317,
          -39.0625692,
          -39.0676574,
          -44.7164563,
          -48.449954,
          -54.5766234,
          -54.5881128,
          -54.585968,
          -56.5062986,
          -43.8099796,
          -35.1728714,
          -54.5240052,
          -46.6465759,
          -43.1947933,
          -54.581659,
          -39.136756,
          -48.4693673,
          -54.5489429,
          -35.1749603,
          -35.0054963,
          -54.5849482,
          -43.125098,
          -49.287154,
          -44.2298421,
          -43.1856447,
          -46.6196836,
          -45.0628612,
          -40.5142953,
          -41.3895157,
          -35.6250976,
          -56.4809722,
          -46.6442427,
          -46.682561,
          -44.6398304,
          -44.2243812,
          -46.644629,
          -48.4653147,
          -54.5890235,
          -41.8926824,
          -54.5869238,
          -43.8178677,
          -43.1829508,
          -43.1855243,
          -38.9856606,
          -46.6745481,
          -38.729839,
          -37.2828254,
          -41.8799393,
          0,
          -42.8378885,
          -49.9739568,
          -47.8121602,
          -41.901132,
          -60.0194159,
          -43.5038054,
          -41.9040724,
          -41.908471,
          -35.008523,
          -56.5663592,
          -46.0634864,
          -43.9768088,
          -60.0280191,
          -35.0017348,
          -41.879622,
          -35.0430387,
          -46.6635705,
          -43.1913069,
          -40.4066135,
          -44.8851342,
          -38.9105742,
          -46.4687246,
          -38.467814
         ],
         "marker": {
          "color": "#636efa"
         },
         "mode": "markers",
         "name": "HOTEL",
         "showlegend": true,
         "subplot": "mapbox",
         "type": "scattermapbox"
        },
        {
         "hovertemplate": "type=HOSTEL<br>latitude=%{lat}<br>longitude=%{lon}<extra></extra>",
         "lat": [
          -22.7575705,
          -23.1416425,
          -3.8491694,
          -2.5254809,
          -23.5577317,
          -22.969251,
          -23.6063288,
          -30.0217658,
          -6.2369011,
          -9.489086,
          -22.9154491,
          -3.7429023,
          -9.0088341,
          -13.0023907,
          -21.7260092,
          -12.9501243,
          -13.0120577,
          -23.7792258,
          -29.3373844,
          -22.9848985,
          -27.5762487,
          -26.2506215,
          -6.2368174,
          -16.4419764,
          -9.0155009,
          -19.8588742,
          -22.7638018,
          -27.600239,
          -23.4098263,
          -23.5526186,
          -13.3819554,
          -22.980119,
          -2.5790624,
          -22.9152242,
          -26.9956962,
          -3.6295403,
          -14.2798459,
          -2.760617,
          -23.4713016,
          -23.5359036,
          -23.0310266,
          -15.7807902,
          -2.748265,
          -23.3191199,
          -23.4631763,
          -20.383841,
          -7.0628198,
          -23.553165,
          -23.4521944,
          -22.898504,
          -23.8425633,
          -13.0049492,
          -23.5594465,
          -27.3963317,
          -18.9181871,
          -23.576624,
          -23.7116762,
          -2.7491617,
          -27.1556094,
          -13.3925136,
          -27.7506223,
          -22.929341,
          -23.4357159,
          -27.573363,
          -23.6128189,
          -21.7064937,
          -23.572749,
          -23.8165838,
          -23.0264177,
          -8.11562,
          -22.9190958,
          -27.6869925,
          -27.5813042,
          -23.1421157,
          -2.5206514,
          -23.8029668,
          -22.968109,
          -27.609296,
          -24.187109,
          -27.1508299,
          -26.91244,
          -27.6051972,
          -22.9846712,
          -22.7625357,
          -22.9163158,
          -5.87039,
          -28.1213102,
          -29.1628578,
          -20.754514,
          -25.3869797,
          -2.7952786,
          -8.1327612,
          -12.896287,
          -23.5649656,
          -15.4591174,
          -13.0093557,
          -27.1499513,
          -23.217245,
          -23.5538689,
          -23.586203,
          -23.573254,
          -23.560125,
          -23.6323554,
          -3.0119471,
          -27.784801,
          -3.7493058,
          -23.5313129,
          -27.5729068,
          -12.5632502,
          -22.9792775,
          -23.0345918,
          -23.141695,
          -29.3623512,
          -23.2179308,
          -14.2766606,
          -29.3544078,
          -27.592124,
          -3.0889734,
          -8.0480714,
          -28.0741905,
          -23.7586735,
          -23.8128967,
          -27.1480104,
          -23.216368,
          -6.229394,
          -8.1294208,
          -23.2441976,
          -25.426691,
          -27.5799088,
          -23.5491096,
          -23.5637334,
          -12.970246,
          -22.9102333,
          -25.4435735,
          -2.7955681,
          -22.954113,
          -27.575191,
          -20.749801,
          -23.579372,
          -25.5502494,
          -26.8967037,
          -23.4430542,
          -2.759708,
          -28.0279512,
          -22.776776,
          -1.449969,
          -19.9359499,
          -23.545889,
          -23.5833454,
          -20.3822717,
          -7.11834,
          -12.9675252,
          -20.3186267,
          -25.5620367,
          -19.8575314,
          -3.62829,
          -25.5365692,
          -30.0396098,
          -22.9624384,
          -3.7257202,
          -19.9459455,
          -12.9709619,
          -3.7221119,
          -19.564197,
          -16.489799,
          -3.0782198,
          -22.579827,
          -25.5581107,
          -23.5431366,
          -23.2155556,
          -23.2222324,
          -3.1306184,
          -23.559925,
          -23.5695882,
          -29.3757283,
          -22.7743514,
          -22.91855,
          -22.9161716,
          -27.574725,
          -22.7588011,
          -27.5767574,
          -27.61424,
          -23.1443171,
          -27.6056416,
          -31.7591,
          -23.5486034,
          -28.1250876,
          -22.777487,
          -23.5440981,
          -27.6019444,
          -20.3866878,
          -20.2908458,
          -20.4665103,
          -23.5552934,
          -8.0180582,
          -23.5339061,
          -25.5542653,
          -8.5070989,
          -25.5530556,
          -25.5071491,
          -23.5660163,
          -27.6756534,
          -23.4182208,
          -22.922347,
          -23.5068527,
          -8.1281933,
          -23.9950449,
          -23.5579167,
          -23.5861137,
          -8.1100604,
          -22.7749449,
          -22.7753304,
          -15.8543667,
          -25.598254,
          -23.5649656,
          -12.5629294,
          -26.9567846,
          -14.235,
          -19.9111783,
          -26.2124337,
          -22.9204996,
          -19.9070818,
          -23.5507864,
          -19.4565516,
          -27.6624725,
          -15.5983,
          -22.9165384,
          -2.502384,
          -20.3865039,
          -22.296819,
          -12.5139199,
          -25.609356,
          -22.9048979,
          -7.1072061,
          -23.5618988,
          -27.5905918,
          -28.1345335,
          -25.5448054,
          -27.6927854,
          -30.0394594,
          -5.8718685,
          -22.9674369,
          -22.9641456,
          -27.599101,
          -25.4907558,
          -16.491691,
          -18.2383175,
          -12.5778227,
          -13.3796141,
          -29.1896561,
          -10.1826086,
          -22.934878,
          -6.2301308,
          -27.4310828,
          -23.5475579,
          -23.555467,
          -23.8158333,
          -14.2774924,
          -12.5639197,
          -23.030972,
          -3.7670038,
          -28.1890965,
          -25.5344804,
          -25.5696057,
          -22.9805466,
          -25.5303636,
          -14.2798112,
          -29.4867866,
          -27.6756591,
          -22.995788,
          -23.1415414,
          -22.9145681,
          -8.1401532,
          -23.5606513,
          -6.2304802,
          -3.7221898,
          -26.2903141,
          -24.552743,
          -8.507023,
          -13.379004,
          -23.579777,
          -23.8128678,
          -27.598427,
          -22.7588011,
          -6.2302788,
          -22.770735,
          -23.5791499,
          -23.218484,
          -22.963028,
          -8.1287044,
          -23.980351,
          -3.1337942,
          -22.9836101,
          -23.5544168,
          -12.9678473,
          -22.968464,
          -6.230777,
          -13.0042807,
          -27.601016,
          -12.973731,
          -25.535531,
          -23.1442228,
          -22.9852334,
          -7.1053848,
          -3.133578,
          -23.3487912,
          -25.5447915,
          -22.971768,
          -22.954917,
          -27.5813742,
          -22.973009,
          -20.3832694,
          -23.1414896,
          -12.487782,
          -12.5626721,
          -22.9285757,
          -25.5498756,
          -23.1409947,
          -5.8700643,
          -22.9831533,
          -12.967763,
          -22.9845323,
          -12.9740753,
          -23.5420508,
          -3.7193874,
          -27.598841,
          -22.7734071,
          -27.602144,
          -22.8935679,
          -12.5624785,
          -15.4571593,
          -16.8075461,
          -27.5821559,
          -21.1208114,
          -23.6085091,
          -22.9425142,
          -22.759039,
          -16.5950405,
          -10.1789836,
          -23.5567456,
          -31.7773658,
          -22.9868171,
          -20.3868223,
          -22.9214873,
          -22.932931,
          -7.204928,
          -24.0158662,
          -22.9122477,
          -27.1530656,
          -22.9721455,
          -27.4341296,
          -22.9750599,
          -27.438543,
          -29.0504435,
          -2.7593375,
          -27.778753,
          -22.914374,
          -23.7666182,
          -2.502506,
          -2.0476682,
          -13.3781778,
          -10.1931768,
          -23.56018,
          -29.198243,
          -28.1241027,
          2.8453402,
          -22.9470657,
          -2.9110154,
          -29.171441,
          -26.9829043,
          -23.0244194,
          -19.9358061,
          -3.8403973,
          -12.5658046,
          -23.569414,
          -2.7554611,
          -18.9993298,
          -22.7555953,
          -28.1256666,
          -2.5286728,
          -23.1428151,
          -22.9707354,
          -8.0500393,
          -13.3844744,
          -26.9909258,
          -28.129304,
          -29.3801104,
          -1.4540764,
          -11.568946,
          -8.554429,
          -8.0171808,
          -13.0052813,
          -4.527256,
          -29.3910033,
          -13.3796187,
          -13.0035104,
          -9.6268256,
          -27.6085006,
          -3.8451427,
          -23.8164112,
          -27.4436857,
          -15.8515145,
          -27.6521587,
          -14.1759615,
          -2.5038957,
          -13.381221,
          -30.0216601,
          -26.9881356,
          -20.61487,
          -13.5908669,
          -3.0675969,
          -21.1063209,
          -6.2325439,
          -23.1439069,
          -22.9751139,
          -22.5061111,
          -21.1228651,
          -19.922024,
          -9.9503689,
          -9.0166388,
          -23.7793844,
          -3.8423176,
          -29.377332,
          -23.7682985,
          -23.9648579,
          -22.7641195,
          -14.2764321,
          -23.143641,
          -22.966525,
          -22.9104927,
          -27.902147,
          -2.8806775,
          -27.430382,
          -22.977563,
          -23.2016492,
          -2.9107417,
          -22.9312134,
          -27.6308905,
          -28.1349897,
          -3.6240992,
          -21.710815,
          -22.9609276,
          -22.9578561,
          -23.788398,
          -15.5965566,
          -23.207114,
          -6.2393846,
          -22.9849018,
          -23.5012779,
          -6.23369,
          -22.9605445,
          -27.4521772,
          -26.9727902,
          -22.9962852,
          -2.7954655,
          -12.5603278,
          -22.910652,
          -20.3859591,
          -25.549924,
          -23.4059286,
          -22.9747383,
          -22.9324342,
          -25.5607008,
          -25.4437829,
          -27.675914,
          -8.0168819,
          -27.5755889,
          -23.262683,
          -24.8037727,
          -27.153669,
          -20.2365832,
          -13.38435,
          -23.778813,
          -25.609356,
          -27.5790749,
          -15.7519374,
          -26.9279804,
          -19.8588791,
          -22.9850647,
          -2.7952414,
          -23.5578239,
          -2.5300149,
          -6.230153,
          -24.1883564,
          -13.6068461,
          -22.9170394,
          -7.0967312,
          -27.4283852,
          -22.7522298,
          -9.6528286,
          -27.6509938,
          -6.2294024,
          -22.9716226,
          -26.9074053,
          -22.9113633,
          -25.5009088,
          -27.576057,
          -12.5632247,
          -23.55,
          -22.8554274,
          -22.8955104,
          -25.4195733,
          -21.1135097,
          -16.8082128,
          -23.5603241,
          -23.554731,
          -23.4518845,
          -23.6215527,
          -27.5874762,
          -27.5768295,
          -12.9702236,
          -27.6122944,
          -27.7508857,
          -23.2187748,
          -8.7533808,
          -5.8831902,
          -22.9085842,
          -22.9545478,
          -2.6246454,
          -6.231521,
          -14.2781053,
          -5.867506,
          -27.6035057,
          -22.9689633,
          -8.5260945,
          -2.499687,
          -25.5598184,
          -13.013446,
          -29.1618897,
          -10.1783697,
          -19.926707,
          -14.1342524,
          -6.2313496,
          -23.5546973,
          -13.7981289,
          -13.0049035,
          -22.915182,
          -19.9120656,
          -23.40183,
          -14.8223523,
          -23.5587847,
          -14.2784494,
          -9.6724936,
          -23.5539507,
          -27.4278684,
          -5.8850191,
          -4.5293396,
          -3.7324,
          -22.9289122,
          -27.735627,
          -22.9740215,
          -2.4837165,
          -22.7740891,
          -20.668319,
          -23.555671,
          -23.2225336,
          -21.1210421,
          -8.5263459,
          -27.6048257,
          -14.2815189,
          -21.1315476,
          -9.462011,
          -12.6257481,
          -30.0368496,
          -31.7712873,
          -12.969188,
          -9.6317096,
          -22.927944,
          -13.0092213,
          -2.5297431,
          -28.0731813,
          -2.5589194,
          -16.3807452,
          -25.4423444,
          -14.2796128,
          -23.5554051,
          -14.2810802,
          -3.1290031,
          -27.6056467,
          -22.7556034,
          -2.814553,
          -14.2764719,
          -19.9110616,
          -22.984542,
          -27.5747931,
          -23.6373811,
          -14.2810047,
          -2.5275976,
          -3.7234648,
          -5.8769755,
          -2.7952653,
          -23.4387284,
          -23.4493579,
          -6.2335,
          -23.4372816,
          -23.5236129,
          -2.5280379,
          -25.4268992,
          -25.7863545,
          -14.2793055,
          -13.8937862,
          -3.6304562,
          -14.2810514,
          -22.9973307,
          -27.5741849,
          -22.9394266,
          -23.1412649,
          -14.281077,
          -20.7358933,
          -23.9860788,
          -30.0271859,
          -22.9854695,
          -6.7539233,
          -23.5361607,
          -22.881633,
          -9.6522298,
          -27.702304,
          -23.401587,
          -6.2296023,
          -6.2335174,
          -27.5883581,
          -22.7489147,
          -3.8461483,
          -23.6235,
          -23.3096262,
          -8.4832038,
          -27.5712368,
          -13.0049005,
          -2.797981,
          -21.1243769,
          -2.9073029,
          -2.4048912,
          -22.756913,
          -25.5468272,
          -22.5309949,
          -2.9139551,
          -23.2206756,
          -6.2322637,
          -24.0119811,
          -23.6325177
         ],
         "legendgroup": "HOSTEL",
         "lon": [
          -41.8879341,
          -44.1613715,
          -32.4200741,
          -44.2996931,
          -46.6555705,
          -42.0202745,
          -46.6464588,
          -51.1923934,
          -35.046172,
          -35.5757479,
          -43.2303264,
          -38.505784,
          -42.6821801,
          -38.5282633,
          -44.9628115,
          -38.3670897,
          -38.5007423,
          -45.3578064,
          -49.7241723,
          -43.2204522,
          -48.4215725,
          -49.3837031,
          -35.0486292,
          -39.0689886,
          -35.2225019,
          -43.9759936,
          -41.8925686,
          -48.4713319,
          -45.0148326,
          -46.6778113,
          -38.910348,
          -43.189949,
          -42.7520562,
          -43.2285606,
          -48.6311527,
          -38.7259365,
          -38.9913211,
          -42.274485,
          -46.5357441,
          -46.6412999,
          -43.478632,
          -47.8900402,
          -42.825796,
          -46.7858719,
          -45.0625176,
          -43.5029453,
          -34.8415987,
          -46.635617,
          -45.0667503,
          -43.17803,
          -46.134459,
          -38.5329502,
          -46.6634883,
          -48.4284972,
          -48.2796278,
          -46.64005,
          -45.4265222,
          -42.8280957,
          -48.5445206,
          -38.9349598,
          -48.5101311,
          -42.038911,
          -45.0737664,
          -48.426848,
          -46.6749192,
          -47.2723122,
          -46.641798,
          -45.3660284,
          -43.4782795,
          -34.897107,
          -43.1798615,
          -48.4837044,
          -48.4294047,
          -44.1672561,
          -54.9341198,
          -45.399081,
          -42.0213189,
          -48.442717,
          -46.79278,
          -48.4851101,
          -49.0711089,
          -48.4676514,
          -43.2196461,
          -41.8949999,
          -43.1772025,
          -35.184442,
          -48.6509482,
          -51.1890852,
          -42.8823637,
          -49.1996137,
          -40.517241,
          -34.904266,
          -41.318896,
          -46.6548632,
          -55.7442034,
          -38.5248136,
          -48.4998256,
          -44.719704,
          -46.6590483,
          -46.6458131,
          -46.654872,
          -46.688848,
          -46.6935393,
          -60.0968564,
          -48.5336171,
          -38.4495835,
          -46.652317,
          -48.4270195,
          -41.391576,
          -43.1911108,
          -44.1762626,
          -44.167413,
          -50.8102518,
          -44.7191244,
          -38.9863455,
          -50.8146697,
          -48.5445953,
          -60.0618138,
          -34.8799683,
          -48.6264373,
          -45.6200336,
          -45.3658638,
          -48.481949,
          -44.7152245,
          -35.050072,
          -34.9033351,
          -44.6453208,
          -49.2717348,
          -48.5369054,
          -46.6800991,
          -46.6517108,
          -38.489853,
          -43.183958,
          -49.2770363,
          -40.513851,
          -43.1864509,
          -48.4232743,
          -49.319818,
          -46.644863,
          -54.5731703,
          -49.0890884,
          -45.0689773,
          -42.8277,
          -48.6194157,
          -41.9118922,
          -48.495314,
          -43.939926,
          -46.6873488,
          -46.6376991,
          -43.5040785,
          -34.827054,
          -38.5065914,
          -40.3389238,
          -54.5688392,
          -43.9587364,
          -38.7250104,
          -54.5869604,
          -51.2186785,
          -43.1694713,
          -38.5220141,
          -43.9412071,
          -38.5059072,
          -38.5177955,
          -43.941766,
          -39.073442,
          -60.0038317,
          -46.521159,
          -54.5738778,
          -46.4560941,
          -44.72,
          -44.7167175,
          -60.0215591,
          -46.663772,
          -46.6566385,
          -50.8639043,
          -41.9301452,
          -43.2378164,
          -43.1810372,
          -48.4273907,
          -41.8886072,
          -48.425237,
          -48.462924,
          -44.1679036,
          -48.4689863,
          -52.336922,
          -46.6930402,
          -48.6527155,
          -41.90522,
          -46.6897675,
          -48.4641667,
          -43.5008034,
          -40.2940439,
          -54.6286323,
          -46.6909933,
          -34.8529301,
          -46.6709612,
          -54.5698685,
          -35.0055371,
          -54.5736111,
          -54.5888749,
          -46.6962472,
          -48.4866409,
          -45.0600992,
          -43.177291,
          -46.6275258,
          -34.9063069,
          -46.2561535,
          -46.6505208,
          -46.6435764,
          -34.8942125,
          -41.9068422,
          -41.9215101,
          -47.9531641,
          -54.569145,
          -46.6548632,
          -41.3897187,
          -48.6302561,
          -51.92528,
          -43.957248,
          -48.5286817,
          -43.1777581,
          -43.954053,
          -46.6755325,
          -44.2491166,
          -48.4932661,
          -56.1044,
          -43.1831796,
          -54.956476,
          -43.5063956,
          -42.469942,
          -41.5749877,
          -54.480288,
          -43.1243634,
          -34.827793,
          -46.6932839,
          -48.558345,
          -48.6482977,
          -54.580374,
          -48.4863194,
          -51.2215273,
          -35.1840806,
          -42.0258742,
          -43.1784432,
          -48.466971,
          -54.5717425,
          -39.072685,
          -43.6061677,
          -38.0082846,
          -38.9176673,
          -51.1914404,
          -48.3402109,
          -43.180026,
          -35.0473324,
          -48.4579796,
          -46.6918179,
          -46.653946,
          -45.37,
          -38.9915584,
          -41.3899988,
          -43.4777331,
          -38.4408681,
          -48.6637003,
          -54.5900589,
          -48.3141666,
          -43.1921835,
          -54.5894574,
          -38.9919512,
          -50.7299709,
          -48.5043815,
          -43.242133,
          -44.1685638,
          -43.182605,
          -34.914025,
          -46.6902935,
          -35.049337,
          -38.5107356,
          -48.8403311,
          -48.680655,
          -35.004415,
          -38.91742,
          -46.646288,
          -45.3672507,
          -48.4640488,
          -41.8886072,
          -35.0492905,
          -41.912047,
          -46.6360448,
          -44.716926,
          -43.180694,
          -34.9049728,
          -46.227532,
          -60.0198357,
          -43.2012085,
          -46.6900444,
          -38.5059429,
          -43.1907066,
          -35.0476626,
          -38.5289593,
          -48.465521,
          -38.5081848,
          -54.590819,
          -44.1656442,
          -43.2023853,
          -34.8329849,
          -60.018467,
          -44.7262311,
          -54.5803912,
          -43.190689,
          -43.186521,
          -48.4349671,
          -42.0222861,
          -43.5009624,
          -44.1614466,
          -37.9587241,
          -41.3894465,
          -43.1939042,
          -54.5847129,
          -44.1612095,
          -35.1819496,
          -43.2087479,
          -38.506624,
          -43.21411,
          -38.5084839,
          -46.6437252,
          -38.5134978,
          -48.549769,
          -41.9158094,
          -48.4368664,
          -42.029562,
          -41.3886524,
          -55.7468418,
          -39.149169,
          -48.5253959,
          -56.4972839,
          -46.6415024,
          -45.4202884,
          -41.890756,
          -39.1036727,
          -48.3457728,
          -46.687821,
          -52.3452687,
          -43.1910998,
          -43.5013616,
          -43.2146887,
          -42.4816736,
          -39.319218,
          -46.2770627,
          -43.185806,
          -48.5020939,
          -42.0306765,
          -48.4602239,
          -42.022185,
          -48.484279,
          -50.1417544,
          -42.8272649,
          -48.528965,
          -43.178733,
          -45.736382,
          -54.9554149,
          -60.0210493,
          -38.9172253,
          -48.3610134,
          -46.678092,
          -49.954787,
          -48.6496915,
          -60.653801,
          -43.1852896,
          -41.7689465,
          -51.5040105,
          -48.641508,
          -44.3474266,
          -43.9399023,
          -32.4107429,
          -41.3903525,
          -46.7086608,
          -42.8247196,
          -57.6566488,
          -41.8887118,
          -48.6545201,
          -44.3051449,
          -44.1702657,
          -42.0284376,
          -34.892071,
          -38.9186618,
          -48.6406138,
          -48.6560679,
          -50.8763364,
          -48.4886369,
          -39.278325,
          -35.0135804,
          -34.8512824,
          -38.5273491,
          -37.702459,
          -49.7792399,
          -38.9175552,
          -38.5304541,
          -35.6960225,
          -48.5476826,
          -32.4062672,
          -46.0460031,
          -48.3824662,
          -48.9483777,
          -48.4726562,
          -47.8127944,
          -44.294072,
          -38.91123,
          -51.2105669,
          -48.6321135,
          -46.05091,
          -38.9261556,
          -60.0041733,
          -44.1744499,
          -35.0452882,
          -44.1690439,
          -42.0227361,
          -43.1836111,
          -56.5017819,
          -43.9153229,
          -67.8188132,
          -35.2231292,
          -45.3581169,
          -32.4114075,
          -50.874674,
          -45.6936388,
          -46.3500725,
          -41.8947579,
          -38.9909063,
          -44.166562,
          -42.028547,
          -47.0684361,
          -48.5936592,
          -39.9099207,
          -48.458935,
          -42.026227,
          -44.7212078,
          -41.4041521,
          -43.1803035,
          -48.4722901,
          -48.6596241,
          -38.7484359,
          -41.093466,
          -43.1694951,
          -43.1843075,
          -45.361111,
          -56.0987701,
          -44.7177698,
          -35.0440688,
          -43.2144252,
          -46.6188794,
          -35.0432809,
          -43.1701791,
          -48.411974,
          -48.6371576,
          -43.2405869,
          -40.513769,
          -41.3863028,
          -43.18736,
          -43.501211,
          -54.5755907,
          -45.0149811,
          -42.0283391,
          -42.5202901,
          -54.5718315,
          -49.2752264,
          -48.5042748,
          -34.8510657,
          -48.5373611,
          -44.635289,
          -47.6344299,
          -48.484205,
          -40.2736214,
          -38.918856,
          -45.356863,
          -54.480288,
          -48.4320111,
          -47.8954,
          -49.0420022,
          -43.9758682,
          -43.2050437,
          -40.5160131,
          -46.6907639,
          -44.3042727,
          -35.0474271,
          -46.8180871,
          -38.91218,
          -43.1785591,
          -34.8431192,
          -48.4596944,
          -41.8766092,
          -35.7057142,
          -48.4752519,
          -35.0500496,
          -43.190928,
          -49.0808114,
          -45.9589515,
          -54.5546564,
          -48.42852,
          -41.3863114,
          -45.066667,
          -41.9900914,
          -43.2293449,
          -49.2734204,
          -44.1605349,
          -39.1482031,
          -46.7113914,
          -46.692716,
          -45.0658565,
          -46.6633951,
          -48.541205,
          -48.5277021,
          -38.5079237,
          -48.4434595,
          -48.5116315,
          -44.7200078,
          -35.0934551,
          -35.1786867,
          -43.1921099,
          -43.1940323,
          -60.9443704,
          -35.047462,
          -38.9971665,
          -35.1818347,
          -48.4656237,
          -43.1902778,
          -35.0099238,
          -43.2506791,
          -54.5709235,
          -38.4829706,
          -51.1786736,
          -48.3462239,
          -43.94574,
          -47.5152239,
          -35.0466307,
          -46.676627,
          -47.4450571,
          -38.532786,
          -43.1821136,
          -43.9697807,
          -45.015267,
          -39.0288686,
          -46.6872518,
          -38.9925455,
          -35.7185476,
          -46.6354446,
          -48.4033123,
          -35.177567,
          -37.7018119,
          -38.46158,
          -43.1771891,
          -48.5153697,
          -43.1932616,
          -44.2490907,
          -41.8933792,
          -40.493912,
          -46.674742,
          -44.7255694,
          -56.4978779,
          -35.0101485,
          -48.4688482,
          -38.9887143,
          -56.483125,
          -35.550904,
          -41.491316,
          -51.2207831,
          -52.3403946,
          -38.50758,
          -35.6982966,
          -43.177103,
          -38.5305644,
          -44.3043957,
          -48.6271755,
          -44.2705383,
          -39.0358111,
          -49.2443734,
          -38.992187,
          -46.6539687,
          -38.9887654,
          -60.0216397,
          -48.5146887,
          -46.1484729,
          -40.41489,
          -38.9910635,
          -43.9766164,
          -43.214107,
          -48.4222308,
          -46.6588602,
          -38.9899764,
          -44.3001579,
          -38.5213872,
          -35.1803098,
          -40.5130031,
          -45.0717292,
          -46.474488,
          -35.0458,
          -45.0787888,
          -46.6663887,
          -44.2948189,
          -49.2540036,
          -48.5205197,
          -38.9942432,
          -38.9500478,
          -38.7206589,
          -38.9899196,
          -43.2409966,
          -48.5344167,
          -43.2013159,
          -44.170279,
          -38.9887641,
          -40.5356404,
          -46.2270201,
          -51.2148647,
          -43.2055648,
          -35.635807,
          -46.6519784,
          -42.02045,
          -35.7056666,
          -48.4950678,
          -45.015615,
          -35.050813,
          -35.0433543,
          -48.5249885,
          -41.8813487,
          -32.414094,
          -46.66383,
          -44.7503096,
          -34.9997368,
          -48.4304649,
          -38.5320978,
          -40.5144769,
          -56.4856638,
          -41.7744049,
          -44.4166224,
          -41.887247,
          -54.5796466,
          -41.929504,
          -41.4026641,
          -44.7188833,
          -35.0555929,
          -46.2797737,
          -46.8822714
         ],
         "marker": {
          "color": "#EF553B"
         },
         "mode": "markers",
         "name": "HOSTEL",
         "showlegend": true,
         "subplot": "mapbox",
         "type": "scattermapbox"
        },
        {
         "hovertemplate": "type=GUESTHOUSE<br>latitude=%{lat}<br>longitude=%{lon}<extra></extra>",
         "lat": [
          -22.8946738,
          -22.7511662,
          -4.5254015,
          -14.2785407,
          -12.5006769,
          -6.2287306,
          -23.1424935,
          -14.2868583,
          -4.3972938,
          -22.9699068,
          -16.806632,
          -20.4557879,
          -2.7976507,
          -2.5783197,
          -23.545252,
          -23.5604173,
          -22.985002,
          -23.405202,
          -22.9673467,
          -27.4613849,
          -22.5006043,
          -27.6874033,
          -6.690158,
          -23.3515801,
          -23.8126218,
          -23.4065236,
          -23.61527,
          -9.2389245,
          -25.5690702,
          -14.2803721,
          -22.9321259,
          -15.843163,
          -23.350983,
          -25.557774,
          -13.89151,
          -2.7502314,
          -29.3218632,
          -3.7266933,
          -22.9956072,
          -25.6274283,
          -9.1856122,
          -13.381892,
          -21.1179264,
          -22.9836813,
          -3.6281337,
          -16.4629575,
          -14.277238,
          -12.5707494,
          -22.7710997,
          -22.9527327,
          -13.7278019,
          -13.791398,
          -15.4638478,
          -15.552056,
          -15.4701389,
          -15.4602893,
          -17.3311547,
          -27.5854946,
          -4.039789,
          -22.745285,
          -3.7244694,
          -8.7571195,
          -27.9002601,
          -16.385611,
          -12.5598899,
          -13.3785447,
          -23.216164,
          -30.0439257,
          -21.1089237,
          -23.1522047,
          -20.3866673,
          -21.1118073,
          -21.1103751,
          -20.3763316,
          -8.5338944,
          -8.4846079,
          -8.6964266,
          -8.1257539,
          -18.2501201,
          -12.9667063,
          -8.5011667,
          -8.4824217,
          -23.6219254,
          -22.9,
          -24.5548475,
          -24.5848954,
          -24.5903303,
          -24.5562379,
          -20.5315534,
          -22.995808,
          -23.0112125,
          -4.8544173,
          -4.8557496,
          -5.0856436,
          -5.4068437,
          -5.0566048,
          -25.4575,
          -13.378792,
          -2.7968388,
          -5.8817066,
          -23.6484804,
          -16.494134,
          -5.881723,
          -25.4504049,
          -25.381725,
          -25.2164171,
          -25.2136111,
          -25.3525,
          -25.212348,
          -25.459085,
          -25.4601057,
          -25.3525,
          -9.585042,
          -23.1422816,
          -19.3380708,
          -27.6499052,
          -22.9423834,
          -24.013367,
          -23.7798982,
          -22.9412689,
          -2.9039628,
          -27.5066768,
          -22.9740457,
          -9.6443952,
          -22.9921566,
          -22.9619892,
          -22.9651021,
          -22.954086,
          -29.3727603,
          -22.9706624,
          -25.481596,
          -9.839643,
          -14.283681,
          -23.2165276,
          -20.2658201,
          -22.9415298,
          -2.7975325,
          -20.373134,
          -23.5169952,
          -23.5366717,
          -12.9742445,
          -25.5482532,
          -18.9097969,
          -22.7237104,
          -6.2321881,
          -5.124376,
          -27.6669127,
          -22.9709538,
          -2.7942892,
          -13.3784127,
          -23.025139,
          -13.3794928,
          -22.9363425,
          -10.9932934,
          -12.5601624,
          -12.562846,
          -22.7675791,
          -21.1341006,
          -2.797934,
          -23.207282,
          -22.7557237,
          -7.306186,
          -12.5568585,
          -25.5654302,
          -12.9630172,
          -3.6255126,
          -22.7623989,
          -21.1249034,
          -15.0556509,
          -7.130377,
          -13.0095538,
          -13.3919441,
          -22.995762,
          -22.9841546,
          -16.4927839,
          -20.3869442,
          -12.6076347,
          -15.593956,
          -7.7873087,
          -5.9796681,
          -21.1270618,
          -16.3861472,
          -22.914915,
          -28.0712324,
          -23.7751635,
          -16.3417454,
          -16.4534424,
          -4.5267927,
          -23.964824,
          -22.79367,
          -2.794326,
          -2.796588,
          -12.9754614,
          -23.4661791,
          -16.4845945,
          -22.7499397,
          -23.1426241,
          -16.5928206,
          -27.8997796,
          -22.9159415,
          -25.4395508,
          -14.2767345,
          -1.1329191,
          -9.6674811,
          -23.1413281,
          -23.2152615,
          -16.5887616,
          -1.4550515,
          -22.9162261,
          -16.5863208,
          -27.5747848,
          -23.1449383,
          -23.1427138,
          -27.6096431,
          -23.2150218,
          -22.9845108,
          -22.9161716,
          -27.7816111,
          -13.0042325,
          -13.008245,
          -22.750587,
          -14.2773387,
          -12.9726945,
          -27.7693068,
          -22.9955689,
          -22.7761509,
          -22.9231569,
          -23.423943,
          -27.5828975,
          -16.5874057,
          -8.7176917,
          -9.660216,
          -21.688025,
          -23.5706981,
          -23.4475574,
          -20.1449534,
          -19.0048305,
          -22.772464,
          -29.3577161,
          -23.2229392,
          -12.8991886,
          -12.5921466,
          -3.6232154,
          -23.6051931,
          -12.487767,
          -3.022252,
          -16.4917398,
          -22.7759592,
          -22.9434034,
          -9.6044805,
          -23.143648,
          -23.1414896,
          -26.6282536,
          -14.2817402,
          -12.9006489,
          -22.9699344,
          -24.7356536,
          -27.6098474,
          -22.9811279,
          -2.5123685,
          -22.9492259,
          -22.2871356,
          -23.2087919,
          -22.9034686,
          -12.6160294,
          -12.5637089,
          -21.1182364,
          -30.0678837,
          -27.6133652,
          -22.9999629,
          -6.2293418,
          -8.5064051,
          -20.7222285,
          -23.5589351,
          -23.181567,
          -6.309241,
          -13.3886005,
          -12.5641252,
          -3.6242382,
          -9.2406659,
          -9.0827024,
          -2.5047314,
          -14.3835365,
          -22.73128,
          -23.2172105,
          -22.7552652,
          -22.9229322,
          -22.3408871,
          -27.5830567
         ],
         "legendgroup": "GUESTHOUSE",
         "lon": [
          -43.1925447,
          -41.8799602,
          -37.7018988,
          -38.9929398,
          -37.9628418,
          -35.0501411,
          -44.1678422,
          -38.9856606,
          -37.7959565,
          -43.1885169,
          -39.146347,
          -54.5895989,
          -40.510824,
          -42.7513365,
          -46.6731679,
          -46.6904907,
          -43.195695,
          -45.014658,
          -43.1813791,
          -48.3827455,
          -42.9946639,
          -48.4868609,
          -34.9324965,
          -44.7245656,
          -45.3657757,
          -45.0150009,
          -46.6790545,
          -35.3526222,
          -54.5540412,
          -38.9912721,
          -42.4644656,
          -47.97949,
          -44.7240795,
          -54.5704886,
          -38.9519351,
          -42.8149962,
          -49.7132683,
          -38.5168833,
          -43.243093,
          -48.5360848,
          -38.2675155,
          -38.919441,
          -56.5045014,
          -43.2011058,
          -38.7271277,
          -39.0623437,
          -38.9885326,
          -41.389858,
          -41.9061428,
          -43.182093,
          -46.3542267,
          -47.464898,
          -55.7541179,
          -56.097697,
          -55.7488983,
          -55.7584681,
          -39.2202227,
          -48.4334272,
          -38.1982827,
          -46.231275,
          -38.5072036,
          -35.0962784,
          -48.5907939,
          -39.037226,
          -41.3901248,
          -38.9165935,
          -44.713917,
          -51.2026444,
          -44.1771894,
          -44.732475,
          -43.5117698,
          -44.1663414,
          -44.1828472,
          -43.51762,
          -35.0067715,
          -35.0009623,
          -35.1074123,
          -34.8990963,
          -43.59804,
          -38.5058019,
          -35.0056224,
          -35.000416,
          -45.3795738,
          -43.2333333,
          -48.6784487,
          -48.6291486,
          -48.5975323,
          -48.6779201,
          -47.3885133,
          -43.2415623,
          -43.2953208,
          -37.240371,
          -37.2395958,
          -36.5839576,
          -35.3210449,
          -36.0400554,
          -48.2461111,
          -38.917316,
          -40.5116181,
          -35.1764092,
          -46.6400865,
          -39.074872,
          -35.1808369,
          -48.2502365,
          -48.238999,
          -48.002622,
          -47.9986111,
          -48.1683333,
          -47.996186,
          -48.245132,
          -48.2443856,
          -48.1683333,
          -35.664903,
          -44.1691978,
          -43.6180706,
          -48.4754911,
          -43.1938379,
          -46.2744719,
          -45.3570058,
          -43.187192,
          -41.7677864,
          -48.4238484,
          -43.4004405,
          -35.713037,
          -43.2331485,
          -43.1741237,
          -43.1980402,
          -43.1799602,
          -50.8820573,
          -43.1856679,
          -48.834309,
          -35.897265,
          -38.993225,
          -44.7335046,
          -56.3033166,
          -43.1898709,
          -40.5139015,
          -43.501869,
          -45.1872938,
          -46.5726511,
          -38.5083185,
          -54.5847278,
          -48.2581444,
          -45.5659102,
          -35.0441195,
          -35.62485,
          -48.4850679,
          -43.1894059,
          -40.5192314,
          -38.914899,
          -43.5114841,
          -38.912584,
          -42.475956,
          -37.0532279,
          -41.3908134,
          -41.389446,
          -41.9038768,
          -44.2575619,
          -40.515908,
          -44.717563,
          -41.8798236,
          -34.8096449,
          -41.3912743,
          -48.3151715,
          -38.5024207,
          -38.7349475,
          -41.8902545,
          -56.4879903,
          -38.9976235,
          -34.822439,
          -38.5294362,
          -38.9338536,
          -43.2445,
          -43.2201403,
          -39.0732526,
          -43.505247,
          -38.9658773,
          -56.0937574,
          -34.8397149,
          -35.1241493,
          -56.4900438,
          -39.0425561,
          -43.180019,
          -48.6270975,
          -45.3547328,
          -39.0075569,
          -39.0642973,
          -37.7053852,
          -46.189142,
          -41.93089,
          -40.514268,
          -40.516663,
          -38.5111134,
          -45.0641691,
          -39.0808602,
          -41.8783855,
          -44.1678017,
          -39.1037706,
          -48.5917424,
          -43.1898978,
          -48.7883955,
          -38.9988458,
          -48.459831,
          -35.7146543,
          -44.1678993,
          -44.7120064,
          -39.0986385,
          -48.4953868,
          -43.1836076,
          -39.0915321,
          -48.4307798,
          -44.1691566,
          -44.1632457,
          -48.4408004,
          -44.7120351,
          -43.2251071,
          -43.1810372,
          -48.5085448,
          -38.5260985,
          -38.5275399,
          -41.875858,
          -38.9878406,
          -38.5094416,
          -48.532243,
          -43.2695969,
          -41.9057224,
          -43.1749729,
          -45.0645382,
          -48.4358695,
          -39.0907582,
          -35.0877527,
          -35.709422,
          -45.2641376,
          -46.6564918,
          -45.0689459,
          -44.1937833,
          -57.6429184,
          -41.913842,
          -50.8487129,
          -44.7186339,
          -38.6575333,
          -38.0362933,
          -38.7397879,
          -46.6170349,
          -37.958517,
          -39.641744,
          -39.0743312,
          -41.9245423,
          -43.201532,
          -37.7708409,
          -44.167707,
          -44.1614466,
          -48.6977019,
          -38.9886436,
          -38.4846934,
          -43.1889633,
          -47.529551,
          -48.4485951,
          -43.1962842,
          -54.9426921,
          -43.1829586,
          -42.5336978,
          -44.7188497,
          -42.0322319,
          -41.4928928,
          -41.3871146,
          -44.1681622,
          -51.1895504,
          -48.4632182,
          -44.3099198,
          -35.050753,
          -35.0060902,
          -40.5268645,
          -46.6772384,
          -44.712121,
          -35.038249,
          -38.9302044,
          -41.3897579,
          -38.7408685,
          -35.3525311,
          -35.2728096,
          -54.949571,
          -39.048916,
          -45.58174,
          -44.7327392,
          -41.8890009,
          -43.1891119,
          -42.3191128,
          -48.4357289
         ],
         "marker": {
          "color": "#00cc96"
         },
         "mode": "markers",
         "name": "GUESTHOUSE",
         "showlegend": true,
         "subplot": "mapbox",
         "type": "scattermapbox"
        },
        {
         "hovertemplate": "type=APARTMENT<br>latitude=%{lat}<br>longitude=%{lon}<extra></extra>",
         "lat": [
          -25.5354009,
          -6.2288027,
          -5.8659892,
          -22.9131468,
          -22.9689476,
          -27.603075,
          -22.9686986,
          -22.9733569,
          -26.9991926,
          -26.9872969,
          -26.9954998,
          -23.5451589,
          -22.7812374,
          -13.4159616,
          -22.9824519,
          -22.7578289,
          -22.9736751,
          -22.9622263,
          -22.9736751,
          -22.9238566,
          -22.984533,
          -22.9349033,
          -5.8827441,
          -16.3836732,
          -22.9843951,
          -27.4368679,
          -12.9278385,
          -12.9497802,
          -21.7236994,
          -20.465795,
          -3.0435933,
          -8.3976757,
          -22.9904763,
          -3.1343972,
          -3.137698,
          -27.5771314,
          -5.888709,
          -23.7783563,
          -22.7844949
         ],
         "legendgroup": "APARTMENT",
         "lon": [
          -54.5786148,
          -35.0472863,
          -35.1806381,
          -43.1811869,
          -42.0316632,
          -48.4666214,
          -43.1823365,
          -43.4140837,
          -48.6241128,
          -48.633392,
          -48.6291064,
          -46.6439768,
          -41.9494075,
          -38.9292297,
          -43.1923272,
          -41.8890205,
          -43.1893129,
          -43.1769132,
          -43.1893129,
          -43.36911,
          -43.193232,
          -43.1783685,
          -35.1764145,
          -39.0353049,
          -43.1918041,
          -48.3961889,
          -38.6178364,
          -38.3469205,
          -44.9856716,
          -54.60504,
          -59.9742962,
          -35.0433665,
          -43.2316679,
          -60.0201953,
          -60.0237749,
          -48.423069,
          -35.173635,
          -45.3582328,
          -41.9295907
         ],
         "marker": {
          "color": "#ab63fa"
         },
         "mode": "markers",
         "name": "APARTMENT",
         "showlegend": true,
         "subplot": "mapbox",
         "type": "scattermapbox"
        },
        {
         "hovertemplate": "type=CAMPSITE<br>latitude=%{lat}<br>longitude=%{lon}<extra></extra>",
         "lat": [
          -2.9148703,
          -23.5088602,
          -22.8603968,
          -23.0228522,
          -14.1343918,
          -0.704711,
          -27.5810539,
          -23.1442215,
          -8.8457613
         ],
         "legendgroup": "CAMPSITE",
         "lon": [
          -41.4079667,
          -45.1323908,
          -42.4422478,
          -43.5209733,
          -47.5153247,
          -48.520249,
          -48.4308963,
          -44.1691437,
          -35.1483123
         ],
         "marker": {
          "color": "#FFA15A"
         },
         "mode": "markers",
         "name": "CAMPSITE",
         "showlegend": true,
         "subplot": "mapbox",
         "type": "scattermapbox"
        }
       ],
       "layout": {
        "height": 360,
        "legend": {
         "title": {
          "text": "type"
         },
         "tracegroupgap": 0
        },
        "mapbox": {
         "center": {
          "lat": -18.60403630685053,
          "lon": -44.20280943558719
         },
         "domain": {
          "x": [
           0,
           1
          ],
          "y": [
           0,
           1
          ]
         },
         "zoom": 10
        },
        "margin": {
         "t": 60
        },
        "template": {
         "data": {
          "bar": [
           {
            "error_x": {
             "color": "#2a3f5f"
            },
            "error_y": {
             "color": "#2a3f5f"
            },
            "marker": {
             "line": {
              "color": "#E5ECF6",
              "width": 0.5
             },
             "pattern": {
              "fillmode": "overlay",
              "size": 10,
              "solidity": 0.2
             }
            },
            "type": "bar"
           }
          ],
          "barpolar": [
           {
            "marker": {
             "line": {
              "color": "#E5ECF6",
              "width": 0.5
             },
             "pattern": {
              "fillmode": "overlay",
              "size": 10,
              "solidity": 0.2
             }
            },
            "type": "barpolar"
           }
          ],
          "carpet": [
           {
            "aaxis": {
             "endlinecolor": "#2a3f5f",
             "gridcolor": "white",
             "linecolor": "white",
             "minorgridcolor": "white",
             "startlinecolor": "#2a3f5f"
            },
            "baxis": {
             "endlinecolor": "#2a3f5f",
             "gridcolor": "white",
             "linecolor": "white",
             "minorgridcolor": "white",
             "startlinecolor": "#2a3f5f"
            },
            "type": "carpet"
           }
          ],
          "choropleth": [
           {
            "colorbar": {
             "outlinewidth": 0,
             "ticks": ""
            },
            "type": "choropleth"
           }
          ],
          "contour": [
           {
            "colorbar": {
             "outlinewidth": 0,
             "ticks": ""
            },
            "colorscale": [
             [
              0,
              "#0d0887"
             ],
             [
              0.1111111111111111,
              "#46039f"
             ],
             [
              0.2222222222222222,
              "#7201a8"
             ],
             [
              0.3333333333333333,
              "#9c179e"
             ],
             [
              0.4444444444444444,
              "#bd3786"
             ],
             [
              0.5555555555555556,
              "#d8576b"
             ],
             [
              0.6666666666666666,
              "#ed7953"
             ],
             [
              0.7777777777777778,
              "#fb9f3a"
             ],
             [
              0.8888888888888888,
              "#fdca26"
             ],
             [
              1,
              "#f0f921"
             ]
            ],
            "type": "contour"
           }
          ],
          "contourcarpet": [
           {
            "colorbar": {
             "outlinewidth": 0,
             "ticks": ""
            },
            "type": "contourcarpet"
           }
          ],
          "heatmap": [
           {
            "colorbar": {
             "outlinewidth": 0,
             "ticks": ""
            },
            "colorscale": [
             [
              0,
              "#0d0887"
             ],
             [
              0.1111111111111111,
              "#46039f"
             ],
             [
              0.2222222222222222,
              "#7201a8"
             ],
             [
              0.3333333333333333,
              "#9c179e"
             ],
             [
              0.4444444444444444,
              "#bd3786"
             ],
             [
              0.5555555555555556,
              "#d8576b"
             ],
             [
              0.6666666666666666,
              "#ed7953"
             ],
             [
              0.7777777777777778,
              "#fb9f3a"
             ],
             [
              0.8888888888888888,
              "#fdca26"
             ],
             [
              1,
              "#f0f921"
             ]
            ],
            "type": "heatmap"
           }
          ],
          "heatmapgl": [
           {
            "colorbar": {
             "outlinewidth": 0,
             "ticks": ""
            },
            "colorscale": [
             [
              0,
              "#0d0887"
             ],
             [
              0.1111111111111111,
              "#46039f"
             ],
             [
              0.2222222222222222,
              "#7201a8"
             ],
             [
              0.3333333333333333,
              "#9c179e"
             ],
             [
              0.4444444444444444,
              "#bd3786"
             ],
             [
              0.5555555555555556,
              "#d8576b"
             ],
             [
              0.6666666666666666,
              "#ed7953"
             ],
             [
              0.7777777777777778,
              "#fb9f3a"
             ],
             [
              0.8888888888888888,
              "#fdca26"
             ],
             [
              1,
              "#f0f921"
             ]
            ],
            "type": "heatmapgl"
           }
          ],
          "histogram": [
           {
            "marker": {
             "pattern": {
              "fillmode": "overlay",
              "size": 10,
              "solidity": 0.2
             }
            },
            "type": "histogram"
           }
          ],
          "histogram2d": [
           {
            "colorbar": {
             "outlinewidth": 0,
             "ticks": ""
            },
            "colorscale": [
             [
              0,
              "#0d0887"
             ],
             [
              0.1111111111111111,
              "#46039f"
             ],
             [
              0.2222222222222222,
              "#7201a8"
             ],
             [
              0.3333333333333333,
              "#9c179e"
             ],
             [
              0.4444444444444444,
              "#bd3786"
             ],
             [
              0.5555555555555556,
              "#d8576b"
             ],
             [
              0.6666666666666666,
              "#ed7953"
             ],
             [
              0.7777777777777778,
              "#fb9f3a"
             ],
             [
              0.8888888888888888,
              "#fdca26"
             ],
             [
              1,
              "#f0f921"
             ]
            ],
            "type": "histogram2d"
           }
          ],
          "histogram2dcontour": [
           {
            "colorbar": {
             "outlinewidth": 0,
             "ticks": ""
            },
            "colorscale": [
             [
              0,
              "#0d0887"
             ],
             [
              0.1111111111111111,
              "#46039f"
             ],
             [
              0.2222222222222222,
              "#7201a8"
             ],
             [
              0.3333333333333333,
              "#9c179e"
             ],
             [
              0.4444444444444444,
              "#bd3786"
             ],
             [
              0.5555555555555556,
              "#d8576b"
             ],
             [
              0.6666666666666666,
              "#ed7953"
             ],
             [
              0.7777777777777778,
              "#fb9f3a"
             ],
             [
              0.8888888888888888,
              "#fdca26"
             ],
             [
              1,
              "#f0f921"
             ]
            ],
            "type": "histogram2dcontour"
           }
          ],
          "mesh3d": [
           {
            "colorbar": {
             "outlinewidth": 0,
             "ticks": ""
            },
            "type": "mesh3d"
           }
          ],
          "parcoords": [
           {
            "line": {
             "colorbar": {
              "outlinewidth": 0,
              "ticks": ""
             }
            },
            "type": "parcoords"
           }
          ],
          "pie": [
           {
            "automargin": true,
            "type": "pie"
           }
          ],
          "scatter": [
           {
            "fillpattern": {
             "fillmode": "overlay",
             "size": 10,
             "solidity": 0.2
            },
            "type": "scatter"
           }
          ],
          "scatter3d": [
           {
            "line": {
             "colorbar": {
              "outlinewidth": 0,
              "ticks": ""
             }
            },
            "marker": {
             "colorbar": {
              "outlinewidth": 0,
              "ticks": ""
             }
            },
            "type": "scatter3d"
           }
          ],
          "scattercarpet": [
           {
            "marker": {
             "colorbar": {
              "outlinewidth": 0,
              "ticks": ""
             }
            },
            "type": "scattercarpet"
           }
          ],
          "scattergeo": [
           {
            "marker": {
             "colorbar": {
              "outlinewidth": 0,
              "ticks": ""
             }
            },
            "type": "scattergeo"
           }
          ],
          "scattergl": [
           {
            "marker": {
             "colorbar": {
              "outlinewidth": 0,
              "ticks": ""
             }
            },
            "type": "scattergl"
           }
          ],
          "scattermapbox": [
           {
            "marker": {
             "colorbar": {
              "outlinewidth": 0,
              "ticks": ""
             }
            },
            "type": "scattermapbox"
           }
          ],
          "scatterpolar": [
           {
            "marker": {
             "colorbar": {
              "outlinewidth": 0,
              "ticks": ""
             }
            },
            "type": "scatterpolar"
           }
          ],
          "scatterpolargl": [
           {
            "marker": {
             "colorbar": {
              "outlinewidth": 0,
              "ticks": ""
             }
            },
            "type": "scatterpolargl"
           }
          ],
          "scatterternary": [
           {
            "marker": {
             "colorbar": {
              "outlinewidth": 0,
              "ticks": ""
             }
            },
            "type": "scatterternary"
           }
          ],
          "surface": [
           {
            "colorbar": {
             "outlinewidth": 0,
             "ticks": ""
            },
            "colorscale": [
             [
              0,
              "#0d0887"
             ],
             [
              0.1111111111111111,
              "#46039f"
             ],
             [
              0.2222222222222222,
              "#7201a8"
             ],
             [
              0.3333333333333333,
              "#9c179e"
             ],
             [
              0.4444444444444444,
              "#bd3786"
             ],
             [
              0.5555555555555556,
              "#d8576b"
             ],
             [
              0.6666666666666666,
              "#ed7953"
             ],
             [
              0.7777777777777778,
              "#fb9f3a"
             ],
             [
              0.8888888888888888,
              "#fdca26"
             ],
             [
              1,
              "#f0f921"
             ]
            ],
            "type": "surface"
           }
          ],
          "table": [
           {
            "cells": {
             "fill": {
              "color": "#EBF0F8"
             },
             "line": {
              "color": "white"
             }
            },
            "header": {
             "fill": {
              "color": "#C8D4E3"
             },
             "line": {
              "color": "white"
             }
            },
            "type": "table"
           }
          ]
         },
         "layout": {
          "annotationdefaults": {
           "arrowcolor": "#2a3f5f",
           "arrowhead": 0,
           "arrowwidth": 1
          },
          "autotypenumbers": "strict",
          "coloraxis": {
           "colorbar": {
            "outlinewidth": 0,
            "ticks": ""
           }
          },
          "colorscale": {
           "diverging": [
            [
             0,
             "#8e0152"
            ],
            [
             0.1,
             "#c51b7d"
            ],
            [
             0.2,
             "#de77ae"
            ],
            [
             0.3,
             "#f1b6da"
            ],
            [
             0.4,
             "#fde0ef"
            ],
            [
             0.5,
             "#f7f7f7"
            ],
            [
             0.6,
             "#e6f5d0"
            ],
            [
             0.7,
             "#b8e186"
            ],
            [
             0.8,
             "#7fbc41"
            ],
            [
             0.9,
             "#4d9221"
            ],
            [
             1,
             "#276419"
            ]
           ],
           "sequential": [
            [
             0,
             "#0d0887"
            ],
            [
             0.1111111111111111,
             "#46039f"
            ],
            [
             0.2222222222222222,
             "#7201a8"
            ],
            [
             0.3333333333333333,
             "#9c179e"
            ],
            [
             0.4444444444444444,
             "#bd3786"
            ],
            [
             0.5555555555555556,
             "#d8576b"
            ],
            [
             0.6666666666666666,
             "#ed7953"
            ],
            [
             0.7777777777777778,
             "#fb9f3a"
            ],
            [
             0.8888888888888888,
             "#fdca26"
            ],
            [
             1,
             "#f0f921"
            ]
           ],
           "sequentialminus": [
            [
             0,
             "#0d0887"
            ],
            [
             0.1111111111111111,
             "#46039f"
            ],
            [
             0.2222222222222222,
             "#7201a8"
            ],
            [
             0.3333333333333333,
             "#9c179e"
            ],
            [
             0.4444444444444444,
             "#bd3786"
            ],
            [
             0.5555555555555556,
             "#d8576b"
            ],
            [
             0.6666666666666666,
             "#ed7953"
            ],
            [
             0.7777777777777778,
             "#fb9f3a"
            ],
            [
             0.8888888888888888,
             "#fdca26"
            ],
            [
             1,
             "#f0f921"
            ]
           ]
          },
          "colorway": [
           "#636efa",
           "#EF553B",
           "#00cc96",
           "#ab63fa",
           "#FFA15A",
           "#19d3f3",
           "#FF6692",
           "#B6E880",
           "#FF97FF",
           "#FECB52"
          ],
          "font": {
           "color": "#2a3f5f"
          },
          "geo": {
           "bgcolor": "white",
           "lakecolor": "white",
           "landcolor": "#E5ECF6",
           "showlakes": true,
           "showland": true,
           "subunitcolor": "white"
          },
          "hoverlabel": {
           "align": "left"
          },
          "hovermode": "closest",
          "mapbox": {
           "style": "light"
          },
          "paper_bgcolor": "white",
          "plot_bgcolor": "#E5ECF6",
          "polar": {
           "angularaxis": {
            "gridcolor": "white",
            "linecolor": "white",
            "ticks": ""
           },
           "bgcolor": "#E5ECF6",
           "radialaxis": {
            "gridcolor": "white",
            "linecolor": "white",
            "ticks": ""
           }
          },
          "scene": {
           "xaxis": {
            "backgroundcolor": "#E5ECF6",
            "gridcolor": "white",
            "gridwidth": 2,
            "linecolor": "white",
            "showbackground": true,
            "ticks": "",
            "zerolinecolor": "white"
           },
           "yaxis": {
            "backgroundcolor": "#E5ECF6",
            "gridcolor": "white",
            "gridwidth": 2,
            "linecolor": "white",
            "showbackground": true,
            "ticks": "",
            "zerolinecolor": "white"
           },
           "zaxis": {
            "backgroundcolor": "#E5ECF6",
            "gridcolor": "white",
            "gridwidth": 2,
            "linecolor": "white",
            "showbackground": true,
            "ticks": "",
            "zerolinecolor": "white"
           }
          },
          "shapedefaults": {
           "line": {
            "color": "#2a3f5f"
           }
          },
          "ternary": {
           "aaxis": {
            "gridcolor": "white",
            "linecolor": "white",
            "ticks": ""
           },
           "baxis": {
            "gridcolor": "white",
            "linecolor": "white",
            "ticks": ""
           },
           "bgcolor": "#E5ECF6",
           "caxis": {
            "gridcolor": "white",
            "linecolor": "white",
            "ticks": ""
           }
          },
          "title": {
           "x": 0.05
          },
          "xaxis": {
           "automargin": true,
           "gridcolor": "white",
           "linecolor": "white",
           "ticks": "",
           "title": {
            "standoff": 15
           },
           "zerolinecolor": "white",
           "zerolinewidth": 2
          },
          "yaxis": {
           "automargin": true,
           "gridcolor": "white",
           "linecolor": "white",
           "ticks": "",
           "title": {
            "standoff": 15
           },
           "zerolinecolor": "white",
           "zerolinewidth": 2
          }
         }
        }
       }
      },
      "text/html": [
       "<div>                            <div id=\"30d5d9ba-002d-4cc9-bf90-86c6eb833f2b\" class=\"plotly-graph-div\" style=\"height:525px; width:100%;\"></div>            <script type=\"text/javascript\">                require([\"plotly\"], function(Plotly) {                    window.PLOTLYENV=window.PLOTLYENV || {};                                    if (document.getElementById(\"30d5d9ba-002d-4cc9-bf90-86c6eb833f2b\")) {                    Plotly.newPlot(                        \"30d5d9ba-002d-4cc9-bf90-86c6eb833f2b\",                        [{\"hovertemplate\":\"type=HOTEL\\u003cbr\\u003elatitude=%{lat}\\u003cbr\\u003elongitude=%{lon}\\u003cextra\\u003e\\u003c\\u002fextra\\u003e\",\"lat\":[-26.2295867,-13.3789396,-22.9846956,-9.6719381,-16.5923148,-29.6735969,-23.5166368,-27.7137145,-25.5375931,-25.5896633,-22.4141182,-28.1291787,-6.3694408,-15.877654,-23.5967993,-23.1413445,-23.544697,-23.5643051,-23.1404887,-20.289725,-5.8752959,-25.5409237,-5.8715615,-23.6221328,-23.5298779,-25.5385838,-25.5770749,-22.485218,-21.1336089,-21.127263,-22.75,-12.9709619,-13.381162,-25.5362367,-12.9723388,-25.5442783,-22.9955185,-15.6007085,-16.8068542,-22.8954837,-25.5344265,-25.4243665,-21.1285987,-25.5066622,-5.9481157,-5.0942806,-5.5442297,-5.0942864,-5.4088297,-25.459379,-23.2179336,-20.4498867,-14.9196158,-25.5509162,-19.6416194,-9.6325168,-9.660699,-5.8731294,-5.8778818,-23.1442347,-12.9272823,-16.4438991,-19.9176259,-1.4402068,-1.4514947,-26.9123134,-9.6429085,-3.2383922,-26.9227124,-15.5965437,-15.794607,-20.4621924,-16.385757,-16.3937759,-16.4476781,-16.3917332,-16.445024,-16.4434833,-23.2198876,-27.42971,-25.5348906,-25.5347685,-25.5347855,-21.1162531,-20.8166228,-5.8830875,-25.5999645,-23.5388878,-22.9833811,-25.539541,-3.347088,-1.4488791,-25.5095369,-8.9623935,-8.5070967,-25.5342331,-22.3608611,-25.4357687,-23.0141433,-22.9716564,-20.730209,-23.4655179,-2.7945643,-12.5609013,-5.1246753,-21.1291904,-23.5397789,-23.527861,-23.2422218,-21.1447251,-23.539425,-27.4282998,-25.5460694,-22.7635286,-25.5455669,-20.299563,-22.9493493,-22.9443267,-14.2868583,-23.5588985,-13.068977,-4.781979,-22.7511891,0.0,-2.7576023,-20.4238875,-21.1822305,-22.7713509,-3.1369234,-20.3857546,-22.7681777,-22.7765916,-8.529969,-16.0555554,-20.6121582,-19.8564698,-2.056219,-8.5046341,-22.753425,-6.2315162,-23.5567369,-22.9727787,-2.8191396,-22.3701437,-13.3826117,-22.6141255,-3.747904],\"legendgroup\":\"HOTEL\",\"lon\":[-48.5018,-38.9132194,-43.2424213,-35.7164946,-39.1028396,-50.9920258,-45.1979911,-48.5025784,-54.5813332,-54.5181884,-42.9035758,-48.6469208,-35.0083048,-52.2941715,-46.6727525,-44.1678441,-46.698818,-46.6332483,-44.1676141,-40.2977758,-35.1800012,-54.5881419,-35.1825192,-46.549354,-45.2226589,-54.5858002,-54.5422531,-48.9604835,-56.4781156,-56.485184,-41.8833333,-38.5059072,-38.91111,-54.5888183,-38.5089815,-54.5866699,-43.2425069,-56.0996895,-39.1495099,-48.4907605,-54.5858362,-49.2708642,-56.4845886,-54.5891421,-35.1552445,-36.2746341,-35.2575302,-36.2723109,-35.3112532,-48.24469,-44.7188338,-54.6286694,-39.0208748,-54.5753402,-43.9043753,-35.6973354,-35.704856,-35.1791954,-35.1756249,-44.1660156,-38.3210831,-39.0666389,-43.9364413,-48.4586105,-48.5023832,-49.0669784,-35.7080093,-39.2368872,-49.0602066,-56.0901971,-47.889436,-54.6238999,-39.034434,-39.0433311,-39.0677881,-39.0423317,-39.0625692,-39.0676574,-44.7164563,-48.449954,-54.5766234,-54.5881128,-54.585968,-56.5062986,-43.8099796,-35.1728714,-54.5240052,-46.6465759,-43.1947933,-54.581659,-39.136756,-48.4693673,-54.5489429,-35.1749603,-35.0054963,-54.5849482,-43.125098,-49.287154,-44.2298421,-43.1856447,-46.6196836,-45.0628612,-40.5142953,-41.3895157,-35.6250976,-56.4809722,-46.6442427,-46.682561,-44.6398304,-44.2243812,-46.644629,-48.4653147,-54.5890235,-41.8926824,-54.5869238,-43.8178677,-43.1829508,-43.1855243,-38.9856606,-46.6745481,-38.729839,-37.2828254,-41.8799393,0.0,-42.8378885,-49.9739568,-47.8121602,-41.901132,-60.0194159,-43.5038054,-41.9040724,-41.908471,-35.008523,-56.5663592,-46.0634864,-43.9768088,-60.0280191,-35.0017348,-41.879622,-35.0430387,-46.6635705,-43.1913069,-40.4066135,-44.8851342,-38.9105742,-46.4687246,-38.467814],\"marker\":{\"color\":\"#636efa\"},\"mode\":\"markers\",\"name\":\"HOTEL\",\"showlegend\":true,\"subplot\":\"mapbox\",\"type\":\"scattermapbox\"},{\"hovertemplate\":\"type=HOSTEL\\u003cbr\\u003elatitude=%{lat}\\u003cbr\\u003elongitude=%{lon}\\u003cextra\\u003e\\u003c\\u002fextra\\u003e\",\"lat\":[-22.7575705,-23.1416425,-3.8491694,-2.5254809,-23.5577317,-22.969251,-23.6063288,-30.0217658,-6.2369011,-9.489086,-22.9154491,-3.7429023,-9.0088341,-13.0023907,-21.7260092,-12.9501243,-13.0120577,-23.7792258,-29.3373844,-22.9848985,-27.5762487,-26.2506215,-6.2368174,-16.4419764,-9.0155009,-19.8588742,-22.7638018,-27.600239,-23.4098263,-23.5526186,-13.3819554,-22.980119,-2.5790624,-22.9152242,-26.9956962,-3.6295403,-14.2798459,-2.760617,-23.4713016,-23.5359036,-23.0310266,-15.7807902,-2.748265,-23.3191199,-23.4631763,-20.383841,-7.0628198,-23.553165,-23.4521944,-22.898504,-23.8425633,-13.0049492,-23.5594465,-27.3963317,-18.9181871,-23.576624,-23.7116762,-2.7491617,-27.1556094,-13.3925136,-27.7506223,-22.929341,-23.4357159,-27.573363,-23.6128189,-21.7064937,-23.572749,-23.8165838,-23.0264177,-8.11562,-22.9190958,-27.6869925,-27.5813042,-23.1421157,-2.5206514,-23.8029668,-22.968109,-27.609296,-24.187109,-27.1508299,-26.91244,-27.6051972,-22.9846712,-22.7625357,-22.9163158,-5.87039,-28.1213102,-29.1628578,-20.754514,-25.3869797,-2.7952786,-8.1327612,-12.896287,-23.5649656,-15.4591174,-13.0093557,-27.1499513,-23.217245,-23.5538689,-23.586203,-23.573254,-23.560125,-23.6323554,-3.0119471,-27.784801,-3.7493058,-23.5313129,-27.5729068,-12.5632502,-22.9792775,-23.0345918,-23.141695,-29.3623512,-23.2179308,-14.2766606,-29.3544078,-27.592124,-3.0889734,-8.0480714,-28.0741905,-23.7586735,-23.8128967,-27.1480104,-23.216368,-6.229394,-8.1294208,-23.2441976,-25.426691,-27.5799088,-23.5491096,-23.5637334,-12.970246,-22.9102333,-25.4435735,-2.7955681,-22.954113,-27.575191,-20.749801,-23.579372,-25.5502494,-26.8967037,-23.4430542,-2.759708,-28.0279512,-22.776776,-1.449969,-19.9359499,-23.545889,-23.5833454,-20.3822717,-7.11834,-12.9675252,-20.3186267,-25.5620367,-19.8575314,-3.62829,-25.5365692,-30.0396098,-22.9624384,-3.7257202,-19.9459455,-12.9709619,-3.7221119,-19.564197,-16.489799,-3.0782198,-22.579827,-25.5581107,-23.5431366,-23.2155556,-23.2222324,-3.1306184,-23.559925,-23.5695882,-29.3757283,-22.7743514,-22.91855,-22.9161716,-27.574725,-22.7588011,-27.5767574,-27.61424,-23.1443171,-27.6056416,-31.7591,-23.5486034,-28.1250876,-22.777487,-23.5440981,-27.6019444,-20.3866878,-20.2908458,-20.4665103,-23.5552934,-8.0180582,-23.5339061,-25.5542653,-8.5070989,-25.5530556,-25.5071491,-23.5660163,-27.6756534,-23.4182208,-22.922347,-23.5068527,-8.1281933,-23.9950449,-23.5579167,-23.5861137,-8.1100604,-22.7749449,-22.7753304,-15.8543667,-25.598254,-23.5649656,-12.5629294,-26.9567846,-14.235,-19.9111783,-26.2124337,-22.9204996,-19.9070818,-23.5507864,-19.4565516,-27.6624725,-15.5983,-22.9165384,-2.502384,-20.3865039,-22.296819,-12.5139199,-25.609356,-22.9048979,-7.1072061,-23.5618988,-27.5905918,-28.1345335,-25.5448054,-27.6927854,-30.0394594,-5.8718685,-22.9674369,-22.9641456,-27.599101,-25.4907558,-16.491691,-18.2383175,-12.5778227,-13.3796141,-29.1896561,-10.1826086,-22.934878,-6.2301308,-27.4310828,-23.5475579,-23.555467,-23.8158333,-14.2774924,-12.5639197,-23.030972,-3.7670038,-28.1890965,-25.5344804,-25.5696057,-22.9805466,-25.5303636,-14.2798112,-29.4867866,-27.6756591,-22.995788,-23.1415414,-22.9145681,-8.1401532,-23.5606513,-6.2304802,-3.7221898,-26.2903141,-24.552743,-8.507023,-13.379004,-23.579777,-23.8128678,-27.598427,-22.7588011,-6.2302788,-22.770735,-23.5791499,-23.218484,-22.963028,-8.1287044,-23.980351,-3.1337942,-22.9836101,-23.5544168,-12.9678473,-22.968464,-6.230777,-13.0042807,-27.601016,-12.973731,-25.535531,-23.1442228,-22.9852334,-7.1053848,-3.133578,-23.3487912,-25.5447915,-22.971768,-22.954917,-27.5813742,-22.973009,-20.3832694,-23.1414896,-12.487782,-12.5626721,-22.9285757,-25.5498756,-23.1409947,-5.8700643,-22.9831533,-12.967763,-22.9845323,-12.9740753,-23.5420508,-3.7193874,-27.598841,-22.7734071,-27.602144,-22.8935679,-12.5624785,-15.4571593,-16.8075461,-27.5821559,-21.1208114,-23.6085091,-22.9425142,-22.759039,-16.5950405,-10.1789836,-23.5567456,-31.7773658,-22.9868171,-20.3868223,-22.9214873,-22.932931,-7.204928,-24.0158662,-22.9122477,-27.1530656,-22.9721455,-27.4341296,-22.9750599,-27.438543,-29.0504435,-2.7593375,-27.778753,-22.914374,-23.7666182,-2.502506,-2.0476682,-13.3781778,-10.1931768,-23.56018,-29.198243,-28.1241027,2.8453402,-22.9470657,-2.9110154,-29.171441,-26.9829043,-23.0244194,-19.9358061,-3.8403973,-12.5658046,-23.569414,-2.7554611,-18.9993298,-22.7555953,-28.1256666,-2.5286728,-23.1428151,-22.9707354,-8.0500393,-13.3844744,-26.9909258,-28.129304,-29.3801104,-1.4540764,-11.568946,-8.554429,-8.0171808,-13.0052813,-4.527256,-29.3910033,-13.3796187,-13.0035104,-9.6268256,-27.6085006,-3.8451427,-23.8164112,-27.4436857,-15.8515145,-27.6521587,-14.1759615,-2.5038957,-13.381221,-30.0216601,-26.9881356,-20.61487,-13.5908669,-3.0675969,-21.1063209,-6.2325439,-23.1439069,-22.9751139,-22.5061111,-21.1228651,-19.922024,-9.9503689,-9.0166388,-23.7793844,-3.8423176,-29.377332,-23.7682985,-23.9648579,-22.7641195,-14.2764321,-23.143641,-22.966525,-22.9104927,-27.902147,-2.8806775,-27.430382,-22.977563,-23.2016492,-2.9107417,-22.9312134,-27.6308905,-28.1349897,-3.6240992,-21.710815,-22.9609276,-22.9578561,-23.788398,-15.5965566,-23.207114,-6.2393846,-22.9849018,-23.5012779,-6.23369,-22.9605445,-27.4521772,-26.9727902,-22.9962852,-2.7954655,-12.5603278,-22.910652,-20.3859591,-25.549924,-23.4059286,-22.9747383,-22.9324342,-25.5607008,-25.4437829,-27.675914,-8.0168819,-27.5755889,-23.262683,-24.8037727,-27.153669,-20.2365832,-13.38435,-23.778813,-25.609356,-27.5790749,-15.7519374,-26.9279804,-19.8588791,-22.9850647,-2.7952414,-23.5578239,-2.5300149,-6.230153,-24.1883564,-13.6068461,-22.9170394,-7.0967312,-27.4283852,-22.7522298,-9.6528286,-27.6509938,-6.2294024,-22.9716226,-26.9074053,-22.9113633,-25.5009088,-27.576057,-12.5632247,-23.55,-22.8554274,-22.8955104,-25.4195733,-21.1135097,-16.8082128,-23.5603241,-23.554731,-23.4518845,-23.6215527,-27.5874762,-27.5768295,-12.9702236,-27.6122944,-27.7508857,-23.2187748,-8.7533808,-5.8831902,-22.9085842,-22.9545478,-2.6246454,-6.231521,-14.2781053,-5.867506,-27.6035057,-22.9689633,-8.5260945,-2.499687,-25.5598184,-13.013446,-29.1618897,-10.1783697,-19.926707,-14.1342524,-6.2313496,-23.5546973,-13.7981289,-13.0049035,-22.915182,-19.9120656,-23.40183,-14.8223523,-23.5587847,-14.2784494,-9.6724936,-23.5539507,-27.4278684,-5.8850191,-4.5293396,-3.7324,-22.9289122,-27.735627,-22.9740215,-2.4837165,-22.7740891,-20.668319,-23.555671,-23.2225336,-21.1210421,-8.5263459,-27.6048257,-14.2815189,-21.1315476,-9.462011,-12.6257481,-30.0368496,-31.7712873,-12.969188,-9.6317096,-22.927944,-13.0092213,-2.5297431,-28.0731813,-2.5589194,-16.3807452,-25.4423444,-14.2796128,-23.5554051,-14.2810802,-3.1290031,-27.6056467,-22.7556034,-2.814553,-14.2764719,-19.9110616,-22.984542,-27.5747931,-23.6373811,-14.2810047,-2.5275976,-3.7234648,-5.8769755,-2.7952653,-23.4387284,-23.4493579,-6.2335,-23.4372816,-23.5236129,-2.5280379,-25.4268992,-25.7863545,-14.2793055,-13.8937862,-3.6304562,-14.2810514,-22.9973307,-27.5741849,-22.9394266,-23.1412649,-14.281077,-20.7358933,-23.9860788,-30.0271859,-22.9854695,-6.7539233,-23.5361607,-22.881633,-9.6522298,-27.702304,-23.401587,-6.2296023,-6.2335174,-27.5883581,-22.7489147,-3.8461483,-23.6235,-23.3096262,-8.4832038,-27.5712368,-13.0049005,-2.797981,-21.1243769,-2.9073029,-2.4048912,-22.756913,-25.5468272,-22.5309949,-2.9139551,-23.2206756,-6.2322637,-24.0119811,-23.6325177],\"legendgroup\":\"HOSTEL\",\"lon\":[-41.8879341,-44.1613715,-32.4200741,-44.2996931,-46.6555705,-42.0202745,-46.6464588,-51.1923934,-35.046172,-35.5757479,-43.2303264,-38.505784,-42.6821801,-38.5282633,-44.9628115,-38.3670897,-38.5007423,-45.3578064,-49.7241723,-43.2204522,-48.4215725,-49.3837031,-35.0486292,-39.0689886,-35.2225019,-43.9759936,-41.8925686,-48.4713319,-45.0148326,-46.6778113,-38.910348,-43.189949,-42.7520562,-43.2285606,-48.6311527,-38.7259365,-38.9913211,-42.274485,-46.5357441,-46.6412999,-43.478632,-47.8900402,-42.825796,-46.7858719,-45.0625176,-43.5029453,-34.8415987,-46.635617,-45.0667503,-43.17803,-46.134459,-38.5329502,-46.6634883,-48.4284972,-48.2796278,-46.64005,-45.4265222,-42.8280957,-48.5445206,-38.9349598,-48.5101311,-42.038911,-45.0737664,-48.426848,-46.6749192,-47.2723122,-46.641798,-45.3660284,-43.4782795,-34.897107,-43.1798615,-48.4837044,-48.4294047,-44.1672561,-54.9341198,-45.399081,-42.0213189,-48.442717,-46.79278,-48.4851101,-49.0711089,-48.4676514,-43.2196461,-41.8949999,-43.1772025,-35.184442,-48.6509482,-51.1890852,-42.8823637,-49.1996137,-40.517241,-34.904266,-41.318896,-46.6548632,-55.7442034,-38.5248136,-48.4998256,-44.719704,-46.6590483,-46.6458131,-46.654872,-46.688848,-46.6935393,-60.0968564,-48.5336171,-38.4495835,-46.652317,-48.4270195,-41.391576,-43.1911108,-44.1762626,-44.167413,-50.8102518,-44.7191244,-38.9863455,-50.8146697,-48.5445953,-60.0618138,-34.8799683,-48.6264373,-45.6200336,-45.3658638,-48.481949,-44.7152245,-35.050072,-34.9033351,-44.6453208,-49.2717348,-48.5369054,-46.6800991,-46.6517108,-38.489853,-43.183958,-49.2770363,-40.513851,-43.1864509,-48.4232743,-49.319818,-46.644863,-54.5731703,-49.0890884,-45.0689773,-42.8277,-48.6194157,-41.9118922,-48.495314,-43.939926,-46.6873488,-46.6376991,-43.5040785,-34.827054,-38.5065914,-40.3389238,-54.5688392,-43.9587364,-38.7250104,-54.5869604,-51.2186785,-43.1694713,-38.5220141,-43.9412071,-38.5059072,-38.5177955,-43.941766,-39.073442,-60.0038317,-46.521159,-54.5738778,-46.4560941,-44.72,-44.7167175,-60.0215591,-46.663772,-46.6566385,-50.8639043,-41.9301452,-43.2378164,-43.1810372,-48.4273907,-41.8886072,-48.425237,-48.462924,-44.1679036,-48.4689863,-52.336922,-46.6930402,-48.6527155,-41.90522,-46.6897675,-48.4641667,-43.5008034,-40.2940439,-54.6286323,-46.6909933,-34.8529301,-46.6709612,-54.5698685,-35.0055371,-54.5736111,-54.5888749,-46.6962472,-48.4866409,-45.0600992,-43.177291,-46.6275258,-34.9063069,-46.2561535,-46.6505208,-46.6435764,-34.8942125,-41.9068422,-41.9215101,-47.9531641,-54.569145,-46.6548632,-41.3897187,-48.6302561,-51.92528,-43.957248,-48.5286817,-43.1777581,-43.954053,-46.6755325,-44.2491166,-48.4932661,-56.1044,-43.1831796,-54.956476,-43.5063956,-42.469942,-41.5749877,-54.480288,-43.1243634,-34.827793,-46.6932839,-48.558345,-48.6482977,-54.580374,-48.4863194,-51.2215273,-35.1840806,-42.0258742,-43.1784432,-48.466971,-54.5717425,-39.072685,-43.6061677,-38.0082846,-38.9176673,-51.1914404,-48.3402109,-43.180026,-35.0473324,-48.4579796,-46.6918179,-46.653946,-45.37,-38.9915584,-41.3899988,-43.4777331,-38.4408681,-48.6637003,-54.5900589,-48.3141666,-43.1921835,-54.5894574,-38.9919512,-50.7299709,-48.5043815,-43.242133,-44.1685638,-43.182605,-34.914025,-46.6902935,-35.049337,-38.5107356,-48.8403311,-48.680655,-35.004415,-38.91742,-46.646288,-45.3672507,-48.4640488,-41.8886072,-35.0492905,-41.912047,-46.6360448,-44.716926,-43.180694,-34.9049728,-46.227532,-60.0198357,-43.2012085,-46.6900444,-38.5059429,-43.1907066,-35.0476626,-38.5289593,-48.465521,-38.5081848,-54.590819,-44.1656442,-43.2023853,-34.8329849,-60.018467,-44.7262311,-54.5803912,-43.190689,-43.186521,-48.4349671,-42.0222861,-43.5009624,-44.1614466,-37.9587241,-41.3894465,-43.1939042,-54.5847129,-44.1612095,-35.1819496,-43.2087479,-38.506624,-43.21411,-38.5084839,-46.6437252,-38.5134978,-48.549769,-41.9158094,-48.4368664,-42.029562,-41.3886524,-55.7468418,-39.149169,-48.5253959,-56.4972839,-46.6415024,-45.4202884,-41.890756,-39.1036727,-48.3457728,-46.687821,-52.3452687,-43.1910998,-43.5013616,-43.2146887,-42.4816736,-39.319218,-46.2770627,-43.185806,-48.5020939,-42.0306765,-48.4602239,-42.022185,-48.484279,-50.1417544,-42.8272649,-48.528965,-43.178733,-45.736382,-54.9554149,-60.0210493,-38.9172253,-48.3610134,-46.678092,-49.954787,-48.6496915,-60.653801,-43.1852896,-41.7689465,-51.5040105,-48.641508,-44.3474266,-43.9399023,-32.4107429,-41.3903525,-46.7086608,-42.8247196,-57.6566488,-41.8887118,-48.6545201,-44.3051449,-44.1702657,-42.0284376,-34.892071,-38.9186618,-48.6406138,-48.6560679,-50.8763364,-48.4886369,-39.278325,-35.0135804,-34.8512824,-38.5273491,-37.702459,-49.7792399,-38.9175552,-38.5304541,-35.6960225,-48.5476826,-32.4062672,-46.0460031,-48.3824662,-48.9483777,-48.4726562,-47.8127944,-44.294072,-38.91123,-51.2105669,-48.6321135,-46.05091,-38.9261556,-60.0041733,-44.1744499,-35.0452882,-44.1690439,-42.0227361,-43.1836111,-56.5017819,-43.9153229,-67.8188132,-35.2231292,-45.3581169,-32.4114075,-50.874674,-45.6936388,-46.3500725,-41.8947579,-38.9909063,-44.166562,-42.028547,-47.0684361,-48.5936592,-39.9099207,-48.458935,-42.026227,-44.7212078,-41.4041521,-43.1803035,-48.4722901,-48.6596241,-38.7484359,-41.093466,-43.1694951,-43.1843075,-45.361111,-56.0987701,-44.7177698,-35.0440688,-43.2144252,-46.6188794,-35.0432809,-43.1701791,-48.411974,-48.6371576,-43.2405869,-40.513769,-41.3863028,-43.18736,-43.501211,-54.5755907,-45.0149811,-42.0283391,-42.5202901,-54.5718315,-49.2752264,-48.5042748,-34.8510657,-48.5373611,-44.635289,-47.6344299,-48.484205,-40.2736214,-38.918856,-45.356863,-54.480288,-48.4320111,-47.8954,-49.0420022,-43.9758682,-43.2050437,-40.5160131,-46.6907639,-44.3042727,-35.0474271,-46.8180871,-38.91218,-43.1785591,-34.8431192,-48.4596944,-41.8766092,-35.7057142,-48.4752519,-35.0500496,-43.190928,-49.0808114,-45.9589515,-54.5546564,-48.42852,-41.3863114,-45.066667,-41.9900914,-43.2293449,-49.2734204,-44.1605349,-39.1482031,-46.7113914,-46.692716,-45.0658565,-46.6633951,-48.541205,-48.5277021,-38.5079237,-48.4434595,-48.5116315,-44.7200078,-35.0934551,-35.1786867,-43.1921099,-43.1940323,-60.9443704,-35.047462,-38.9971665,-35.1818347,-48.4656237,-43.1902778,-35.0099238,-43.2506791,-54.5709235,-38.4829706,-51.1786736,-48.3462239,-43.94574,-47.5152239,-35.0466307,-46.676627,-47.4450571,-38.532786,-43.1821136,-43.9697807,-45.015267,-39.0288686,-46.6872518,-38.9925455,-35.7185476,-46.6354446,-48.4033123,-35.177567,-37.7018119,-38.46158,-43.1771891,-48.5153697,-43.1932616,-44.2490907,-41.8933792,-40.493912,-46.674742,-44.7255694,-56.4978779,-35.0101485,-48.4688482,-38.9887143,-56.483125,-35.550904,-41.491316,-51.2207831,-52.3403946,-38.50758,-35.6982966,-43.177103,-38.5305644,-44.3043957,-48.6271755,-44.2705383,-39.0358111,-49.2443734,-38.992187,-46.6539687,-38.9887654,-60.0216397,-48.5146887,-46.1484729,-40.41489,-38.9910635,-43.9766164,-43.214107,-48.4222308,-46.6588602,-38.9899764,-44.3001579,-38.5213872,-35.1803098,-40.5130031,-45.0717292,-46.474488,-35.0458,-45.0787888,-46.6663887,-44.2948189,-49.2540036,-48.5205197,-38.9942432,-38.9500478,-38.7206589,-38.9899196,-43.2409966,-48.5344167,-43.2013159,-44.170279,-38.9887641,-40.5356404,-46.2270201,-51.2148647,-43.2055648,-35.635807,-46.6519784,-42.02045,-35.7056666,-48.4950678,-45.015615,-35.050813,-35.0433543,-48.5249885,-41.8813487,-32.414094,-46.66383,-44.7503096,-34.9997368,-48.4304649,-38.5320978,-40.5144769,-56.4856638,-41.7744049,-44.4166224,-41.887247,-54.5796466,-41.929504,-41.4026641,-44.7188833,-35.0555929,-46.2797737,-46.8822714],\"marker\":{\"color\":\"#EF553B\"},\"mode\":\"markers\",\"name\":\"HOSTEL\",\"showlegend\":true,\"subplot\":\"mapbox\",\"type\":\"scattermapbox\"},{\"hovertemplate\":\"type=GUESTHOUSE\\u003cbr\\u003elatitude=%{lat}\\u003cbr\\u003elongitude=%{lon}\\u003cextra\\u003e\\u003c\\u002fextra\\u003e\",\"lat\":[-22.8946738,-22.7511662,-4.5254015,-14.2785407,-12.5006769,-6.2287306,-23.1424935,-14.2868583,-4.3972938,-22.9699068,-16.806632,-20.4557879,-2.7976507,-2.5783197,-23.545252,-23.5604173,-22.985002,-23.405202,-22.9673467,-27.4613849,-22.5006043,-27.6874033,-6.690158,-23.3515801,-23.8126218,-23.4065236,-23.61527,-9.2389245,-25.5690702,-14.2803721,-22.9321259,-15.843163,-23.350983,-25.557774,-13.89151,-2.7502314,-29.3218632,-3.7266933,-22.9956072,-25.6274283,-9.1856122,-13.381892,-21.1179264,-22.9836813,-3.6281337,-16.4629575,-14.277238,-12.5707494,-22.7710997,-22.9527327,-13.7278019,-13.791398,-15.4638478,-15.552056,-15.4701389,-15.4602893,-17.3311547,-27.5854946,-4.039789,-22.745285,-3.7244694,-8.7571195,-27.9002601,-16.385611,-12.5598899,-13.3785447,-23.216164,-30.0439257,-21.1089237,-23.1522047,-20.3866673,-21.1118073,-21.1103751,-20.3763316,-8.5338944,-8.4846079,-8.6964266,-8.1257539,-18.2501201,-12.9667063,-8.5011667,-8.4824217,-23.6219254,-22.9,-24.5548475,-24.5848954,-24.5903303,-24.5562379,-20.5315534,-22.995808,-23.0112125,-4.8544173,-4.8557496,-5.0856436,-5.4068437,-5.0566048,-25.4575,-13.378792,-2.7968388,-5.8817066,-23.6484804,-16.494134,-5.881723,-25.4504049,-25.381725,-25.2164171,-25.2136111,-25.3525,-25.212348,-25.459085,-25.4601057,-25.3525,-9.585042,-23.1422816,-19.3380708,-27.6499052,-22.9423834,-24.013367,-23.7798982,-22.9412689,-2.9039628,-27.5066768,-22.9740457,-9.6443952,-22.9921566,-22.9619892,-22.9651021,-22.954086,-29.3727603,-22.9706624,-25.481596,-9.839643,-14.283681,-23.2165276,-20.2658201,-22.9415298,-2.7975325,-20.373134,-23.5169952,-23.5366717,-12.9742445,-25.5482532,-18.9097969,-22.7237104,-6.2321881,-5.124376,-27.6669127,-22.9709538,-2.7942892,-13.3784127,-23.025139,-13.3794928,-22.9363425,-10.9932934,-12.5601624,-12.562846,-22.7675791,-21.1341006,-2.797934,-23.207282,-22.7557237,-7.306186,-12.5568585,-25.5654302,-12.9630172,-3.6255126,-22.7623989,-21.1249034,-15.0556509,-7.130377,-13.0095538,-13.3919441,-22.995762,-22.9841546,-16.4927839,-20.3869442,-12.6076347,-15.593956,-7.7873087,-5.9796681,-21.1270618,-16.3861472,-22.914915,-28.0712324,-23.7751635,-16.3417454,-16.4534424,-4.5267927,-23.964824,-22.79367,-2.794326,-2.796588,-12.9754614,-23.4661791,-16.4845945,-22.7499397,-23.1426241,-16.5928206,-27.8997796,-22.9159415,-25.4395508,-14.2767345,-1.1329191,-9.6674811,-23.1413281,-23.2152615,-16.5887616,-1.4550515,-22.9162261,-16.5863208,-27.5747848,-23.1449383,-23.1427138,-27.6096431,-23.2150218,-22.9845108,-22.9161716,-27.7816111,-13.0042325,-13.008245,-22.750587,-14.2773387,-12.9726945,-27.7693068,-22.9955689,-22.7761509,-22.9231569,-23.423943,-27.5828975,-16.5874057,-8.7176917,-9.660216,-21.688025,-23.5706981,-23.4475574,-20.1449534,-19.0048305,-22.772464,-29.3577161,-23.2229392,-12.8991886,-12.5921466,-3.6232154,-23.6051931,-12.487767,-3.022252,-16.4917398,-22.7759592,-22.9434034,-9.6044805,-23.143648,-23.1414896,-26.6282536,-14.2817402,-12.9006489,-22.9699344,-24.7356536,-27.6098474,-22.9811279,-2.5123685,-22.9492259,-22.2871356,-23.2087919,-22.9034686,-12.6160294,-12.5637089,-21.1182364,-30.0678837,-27.6133652,-22.9999629,-6.2293418,-8.5064051,-20.7222285,-23.5589351,-23.181567,-6.309241,-13.3886005,-12.5641252,-3.6242382,-9.2406659,-9.0827024,-2.5047314,-14.3835365,-22.73128,-23.2172105,-22.7552652,-22.9229322,-22.3408871,-27.5830567],\"legendgroup\":\"GUESTHOUSE\",\"lon\":[-43.1925447,-41.8799602,-37.7018988,-38.9929398,-37.9628418,-35.0501411,-44.1678422,-38.9856606,-37.7959565,-43.1885169,-39.146347,-54.5895989,-40.510824,-42.7513365,-46.6731679,-46.6904907,-43.195695,-45.014658,-43.1813791,-48.3827455,-42.9946639,-48.4868609,-34.9324965,-44.7245656,-45.3657757,-45.0150009,-46.6790545,-35.3526222,-54.5540412,-38.9912721,-42.4644656,-47.97949,-44.7240795,-54.5704886,-38.9519351,-42.8149962,-49.7132683,-38.5168833,-43.243093,-48.5360848,-38.2675155,-38.919441,-56.5045014,-43.2011058,-38.7271277,-39.0623437,-38.9885326,-41.389858,-41.9061428,-43.182093,-46.3542267,-47.464898,-55.7541179,-56.097697,-55.7488983,-55.7584681,-39.2202227,-48.4334272,-38.1982827,-46.231275,-38.5072036,-35.0962784,-48.5907939,-39.037226,-41.3901248,-38.9165935,-44.713917,-51.2026444,-44.1771894,-44.732475,-43.5117698,-44.1663414,-44.1828472,-43.51762,-35.0067715,-35.0009623,-35.1074123,-34.8990963,-43.59804,-38.5058019,-35.0056224,-35.000416,-45.3795738,-43.2333333,-48.6784487,-48.6291486,-48.5975323,-48.6779201,-47.3885133,-43.2415623,-43.2953208,-37.240371,-37.2395958,-36.5839576,-35.3210449,-36.0400554,-48.2461111,-38.917316,-40.5116181,-35.1764092,-46.6400865,-39.074872,-35.1808369,-48.2502365,-48.238999,-48.002622,-47.9986111,-48.1683333,-47.996186,-48.245132,-48.2443856,-48.1683333,-35.664903,-44.1691978,-43.6180706,-48.4754911,-43.1938379,-46.2744719,-45.3570058,-43.187192,-41.7677864,-48.4238484,-43.4004405,-35.713037,-43.2331485,-43.1741237,-43.1980402,-43.1799602,-50.8820573,-43.1856679,-48.834309,-35.897265,-38.993225,-44.7335046,-56.3033166,-43.1898709,-40.5139015,-43.501869,-45.1872938,-46.5726511,-38.5083185,-54.5847278,-48.2581444,-45.5659102,-35.0441195,-35.62485,-48.4850679,-43.1894059,-40.5192314,-38.914899,-43.5114841,-38.912584,-42.475956,-37.0532279,-41.3908134,-41.389446,-41.9038768,-44.2575619,-40.515908,-44.717563,-41.8798236,-34.8096449,-41.3912743,-48.3151715,-38.5024207,-38.7349475,-41.8902545,-56.4879903,-38.9976235,-34.822439,-38.5294362,-38.9338536,-43.2445,-43.2201403,-39.0732526,-43.505247,-38.9658773,-56.0937574,-34.8397149,-35.1241493,-56.4900438,-39.0425561,-43.180019,-48.6270975,-45.3547328,-39.0075569,-39.0642973,-37.7053852,-46.189142,-41.93089,-40.514268,-40.516663,-38.5111134,-45.0641691,-39.0808602,-41.8783855,-44.1678017,-39.1037706,-48.5917424,-43.1898978,-48.7883955,-38.9988458,-48.459831,-35.7146543,-44.1678993,-44.7120064,-39.0986385,-48.4953868,-43.1836076,-39.0915321,-48.4307798,-44.1691566,-44.1632457,-48.4408004,-44.7120351,-43.2251071,-43.1810372,-48.5085448,-38.5260985,-38.5275399,-41.875858,-38.9878406,-38.5094416,-48.532243,-43.2695969,-41.9057224,-43.1749729,-45.0645382,-48.4358695,-39.0907582,-35.0877527,-35.709422,-45.2641376,-46.6564918,-45.0689459,-44.1937833,-57.6429184,-41.913842,-50.8487129,-44.7186339,-38.6575333,-38.0362933,-38.7397879,-46.6170349,-37.958517,-39.641744,-39.0743312,-41.9245423,-43.201532,-37.7708409,-44.167707,-44.1614466,-48.6977019,-38.9886436,-38.4846934,-43.1889633,-47.529551,-48.4485951,-43.1962842,-54.9426921,-43.1829586,-42.5336978,-44.7188497,-42.0322319,-41.4928928,-41.3871146,-44.1681622,-51.1895504,-48.4632182,-44.3099198,-35.050753,-35.0060902,-40.5268645,-46.6772384,-44.712121,-35.038249,-38.9302044,-41.3897579,-38.7408685,-35.3525311,-35.2728096,-54.949571,-39.048916,-45.58174,-44.7327392,-41.8890009,-43.1891119,-42.3191128,-48.4357289],\"marker\":{\"color\":\"#00cc96\"},\"mode\":\"markers\",\"name\":\"GUESTHOUSE\",\"showlegend\":true,\"subplot\":\"mapbox\",\"type\":\"scattermapbox\"},{\"hovertemplate\":\"type=APARTMENT\\u003cbr\\u003elatitude=%{lat}\\u003cbr\\u003elongitude=%{lon}\\u003cextra\\u003e\\u003c\\u002fextra\\u003e\",\"lat\":[-25.5354009,-6.2288027,-5.8659892,-22.9131468,-22.9689476,-27.603075,-22.9686986,-22.9733569,-26.9991926,-26.9872969,-26.9954998,-23.5451589,-22.7812374,-13.4159616,-22.9824519,-22.7578289,-22.9736751,-22.9622263,-22.9736751,-22.9238566,-22.984533,-22.9349033,-5.8827441,-16.3836732,-22.9843951,-27.4368679,-12.9278385,-12.9497802,-21.7236994,-20.465795,-3.0435933,-8.3976757,-22.9904763,-3.1343972,-3.137698,-27.5771314,-5.888709,-23.7783563,-22.7844949],\"legendgroup\":\"APARTMENT\",\"lon\":[-54.5786148,-35.0472863,-35.1806381,-43.1811869,-42.0316632,-48.4666214,-43.1823365,-43.4140837,-48.6241128,-48.633392,-48.6291064,-46.6439768,-41.9494075,-38.9292297,-43.1923272,-41.8890205,-43.1893129,-43.1769132,-43.1893129,-43.36911,-43.193232,-43.1783685,-35.1764145,-39.0353049,-43.1918041,-48.3961889,-38.6178364,-38.3469205,-44.9856716,-54.60504,-59.9742962,-35.0433665,-43.2316679,-60.0201953,-60.0237749,-48.423069,-35.173635,-45.3582328,-41.9295907],\"marker\":{\"color\":\"#ab63fa\"},\"mode\":\"markers\",\"name\":\"APARTMENT\",\"showlegend\":true,\"subplot\":\"mapbox\",\"type\":\"scattermapbox\"},{\"hovertemplate\":\"type=CAMPSITE\\u003cbr\\u003elatitude=%{lat}\\u003cbr\\u003elongitude=%{lon}\\u003cextra\\u003e\\u003c\\u002fextra\\u003e\",\"lat\":[-2.9148703,-23.5088602,-22.8603968,-23.0228522,-14.1343918,-0.704711,-27.5810539,-23.1442215,-8.8457613],\"legendgroup\":\"CAMPSITE\",\"lon\":[-41.4079667,-45.1323908,-42.4422478,-43.5209733,-47.5153247,-48.520249,-48.4308963,-44.1691437,-35.1483123],\"marker\":{\"color\":\"#FFA15A\"},\"mode\":\"markers\",\"name\":\"CAMPSITE\",\"showlegend\":true,\"subplot\":\"mapbox\",\"type\":\"scattermapbox\"}],                        {\"template\":{\"data\":{\"histogram2dcontour\":[{\"type\":\"histogram2dcontour\",\"colorbar\":{\"outlinewidth\":0,\"ticks\":\"\"},\"colorscale\":[[0.0,\"#0d0887\"],[0.1111111111111111,\"#46039f\"],[0.2222222222222222,\"#7201a8\"],[0.3333333333333333,\"#9c179e\"],[0.4444444444444444,\"#bd3786\"],[0.5555555555555556,\"#d8576b\"],[0.6666666666666666,\"#ed7953\"],[0.7777777777777778,\"#fb9f3a\"],[0.8888888888888888,\"#fdca26\"],[1.0,\"#f0f921\"]]}],\"choropleth\":[{\"type\":\"choropleth\",\"colorbar\":{\"outlinewidth\":0,\"ticks\":\"\"}}],\"histogram2d\":[{\"type\":\"histogram2d\",\"colorbar\":{\"outlinewidth\":0,\"ticks\":\"\"},\"colorscale\":[[0.0,\"#0d0887\"],[0.1111111111111111,\"#46039f\"],[0.2222222222222222,\"#7201a8\"],[0.3333333333333333,\"#9c179e\"],[0.4444444444444444,\"#bd3786\"],[0.5555555555555556,\"#d8576b\"],[0.6666666666666666,\"#ed7953\"],[0.7777777777777778,\"#fb9f3a\"],[0.8888888888888888,\"#fdca26\"],[1.0,\"#f0f921\"]]}],\"heatmap\":[{\"type\":\"heatmap\",\"colorbar\":{\"outlinewidth\":0,\"ticks\":\"\"},\"colorscale\":[[0.0,\"#0d0887\"],[0.1111111111111111,\"#46039f\"],[0.2222222222222222,\"#7201a8\"],[0.3333333333333333,\"#9c179e\"],[0.4444444444444444,\"#bd3786\"],[0.5555555555555556,\"#d8576b\"],[0.6666666666666666,\"#ed7953\"],[0.7777777777777778,\"#fb9f3a\"],[0.8888888888888888,\"#fdca26\"],[1.0,\"#f0f921\"]]}],\"heatmapgl\":[{\"type\":\"heatmapgl\",\"colorbar\":{\"outlinewidth\":0,\"ticks\":\"\"},\"colorscale\":[[0.0,\"#0d0887\"],[0.1111111111111111,\"#46039f\"],[0.2222222222222222,\"#7201a8\"],[0.3333333333333333,\"#9c179e\"],[0.4444444444444444,\"#bd3786\"],[0.5555555555555556,\"#d8576b\"],[0.6666666666666666,\"#ed7953\"],[0.7777777777777778,\"#fb9f3a\"],[0.8888888888888888,\"#fdca26\"],[1.0,\"#f0f921\"]]}],\"contourcarpet\":[{\"type\":\"contourcarpet\",\"colorbar\":{\"outlinewidth\":0,\"ticks\":\"\"}}],\"contour\":[{\"type\":\"contour\",\"colorbar\":{\"outlinewidth\":0,\"ticks\":\"\"},\"colorscale\":[[0.0,\"#0d0887\"],[0.1111111111111111,\"#46039f\"],[0.2222222222222222,\"#7201a8\"],[0.3333333333333333,\"#9c179e\"],[0.4444444444444444,\"#bd3786\"],[0.5555555555555556,\"#d8576b\"],[0.6666666666666666,\"#ed7953\"],[0.7777777777777778,\"#fb9f3a\"],[0.8888888888888888,\"#fdca26\"],[1.0,\"#f0f921\"]]}],\"surface\":[{\"type\":\"surface\",\"colorbar\":{\"outlinewidth\":0,\"ticks\":\"\"},\"colorscale\":[[0.0,\"#0d0887\"],[0.1111111111111111,\"#46039f\"],[0.2222222222222222,\"#7201a8\"],[0.3333333333333333,\"#9c179e\"],[0.4444444444444444,\"#bd3786\"],[0.5555555555555556,\"#d8576b\"],[0.6666666666666666,\"#ed7953\"],[0.7777777777777778,\"#fb9f3a\"],[0.8888888888888888,\"#fdca26\"],[1.0,\"#f0f921\"]]}],\"mesh3d\":[{\"type\":\"mesh3d\",\"colorbar\":{\"outlinewidth\":0,\"ticks\":\"\"}}],\"scatter\":[{\"fillpattern\":{\"fillmode\":\"overlay\",\"size\":10,\"solidity\":0.2},\"type\":\"scatter\"}],\"parcoords\":[{\"type\":\"parcoords\",\"line\":{\"colorbar\":{\"outlinewidth\":0,\"ticks\":\"\"}}}],\"scatterpolargl\":[{\"type\":\"scatterpolargl\",\"marker\":{\"colorbar\":{\"outlinewidth\":0,\"ticks\":\"\"}}}],\"bar\":[{\"error_x\":{\"color\":\"#2a3f5f\"},\"error_y\":{\"color\":\"#2a3f5f\"},\"marker\":{\"line\":{\"color\":\"#E5ECF6\",\"width\":0.5},\"pattern\":{\"fillmode\":\"overlay\",\"size\":10,\"solidity\":0.2}},\"type\":\"bar\"}],\"scattergeo\":[{\"type\":\"scattergeo\",\"marker\":{\"colorbar\":{\"outlinewidth\":0,\"ticks\":\"\"}}}],\"scatterpolar\":[{\"type\":\"scatterpolar\",\"marker\":{\"colorbar\":{\"outlinewidth\":0,\"ticks\":\"\"}}}],\"histogram\":[{\"marker\":{\"pattern\":{\"fillmode\":\"overlay\",\"size\":10,\"solidity\":0.2}},\"type\":\"histogram\"}],\"scattergl\":[{\"type\":\"scattergl\",\"marker\":{\"colorbar\":{\"outlinewidth\":0,\"ticks\":\"\"}}}],\"scatter3d\":[{\"type\":\"scatter3d\",\"line\":{\"colorbar\":{\"outlinewidth\":0,\"ticks\":\"\"}},\"marker\":{\"colorbar\":{\"outlinewidth\":0,\"ticks\":\"\"}}}],\"scattermapbox\":[{\"type\":\"scattermapbox\",\"marker\":{\"colorbar\":{\"outlinewidth\":0,\"ticks\":\"\"}}}],\"scatterternary\":[{\"type\":\"scatterternary\",\"marker\":{\"colorbar\":{\"outlinewidth\":0,\"ticks\":\"\"}}}],\"scattercarpet\":[{\"type\":\"scattercarpet\",\"marker\":{\"colorbar\":{\"outlinewidth\":0,\"ticks\":\"\"}}}],\"carpet\":[{\"aaxis\":{\"endlinecolor\":\"#2a3f5f\",\"gridcolor\":\"white\",\"linecolor\":\"white\",\"minorgridcolor\":\"white\",\"startlinecolor\":\"#2a3f5f\"},\"baxis\":{\"endlinecolor\":\"#2a3f5f\",\"gridcolor\":\"white\",\"linecolor\":\"white\",\"minorgridcolor\":\"white\",\"startlinecolor\":\"#2a3f5f\"},\"type\":\"carpet\"}],\"table\":[{\"cells\":{\"fill\":{\"color\":\"#EBF0F8\"},\"line\":{\"color\":\"white\"}},\"header\":{\"fill\":{\"color\":\"#C8D4E3\"},\"line\":{\"color\":\"white\"}},\"type\":\"table\"}],\"barpolar\":[{\"marker\":{\"line\":{\"color\":\"#E5ECF6\",\"width\":0.5},\"pattern\":{\"fillmode\":\"overlay\",\"size\":10,\"solidity\":0.2}},\"type\":\"barpolar\"}],\"pie\":[{\"automargin\":true,\"type\":\"pie\"}]},\"layout\":{\"autotypenumbers\":\"strict\",\"colorway\":[\"#636efa\",\"#EF553B\",\"#00cc96\",\"#ab63fa\",\"#FFA15A\",\"#19d3f3\",\"#FF6692\",\"#B6E880\",\"#FF97FF\",\"#FECB52\"],\"font\":{\"color\":\"#2a3f5f\"},\"hovermode\":\"closest\",\"hoverlabel\":{\"align\":\"left\"},\"paper_bgcolor\":\"white\",\"plot_bgcolor\":\"#E5ECF6\",\"polar\":{\"bgcolor\":\"#E5ECF6\",\"angularaxis\":{\"gridcolor\":\"white\",\"linecolor\":\"white\",\"ticks\":\"\"},\"radialaxis\":{\"gridcolor\":\"white\",\"linecolor\":\"white\",\"ticks\":\"\"}},\"ternary\":{\"bgcolor\":\"#E5ECF6\",\"aaxis\":{\"gridcolor\":\"white\",\"linecolor\":\"white\",\"ticks\":\"\"},\"baxis\":{\"gridcolor\":\"white\",\"linecolor\":\"white\",\"ticks\":\"\"},\"caxis\":{\"gridcolor\":\"white\",\"linecolor\":\"white\",\"ticks\":\"\"}},\"coloraxis\":{\"colorbar\":{\"outlinewidth\":0,\"ticks\":\"\"}},\"colorscale\":{\"sequential\":[[0.0,\"#0d0887\"],[0.1111111111111111,\"#46039f\"],[0.2222222222222222,\"#7201a8\"],[0.3333333333333333,\"#9c179e\"],[0.4444444444444444,\"#bd3786\"],[0.5555555555555556,\"#d8576b\"],[0.6666666666666666,\"#ed7953\"],[0.7777777777777778,\"#fb9f3a\"],[0.8888888888888888,\"#fdca26\"],[1.0,\"#f0f921\"]],\"sequentialminus\":[[0.0,\"#0d0887\"],[0.1111111111111111,\"#46039f\"],[0.2222222222222222,\"#7201a8\"],[0.3333333333333333,\"#9c179e\"],[0.4444444444444444,\"#bd3786\"],[0.5555555555555556,\"#d8576b\"],[0.6666666666666666,\"#ed7953\"],[0.7777777777777778,\"#fb9f3a\"],[0.8888888888888888,\"#fdca26\"],[1.0,\"#f0f921\"]],\"diverging\":[[0,\"#8e0152\"],[0.1,\"#c51b7d\"],[0.2,\"#de77ae\"],[0.3,\"#f1b6da\"],[0.4,\"#fde0ef\"],[0.5,\"#f7f7f7\"],[0.6,\"#e6f5d0\"],[0.7,\"#b8e186\"],[0.8,\"#7fbc41\"],[0.9,\"#4d9221\"],[1,\"#276419\"]]},\"xaxis\":{\"gridcolor\":\"white\",\"linecolor\":\"white\",\"ticks\":\"\",\"title\":{\"standoff\":15},\"zerolinecolor\":\"white\",\"automargin\":true,\"zerolinewidth\":2},\"yaxis\":{\"gridcolor\":\"white\",\"linecolor\":\"white\",\"ticks\":\"\",\"title\":{\"standoff\":15},\"zerolinecolor\":\"white\",\"automargin\":true,\"zerolinewidth\":2},\"scene\":{\"xaxis\":{\"backgroundcolor\":\"#E5ECF6\",\"gridcolor\":\"white\",\"linecolor\":\"white\",\"showbackground\":true,\"ticks\":\"\",\"zerolinecolor\":\"white\",\"gridwidth\":2},\"yaxis\":{\"backgroundcolor\":\"#E5ECF6\",\"gridcolor\":\"white\",\"linecolor\":\"white\",\"showbackground\":true,\"ticks\":\"\",\"zerolinecolor\":\"white\",\"gridwidth\":2},\"zaxis\":{\"backgroundcolor\":\"#E5ECF6\",\"gridcolor\":\"white\",\"linecolor\":\"white\",\"showbackground\":true,\"ticks\":\"\",\"zerolinecolor\":\"white\",\"gridwidth\":2}},\"shapedefaults\":{\"line\":{\"color\":\"#2a3f5f\"}},\"annotationdefaults\":{\"arrowcolor\":\"#2a3f5f\",\"arrowhead\":0,\"arrowwidth\":1},\"geo\":{\"bgcolor\":\"white\",\"landcolor\":\"#E5ECF6\",\"subunitcolor\":\"white\",\"showland\":true,\"showlakes\":true,\"lakecolor\":\"white\"},\"title\":{\"x\":0.05},\"mapbox\":{\"style\":\"light\"}}},\"mapbox\":{\"domain\":{\"x\":[0.0,1.0],\"y\":[0.0,1.0]},\"center\":{\"lat\":-18.60403630685053,\"lon\":-44.20280943558719},\"zoom\":10},\"legend\":{\"title\":{\"text\":\"type\"},\"tracegroupgap\":0},\"margin\":{\"t\":60}},                        {\"responsive\": true}                    ).then(function(){\n",
       "                            \n",
       "var gd = document.getElementById('30d5d9ba-002d-4cc9-bf90-86c6eb833f2b');\n",
       "var x = new MutationObserver(function (mutations, observer) {{\n",
       "        var display = window.getComputedStyle(gd).display;\n",
       "        if (!display || display === 'none') {{\n",
       "            console.log([gd, 'removed!']);\n",
       "            Plotly.purge(gd);\n",
       "            observer.disconnect();\n",
       "        }}\n",
       "}});\n",
       "\n",
       "// Listen for the removal of the full notebook cells\n",
       "var notebookContainer = gd.closest('#notebook-container');\n",
       "if (notebookContainer) {{\n",
       "    x.observe(notebookContainer, {childList: true});\n",
       "}}\n",
       "\n",
       "// Listen for the clearing of the current output cell\n",
       "var outputEl = gd.closest('.output');\n",
       "if (outputEl) {{\n",
       "    x.observe(outputEl, {childList: true});\n",
       "}}\n",
       "\n",
       "                        })                };                });            </script>        </div>"
      ]
     },
     "metadata": {},
     "output_type": "display_data"
    }
   ],
   "source": [
    "import plotly.express as px\n",
    "\n",
    "fig = px.scatter_mapbox(df, lat=\"latitude\", lon=\"longitude\",     color=\"type\", size=None,\n",
    "                  color_continuous_scale=px.colors.cyclical.IceFire, size_max=15, zoom=10)\n",
    "\n",
    "fig.show()"
   ]
  },
  {
   "cell_type": "code",
   "execution_count": 23,
   "id": "305feec4-3014-4f2b-80cd-3961b1e3a864",
   "metadata": {},
   "outputs": [
    {
     "name": "stderr",
     "output_type": "stream",
     "text": [
      "C:\\Users\\thanael.butewicz\\AppData\\Local\\Temp\\ipykernel_82820\\1109490350.py:4: FutureWarning:\n",
      "\n",
      "The geopandas.dataset module is deprecated and will be removed in GeoPandas 1.0. You can get the original 'naturalearth_cities' data from https://www.naturalearthdata.com/downloads/110m-cultural-vectors/.\n",
      "\n"
     ]
    },
    {
     "data": {
      "application/vnd.plotly.v1+json": {
       "config": {
        "plotlyServerURL": "https://plot.ly"
       },
       "data": [
        {
         "hovertemplate": "<b>%{hovertext}</b><br><br>latitude=%{lat}<br>longitude=%{lon}<extra></extra>",
         "hovertext": [
          "Babitonga Hostel",
          "Pousada Marinheiro",
          "Jardim Secreto Guesthouse",
          "Hostel Clube Vaa",
          "Noronha 350",
          "Casa Guarnicê Hostel",
          "O Viajante Hostel",
          "Varandas do Arraial",
          "Boutique Hotel Gávea Tropical",
          "Hostel Zen Garden",
          "Praia Hotel Enseada",
          "Swan Generation",
          "Tropical Hostel",
          "Proxima Estacion Hostel",
          "Hostel Estação Maracanã",
          "Hostel Porto Maravilha",
          "Hostel Villa Cacau Trancoso",
          "Sitio Sapiranga",
          "Pousada Cores de Buzios",
          "Pousada Chales Madu",
          "IHostel Aldeota",
          "Morro das Pedras Clube Hotel & Spa",
          "EcoRupestre Hostel Serra da Capivara",
          "Nomads MultiCultural",
          "Vila Castelo Branco",
          "Vila Prana",
          "Mandala Hostel",
          "Pousada California",
          "Puleiro Hostel",
          "La Plage Salvador - Boutique Hostel",
          "ClanDestino",
          "Mare Blu Pousada Hostel",
          "Hostel Leblon",
          "Maré Mansa Pousada e Hostel",
          "Pousada Tupi",
          "Rosemary Dream",
          "Araucária Hostel",
          "Kuki's Hostel",
          "Pousada Oasis",
          "Santo Hostel",
          "Real Foz",
          "Maragogi Social Hostel",
          "Da Orla Pampulha Hostel",
          "Pousada Inn Falls Park",
          "My House Hostel Buzio",
          "Hostel Manjericão",
          "Sitio Simple Life",
          "Lamparina Hostel",
          "Biotiful Bed & Breakfast",
          "Mundo da Lua Hostel",
          "Selina Copacabana",
          "Hospedaria & Camping Pingo de Ouro",
          "Maracanã Hostel Vila Isabel",
          "Aldeia Gaia",
          "Your Hostel",
          "Casa Odara",
          "Bananas Hostel",
          "Pousada Terral Surf",
          "Mini Hostel Tutóia-MA",
          "O Hostel - Gru | SP",
          "Hostel Minho",
          "Longboard Paradise Surf Club",
          "Joy Hostel",
          "Casa do Professor Hostel",
          "Villa Isola Bella",
          "Hostel Econômico",
          "Arte da Tribo Hostel & Camping",
          "Ka'a Hostel & Pousada",
          "Porto Galeão",
          "É Hostel",
          "Rio Deal Guest House",
          "Da Praia Caraíva",
          "Espaço Luz do Sol",
          "Hostel Liberdade",
          "Hauzz Hostel",
          "Qué onda!",
          "Sangha Urbana",
          "Jundu Beach Hostel",
          "Manhatã Hostel",
          "Suites Jeri 360 Graus",
          "Hostel More SP",
          "Nossa Casa em Floripa",
          "Udihostel Albergue e Hospedaria Ltda",
          "Tapera Hostel",
          "Hostel Popular Canto da Praia",
          "Z-18 Hostel",
          "Innbox - Porto Belo",
          "Flet Point Hostel",
          "Hostel Brazilian House",
          "Bistu Hotel & Hostel",
          "Hostel Vagamundo",
          "Bougainville Hostel",
          "Beach Hostel & Suites Los Pibes de Flores",
          "Kaleidoscópio Hostel",
          "Hostel Ipe",
          "Casa Alma Zen - Hostel Boutique & Bistrô Ubatuba",
          "Duque Hostel",
          "Hobi Guest House",
          "Azul Maria Hostel",
          "Quintal Hostel",
          "Manaca Hospedaria",
          "Rio Surf House",
          "APRAIANA HOSTEL",
          "Pousada VelhoBateau",
          "Cores da Pipa",
          "Chez Zany",
          "Lampiao Hostel",
          "Nômades Adventure Hostel",
          "Zeca 343",
          "Beach House Ilha Grande Hostel",
          "Espaco Agroecologico Caminho das Pedras",
          "Hostel Central São Sebastião",
          "Chamos Hostel Cultural",
          "Pantai Chill House",
          "Namoa Pollastrini",
          "Hostel Banana House",
          "Oma Hostel",
          "Pequi Hostel",
          "I'm Hostel - Be happy",
          "El Misti Hostel Buzios",
          "Por el Mundo Hostel",
          "Agora Hostel Natal",
          "Rosa Surf Hostel",
          "Hostel Casa do Rogerio",
          "Viçosa Hostel",
          "Hostob - Vila Madelena",
          "Solar da Praia",
          "Sono Vitoria",
          "Brazilian Cult Hostel",
          "Raiz Kite Cabana",
          "Casa Feliz Hostel Boa Viagem",
          "JM Guesthouse Ipanema",
          "Abrigo de Montanha Xique Xique",
          "Hostel Paulista",
          "Rasta House",
          "Hostel Cristo da Barra",
          "Economy Apart",
          "Hostel e Suítes Lar Azul",
          "Selina Paraty",
          "Tarobá Express",
          "Imagina Hostel",
          "Galeria SP Hostel",
          "Jardins Village Hostel - Unidade Brigadeiro",
          "Economy Suites",
          "Hostel Calábria Vila Madalena",
          "Visto Hostel",
          "Abaré House Floating Hostel",
          "Un dia mas Hostel",
          "Calamares Hotel",
          "Hostel Caribe de Ubatuba",
          "Casa Tribus Itamambuca",
          "Apto Copacabana",
          "Lá na Praia Hostel e Pousada",
          "Hotel Dany",
          "Pousada do Atoba",
          "Iguassu Holiday Hotel",
          "Costeira Praia Flat",
          "Red Monkey Hostel Barra Funda",
          "Hotel Estancia Bonanza",
          "The Search House Beachfront Hostel",
          "Hostel UFO na Chapada",
          "Cabane Paradis",
          "CLH Suites Bonito Sul",
          "CLH Suites Bonito Centro",
          "Solar Hostel Beach Copacabana",
          "Host N´Roll",
          "Pousada Por do Sol Buzios",
          "Guapuruvu Hostel",
          "Pousada Lua Cheia",
          "Marlin Hostel Ilha Grande",
          "Camping Sununga",
          "Hostel 142",
          "Maracujá Hostel",
          "Pandora Hostel",
          "Studio Centro Lapa",
          "Pousada e Hostel Estacoes",
          "Sonho Floripa",
          "Pousada Casa de Praia Trindade",
          "Flutuante Das Bandeiras",
          "Micasa Su Casa",
          "Pousada Recanto das Ondas",
          "Casa Bacarira Ecolodge",
          "Hostel Barroco Salvador",
          "Hostel Pai Pai Jose",
          "Verde Hostel Ilhabela",
          "Aldeia Itamambuca Chale Ubatuba",
          "Hostel Toca da Moréia Bombinhas",
          "Pousada Cajaiba",
          "Pousada Fairmont",
          "Leo's Clan Beach Hostel",
          "Pousada Maria Bonita",
          "Che Pepe Hostel",
          "Ramon HostelBar",
          "Remo Hostel",
          "Pousada Foz Igu",
          "Casa das Orquideas Foz",
          "Hostel Matilda",
          "Pousada Galeão",
          "Beira Mar Hostel Centro",
          "Paradiso Bnb",
          "Soul Hostel",
          "Casa de Mainha Friendly Hostel",
          "Massape Rio Hostel",
          "CLH Suites Curitiba",
          "LaTaperaJeri",
          "Gaia Hostel",
          "Sea Wolf Surf Hostel",
          "Hostel Farroupilha",
          "Nomade In Arte e Hostel",
          "Casa da Floresta",
          "Casa de Flor",
          "Tetris Container Hostel",
          "Stammtisch Hostel",
          "Na Praia - Family Hostel & Coworking",
          "Paraíso do Caju House Hostel",
          "Camp in Brazil",
          "Garopaba - Cidade Baixa Hostel",
          "Hostel Campo de Pouso",
          "Pousada da Rosa",
          "Iguaçu Falls Room",
          "Capitão Gancho",
          "Belem Hostel",
          "Hostel Savassi",
          "Villa Hostel",
          "Namoa Castelinho",
          "Cama, Café e Aventura",
          "José e Maria Hostel Bar",
          "Hostel Boi Bumba",
          "Irawo Hotel",
          "Café Hostel",
          "Guanaaní Hostel",
          "Hostel Poesia",
          "Pousada Aventura",
          "Pampulha Adventure Hostel",
          "Pousada Savoy",
          "Bada Hostel & Kite School",
          "Che Lagarto Hostel Foz do Iguaçu",
          "Solar63 Hostel",
          "Hostel Rio Guesthouse",
          "Pousada Kasa dos Micos",
          "Refúgio Hostel Fortaleza",
          "Villa Iguaçu Palace Hotel",
          "Rock! and Hostel",
          "Gadhega’s Hostel Salvador",
          "Pousada Morada do Sol - My Space",
          "Abrigo Lapinha",
          "Eco Hostel Residencial Bananeiras",
          "Hostel Marraial",
          "Mindu GuestHouse",
          "Otedis Petrolina",
          "N0013 Duplex Arraial do Cabo",
          "Pousada Vila Do Sossego",
          "Guappo Chácara Hostel",
          "Pousada Diamante",
          "Vintage Apartments Florianópolis",
          "Ocean Ipanema",
          "Hostel Anauê",
          "Copacabana Beach N 001",
          "Casa Mihika",
          "Lulilo Hostel",
          "Casa Viva Paraty",
          "Pouso de Carpa",
          "Pousada Villa do Sol Itacare",
          "Casa de Jorge - Lencois",
          "Amorelli Private Residence",
          "Apartamento Cristina Condo",
          "Apartamento Janaína",
          "Vibe Hostel",
          "Cantinho de Geriba",
          "Local Hostel Manaus",
          "Lobo Urban Stay",
          "Did's Hostel",
          "Mirante do Arvrao",
          "Britânico Suítes e Hostel",
          "Apartamento Maria Julia",
          "Pousada Tudo de Bom",
          "Maraca Hostel Rio",
          "Mambembe Hostel",
          "Barra Surf Hostel",
          "Ball n Kicka - Football Fan Camp",
          "Hostel Carioca Buzios",
          "Casa do Abacateiro",
          "Pousada Alto da Lapa",
          "Pousada Aruana",
          "Hostel Ponto Praia",
          "Pousada Jardim Da Lagoa",
          "Bela Casa Quartos e Hostel",
          "Pousada Viva",
          "Pousada Cuiaba",
          "Pousada Ribas",
          "Hotel Panorama Cuiaba",
          "Pousada Pequizeiro",
          "Aruanda Hostel",
          "Pousada Lua Cheia",
          "Pousada dos Girassois",
          "Caracol Hostel",
          "Hello Hostel Design",
          "Viva Hostel Design",
          "Hotel Faguile",
          "Haleakala Hostel",
          "Pousada do Canal",
          "Solar Hostel Búzios",
          "Pousada Kurumin",
          "Pousada Recanto dos Bentos",
          "Hostel SP011 Sao Paulo",
          "Pousada Ideal Beach",
          "Pousada Manupi",
          "Recanto Verde Mata",
          "Geckos Hostel",
          "Freedom Hostel - MG",
          "Residence Vila Europa",
          "Onca da Praia - Hostel",
          "Pousada Lavramor",
          "Pousada Passarte Rua Biquinha",
          "Pousada do Limoeiro",
          "HI Hostel Campo Grande MS",
          "Pousada Terra Sul",
          "Hostel Brasil Boutique",
          "Pousada do Ó",
          "Pousada Internacional",
          "Hotel Blumenau",
          "Pousada Taynara",
          "Pousada 21 de abril",
          "Pousada Papyrus",
          "Pousada Inconfidencia Mineira",
          "Pousada Fazenda Xalés de Maracaípe",
          "Hostel Duarte Coelho",
          "Pousada Capitães de Areia",
          "Chalés Cavalo Marinho",
          "Zoya Bed and Breakfast",
          "Pousada da Seresta",
          "O'Riley's Perdizes Hostel",
          "Familiar Accomodation",
          "Pousada Porto Tropical",
          "Pousada Cores do Mar",
          "Tapera Hotel",
          "Apartamento Centro SP",
          "Alvorada Iguassu Hotel",
          "Pousada dos Coqueiros",
          "B&B Botarezinha",
          "Pousada do Quiririm",
          "Pousada Rancho Hanna",
          "Pousada Casa de Pedra",
          "Pousada da Tammy",
          "Concept Design Hostel",
          "Che Lagarto Hostel Porto de Galinhas",
          "Hotel Santa Clara Franca",
          "Hotel Ocean Imperium",
          "Hostel Aloha Foz do Iguacu",
          "Hostel Frontier",
          "Favela Nova",
          "Chale Oasis",
          "Pousada Estrelamar - Porto Mirim",
          "Hospedaria da Joatinga",
          "Pousada Beijo Mar",
          "Pousada Juscelino",
          "Hotel Farol de Galinhos",
          "Pousada Brisa do Mar - RN",
          "Pousada Amagali",
          "Corais de Maracajaú",
          "Pousada do Farol",
          "Garoa Hostel",
          "Pousada Crepusculo",
          "Sagui Hostel",
          "Hostel Pousada Tia Preta",
          "Pousada EcoJeri",
          "Pousada Lampiao e Maria Bonita",
          "Pousada Imigrantes Jabaquara",
          "Buzios Casa",
          "Green Haven Hostel",
          "Hotel Pousada Saudosa Maloca",
          "Residencial Castor",
          "Hospedaria da Glória",
          "Morada da Mangaba",
          "Anhembi Hostel",
          "Pousada Recanto da Piragui",
          "Pousada Pousada Willian Michaud",
          "Pousada Dona Tereza",
          "Pousada da Ilha",
          "Pousada e Restaurante Bella Ilha",
          "Pousada Recanto do Maruja",
          "Pousada Cost'Azul",
          "Pousada Centauro",
          "Pousada Sobre as Ondas",
          "Pousada e Lanchonete Magal",
          "Tropical Sun Rio Flats",
          "GoBrazil",
          "Pousada Acalanto Ilha Grande",
          "Estacao do Mangue Hostel",
          "Pousada Topo Do Cipo",
          "Guaruja Ilha Hostel",
          "Karaguashouse",
          "Mama Brasil Hostel",
          "Maison Tordeur Bed & Breakfast",
          "Brazilodge All Suites Hostel",
          "Pousada Canto das Laranjeiras-Tombo",
          "Boa Viagem Hostel",
          "Pousada Recanto da Villa",
          "B&B O Veleiro Bed and Breakfast",
          "Casa da Lagoa Guest House",
          "Paraty Hostel - Casa do Rio",
          "Art Beach Hostel Búzios",
          "Linetur",
          "Athenas Apart-Hotel",
          "Pousada do Suiço Parnaiba",
          "Iguassu Falls Hostel",
          "Green Mountain Pousada",
          "Namoa Paulista",
          "Jardim da Nova Era",
          "B&B  Barra da Tijuca",
          "Hostel Aventurismus Chapada Diamantina - Lencois",
          "Casa Pitanga",
          "Pousada Galo Suiço",
          "Hotel Pousada Terras do Sem Fim - Ilheus - Bahia",
          "Bed & Breakfast Leblon Militza",
          "B&B Praia Leme",
          "B&B Lagoa Vitoria Regia",
          "B&B Botafogo Lilian",
          "Pousada Lanai Gramado",
          "Copacabana Apart",
          "B&B Copacabana Verde",
          "Pousada Vovó Idalina",
          "Natus Hostel",
          "Nice Surf House in Pituba",
          "Pousada Estalagem",
          "Pantanal Ranch Meia Lua",
          "Santo Mirante Hostel",
          "Señor Hostel",
          "Hostel Guaratingueta",
          "Hostel BH",
          "Pousada Bangalo",
          "La Aldea Zen Guesthouse",
          "Pousada da Angelica",
          "Hostel Da Ilha De Sao Francisco Do Sul",
          "Discovery Hostel",
          "Apartment in Copacabana",
          "Guest House Canto do Sabia",
          "Minas Hostel",
          "Pousada Leste",
          "Vila Rock Hostel",
          "Mao Dupla Hostel",
          "Hostel Sete Lagoas",
          "Ramada Airport Hotel",
          "Pousada Bella Casa, Foz do Iguacu",
          "Pousada Italia",
          "Sonja´s Almhütte",
          "Ritz Suites Hotel",
          "Tropico Praia Hotel",
          "Pousada Bicho Preguica",
          "Hotel Delphia Marsallis",
          "Marambaia Apart Hotel",
          "Pousada Vila Bacana",
          "Pousada TonaPraia",
          "Marcia Bed and Breakfast",
          "Harmoni Hostel e Pousada",
          "Pousada Galoo",
          "Moa Backpackers - Campeche",
          "Vista Bela Pousada",
          "Pantanal Backpakers",
          "Rio Forest Hostel",
          "U Surf Me",
          "Pousada Millennium 2",
          "Pousada Praia do Flamengo",
          "Hostel Pousada do Tapajos",
          "Pousada Sudoeste Inn",
          "Goiabada com Queijo Hostel",
          "Eco Hostel Instituto Pindorama",
          "Pousada Abais",
          "Pousada Violeiro - Lencois",
          "Pousada Caminhos da Chapada",
          "Pousada Lua de Cristal - Lencois",
          "Pousada Piratas de Buzios",
          "Malibu Porto Hotel",
          "Pousada Estacao do do Trem",
          "Amazonas Palace Hotel",
          "Pousada Atlantis",
          "Pousada Inn Brunello Paraty",
          "Hotel Paraiso Marili",
          "Bella Vista Village Buzios",
          "Hotel Ver O Peso",
          "Iguassu Eco Hostel",
          "Hostel Praia das Flexas",
          "Pousada Bem-te-vi",
          "Slow Hostel",
          "Pousada Alto do Cajueiro",
          "Hotel Blumenhof",
          "Hotel Pousada Lagoas",
          "Pousada Brasil Tropical",
          "Pousada Baluarte",
          "Casa Cohiba",
          "CityLights Hostel",
          "Pousada Bons Amigos",
          "Pousada Le Palmier",
          "Catarino's Guest House",
          "Pousada Indaia Eco Village",
          "Grande Hotel Blumenau",
          "Flat Mar do Cabo Branco",
          "HI Floripa Hostel Centro",
          "Albergue Explorer",
          "Pousada Marcos",
          "Green House Hostel & Camping",
          "Floripa Surf Hostel",
          "Pousada Halai",
          "Rocinha Guest House",
          "Abudi Palace Hotel",
          "Luiz Leblon Guest House",
          "Esplanada Brasilia Hotel",
          "Pousada Pé na Estrada",
          "Pousada SR",
          "Porto Alegre Eco Hostel",
          "Republika Hostel",
          "Pousada Paraguassu",
          "Pousada Ecoverde",
          "Pousada Ciranda",
          "Arraial do Cabo Central Hostel",
          "Che Lagarto Hostel Copacabana",
          "Panorama Hostel EcoBackpackers",
          "Anacardium Vihara",
          "Hotel Iguacu",
          "Copacabana Apartment",
          "Hostel Manga Rosa",
          "Pousada Caramanchão",
          "Vilage Capoeira",
          "MOx Hostel Arraial d'Ajuda",
          "Global Rio de Janeiro",
          "Hotel Pousada O Sol",
          "America Praia Flat",
          "Pousada Manga Rosa",
          "Nautico Praia Hotel & Convention Center",
          "Hotel Estalagem Porto Seguro",
          "Portobello Park Hotel",
          "Pousada Aldeia Portuguesa",
          "Pousada Brisa do Mar",
          "Hotel Costa Verde",
          "Hotel Vale Verde",
          "Pousada Carol",
          "Canto das Laranjeiras",
          "HI Diamantina Hostel",
          "Pousada Mar e Terra",
          "Pousada Naquela Jericoacoara",
          "Pousada Surfing Jeri",
          "Paraiso Tropical",
          "HI Praia do Forte Hostel",
          "Pousada e Hostel Papagaio",
          "Mamma's Hostel",
          "Albergue Hostel Palmas",
          "HospedaSalvador",
          "Hostel In Rio Suites",
          "Surf Camp Pipa Hostel",
          "Bora Mora Bed and Breakfast",
          "Hostel Canasvieiras",
          "Hostel Alice & Padoca Vegan",
          "Pauliceia Hostel",
          "HI Bonns Ventos Hostel",
          "Pousada Fiori di Mare",
          "Mais que Nada Hostel & Patio-Bar",
          "Pousada Janellas do Mar",
          "HI Hostel Chapada - Lencois",
          "Pousada D' Pillel",
          "Pousada Aldeia do Sol",
          "Pontal Hostel",
          "Albergue Veraneio",
          "Surf Hostel Padang",
          "Iguassu Guest House",
          "Hostel Encantadas Ecologic",
          "Pura Vida Hostel Rio de Janeiro",
          "Pousada Santuário da Madre",
          "Hostel e Pousada Natureza Foz",
          "Che Lagarto Hostel Itacaré",
          "Pousada Santa Trem",
          "Ipanema Copa Posto 6",
          "HI Refugio do Pomar",
          "Campeche Hostel",
          "Casa Alto Vidigal",
          "Biergarten Hostel",
          "Books Hostel",
          "HI Arrecifes Hostel",
          "Pousada Cabanas do Curupira",
          "O de Casa Hostel Bar",
          "Albergue da Rose Hostel",
          "Albergaria Hostel",
          "Flamengo Apartment",
          "Joinville Hostel E Pousada",
          "Pousada da Diva",
          "Beach Life Porto de Galinhas",
          "Che Lagarto Hostel Morro de Sao Paulo",
          "Sao Paulo Global Hostel",
          "Recanto Sul Flat",
          "Casa do Miguel",
          "Paraty Hotel",
          "Porto Verano Residence",
          "Pousada Rios",
          "Pousada Bonaparte",
          "Hostel Central Ilhabela",
          "Submarino Hostel",
          "Pousada Casablanca",
          "Che Lagarto Hostel Buzios",
          "SugarCane Hostel",
          "Hostel Lobo Inn Buzios",
          "Olah Hostel - Vila Mariana",
          "Refron du Mar Bed & Breakfast Paraty",
          "Pousada Cheia de Onda",
          "Che Lagarto Hostel Paraty",
          "CabanaCopa Hostel",
          "Eco Pousada Miriti",
          "Hostel Piratas do Sol Recife",
          "Guaruja Hostel",
          "Casa Mango Mango",
          "Condominio dos Nativos",
          "Manaus Jungle Hostel",
          "Hostel New Ipanema",
          "Ron Rio Apartments",
          "Pousada dos Corais",
          "Pousada da Cachoeira",
          "Sampa Hostel",
          "Pousada Paloma",
          "Pousada São Francisco de Assis",
          "Residencial Sol e Mar de Floripa",
          "Bamboo Rio Hostel",
          "Studio Formana",
          "Geko Pousada Paraty",
          "Bella Italia Hotel e Eventos Ltda",
          "Fatima Macintyre House",
          "Albergue Santa Teresa",
          "Surfcamp Arara",
          "Hotel Del Rey",
          "Pousada Estrelas no Mar",
          "Open House Barra",
          "Aguas do Iguaçu Hotel Centro",
          "Eco Pousada Villa Verde",
          "Tucano House Summer Hostel",
          "Hostel Galeria 13",
          "La Villa Francaise",
          "Hostel Pousada Cancun",
          "Hostel e Pousada El Shaddai",
          "Deauville Pousada",
          "HI Holandes",
          "Mango Tree Hostel Ipanema",
          "HI Manaira",
          "Hostel Manaus",
          "Hotel Cupim Lazer",
          "Pousada Casa Zaza",
          "Trindade Sea and Forest Yoga Hostel",
          "Hostel Bambu",
          "Walk On The Beach Hostel",
          "A Meson Pousada",
          "Nautilus Apart Hotel",
          "Tupiniquim Hostel",
          "Pousada e Hostel Ancora",
          "HI Marina dos Anjos",
          "O Sorriso do Lagarto",
          "Che Lagarto Hostel Ilha Grande",
          "Imbassai Eco Lujimba",
          "Pousada Daime Sono - Lencois",
          "Pousada Sítio dos Tucanos",
          "Pousada Favelinha",
          "HI Paudimar Falls",
          "Paudimar Cataratas Hotel",
          "Favela Receptiva",
          "Aquario Hostel Bar & Night Club",
          "Albergue da Costa Hostel",
          "Buzios Pousada Telhado Verde",
          "BaronGarden",
          "Ipanema Beach House",
          "Hotel Rojas All Suite",
          "Tropical Dolphin Hostel e Pousada",
          "Pousada Pouso do Marujo",
          "Nega Maluca Guesthouse",
          "Colinas Residencia",
          "Che Lagarto Hostel Ipanema",
          "Som do Mar",
          "HI Laranjeiras",
          "Foz Express Hotel",
          "Selina Aurora SP",
          "Sonho de Iracema Hostel Boutique",
          "Montepascual Ecovillage",
          "Innbox - Centro",
          "Numa Boa Hostel",
          "Selina Floripa",
          "Family Backpackers Cabo Frio Hostel",
          "Tropicalia Hostel",
          "Ibis Budget Belém",
          "Hostel Chapada Dos Guimarães",
          "Refúgio dos Carneiros Guesthouse",
          "Hostel Casa de Paixão",
          "Way Up Hostel",
          "Temporada em Maceió",
          "Pousada Galeria Artes",
          "Stella Solaris Cataratas",
          "Cantinho Tres Coracoes",
          "Espaço Revive  Hostel e Camping",
          "Hospedagem Casa Paulista",
          "Hostel Casa Azul",
          "Hospedagem Perllas Hostel Pinda.ba",
          "Hostel Nos Veremos Otra Vez",
          "Quiron Hostel",
          "DiCasa Hostel",
          "Selina Madalena Sao Paulo",
          "Vila Santa Eulalia Hostel",
          "Mono Beach Hostel",
          "Social Hostel",
          "OuroPreto Hostel",
          "DS Hostel",
          "Itauna Hostel",
          "Hostel das Cores",
          "Reserva do Tombo Lounge Hostel",
          "Pousada Papaya Container",
          "Hostel Lapa 166",
          "Dax Bombinhas Hostel",
          "Massambaba Hostel",
          "Innbox - Canasvieiras",
          "Enseada Hostel",
          "Pousada Ondas de Floripa",
          "Casa Recreanext",
          "Hostel Cape Town",
          "Aquarela Hospedaria",
          "Cantinho dos Acores",
          "Selina Lapa Rio de Janeiro",
          "Flow Hostel Juquehy",
          "Don Preguiça",
          "Hostel da Milla",
          "DPM Eco Hostal",
          "Hotel Villa Canoas",
          "Palmas Hostel",
          "Hostel Pé de Caju",
          "Fazenda Quatro Cantos",
          "Hostel California Café Bar",
          "Acasarosa Hostel",
          "Casa Hostel Floresce",
          "Hostel Cacari",
          "Hospedaria Rio",
          "Parnaiba Hostel",
          "Castelo de Itaipava Hotel - Eventos - Gastronomia",
          "Búzios Colinas Homestay",
          "Pousada Thiany",
          "Hotel e Hostel Piazza Batel",
          "Kasa Hostel Bar e Karaoke",
          "Casa Toscano",
          "Br Hostel",
          "Ilha Hostel",
          "Mangamel Hostel",
          "Pousada Vivenda dos Sonhos",
          "Hostel Home Eireli",
          "Pousada Parque Imperial",
          "Hostel Lencois Park",
          "Dom Alberto Hostel",
          "Pousada Tropicália",
          "MoBu Hostel",
          "Recanto Lus",
          "Casa Ceara",
          "Bamboo Buzios Hostel",
          "Innbox - Praia do Rosa",
          "CLH Suites Copacabana @ Domingos Ferreira",
          "Lia Travel Inn",
          "Reviver Hostel",
          "Mambembe Ilha Grande",
          "Casa de Theo",
          "Hostel Passos MG",
          "La Casa Hostel",
          "Hostel e Pousada Boa Vista",
          "Farofa Loca Hostel & Suites",
          "Bonabrigo Hostel",
          "Hostel Praia Grande de Ubatuba",
          "Kaimana Hostel",
          "Eleganz Hostel & Suites",
          "Ôvibe Party Hostel & Arts",
          "Hostel Barra",
          "Hostel Vila Flor Jericoacoara",
          "Vila Moa",
          "Canto dos Artistas",
          "Aconchego do  lar Hospedagem",
          "Hostel Casarao 65",
          "Maresias Bnb",
          "Pousada Gostoso Village",
          "Muiraquitã Residence",
          "Pousada Jubaia",
          "Hotel Ibis budget Sao Paulo Sao Joao",
          "Stellamares Apartamentos",
          "Today Hostel",
          "Hostel Tribos Livres",
          "Tucupi Hostel & Camping",
          "Porto de Cima Surf Hostel",
          "Porto das Palmeiras Hostel",
          "Meu Hostel",
          "Hostel Berghaus",
          "Casa Swell",
          "House of the stone",
          "Estacao Indaia",
          "Pousada Vayu",
          "Zinga Beach Hostel & Beer",
          "Casamatta Hostel",
          "Casa Terra Hospedagem",
          "Savana Hostel",
          "Tanan Hostel",
          "Pousada Paraty Paradiso",
          "Piratas do Morro Pousada e Hostel",
          "Pousada Semente",
          "Porto Alegre Hostel Boutique",
          "Do Bosque Guest House",
          "Solar do Cosme",
          "Hostel Central",
          "Hostel Casarao",
          "Hostel Boipeba Surf",
          "Pousada D Lia",
          "Apiaka Hostel",
          "Pousada Mata Nativa",
          "CLH Suites Ilha Grande",
          "Pousada Campo Verde",
          "Sao Paulo Hostel Downtown",
          "Hostel Tiradentes",
          "Free Hostel",
          "Casarao Hostel",
          "Acquarela Hostel",
          "Um Hostel",
          "Bonito Hostel",
          "Pousada Chef Brasil",
          "Hostel Chale Mineiro",
          "Solar Beach Hostel",
          "Hostel Vivacre",
          "Pousada Vevo",
          "Maraga Beach Hostel",
          "Laboratorio de Art Telmas Guest House",
          "Beer Hostel Ilhabela",
          "Iguassu Flats Hotel",
          "AElfgar House - Vacation Rental",
          "Pousada Ville Provence",
          "Vila Hostel",
          "Hostel Chocolatche",
          "Drifter Hostel",
          "Rolds Hostel",
          "Hostel Boedo",
          "Pousada Navio Hostel & Camping",
          "El Misti Suites",
          "Hostel Refugio",
          "Amazon Forest Backpackers",
          "Hostel Vila Praiana",
          "Hostel Central Brasil",
          "Hostel Surf Paradise",
          "Pousada Adriana Beach",
          "Coco Knots Kite Lodge",
          "World Hostel Canasvieiras",
          "A Coroa Hostel",
          "Canto Caiçara Hostel",
          "Doug Backpackers",
          "Salvatti Cataratas Hotel",
          "Raizes Eco Hostel",
          "Villa 25 - Hostel & Suites",
          "Oceano Azul Bed and Breakfast",
          "Acomodacao Ipojuca Bella",
          "Pousada Casa del Angel",
          "Guantanamera Hostel",
          "Kiwi Hostel & Lounge",
          "TerrAmor",
          "Hotel Fazenda Caco de Cuia",
          "Solar Chacara Suites",
          "Refúgio Nômade Hostel",
          "Le House Hostel",
          "Hostel Da Bruna Botafogo",
          "Caxinguele",
          "Pantanal Hostel Safari Tours",
          "Hostel Sereia do Mar",
          "Lagarto na Banana",
          "Ipanema Beach Hostel",
          "Ace Suites Inn Rio",
          "Ace Praia de Botafogo Suites",
          "Alma Livre Hostel",
          "Casa Tulipa Hospedagens",
          "Metro Hostel SP",
          "Pipa Peace Hostel",
          "Aquarela do Leme",
          "Hospedaria Green",
          "Positive Hostel",
          "Pousada My House Cabo Frio",
          "Natural Do Rio  Guesthouse",
          "Pousada Nos Na Trilha",
          "Mandala Hostel",
          "Albergue de Lencois Backpackers",
          "Hostel By Hotel Galicia",
          "Ajuricaba Suites 2",
          "Ajuricaba Suites 1",
          "Hostel Uai",
          "Hostel Mandala",
          "Pousada Sol de Itamambuca",
          "Noosa Brasil Surf Republic",
          "Hospedaria Doce Lar",
          "Saqua Beach Hostel",
          "Torre Guesthouse",
          "Hostel Pousada do Alemao",
          "Social Hostel",
          "Pensionato PUP",
          "Haute Haus",
          "Villa Guest House and Hostel",
          "Morada do Aventureiro",
          "Hostel e Pousada Casa de Chica",
          "Casa Tuxi",
          "Pup Hostel SC",
          "Mamangua Beach Hostel",
          "Hospedaria Flor de CaJu",
          "Hostel Nirvana",
          "Quatro Ilhas Beach Hostel",
          "Pousada Terral",
          "Rephostel",
          "Universo Pol Bamboo Hostel",
          "Hostel da Vila",
          "Iguassu Eco Hostel - Backpackers",
          "Liras da Poesia Hostel e Pousada",
          "Blue Magic Hostel",
          "Hostel W3",
          "Pousada Casa Verde",
          "Hostel Blau Hause",
          "Pampulha Hostel",
          "Pousada e Hostel São Paulo – Unidade Econômica",
          "Pousada e Hostel São Paulo – Unidade Comfort",
          "El Misti Hostel Ipanema",
          "Jeri Kite Surf Hostel",
          "Madá Hostel",
          "Palma Hostel",
          "Alma Tropical Resort",
          "Pipa Pura Vida",
          "Ohanalu",
          "Oxe Hostel",
          "Rio World Connection Hostel",
          "Casa Amarela",
          "Casa Andalucia",
          "Namorada Brava Guest House",
          "Mar e Sertao",
          "Floripa Beach House Hostel",
          "Makeba",
          "Chez Zany - Copacabana",
          "Floripa Glamping",
          "Blu Hostel",
          "Hostel Sao Xico",
          "Hostel Quintal de Casa",
          "Nômades Beach Hostel",
          "Hostel Peditrilha - Chapada Diamantina",
          "Green Haven Ilha Anchieta",
          "Pousada do Trevo Paraty",
          "Paraiso Das Conchas Hostel",
          "I Love Hostel Rio",
          "Hostel Kaizen",
          "Hostel Dela",
          "Vulva Caraíva Hostel & Pousada Feminino",
          "Youse Hostel",
          "Morada City Hostel",
          "Golden Garden Hostel",
          "Lulle Hostel",
          "Abaporu Art Hostel",
          "Insta Hostel Floripa",
          "Tamboleiros Hotel & Hostel",
          "Pousada Joaquina 433 Floripa",
          "Casa Do Cacau e Mumu",
          "Lagomar Hostel",
          "Peixe Gordo Adults Only Hotel",
          "Hostel Maresia Paraty",
          "Tubiba Hostel",
          "Get Up Hostel",
          "Arte Sagrada Hospedaria",
          "Central Hostel",
          "Aurora Hostel Rio",
          "Local Hostel Novo Airao",
          "No Worries Pipa",
          "Praieira Hostel",
          "Conceitual Hostel Natal",
          "Nuna Hostel Floripa",
          "Residencial Casa Flor, Ponta Negra",
          "Hostel Pelo Mundo",
          "Casulo Hostel Guest House",
          "Hostel Holly Land",
          "Coyote Pousada & Hostel",
          "Hostel do Rasta",
          "Casarão das Figueiras Hostel",
          "Gemeos Gamboa",
          "Pousada Mojomar Buzios",
          "Oncoto Palmas Hostel",
          "Nuh Hostel - Lourdes",
          "Pousada Piçarras",
          "Hostel Gentileza - Guest House",
          "Catavento da Pipa Pousada & Hostel",
          "Friends Forever Hostel",
          "Hostel & Camping Cavalcante",
          "CasAMARelo Hostel",
          "Lapa Casa",
          "Boulevard Bed & Breakfast",
          "Hostel Jabuticaba",
          "Guest House Vida Vibra",
          "Hostel Da Jo",
          "Oh! Madalena Hostel",
          "Tranquilandia Hostel",
          "Le Chat Qui Peche Hostel",
          "Fujima Hostel",
          "Floriarte Guest House",
          "Happy Paradise Hostel",
          "Canoa Roots Hostel",
          "Salve Maloca Hostel",
          "Riverside Inn",
          "Rio Hostel 40 Graus",
          "Projeto Lontra",
          "Matianellu",
          "Soul Lounge Hostel",
          "The Eco Palace Hostel",
          "Hostel Villa Virtudes",
          "Hostel Teodoro",
          "Chill Inn Hostel & Pousada Centro",
          "Rodrigo Hostel Campestre",
          "CasaMar Maraca",
          "Pousada Ronco do Mar Cumbuco",
          "Sea Wolf Hostel Lagoa da Conceição",
          "Casa Kare",
          "Rodrigo Hostel Suites",
          "Hostel Pousada Flor de Paris",
          "Espaco Vaidya Pousada",
          "Man's Place Hostel Masculino",
          "Pelotas Bier Hostel",
          "La Hotel Votuporanga",
          "Bahia Pelo Hostel",
          "Recanto do Cajueiro",
          "Sunflower Hostel",
          "Hostel Barra 161",
          "Pousada Coralia",
          "Americo Hostel",
          "Taj Mahal Suites",
          "Pedramarca Hostel Club",
          "Hotel Barao Ribeirao",
          "Hostel LB",
          "Hostel Terra do Sol",
          "Bela Curitiba Hostel",
          "Pousada Beluga",
          "Fiko na Pituba",
          "Grande Familia Hostel",
          "Pousada e Hostel Coracao Verde",
          "Aldeia Hostel II",
          "Ooxe Hostel",
          "La Musica Hostel Ouro Preto",
          "Aldeia Hostel",
          "Sitio dos Oriundos",
          "Pousada Encanto do Amor Buzios",
          "Hostel Caminho da Cachoeira",
          "Pousada Casa da Praia Buzios",
          "Hostel Engenho do Vô",
          "Maktub Hostel Prea",
          "Navio Hostel & Camping",
          "Pousada Beira Dagua",
          "Pousada 3J Hotel Fazenda",
          "Friends e Hostels",
          "More Ipanema Hostel",
          "Naim Hotel",
          "Hostel Farol da Barra",
          "Woods Hostel",
          "Hostel Airport Rooms",
          "Casa Maker Redario & Camping",
          "Ruda Hostel & Suites",
          "Guara Hostel",
          "Hostel Castelo Branco",
          "Manero Hostel",
          "Pousada Delle Rose",
          "BahakaJeri",
          "Hostel da Montanha",
          "Fin Soul House",
          "Pousada Bed & Breakfast Cicerone",
          "Pousada Afrika",
          "Hostel Lize",
          "Samo Hostel",
          "Hostel Praia 102",
          "Casa Ecotrips Barra Funda",
          "Pousada Toa Toa Em Pipa",
          "Residencia 346",
          "Hostel Trilhas e Rotas",
          "Gup Hostel",
          "Sabatico Beach House",
          "Costa Terral",
          "Tropicalia Hostel",
          "Guest House Copacabana Hostel",
          "Shangri-La Hostels",
          "Villa Sabia - Eco Bungalows",
          "UP2! HostelBar",
          "Ammonite Hostel - Itacare",
          "Village Retreat, you in the heart of Ilhabela",
          "Vidigal Hostel",
          "Easy Hospedagem",
          "Buzios Flat Pousada",
          "JO&JOE Rio de Janeiro Largo do Boticário",
          "Lila Limao Hostel",
          "Meu Mundo Hostel Bar",
          "Ivos Hostel & Camping",
          "CasaJomo",
          "Hope Hostel",
          "Curvao Surf House",
          "Ready Camp e Suites da Cachoeira",
          "Pousada&Hostel Bahia",
          "Ipanema Club Hostel",
          "Villa Nevada Hostel",
          "Hostel Music and Sports",
          "Soul do Mar Hostel",
          "Hostel Morocha",
          "Graffi Beach Hostel",
          "Surf Base Hostel",
          "Hostel do Céu",
          "Iduna Hostel",
          "Voilà Hostel",
          "Selina Buzios",
          "Georges House",
          "Welcome SP Hostel - Aeroporto de Congonhas",
          "EcoVille Organic Life",
          "Porto Paraiso Hostel Pe Na Areia",
          "Hostel Lumiar Don",
          "Patz Houz Hostel",
          "Barra Porto - Suites & Hostel",
          "Pouso do Marujo",
          "Frida Hostel",
          "A Casa Concha Glamping Praia de Gravatá",
          "Selina Bonito",
          "Solar Hostel Parnaíba",
          "Redário Gengibre Hostel Hammocks to Sleep in Alca",
          "Para Vos y Porque Si",
          "Hotel Rio Vale Verde",
          "ArtèE Hostel Búzios",
          "Selina Foz",
          "Praia Virgem Hostel",
          "Espaço Primatas",
          "Santo Hostel",
          "Chales Toatoa em Pipa",
          "Hostel Recanto da Sol",
          "Live in Fortaleza Hotel",
          "O Brejo Encantado Hospedagem e Hostel"
         ],
         "lat": [
          -26.2295867,
          -13.3789396,
          -22.7575705,
          -23.1416425,
          -3.8491694,
          -2.5254809,
          -23.5577317,
          -22.969251,
          -22.9846956,
          -23.6063288,
          -9.6719381,
          -30.0217658,
          -6.2369011,
          -9.489086,
          -22.9154491,
          -22.8946738,
          -16.5923148,
          -29.6735969,
          -22.7511662,
          -23.5166368,
          -3.7429023,
          -27.7137145,
          -9.0088341,
          -13.0023907,
          -25.5354009,
          -2.9148703,
          -21.7260092,
          -4.5254015,
          -12.9501243,
          -13.0120577,
          -23.7792258,
          -29.3373844,
          -22.9848985,
          -14.2785407,
          -12.5006769,
          -27.5762487,
          -26.2506215,
          -6.2368174,
          -6.2287306,
          -16.4419764,
          -25.5375931,
          -9.0155009,
          -19.8588742,
          -25.5896633,
          -22.7638018,
          -27.600239,
          -23.4098263,
          -23.5526186,
          -23.1424935,
          -13.3819554,
          -22.980119,
          -2.5790624,
          -22.9152242,
          -22.4141182,
          -26.9956962,
          -3.6295403,
          -14.2798459,
          -14.2868583,
          -2.760617,
          -23.4713016,
          -23.5359036,
          -23.0310266,
          -15.7807902,
          -2.748265,
          -4.3972938,
          -23.3191199,
          -28.1291787,
          -23.4631763,
          -6.3694408,
          -20.383841,
          -22.9699068,
          -16.806632,
          -7.0628198,
          -23.553165,
          -20.4557879,
          -23.4521944,
          -22.898504,
          -23.8425633,
          -13.0049492,
          -2.7976507,
          -23.5594465,
          -27.3963317,
          -18.9181871,
          -23.576624,
          -23.7116762,
          -2.7491617,
          -27.1556094,
          -13.3925136,
          -15.877654,
          -23.5967993,
          -27.7506223,
          -23.1413445,
          -22.929341,
          -23.544697,
          -23.5643051,
          -23.4357159,
          -27.573363,
          -23.6128189,
          -21.7064937,
          -23.572749,
          -23.8165838,
          -23.0264177,
          -8.11562,
          -2.5783197,
          -6.2288027,
          -22.9190958,
          -27.6869925,
          -27.5813042,
          -23.545252,
          -23.1421157,
          -2.5206514,
          -23.8029668,
          -22.968109,
          -27.609296,
          -24.187109,
          -27.1508299,
          -26.91244,
          -27.6051972,
          -22.9846712,
          -22.7625357,
          -22.9163158,
          -5.87039,
          -28.1213102,
          -29.1628578,
          -20.754514,
          -23.5604173,
          -23.1404887,
          -20.289725,
          -25.3869797,
          -2.7952786,
          -8.1327612,
          -22.985002,
          -12.896287,
          -23.5649656,
          -15.4591174,
          -13.0093557,
          -5.8752959,
          -27.1499513,
          -23.217245,
          -25.5409237,
          -23.5538689,
          -23.586203,
          -23.573254,
          -5.8715615,
          -23.560125,
          -23.6323554,
          -3.0119471,
          -27.784801,
          -23.6221328,
          -23.5298779,
          -23.405202,
          -22.9673467,
          -3.7493058,
          -25.5385838,
          -27.4613849,
          -25.5770749,
          -5.8659892,
          -23.5313129,
          -22.485218,
          -27.5729068,
          -12.5632502,
          -22.5006043,
          -21.1336089,
          -21.127263,
          -22.9792775,
          -27.6874033,
          -22.75,
          -23.0345918,
          -6.690158,
          -23.141695,
          -23.5088602,
          -29.3623512,
          -23.2179308,
          -14.2766606,
          -22.9131468,
          -29.3544078,
          -27.592124,
          -23.3515801,
          -3.0889734,
          -8.0480714,
          -28.0741905,
          -23.7586735,
          -12.9709619,
          -23.8126218,
          -23.8128967,
          -23.4065236,
          -27.1480104,
          -13.381162,
          -23.61527,
          -23.216368,
          -9.2389245,
          -6.229394,
          -8.1294208,
          -23.2441976,
          -25.5362367,
          -25.5690702,
          -25.426691,
          -14.2803721,
          -27.5799088,
          -23.5491096,
          -23.5637334,
          -12.970246,
          -22.9102333,
          -25.4435735,
          -2.7955681,
          -22.954113,
          -27.575191,
          -20.749801,
          -23.579372,
          -22.9321259,
          -15.843163,
          -25.5502494,
          -26.8967037,
          -23.4430542,
          -2.759708,
          -22.8603968,
          -28.0279512,
          -22.776776,
          -23.350983,
          -25.557774,
          -13.89151,
          -1.449969,
          -19.9359499,
          -23.545889,
          -23.5833454,
          -2.7502314,
          -20.3822717,
          -7.11834,
          -12.9723388,
          -12.9675252,
          -20.3186267,
          -25.5620367,
          -29.3218632,
          -19.8575314,
          -3.7266933,
          -3.62829,
          -25.5365692,
          -30.0396098,
          -22.9624384,
          -22.9956072,
          -3.7257202,
          -25.5442783,
          -19.9459455,
          -12.9709619,
          -3.7221119,
          -19.564197,
          -25.6274283,
          -16.489799,
          -3.0782198,
          -9.1856122,
          -22.9689476,
          -13.381892,
          -22.579827,
          -21.1179264,
          -27.603075,
          -22.9836813,
          -25.5581107,
          -22.9686986,
          -3.6281337,
          -23.5431366,
          -23.2155556,
          -16.4629575,
          -14.277238,
          -12.5707494,
          -22.9733569,
          -26.9991926,
          -26.9872969,
          -23.2222324,
          -22.7710997,
          -3.1306184,
          -23.559925,
          -23.5695882,
          -22.9955185,
          -29.3757283,
          -26.9954998,
          -22.7743514,
          -22.91855,
          -22.9161716,
          -27.574725,
          -23.0228522,
          -22.7588011,
          -22.9527327,
          -13.7278019,
          -13.791398,
          -27.5767574,
          -27.61424,
          -23.1443171,
          -15.4638478,
          -15.552056,
          -15.4701389,
          -15.6007085,
          -15.4602893,
          -16.8068542,
          -22.8954837,
          -17.3311547,
          -27.6056416,
          -31.7591,
          -23.5486034,
          -25.5344265,
          -28.1250876,
          -27.5854946,
          -22.777487,
          -4.039789,
          -22.745285,
          -23.5440981,
          -3.7244694,
          -8.7571195,
          -27.9002601,
          -27.6019444,
          -20.3866878,
          -16.385611,
          -20.2908458,
          -12.5598899,
          -13.3785447,
          -23.216164,
          -20.4665103,
          -30.0439257,
          -23.5552934,
          -21.1089237,
          -23.1522047,
          -25.4243665,
          -20.3866673,
          -21.1118073,
          -21.1103751,
          -20.3763316,
          -8.5338944,
          -8.0180582,
          -8.4846079,
          -8.6964266,
          -8.1257539,
          -18.2501201,
          -23.5339061,
          -12.9667063,
          -8.5011667,
          -8.4824217,
          -21.1285987,
          -23.5451589,
          -25.5066622,
          -23.6219254,
          -22.9,
          -24.5548475,
          -24.5848954,
          -24.5903303,
          -24.5562379,
          -25.5542653,
          -8.5070989,
          -20.5315534,
          -5.9481157,
          -25.5530556,
          -25.5071491,
          -22.995808,
          -5.0942806,
          -5.5442297,
          -23.0112125,
          -4.8544173,
          -4.8557496,
          -5.0856436,
          -5.4068437,
          -5.0942864,
          -5.4088297,
          -5.0566048,
          -23.5660163,
          -25.4575,
          -27.6756534,
          -13.378792,
          -2.7968388,
          -5.8817066,
          -23.6484804,
          -22.7812374,
          -23.4182208,
          -16.494134,
          -5.881723,
          -22.922347,
          -13.4159616,
          -23.5068527,
          -25.4504049,
          -25.381725,
          -25.2164171,
          -25.2136111,
          -25.3525,
          -25.212348,
          -25.459085,
          -25.4601057,
          -25.459379,
          -25.3525,
          -22.9824519,
          -9.585042,
          -23.1422816,
          -8.1281933,
          -19.3380708,
          -23.9950449,
          -27.6499052,
          -23.5579167,
          -22.9423834,
          -23.5861137,
          -24.013367,
          -8.1100604,
          -23.7798982,
          -22.9412689,
          -22.7749449,
          -23.2179336,
          -22.7753304,
          -15.8543667,
          -20.4498867,
          -2.9039628,
          -25.598254,
          -27.5066768,
          -23.5649656,
          -14.1343918,
          -22.9740457,
          -12.5629294,
          -22.7578289,
          -9.6443952,
          -14.9196158,
          -22.9921566,
          -22.9619892,
          -22.9651021,
          -22.954086,
          -29.3727603,
          -22.9736751,
          -22.9706624,
          -25.481596,
          -9.839643,
          -14.283681,
          -23.2165276,
          -20.2658201,
          -22.9415298,
          -26.9567846,
          -14.235,
          -19.9111783,
          -2.7975325,
          -20.373134,
          -25.5509162,
          -26.2124337,
          -22.9204996,
          -22.9622263,
          -23.5169952,
          -19.9070818,
          -23.5366717,
          -23.5507864,
          -12.9742445,
          -19.4565516,
          -19.6416194,
          -25.5482532,
          -18.9097969,
          -22.7237104,
          -9.6325168,
          -9.660699,
          -6.2321881,
          -5.8731294,
          -5.8778818,
          -5.124376,
          -27.6669127,
          -22.9709538,
          -23.1442347,
          -2.7942892,
          -27.6624725,
          -13.3784127,
          -15.5983,
          -22.9165384,
          -23.025139,
          -13.3794928,
          -12.9272823,
          -2.502384,
          -22.9363425,
          -20.3865039,
          -22.296819,
          -10.9932934,
          -12.5601624,
          -12.5139199,
          -12.562846,
          -22.7675791,
          -16.4438991,
          -21.1341006,
          -19.9176259,
          -2.797934,
          -23.207282,
          -1.4402068,
          -22.7557237,
          -1.4514947,
          -25.609356,
          -22.9048979,
          -7.306186,
          -7.1072061,
          -12.5568585,
          -26.9123134,
          -9.6429085,
          -25.5654302,
          -12.9630172,
          -3.6255126,
          -23.5618988,
          -3.2383922,
          -22.7623989,
          -21.1249034,
          -15.0556509,
          -26.9227124,
          -7.130377,
          -27.5905918,
          -28.1345335,
          -13.0095538,
          -25.5448054,
          -27.6927854,
          -13.3919441,
          -22.995762,
          -15.5965437,
          -22.9841546,
          -15.794607,
          -16.4927839,
          -20.3869442,
          -30.0394594,
          -5.8718685,
          -12.6076347,
          -15.593956,
          -7.7873087,
          -22.9674369,
          -22.9641456,
          -27.599101,
          -5.9796681,
          -20.4621924,
          -22.9736751,
          -25.4907558,
          -21.1270618,
          -16.3861472,
          -16.491691,
          -22.914915,
          -28.0712324,
          -16.385757,
          -23.7751635,
          -16.3937759,
          -16.4476781,
          -16.3917332,
          -16.3417454,
          -16.4534424,
          -16.445024,
          -16.4434833,
          -4.5267927,
          -23.964824,
          -18.2383175,
          -22.79367,
          -2.794326,
          -2.796588,
          -22.9238566,
          -12.5778227,
          -13.3796141,
          -29.1896561,
          -10.1826086,
          -12.9754614,
          -22.934878,
          -6.2301308,
          -23.4661791,
          -27.4310828,
          -23.5475579,
          -23.555467,
          -23.8158333,
          -16.4845945,
          -14.2774924,
          -22.7499397,
          -12.5639197,
          -23.1426241,
          -16.5928206,
          -23.030972,
          -3.7670038,
          -28.1890965,
          -25.5344804,
          -25.5696057,
          -22.9805466,
          -27.8997796,
          -25.5303636,
          -14.2798112,
          -22.9159415,
          -22.984533,
          -29.4867866,
          -27.6756591,
          -22.995788,
          -23.1415414,
          -22.9145681,
          -8.1401532,
          -25.4395508,
          -23.5606513,
          -6.2304802,
          -3.7221898,
          -22.9349033,
          -26.2903141,
          -24.552743,
          -8.507023,
          -13.379004,
          -23.579777,
          -5.8827441,
          -14.2767345,
          -23.2198876,
          -16.3836732,
          -1.1329191,
          -9.6674811,
          -23.8128678,
          -27.598427,
          -23.1413281,
          -22.7588011,
          -6.2302788,
          -22.770735,
          -23.5791499,
          -23.2152615,
          -16.5887616,
          -23.218484,
          -22.963028,
          -1.4550515,
          -8.1287044,
          -23.980351,
          -22.9162261,
          -16.5863208,
          -3.1337942,
          -22.9836101,
          -22.9843951,
          -27.5747848,
          -23.1449383,
          -23.5544168,
          -23.1427138,
          -12.9678473,
          -27.42971,
          -22.968464,
          -27.6096431,
          -23.2150218,
          -25.5348906,
          -22.9845108,
          -22.9161716,
          -6.230777,
          -25.5347685,
          -27.7816111,
          -13.0042807,
          -25.5347855,
          -21.1162531,
          -27.601016,
          -12.973731,
          -13.0042325,
          -13.008245,
          -25.535531,
          -22.750587,
          -23.1442228,
          -22.9852334,
          -7.1053848,
          -3.133578,
          -20.8166228,
          -14.2773387,
          -23.3487912,
          -25.5447915,
          -22.971768,
          -12.9726945,
          -5.8830875,
          -22.954917,
          -27.5813742,
          -22.973009,
          -20.3832694,
          -23.1414896,
          -12.487782,
          -12.5626721,
          -27.7693068,
          -22.9285757,
          -25.5498756,
          -25.5999645,
          -22.9955689,
          -23.1409947,
          -5.8700643,
          -22.7761509,
          -22.9231569,
          -22.9831533,
          -23.5388878,
          -23.423943,
          -27.5828975,
          -12.967763,
          -22.9833811,
          -22.9845323,
          -16.5874057,
          -12.9740753,
          -25.539541,
          -23.5420508,
          -3.7193874,
          -3.347088,
          -27.598841,
          -22.7734071,
          -27.602144,
          -22.8935679,
          -12.5624785,
          -1.4488791,
          -15.4571593,
          -8.7176917,
          -16.8075461,
          -27.5821559,
          -9.660216,
          -21.1208114,
          -25.5095369,
          -21.688025,
          -8.9623935,
          -23.5706981,
          -23.6085091,
          -22.9425142,
          -22.759039,
          -16.5950405,
          -10.1789836,
          -23.5567456,
          -31.7773658,
          -8.5070967,
          -22.9868171,
          -20.3868223,
          -22.9214873,
          -22.932931,
          -7.204928,
          -24.0158662,
          -23.4475574,
          -22.9122477,
          -27.1530656,
          -22.9721455,
          -27.4341296,
          -22.9750599,
          -27.4368679,
          -27.438543,
          -29.0504435,
          -2.7593375,
          -27.778753,
          -22.914374,
          -23.7666182,
          -2.502506,
          -2.0476682,
          -13.3781778,
          -25.5342331,
          -10.1931768,
          -20.1449534,
          -19.0048305,
          -23.56018,
          -29.198243,
          -28.1241027,
          2.8453402,
          -22.9470657,
          -2.9110154,
          -22.3608611,
          -22.772464,
          -29.171441,
          -25.4357687,
          -26.9829043,
          -23.0244194,
          -19.9358061,
          -3.8403973,
          -12.5658046,
          -29.3577161,
          -23.569414,
          -23.2229392,
          -2.7554611,
          -18.9993298,
          -12.8991886,
          -23.0141433,
          -12.5921466,
          -3.6232154,
          -22.7555953,
          -28.1256666,
          -22.9716564,
          -23.6051931,
          -2.5286728,
          -23.1428151,
          -12.9278385,
          -20.730209,
          -22.9707354,
          -8.0500393,
          -13.3844744,
          -26.9909258,
          -23.4655179,
          -28.129304,
          -29.3801104,
          -1.4540764,
          -11.568946,
          -2.7945643,
          -8.554429,
          -8.0171808,
          -12.5609013,
          -13.0052813,
          -12.487767,
          -5.1246753,
          -4.527256,
          -21.1291904,
          -23.5397789,
          -12.9497802,
          -23.527861,
          -29.3910033,
          -0.704711,
          -13.3796187,
          -13.0035104,
          -9.6268256,
          -27.6085006,
          -3.8451427,
          -21.7236994,
          -23.8164112,
          -3.022252,
          -27.4436857,
          -15.8515145,
          -27.6521587,
          -14.1759615,
          -2.5038957,
          -23.2422218,
          -13.381221,
          -16.4917398,
          -30.0216601,
          -22.7759592,
          -22.9434034,
          -26.9881356,
          -20.61487,
          -13.5908669,
          -9.6044805,
          -3.0675969,
          -23.143648,
          -23.1414896,
          -21.1447251,
          -23.539425,
          -21.1063209,
          -6.2325439,
          -23.1439069,
          -22.9751139,
          -22.5061111,
          -21.1228651,
          -26.6282536,
          -19.922024,
          -27.4282998,
          -9.9503689,
          -14.2817402,
          -9.0166388,
          -12.9006489,
          -23.7793844,
          -25.5460694,
          -20.465795,
          -22.7635286,
          -3.8423176,
          -29.377332,
          -23.7682985,
          -23.9648579,
          -22.7641195,
          -14.2764321,
          -22.9699344,
          -23.143641,
          -3.0435933,
          -22.966525,
          -22.9104927,
          -27.902147,
          -24.7356536,
          -2.8806775,
          -27.430382,
          -22.977563,
          -23.2016492,
          -27.6098474,
          -25.5455669,
          -2.9107417,
          -22.9312134,
          -27.6308905,
          -8.3976757,
          -22.9811279,
          -28.1349897,
          -3.6240992,
          -2.5123685,
          -20.299563,
          -22.9904763,
          -21.710815,
          -22.9609276,
          -22.9578561,
          -23.788398,
          -15.5965566,
          -23.207114,
          -6.2393846,
          -22.9849018,
          -22.9493493,
          -22.9492259,
          -22.2871356,
          -23.2087919,
          -23.5012779,
          -6.23369,
          -22.9605445,
          -27.4521772,
          -26.9727902,
          -22.9034686,
          -22.9962852,
          -12.6160294,
          -2.7954655,
          -12.5603278,
          -22.910652,
          -3.1343972,
          -3.137698,
          -20.3859591,
          -25.549924,
          -23.4059286,
          -22.9747383,
          -12.5637089,
          -22.9324342,
          -21.1182364,
          -25.5607008,
          -25.4437829,
          -30.0678837,
          -27.6133652,
          -27.675914,
          -22.9999629,
          -8.0168819,
          -22.9443267,
          -27.5755889,
          -23.262683,
          -6.2293418,
          -24.8037727,
          -27.153669,
          -14.2868583,
          -20.2365832,
          -13.38435,
          -23.778813,
          -25.609356,
          -8.5064051,
          -27.5790749,
          -15.7519374,
          -20.7222285,
          -26.9279804,
          -19.8588791,
          -23.5589351,
          -23.5588985,
          -22.9850647,
          -2.7952414,
          -23.5578239,
          -2.5300149,
          -13.068977,
          -6.230153,
          -24.1883564,
          -13.6068461,
          -22.9170394,
          -7.0967312,
          -27.4283852,
          -22.7522298,
          -9.6528286,
          -27.6509938,
          -6.2294024,
          -22.9716226,
          -27.5810539,
          -26.9074053,
          -22.9113633,
          -25.5009088,
          -27.576057,
          -12.5632247,
          -23.55,
          -23.181567,
          -22.8554274,
          -22.8955104,
          -25.4195733,
          -21.1135097,
          -16.8082128,
          -23.5603241,
          -23.554731,
          -23.4518845,
          -23.6215527,
          -27.5874762,
          -27.5768295,
          -12.9702236,
          -27.6122944,
          -27.5771314,
          -27.7508857,
          -4.781979,
          -23.2187748,
          -8.7533808,
          -5.8831902,
          -6.309241,
          -22.9085842,
          -22.9545478,
          -2.6246454,
          -6.231521,
          -14.2781053,
          -5.867506,
          -27.6035057,
          -5.888709,
          -22.9689633,
          -8.5260945,
          -2.499687,
          -25.5598184,
          -13.013446,
          -29.1618897,
          -13.3886005,
          -22.7511891,
          -10.1783697,
          -19.926707,
          -12.5641252,
          -14.1342524,
          -6.2313496,
          -23.5546973,
          -13.7981289,
          -13.0049035,
          -22.915182,
          0,
          -19.9120656,
          -23.40183,
          -14.8223523,
          -23.5587847,
          -14.2784494,
          -9.6724936,
          -23.5539507,
          -27.4278684,
          -5.8850191,
          -4.5293396,
          -3.7324,
          -2.7576023,
          -22.9289122,
          -27.735627,
          -22.9740215,
          -2.4837165,
          -22.7740891,
          -20.668319,
          -23.555671,
          -23.2225336,
          -21.1210421,
          -8.5263459,
          -3.6242382,
          -27.6048257,
          -14.2815189,
          -21.1315476,
          -9.462011,
          -12.6257481,
          -30.0368496,
          -31.7712873,
          -20.4238875,
          -12.969188,
          -9.6317096,
          -22.927944,
          -13.0092213,
          -9.2406659,
          -2.5297431,
          -9.0827024,
          -28.0731813,
          -21.1822305,
          -2.5589194,
          -16.3807452,
          -25.4423444,
          -22.7713509,
          -14.2796128,
          -23.5554051,
          -2.5047314,
          -3.1369234,
          -14.2810802,
          -20.3857546,
          -3.1290031,
          -14.3835365,
          -22.7681777,
          -27.6056467,
          -22.7765916,
          -22.7556034,
          -2.814553,
          -14.2764719,
          -8.529969,
          -16.0555554,
          -19.9110616,
          -22.984542,
          -20.6121582,
          -27.5747931,
          -19.8564698,
          -23.6373811,
          -2.056219,
          -14.2810047,
          -2.5275976,
          -3.7234648,
          -5.8769755,
          -8.5046341,
          -2.7952653,
          -22.73128,
          -23.4387284,
          -23.2172105,
          -22.753425,
          -23.4493579,
          -6.2335,
          -23.4372816,
          -23.5236129,
          -6.2315162,
          -2.5280379,
          -23.5567369,
          -25.4268992,
          -22.7552652,
          -25.7863545,
          -14.2793055,
          -22.9727787,
          -13.8937862,
          -2.8191396,
          -3.6304562,
          -14.2810514,
          -23.7783563,
          -22.9973307,
          -27.5741849,
          -22.7844949,
          -22.9394266,
          -23.1412649,
          -14.281077,
          -22.3701437,
          -22.9229322,
          -20.7358933,
          -23.9860788,
          -23.1442215,
          -30.0271859,
          -22.9854695,
          -6.7539233,
          -23.5361607,
          -22.881633,
          -9.6522298,
          -27.702304,
          -23.401587,
          -6.2296023,
          -6.2335174,
          -27.5883581,
          -22.7489147,
          -3.8461483,
          -23.6235,
          -23.3096262,
          -8.4832038,
          -22.3408871,
          -27.5712368,
          -13.0049005,
          -27.5830567,
          -2.797981,
          -8.8457613,
          -21.1243769,
          -2.9073029,
          -2.4048912,
          -13.3826117,
          -22.6141255,
          -22.756913,
          -25.5468272,
          -22.5309949,
          -2.9139551,
          -23.2206756,
          -6.2322637,
          -24.0119811,
          -3.747904,
          -23.6325177
         ],
         "legendgroup": "",
         "lon": [
          -48.5018,
          -38.9132194,
          -41.8879341,
          -44.1613715,
          -32.4200741,
          -44.2996931,
          -46.6555705,
          -42.0202745,
          -43.2424213,
          -46.6464588,
          -35.7164946,
          -51.1923934,
          -35.046172,
          -35.5757479,
          -43.2303264,
          -43.1925447,
          -39.1028396,
          -50.9920258,
          -41.8799602,
          -45.1979911,
          -38.505784,
          -48.5025784,
          -42.6821801,
          -38.5282633,
          -54.5786148,
          -41.4079667,
          -44.9628115,
          -37.7018988,
          -38.3670897,
          -38.5007423,
          -45.3578064,
          -49.7241723,
          -43.2204522,
          -38.9929398,
          -37.9628418,
          -48.4215725,
          -49.3837031,
          -35.0486292,
          -35.0501411,
          -39.0689886,
          -54.5813332,
          -35.2225019,
          -43.9759936,
          -54.5181884,
          -41.8925686,
          -48.4713319,
          -45.0148326,
          -46.6778113,
          -44.1678422,
          -38.910348,
          -43.189949,
          -42.7520562,
          -43.2285606,
          -42.9035758,
          -48.6311527,
          -38.7259365,
          -38.9913211,
          -38.9856606,
          -42.274485,
          -46.5357441,
          -46.6412999,
          -43.478632,
          -47.8900402,
          -42.825796,
          -37.7959565,
          -46.7858719,
          -48.6469208,
          -45.0625176,
          -35.0083048,
          -43.5029453,
          -43.1885169,
          -39.146347,
          -34.8415987,
          -46.635617,
          -54.5895989,
          -45.0667503,
          -43.17803,
          -46.134459,
          -38.5329502,
          -40.510824,
          -46.6634883,
          -48.4284972,
          -48.2796278,
          -46.64005,
          -45.4265222,
          -42.8280957,
          -48.5445206,
          -38.9349598,
          -52.2941715,
          -46.6727525,
          -48.5101311,
          -44.1678441,
          -42.038911,
          -46.698818,
          -46.6332483,
          -45.0737664,
          -48.426848,
          -46.6749192,
          -47.2723122,
          -46.641798,
          -45.3660284,
          -43.4782795,
          -34.897107,
          -42.7513365,
          -35.0472863,
          -43.1798615,
          -48.4837044,
          -48.4294047,
          -46.6731679,
          -44.1672561,
          -54.9341198,
          -45.399081,
          -42.0213189,
          -48.442717,
          -46.79278,
          -48.4851101,
          -49.0711089,
          -48.4676514,
          -43.2196461,
          -41.8949999,
          -43.1772025,
          -35.184442,
          -48.6509482,
          -51.1890852,
          -42.8823637,
          -46.6904907,
          -44.1676141,
          -40.2977758,
          -49.1996137,
          -40.517241,
          -34.904266,
          -43.195695,
          -41.318896,
          -46.6548632,
          -55.7442034,
          -38.5248136,
          -35.1800012,
          -48.4998256,
          -44.719704,
          -54.5881419,
          -46.6590483,
          -46.6458131,
          -46.654872,
          -35.1825192,
          -46.688848,
          -46.6935393,
          -60.0968564,
          -48.5336171,
          -46.549354,
          -45.2226589,
          -45.014658,
          -43.1813791,
          -38.4495835,
          -54.5858002,
          -48.3827455,
          -54.5422531,
          -35.1806381,
          -46.652317,
          -48.9604835,
          -48.4270195,
          -41.391576,
          -42.9946639,
          -56.4781156,
          -56.485184,
          -43.1911108,
          -48.4868609,
          -41.8833333,
          -44.1762626,
          -34.9324965,
          -44.167413,
          -45.1323908,
          -50.8102518,
          -44.7191244,
          -38.9863455,
          -43.1811869,
          -50.8146697,
          -48.5445953,
          -44.7245656,
          -60.0618138,
          -34.8799683,
          -48.6264373,
          -45.6200336,
          -38.5059072,
          -45.3657757,
          -45.3658638,
          -45.0150009,
          -48.481949,
          -38.91111,
          -46.6790545,
          -44.7152245,
          -35.3526222,
          -35.050072,
          -34.9033351,
          -44.6453208,
          -54.5888183,
          -54.5540412,
          -49.2717348,
          -38.9912721,
          -48.5369054,
          -46.6800991,
          -46.6517108,
          -38.489853,
          -43.183958,
          -49.2770363,
          -40.513851,
          -43.1864509,
          -48.4232743,
          -49.319818,
          -46.644863,
          -42.4644656,
          -47.97949,
          -54.5731703,
          -49.0890884,
          -45.0689773,
          -42.8277,
          -42.4422478,
          -48.6194157,
          -41.9118922,
          -44.7240795,
          -54.5704886,
          -38.9519351,
          -48.495314,
          -43.939926,
          -46.6873488,
          -46.6376991,
          -42.8149962,
          -43.5040785,
          -34.827054,
          -38.5089815,
          -38.5065914,
          -40.3389238,
          -54.5688392,
          -49.7132683,
          -43.9587364,
          -38.5168833,
          -38.7250104,
          -54.5869604,
          -51.2186785,
          -43.1694713,
          -43.243093,
          -38.5220141,
          -54.5866699,
          -43.9412071,
          -38.5059072,
          -38.5177955,
          -43.941766,
          -48.5360848,
          -39.073442,
          -60.0038317,
          -38.2675155,
          -42.0316632,
          -38.919441,
          -46.521159,
          -56.5045014,
          -48.4666214,
          -43.2011058,
          -54.5738778,
          -43.1823365,
          -38.7271277,
          -46.4560941,
          -44.72,
          -39.0623437,
          -38.9885326,
          -41.389858,
          -43.4140837,
          -48.6241128,
          -48.633392,
          -44.7167175,
          -41.9061428,
          -60.0215591,
          -46.663772,
          -46.6566385,
          -43.2425069,
          -50.8639043,
          -48.6291064,
          -41.9301452,
          -43.2378164,
          -43.1810372,
          -48.4273907,
          -43.5209733,
          -41.8886072,
          -43.182093,
          -46.3542267,
          -47.464898,
          -48.425237,
          -48.462924,
          -44.1679036,
          -55.7541179,
          -56.097697,
          -55.7488983,
          -56.0996895,
          -55.7584681,
          -39.1495099,
          -48.4907605,
          -39.2202227,
          -48.4689863,
          -52.336922,
          -46.6930402,
          -54.5858362,
          -48.6527155,
          -48.4334272,
          -41.90522,
          -38.1982827,
          -46.231275,
          -46.6897675,
          -38.5072036,
          -35.0962784,
          -48.5907939,
          -48.4641667,
          -43.5008034,
          -39.037226,
          -40.2940439,
          -41.3901248,
          -38.9165935,
          -44.713917,
          -54.6286323,
          -51.2026444,
          -46.6909933,
          -44.1771894,
          -44.732475,
          -49.2708642,
          -43.5117698,
          -44.1663414,
          -44.1828472,
          -43.51762,
          -35.0067715,
          -34.8529301,
          -35.0009623,
          -35.1074123,
          -34.8990963,
          -43.59804,
          -46.6709612,
          -38.5058019,
          -35.0056224,
          -35.000416,
          -56.4845886,
          -46.6439768,
          -54.5891421,
          -45.3795738,
          -43.2333333,
          -48.6784487,
          -48.6291486,
          -48.5975323,
          -48.6779201,
          -54.5698685,
          -35.0055371,
          -47.3885133,
          -35.1552445,
          -54.5736111,
          -54.5888749,
          -43.2415623,
          -36.2746341,
          -35.2575302,
          -43.2953208,
          -37.240371,
          -37.2395958,
          -36.5839576,
          -35.3210449,
          -36.2723109,
          -35.3112532,
          -36.0400554,
          -46.6962472,
          -48.2461111,
          -48.4866409,
          -38.917316,
          -40.5116181,
          -35.1764092,
          -46.6400865,
          -41.9494075,
          -45.0600992,
          -39.074872,
          -35.1808369,
          -43.177291,
          -38.9292297,
          -46.6275258,
          -48.2502365,
          -48.238999,
          -48.002622,
          -47.9986111,
          -48.1683333,
          -47.996186,
          -48.245132,
          -48.2443856,
          -48.24469,
          -48.1683333,
          -43.1923272,
          -35.664903,
          -44.1691978,
          -34.9063069,
          -43.6180706,
          -46.2561535,
          -48.4754911,
          -46.6505208,
          -43.1938379,
          -46.6435764,
          -46.2744719,
          -34.8942125,
          -45.3570058,
          -43.187192,
          -41.9068422,
          -44.7188338,
          -41.9215101,
          -47.9531641,
          -54.6286694,
          -41.7677864,
          -54.569145,
          -48.4238484,
          -46.6548632,
          -47.5153247,
          -43.4004405,
          -41.3897187,
          -41.8890205,
          -35.713037,
          -39.0208748,
          -43.2331485,
          -43.1741237,
          -43.1980402,
          -43.1799602,
          -50.8820573,
          -43.1893129,
          -43.1856679,
          -48.834309,
          -35.897265,
          -38.993225,
          -44.7335046,
          -56.3033166,
          -43.1898709,
          -48.6302561,
          -51.92528,
          -43.957248,
          -40.5139015,
          -43.501869,
          -54.5753402,
          -48.5286817,
          -43.1777581,
          -43.1769132,
          -45.1872938,
          -43.954053,
          -46.5726511,
          -46.6755325,
          -38.5083185,
          -44.2491166,
          -43.9043753,
          -54.5847278,
          -48.2581444,
          -45.5659102,
          -35.6973354,
          -35.704856,
          -35.0441195,
          -35.1791954,
          -35.1756249,
          -35.62485,
          -48.4850679,
          -43.1894059,
          -44.1660156,
          -40.5192314,
          -48.4932661,
          -38.914899,
          -56.1044,
          -43.1831796,
          -43.5114841,
          -38.912584,
          -38.3210831,
          -54.956476,
          -42.475956,
          -43.5063956,
          -42.469942,
          -37.0532279,
          -41.3908134,
          -41.5749877,
          -41.389446,
          -41.9038768,
          -39.0666389,
          -44.2575619,
          -43.9364413,
          -40.515908,
          -44.717563,
          -48.4586105,
          -41.8798236,
          -48.5023832,
          -54.480288,
          -43.1243634,
          -34.8096449,
          -34.827793,
          -41.3912743,
          -49.0669784,
          -35.7080093,
          -48.3151715,
          -38.5024207,
          -38.7349475,
          -46.6932839,
          -39.2368872,
          -41.8902545,
          -56.4879903,
          -38.9976235,
          -49.0602066,
          -34.822439,
          -48.558345,
          -48.6482977,
          -38.5294362,
          -54.580374,
          -48.4863194,
          -38.9338536,
          -43.2445,
          -56.0901971,
          -43.2201403,
          -47.889436,
          -39.0732526,
          -43.505247,
          -51.2215273,
          -35.1840806,
          -38.9658773,
          -56.0937574,
          -34.8397149,
          -42.0258742,
          -43.1784432,
          -48.466971,
          -35.1241493,
          -54.6238999,
          -43.1893129,
          -54.5717425,
          -56.4900438,
          -39.0425561,
          -39.072685,
          -43.180019,
          -48.6270975,
          -39.034434,
          -45.3547328,
          -39.0433311,
          -39.0677881,
          -39.0423317,
          -39.0075569,
          -39.0642973,
          -39.0625692,
          -39.0676574,
          -37.7053852,
          -46.189142,
          -43.6061677,
          -41.93089,
          -40.514268,
          -40.516663,
          -43.36911,
          -38.0082846,
          -38.9176673,
          -51.1914404,
          -48.3402109,
          -38.5111134,
          -43.180026,
          -35.0473324,
          -45.0641691,
          -48.4579796,
          -46.6918179,
          -46.653946,
          -45.37,
          -39.0808602,
          -38.9915584,
          -41.8783855,
          -41.3899988,
          -44.1678017,
          -39.1037706,
          -43.4777331,
          -38.4408681,
          -48.6637003,
          -54.5900589,
          -48.3141666,
          -43.1921835,
          -48.5917424,
          -54.5894574,
          -38.9919512,
          -43.1898978,
          -43.193232,
          -50.7299709,
          -48.5043815,
          -43.242133,
          -44.1685638,
          -43.182605,
          -34.914025,
          -48.7883955,
          -46.6902935,
          -35.049337,
          -38.5107356,
          -43.1783685,
          -48.8403311,
          -48.680655,
          -35.004415,
          -38.91742,
          -46.646288,
          -35.1764145,
          -38.9988458,
          -44.7164563,
          -39.0353049,
          -48.459831,
          -35.7146543,
          -45.3672507,
          -48.4640488,
          -44.1678993,
          -41.8886072,
          -35.0492905,
          -41.912047,
          -46.6360448,
          -44.7120064,
          -39.0986385,
          -44.716926,
          -43.180694,
          -48.4953868,
          -34.9049728,
          -46.227532,
          -43.1836076,
          -39.0915321,
          -60.0198357,
          -43.2012085,
          -43.1918041,
          -48.4307798,
          -44.1691566,
          -46.6900444,
          -44.1632457,
          -38.5059429,
          -48.449954,
          -43.1907066,
          -48.4408004,
          -44.7120351,
          -54.5766234,
          -43.2251071,
          -43.1810372,
          -35.0476626,
          -54.5881128,
          -48.5085448,
          -38.5289593,
          -54.585968,
          -56.5062986,
          -48.465521,
          -38.5081848,
          -38.5260985,
          -38.5275399,
          -54.590819,
          -41.875858,
          -44.1656442,
          -43.2023853,
          -34.8329849,
          -60.018467,
          -43.8099796,
          -38.9878406,
          -44.7262311,
          -54.5803912,
          -43.190689,
          -38.5094416,
          -35.1728714,
          -43.186521,
          -48.4349671,
          -42.0222861,
          -43.5009624,
          -44.1614466,
          -37.9587241,
          -41.3894465,
          -48.532243,
          -43.1939042,
          -54.5847129,
          -54.5240052,
          -43.2695969,
          -44.1612095,
          -35.1819496,
          -41.9057224,
          -43.1749729,
          -43.2087479,
          -46.6465759,
          -45.0645382,
          -48.4358695,
          -38.506624,
          -43.1947933,
          -43.21411,
          -39.0907582,
          -38.5084839,
          -54.581659,
          -46.6437252,
          -38.5134978,
          -39.136756,
          -48.549769,
          -41.9158094,
          -48.4368664,
          -42.029562,
          -41.3886524,
          -48.4693673,
          -55.7468418,
          -35.0877527,
          -39.149169,
          -48.5253959,
          -35.709422,
          -56.4972839,
          -54.5489429,
          -45.2641376,
          -35.1749603,
          -46.6564918,
          -46.6415024,
          -45.4202884,
          -41.890756,
          -39.1036727,
          -48.3457728,
          -46.687821,
          -52.3452687,
          -35.0054963,
          -43.1910998,
          -43.5013616,
          -43.2146887,
          -42.4816736,
          -39.319218,
          -46.2770627,
          -45.0689459,
          -43.185806,
          -48.5020939,
          -42.0306765,
          -48.4602239,
          -42.022185,
          -48.3961889,
          -48.484279,
          -50.1417544,
          -42.8272649,
          -48.528965,
          -43.178733,
          -45.736382,
          -54.9554149,
          -60.0210493,
          -38.9172253,
          -54.5849482,
          -48.3610134,
          -44.1937833,
          -57.6429184,
          -46.678092,
          -49.954787,
          -48.6496915,
          -60.653801,
          -43.1852896,
          -41.7689465,
          -43.125098,
          -41.913842,
          -51.5040105,
          -49.287154,
          -48.641508,
          -44.3474266,
          -43.9399023,
          -32.4107429,
          -41.3903525,
          -50.8487129,
          -46.7086608,
          -44.7186339,
          -42.8247196,
          -57.6566488,
          -38.6575333,
          -44.2298421,
          -38.0362933,
          -38.7397879,
          -41.8887118,
          -48.6545201,
          -43.1856447,
          -46.6170349,
          -44.3051449,
          -44.1702657,
          -38.6178364,
          -46.6196836,
          -42.0284376,
          -34.892071,
          -38.9186618,
          -48.6406138,
          -45.0628612,
          -48.6560679,
          -50.8763364,
          -48.4886369,
          -39.278325,
          -40.5142953,
          -35.0135804,
          -34.8512824,
          -41.3895157,
          -38.5273491,
          -37.958517,
          -35.6250976,
          -37.702459,
          -56.4809722,
          -46.6442427,
          -38.3469205,
          -46.682561,
          -49.7792399,
          -48.520249,
          -38.9175552,
          -38.5304541,
          -35.6960225,
          -48.5476826,
          -32.4062672,
          -44.9856716,
          -46.0460031,
          -39.641744,
          -48.3824662,
          -48.9483777,
          -48.4726562,
          -47.8127944,
          -44.294072,
          -44.6398304,
          -38.91123,
          -39.0743312,
          -51.2105669,
          -41.9245423,
          -43.201532,
          -48.6321135,
          -46.05091,
          -38.9261556,
          -37.7708409,
          -60.0041733,
          -44.167707,
          -44.1614466,
          -44.2243812,
          -46.644629,
          -44.1744499,
          -35.0452882,
          -44.1690439,
          -42.0227361,
          -43.1836111,
          -56.5017819,
          -48.6977019,
          -43.9153229,
          -48.4653147,
          -67.8188132,
          -38.9886436,
          -35.2231292,
          -38.4846934,
          -45.3581169,
          -54.5890235,
          -54.60504,
          -41.8926824,
          -32.4114075,
          -50.874674,
          -45.6936388,
          -46.3500725,
          -41.8947579,
          -38.9909063,
          -43.1889633,
          -44.166562,
          -59.9742962,
          -42.028547,
          -47.0684361,
          -48.5936592,
          -47.529551,
          -39.9099207,
          -48.458935,
          -42.026227,
          -44.7212078,
          -48.4485951,
          -54.5869238,
          -41.4041521,
          -43.1803035,
          -48.4722901,
          -35.0433665,
          -43.1962842,
          -48.6596241,
          -38.7484359,
          -54.9426921,
          -43.8178677,
          -43.2316679,
          -41.093466,
          -43.1694951,
          -43.1843075,
          -45.361111,
          -56.0987701,
          -44.7177698,
          -35.0440688,
          -43.2144252,
          -43.1829508,
          -43.1829586,
          -42.5336978,
          -44.7188497,
          -46.6188794,
          -35.0432809,
          -43.1701791,
          -48.411974,
          -48.6371576,
          -42.0322319,
          -43.2405869,
          -41.4928928,
          -40.513769,
          -41.3863028,
          -43.18736,
          -60.0201953,
          -60.0237749,
          -43.501211,
          -54.5755907,
          -45.0149811,
          -42.0283391,
          -41.3871146,
          -42.5202901,
          -44.1681622,
          -54.5718315,
          -49.2752264,
          -51.1895504,
          -48.4632182,
          -48.5042748,
          -44.3099198,
          -34.8510657,
          -43.1855243,
          -48.5373611,
          -44.635289,
          -35.050753,
          -47.6344299,
          -48.484205,
          -38.9856606,
          -40.2736214,
          -38.918856,
          -45.356863,
          -54.480288,
          -35.0060902,
          -48.4320111,
          -47.8954,
          -40.5268645,
          -49.0420022,
          -43.9758682,
          -46.6772384,
          -46.6745481,
          -43.2050437,
          -40.5160131,
          -46.6907639,
          -44.3042727,
          -38.729839,
          -35.0474271,
          -46.8180871,
          -38.91218,
          -43.1785591,
          -34.8431192,
          -48.4596944,
          -41.8766092,
          -35.7057142,
          -48.4752519,
          -35.0500496,
          -43.190928,
          -48.4308963,
          -49.0808114,
          -45.9589515,
          -54.5546564,
          -48.42852,
          -41.3863114,
          -45.066667,
          -44.712121,
          -41.9900914,
          -43.2293449,
          -49.2734204,
          -44.1605349,
          -39.1482031,
          -46.7113914,
          -46.692716,
          -45.0658565,
          -46.6633951,
          -48.541205,
          -48.5277021,
          -38.5079237,
          -48.4434595,
          -48.423069,
          -48.5116315,
          -37.2828254,
          -44.7200078,
          -35.0934551,
          -35.1786867,
          -35.038249,
          -43.1921099,
          -43.1940323,
          -60.9443704,
          -35.047462,
          -38.9971665,
          -35.1818347,
          -48.4656237,
          -35.173635,
          -43.1902778,
          -35.0099238,
          -43.2506791,
          -54.5709235,
          -38.4829706,
          -51.1786736,
          -38.9302044,
          -41.8799393,
          -48.3462239,
          -43.94574,
          -41.3897579,
          -47.5152239,
          -35.0466307,
          -46.676627,
          -47.4450571,
          -38.532786,
          -43.1821136,
          0,
          -43.9697807,
          -45.015267,
          -39.0288686,
          -46.6872518,
          -38.9925455,
          -35.7185476,
          -46.6354446,
          -48.4033123,
          -35.177567,
          -37.7018119,
          -38.46158,
          -42.8378885,
          -43.1771891,
          -48.5153697,
          -43.1932616,
          -44.2490907,
          -41.8933792,
          -40.493912,
          -46.674742,
          -44.7255694,
          -56.4978779,
          -35.0101485,
          -38.7408685,
          -48.4688482,
          -38.9887143,
          -56.483125,
          -35.550904,
          -41.491316,
          -51.2207831,
          -52.3403946,
          -49.9739568,
          -38.50758,
          -35.6982966,
          -43.177103,
          -38.5305644,
          -35.3525311,
          -44.3043957,
          -35.2728096,
          -48.6271755,
          -47.8121602,
          -44.2705383,
          -39.0358111,
          -49.2443734,
          -41.901132,
          -38.992187,
          -46.6539687,
          -54.949571,
          -60.0194159,
          -38.9887654,
          -43.5038054,
          -60.0216397,
          -39.048916,
          -41.9040724,
          -48.5146887,
          -41.908471,
          -46.1484729,
          -40.41489,
          -38.9910635,
          -35.008523,
          -56.5663592,
          -43.9766164,
          -43.214107,
          -46.0634864,
          -48.4222308,
          -43.9768088,
          -46.6588602,
          -60.0280191,
          -38.9899764,
          -44.3001579,
          -38.5213872,
          -35.1803098,
          -35.0017348,
          -40.5130031,
          -45.58174,
          -45.0717292,
          -44.7327392,
          -41.879622,
          -46.474488,
          -35.0458,
          -45.0787888,
          -46.6663887,
          -35.0430387,
          -44.2948189,
          -46.6635705,
          -49.2540036,
          -41.8890009,
          -48.5205197,
          -38.9942432,
          -43.1913069,
          -38.9500478,
          -40.4066135,
          -38.7206589,
          -38.9899196,
          -45.3582328,
          -43.2409966,
          -48.5344167,
          -41.9295907,
          -43.2013159,
          -44.170279,
          -38.9887641,
          -44.8851342,
          -43.1891119,
          -40.5356404,
          -46.2270201,
          -44.1691437,
          -51.2148647,
          -43.2055648,
          -35.635807,
          -46.6519784,
          -42.02045,
          -35.7056666,
          -48.4950678,
          -45.015615,
          -35.050813,
          -35.0433543,
          -48.5249885,
          -41.8813487,
          -32.414094,
          -46.66383,
          -44.7503096,
          -34.9997368,
          -42.3191128,
          -48.4304649,
          -38.5320978,
          -48.4357289,
          -40.5144769,
          -35.1483123,
          -56.4856638,
          -41.7744049,
          -44.4166224,
          -38.9105742,
          -46.4687246,
          -41.887247,
          -54.5796466,
          -41.929504,
          -41.4026641,
          -44.7188833,
          -35.0555929,
          -46.2797737,
          -38.467814,
          -46.8822714
         ],
         "marker": {
          "color": "#636efa"
         },
         "mode": "markers",
         "name": "",
         "showlegend": false,
         "subplot": "mapbox",
         "type": "scattermapbox"
        }
       ],
       "layout": {
        "autosize": true,
        "legend": {
         "tracegroupgap": 0
        },
        "mapbox": {
         "accesstoken": "pk.eyJ1IjoidGhhbmFlbCIsImEiOiJjbHdmbnFsMWwwMjh1MmtvN3k4bDlibGZrIn0.GV0-K-dJuFBuCw7HxZnmYA",
         "bearing": 0,
         "center": {
          "lat": -18.396991448116623,
          "lon": -47.94294646648166
         },
         "domain": {
          "x": [
           0,
           1
          ],
          "y": [
           0,
           1
          ]
         },
         "pitch": 0,
         "zoom": 2.1865039337829826
        },
        "margin": {
         "t": 60
        },
        "template": {
         "data": {
          "bar": [
           {
            "error_x": {
             "color": "#2a3f5f"
            },
            "error_y": {
             "color": "#2a3f5f"
            },
            "marker": {
             "line": {
              "color": "#E5ECF6",
              "width": 0.5
             },
             "pattern": {
              "fillmode": "overlay",
              "size": 10,
              "solidity": 0.2
             }
            },
            "type": "bar"
           }
          ],
          "barpolar": [
           {
            "marker": {
             "line": {
              "color": "#E5ECF6",
              "width": 0.5
             },
             "pattern": {
              "fillmode": "overlay",
              "size": 10,
              "solidity": 0.2
             }
            },
            "type": "barpolar"
           }
          ],
          "carpet": [
           {
            "aaxis": {
             "endlinecolor": "#2a3f5f",
             "gridcolor": "white",
             "linecolor": "white",
             "minorgridcolor": "white",
             "startlinecolor": "#2a3f5f"
            },
            "baxis": {
             "endlinecolor": "#2a3f5f",
             "gridcolor": "white",
             "linecolor": "white",
             "minorgridcolor": "white",
             "startlinecolor": "#2a3f5f"
            },
            "type": "carpet"
           }
          ],
          "choropleth": [
           {
            "colorbar": {
             "outlinewidth": 0,
             "ticks": ""
            },
            "type": "choropleth"
           }
          ],
          "contour": [
           {
            "colorbar": {
             "outlinewidth": 0,
             "ticks": ""
            },
            "colorscale": [
             [
              0,
              "#0d0887"
             ],
             [
              0.1111111111111111,
              "#46039f"
             ],
             [
              0.2222222222222222,
              "#7201a8"
             ],
             [
              0.3333333333333333,
              "#9c179e"
             ],
             [
              0.4444444444444444,
              "#bd3786"
             ],
             [
              0.5555555555555556,
              "#d8576b"
             ],
             [
              0.6666666666666666,
              "#ed7953"
             ],
             [
              0.7777777777777778,
              "#fb9f3a"
             ],
             [
              0.8888888888888888,
              "#fdca26"
             ],
             [
              1,
              "#f0f921"
             ]
            ],
            "type": "contour"
           }
          ],
          "contourcarpet": [
           {
            "colorbar": {
             "outlinewidth": 0,
             "ticks": ""
            },
            "type": "contourcarpet"
           }
          ],
          "heatmap": [
           {
            "colorbar": {
             "outlinewidth": 0,
             "ticks": ""
            },
            "colorscale": [
             [
              0,
              "#0d0887"
             ],
             [
              0.1111111111111111,
              "#46039f"
             ],
             [
              0.2222222222222222,
              "#7201a8"
             ],
             [
              0.3333333333333333,
              "#9c179e"
             ],
             [
              0.4444444444444444,
              "#bd3786"
             ],
             [
              0.5555555555555556,
              "#d8576b"
             ],
             [
              0.6666666666666666,
              "#ed7953"
             ],
             [
              0.7777777777777778,
              "#fb9f3a"
             ],
             [
              0.8888888888888888,
              "#fdca26"
             ],
             [
              1,
              "#f0f921"
             ]
            ],
            "type": "heatmap"
           }
          ],
          "heatmapgl": [
           {
            "colorbar": {
             "outlinewidth": 0,
             "ticks": ""
            },
            "colorscale": [
             [
              0,
              "#0d0887"
             ],
             [
              0.1111111111111111,
              "#46039f"
             ],
             [
              0.2222222222222222,
              "#7201a8"
             ],
             [
              0.3333333333333333,
              "#9c179e"
             ],
             [
              0.4444444444444444,
              "#bd3786"
             ],
             [
              0.5555555555555556,
              "#d8576b"
             ],
             [
              0.6666666666666666,
              "#ed7953"
             ],
             [
              0.7777777777777778,
              "#fb9f3a"
             ],
             [
              0.8888888888888888,
              "#fdca26"
             ],
             [
              1,
              "#f0f921"
             ]
            ],
            "type": "heatmapgl"
           }
          ],
          "histogram": [
           {
            "marker": {
             "pattern": {
              "fillmode": "overlay",
              "size": 10,
              "solidity": 0.2
             }
            },
            "type": "histogram"
           }
          ],
          "histogram2d": [
           {
            "colorbar": {
             "outlinewidth": 0,
             "ticks": ""
            },
            "colorscale": [
             [
              0,
              "#0d0887"
             ],
             [
              0.1111111111111111,
              "#46039f"
             ],
             [
              0.2222222222222222,
              "#7201a8"
             ],
             [
              0.3333333333333333,
              "#9c179e"
             ],
             [
              0.4444444444444444,
              "#bd3786"
             ],
             [
              0.5555555555555556,
              "#d8576b"
             ],
             [
              0.6666666666666666,
              "#ed7953"
             ],
             [
              0.7777777777777778,
              "#fb9f3a"
             ],
             [
              0.8888888888888888,
              "#fdca26"
             ],
             [
              1,
              "#f0f921"
             ]
            ],
            "type": "histogram2d"
           }
          ],
          "histogram2dcontour": [
           {
            "colorbar": {
             "outlinewidth": 0,
             "ticks": ""
            },
            "colorscale": [
             [
              0,
              "#0d0887"
             ],
             [
              0.1111111111111111,
              "#46039f"
             ],
             [
              0.2222222222222222,
              "#7201a8"
             ],
             [
              0.3333333333333333,
              "#9c179e"
             ],
             [
              0.4444444444444444,
              "#bd3786"
             ],
             [
              0.5555555555555556,
              "#d8576b"
             ],
             [
              0.6666666666666666,
              "#ed7953"
             ],
             [
              0.7777777777777778,
              "#fb9f3a"
             ],
             [
              0.8888888888888888,
              "#fdca26"
             ],
             [
              1,
              "#f0f921"
             ]
            ],
            "type": "histogram2dcontour"
           }
          ],
          "mesh3d": [
           {
            "colorbar": {
             "outlinewidth": 0,
             "ticks": ""
            },
            "type": "mesh3d"
           }
          ],
          "parcoords": [
           {
            "line": {
             "colorbar": {
              "outlinewidth": 0,
              "ticks": ""
             }
            },
            "type": "parcoords"
           }
          ],
          "pie": [
           {
            "automargin": true,
            "type": "pie"
           }
          ],
          "scatter": [
           {
            "fillpattern": {
             "fillmode": "overlay",
             "size": 10,
             "solidity": 0.2
            },
            "type": "scatter"
           }
          ],
          "scatter3d": [
           {
            "line": {
             "colorbar": {
              "outlinewidth": 0,
              "ticks": ""
             }
            },
            "marker": {
             "colorbar": {
              "outlinewidth": 0,
              "ticks": ""
             }
            },
            "type": "scatter3d"
           }
          ],
          "scattercarpet": [
           {
            "marker": {
             "colorbar": {
              "outlinewidth": 0,
              "ticks": ""
             }
            },
            "type": "scattercarpet"
           }
          ],
          "scattergeo": [
           {
            "marker": {
             "colorbar": {
              "outlinewidth": 0,
              "ticks": ""
             }
            },
            "type": "scattergeo"
           }
          ],
          "scattergl": [
           {
            "marker": {
             "colorbar": {
              "outlinewidth": 0,
              "ticks": ""
             }
            },
            "type": "scattergl"
           }
          ],
          "scattermapbox": [
           {
            "marker": {
             "colorbar": {
              "outlinewidth": 0,
              "ticks": ""
             }
            },
            "type": "scattermapbox"
           }
          ],
          "scatterpolar": [
           {
            "marker": {
             "colorbar": {
              "outlinewidth": 0,
              "ticks": ""
             }
            },
            "type": "scatterpolar"
           }
          ],
          "scatterpolargl": [
           {
            "marker": {
             "colorbar": {
              "outlinewidth": 0,
              "ticks": ""
             }
            },
            "type": "scatterpolargl"
           }
          ],
          "scatterternary": [
           {
            "marker": {
             "colorbar": {
              "outlinewidth": 0,
              "ticks": ""
             }
            },
            "type": "scatterternary"
           }
          ],
          "surface": [
           {
            "colorbar": {
             "outlinewidth": 0,
             "ticks": ""
            },
            "colorscale": [
             [
              0,
              "#0d0887"
             ],
             [
              0.1111111111111111,
              "#46039f"
             ],
             [
              0.2222222222222222,
              "#7201a8"
             ],
             [
              0.3333333333333333,
              "#9c179e"
             ],
             [
              0.4444444444444444,
              "#bd3786"
             ],
             [
              0.5555555555555556,
              "#d8576b"
             ],
             [
              0.6666666666666666,
              "#ed7953"
             ],
             [
              0.7777777777777778,
              "#fb9f3a"
             ],
             [
              0.8888888888888888,
              "#fdca26"
             ],
             [
              1,
              "#f0f921"
             ]
            ],
            "type": "surface"
           }
          ],
          "table": [
           {
            "cells": {
             "fill": {
              "color": "#EBF0F8"
             },
             "line": {
              "color": "white"
             }
            },
            "header": {
             "fill": {
              "color": "#C8D4E3"
             },
             "line": {
              "color": "white"
             }
            },
            "type": "table"
           }
          ]
         },
         "layout": {
          "annotationdefaults": {
           "arrowcolor": "#2a3f5f",
           "arrowhead": 0,
           "arrowwidth": 1
          },
          "autotypenumbers": "strict",
          "coloraxis": {
           "colorbar": {
            "outlinewidth": 0,
            "ticks": ""
           }
          },
          "colorscale": {
           "diverging": [
            [
             0,
             "#8e0152"
            ],
            [
             0.1,
             "#c51b7d"
            ],
            [
             0.2,
             "#de77ae"
            ],
            [
             0.3,
             "#f1b6da"
            ],
            [
             0.4,
             "#fde0ef"
            ],
            [
             0.5,
             "#f7f7f7"
            ],
            [
             0.6,
             "#e6f5d0"
            ],
            [
             0.7,
             "#b8e186"
            ],
            [
             0.8,
             "#7fbc41"
            ],
            [
             0.9,
             "#4d9221"
            ],
            [
             1,
             "#276419"
            ]
           ],
           "sequential": [
            [
             0,
             "#0d0887"
            ],
            [
             0.1111111111111111,
             "#46039f"
            ],
            [
             0.2222222222222222,
             "#7201a8"
            ],
            [
             0.3333333333333333,
             "#9c179e"
            ],
            [
             0.4444444444444444,
             "#bd3786"
            ],
            [
             0.5555555555555556,
             "#d8576b"
            ],
            [
             0.6666666666666666,
             "#ed7953"
            ],
            [
             0.7777777777777778,
             "#fb9f3a"
            ],
            [
             0.8888888888888888,
             "#fdca26"
            ],
            [
             1,
             "#f0f921"
            ]
           ],
           "sequentialminus": [
            [
             0,
             "#0d0887"
            ],
            [
             0.1111111111111111,
             "#46039f"
            ],
            [
             0.2222222222222222,
             "#7201a8"
            ],
            [
             0.3333333333333333,
             "#9c179e"
            ],
            [
             0.4444444444444444,
             "#bd3786"
            ],
            [
             0.5555555555555556,
             "#d8576b"
            ],
            [
             0.6666666666666666,
             "#ed7953"
            ],
            [
             0.7777777777777778,
             "#fb9f3a"
            ],
            [
             0.8888888888888888,
             "#fdca26"
            ],
            [
             1,
             "#f0f921"
            ]
           ]
          },
          "colorway": [
           "#636efa",
           "#EF553B",
           "#00cc96",
           "#ab63fa",
           "#FFA15A",
           "#19d3f3",
           "#FF6692",
           "#B6E880",
           "#FF97FF",
           "#FECB52"
          ],
          "font": {
           "color": "#2a3f5f"
          },
          "geo": {
           "bgcolor": "white",
           "lakecolor": "white",
           "landcolor": "#E5ECF6",
           "showlakes": true,
           "showland": true,
           "subunitcolor": "white"
          },
          "hoverlabel": {
           "align": "left"
          },
          "hovermode": "closest",
          "mapbox": {
           "style": "light"
          },
          "paper_bgcolor": "white",
          "plot_bgcolor": "#E5ECF6",
          "polar": {
           "angularaxis": {
            "gridcolor": "white",
            "linecolor": "white",
            "ticks": ""
           },
           "bgcolor": "#E5ECF6",
           "radialaxis": {
            "gridcolor": "white",
            "linecolor": "white",
            "ticks": ""
           }
          },
          "scene": {
           "xaxis": {
            "backgroundcolor": "#E5ECF6",
            "gridcolor": "white",
            "gridwidth": 2,
            "linecolor": "white",
            "showbackground": true,
            "ticks": "",
            "zerolinecolor": "white"
           },
           "yaxis": {
            "backgroundcolor": "#E5ECF6",
            "gridcolor": "white",
            "gridwidth": 2,
            "linecolor": "white",
            "showbackground": true,
            "ticks": "",
            "zerolinecolor": "white"
           },
           "zaxis": {
            "backgroundcolor": "#E5ECF6",
            "gridcolor": "white",
            "gridwidth": 2,
            "linecolor": "white",
            "showbackground": true,
            "ticks": "",
            "zerolinecolor": "white"
           }
          },
          "shapedefaults": {
           "line": {
            "color": "#2a3f5f"
           }
          },
          "ternary": {
           "aaxis": {
            "gridcolor": "white",
            "linecolor": "white",
            "ticks": ""
           },
           "baxis": {
            "gridcolor": "white",
            "linecolor": "white",
            "ticks": ""
           },
           "bgcolor": "#E5ECF6",
           "caxis": {
            "gridcolor": "white",
            "linecolor": "white",
            "ticks": ""
           }
          },
          "title": {
           "x": 0.05
          },
          "xaxis": {
           "automargin": true,
           "gridcolor": "white",
           "linecolor": "white",
           "ticks": "",
           "title": {
            "standoff": 15
           },
           "zerolinecolor": "white",
           "zerolinewidth": 2
          },
          "yaxis": {
           "automargin": true,
           "gridcolor": "white",
           "linecolor": "white",
           "ticks": "",
           "title": {
            "standoff": 15
           },
           "zerolinecolor": "white",
           "zerolinewidth": 2
          }
         }
        }
       }
      },
      "text/html": [
       "<div>                            <div id=\"a1ae03b5-75dc-4899-a589-3ea400c515e9\" class=\"plotly-graph-div\" style=\"height:525px; width:100%;\"></div>            <script type=\"text/javascript\">                require([\"plotly\"], function(Plotly) {                    window.PLOTLYENV=window.PLOTLYENV || {};                                    if (document.getElementById(\"a1ae03b5-75dc-4899-a589-3ea400c515e9\")) {                    Plotly.newPlot(                        \"a1ae03b5-75dc-4899-a589-3ea400c515e9\",                        [{\"hovertemplate\":\"\\u003cb\\u003e%{hovertext}\\u003c\\u002fb\\u003e\\u003cbr\\u003e\\u003cbr\\u003elatitude=%{lat}\\u003cbr\\u003elongitude=%{lon}\\u003cextra\\u003e\\u003c\\u002fextra\\u003e\",\"hovertext\":[\"Babitonga Hostel\",\"Pousada Marinheiro\",\"Jardim Secreto Guesthouse\",\"Hostel Clube Vaa\",\"Noronha 350\",\"Casa Guarnic\\u00ea Hostel\",\"O Viajante Hostel\",\"Varandas do Arraial\",\"Boutique Hotel G\\u00e1vea Tropical\",\"Hostel Zen Garden\",\"Praia Hotel Enseada\",\"Swan Generation\",\"Tropical Hostel\",\"Proxima Estacion Hostel\",\"Hostel Esta\\u00e7\\u00e3o Maracan\\u00e3\",\"Hostel Porto Maravilha\",\"Hostel Villa Cacau Trancoso\",\"Sitio Sapiranga\",\"Pousada Cores de Buzios\",\"Pousada Chales Madu\",\"IHostel Aldeota\",\"Morro das Pedras Clube Hotel & Spa\",\"EcoRupestre Hostel Serra da Capivara\",\"Nomads MultiCultural\",\"Vila Castelo Branco\",\"Vila Prana\",\"Mandala Hostel\",\"Pousada California\",\"Puleiro Hostel\",\"La Plage Salvador - Boutique Hostel\",\"ClanDestino\",\"Mare Blu Pousada Hostel\",\"Hostel Leblon\",\"Mar\\u00e9 Mansa Pousada e Hostel\",\"Pousada Tupi\",\"Rosemary Dream\",\"Arauc\\u00e1ria Hostel\",\"Kuki's Hostel\",\"Pousada Oasis\",\"Santo Hostel\",\"Real Foz\",\"Maragogi Social Hostel\",\"Da Orla Pampulha Hostel\",\"Pousada Inn Falls Park\",\"My House Hostel Buzio\",\"Hostel Manjeric\\u00e3o\",\"Sitio Simple Life\",\"Lamparina Hostel\",\"Biotiful Bed & Breakfast\",\"Mundo da Lua Hostel\",\"Selina Copacabana\",\"Hospedaria & Camping Pingo de Ouro\",\"Maracan\\u00e3 Hostel Vila Isabel\",\"Aldeia Gaia\",\"Your Hostel\",\"Casa Odara\",\"Bananas Hostel\",\"Pousada Terral Surf\",\"Mini Hostel Tut\\u00f3ia-MA\",\"O Hostel - Gru | SP\",\"Hostel Minho\",\"Longboard Paradise Surf Club\",\"Joy Hostel\",\"Casa do Professor Hostel\",\"Villa Isola Bella\",\"Hostel Econ\\u00f4mico\",\"Arte da Tribo Hostel & Camping\",\"Ka'a Hostel & Pousada\",\"Porto Gale\\u00e3o\",\"\\u00c9 Hostel\",\"Rio Deal Guest House\",\"Da Praia Cara\\u00edva\",\"Espa\\u00e7o Luz do Sol\",\"Hostel Liberdade\",\"Hauzz Hostel\",\"Qu\\u00e9 onda!\",\"Sangha Urbana\",\"Jundu Beach Hostel\",\"Manhat\\u00e3 Hostel\",\"Suites Jeri 360 Graus\",\"Hostel More SP\",\"Nossa Casa em Floripa\",\"Udihostel Albergue e Hospedaria Ltda\",\"Tapera Hostel\",\"Hostel Popular Canto da Praia\",\"Z-18 Hostel\",\"Innbox - Porto Belo\",\"Flet Point Hostel\",\"Hostel Brazilian House\",\"Bistu Hotel & Hostel\",\"Hostel Vagamundo\",\"Bougainville Hostel\",\"Beach Hostel & Suites Los Pibes de Flores\",\"Kaleidosc\\u00f3pio Hostel\",\"Hostel Ipe\",\"Casa Alma Zen - Hostel Boutique & Bistr\\u00f4 Ubatuba\",\"Duque Hostel\",\"Hobi Guest House\",\"Azul Maria Hostel\",\"Quintal Hostel\",\"Manaca Hospedaria\",\"Rio Surf House\",\"APRAIANA HOSTEL\",\"Pousada VelhoBateau\",\"Cores da Pipa\",\"Chez Zany\",\"Lampiao Hostel\",\"N\\u00f4mades Adventure Hostel\",\"Zeca 343\",\"Beach House Ilha Grande Hostel\",\"Espaco Agroecologico Caminho das Pedras\",\"Hostel Central S\\u00e3o Sebasti\\u00e3o\",\"Chamos Hostel Cultural\",\"Pantai Chill House\",\"Namoa Pollastrini\",\"Hostel Banana House\",\"Oma Hostel\",\"Pequi Hostel\",\"I'm Hostel - Be happy\",\"El Misti Hostel Buzios\",\"Por el Mundo Hostel\",\"Agora Hostel Natal\",\"Rosa Surf Hostel\",\"Hostel Casa do Rogerio\",\"Vi\\u00e7osa Hostel\",\"Hostob - Vila Madelena\",\"Solar da Praia\",\"Sono Vitoria\",\"Brazilian Cult Hostel\",\"Raiz Kite Cabana\",\"Casa Feliz Hostel Boa Viagem\",\"JM Guesthouse Ipanema\",\"Abrigo de Montanha Xique Xique\",\"Hostel Paulista\",\"Rasta House\",\"Hostel Cristo da Barra\",\"Economy Apart\",\"Hostel e Su\\u00edtes Lar Azul\",\"Selina Paraty\",\"Tarob\\u00e1 Express\",\"Imagina Hostel\",\"Galeria SP Hostel\",\"Jardins Village Hostel - Unidade Brigadeiro\",\"Economy Suites\",\"Hostel Cal\\u00e1bria Vila Madalena\",\"Visto Hostel\",\"Abar\\u00e9 House Floating Hostel\",\"Un dia mas Hostel\",\"Calamares Hotel\",\"Hostel Caribe de Ubatuba\",\"Casa Tribus Itamambuca\",\"Apto Copacabana\",\"L\\u00e1 na Praia Hostel e Pousada\",\"Hotel Dany\",\"Pousada do Atoba\",\"Iguassu Holiday Hotel\",\"Costeira Praia Flat\",\"Red Monkey Hostel Barra Funda\",\"Hotel Estancia Bonanza\",\"The Search House Beachfront Hostel\",\"Hostel UFO na Chapada\",\"Cabane Paradis\",\"CLH Suites Bonito Sul\",\"CLH Suites Bonito Centro\",\"Solar Hostel Beach Copacabana\",\"Host N\\u00b4Roll\",\"Pousada Por do Sol Buzios\",\"Guapuruvu Hostel\",\"Pousada Lua Cheia\",\"Marlin Hostel Ilha Grande\",\"Camping Sununga\",\"Hostel 142\",\"Maracuj\\u00e1 Hostel\",\"Pandora Hostel\",\"Studio Centro Lapa\",\"Pousada e Hostel Estacoes\",\"Sonho Floripa\",\"Pousada Casa de Praia Trindade\",\"Flutuante Das Bandeiras\",\"Micasa Su Casa\",\"Pousada Recanto das Ondas\",\"Casa Bacarira Ecolodge\",\"Hostel Barroco Salvador\",\"Hostel Pai Pai Jose\",\"Verde Hostel Ilhabela\",\"Aldeia Itamambuca Chale Ubatuba\",\"Hostel Toca da Mor\\u00e9ia Bombinhas\",\"Pousada Cajaiba\",\"Pousada Fairmont\",\"Leo's Clan Beach Hostel\",\"Pousada Maria Bonita\",\"Che Pepe Hostel\",\"Ramon HostelBar\",\"Remo Hostel\",\"Pousada Foz Igu\",\"Casa das Orquideas Foz\",\"Hostel Matilda\",\"Pousada Gale\\u00e3o\",\"Beira Mar Hostel Centro\",\"Paradiso Bnb\",\"Soul Hostel\",\"Casa de Mainha Friendly Hostel\",\"Massape Rio Hostel\",\"CLH Suites Curitiba\",\"LaTaperaJeri\",\"Gaia Hostel\",\"Sea Wolf Surf Hostel\",\"Hostel Farroupilha\",\"Nomade In Arte e Hostel\",\"Casa da Floresta\",\"Casa de Flor\",\"Tetris Container Hostel\",\"Stammtisch Hostel\",\"Na Praia - Family Hostel & Coworking\",\"Para\\u00edso do Caju House Hostel\",\"Camp in Brazil\",\"Garopaba - Cidade Baixa Hostel\",\"Hostel Campo de Pouso\",\"Pousada da Rosa\",\"Igua\\u00e7u Falls Room\",\"Capit\\u00e3o Gancho\",\"Belem Hostel\",\"Hostel Savassi\",\"Villa Hostel\",\"Namoa Castelinho\",\"Cama, Caf\\u00e9 e Aventura\",\"Jos\\u00e9 e Maria Hostel Bar\",\"Hostel Boi Bumba\",\"Irawo Hotel\",\"Caf\\u00e9 Hostel\",\"Guanaan\\u00ed Hostel\",\"Hostel Poesia\",\"Pousada Aventura\",\"Pampulha Adventure Hostel\",\"Pousada Savoy\",\"Bada Hostel & Kite School\",\"Che Lagarto Hostel Foz do Igua\\u00e7u\",\"Solar63 Hostel\",\"Hostel Rio Guesthouse\",\"Pousada Kasa dos Micos\",\"Ref\\u00fagio Hostel Fortaleza\",\"Villa Igua\\u00e7u Palace Hotel\",\"Rock! and Hostel\",\"Gadhega\\u2019s Hostel Salvador\",\"Pousada Morada do Sol - My Space\",\"Abrigo Lapinha\",\"Eco Hostel Residencial Bananeiras\",\"Hostel Marraial\",\"Mindu GuestHouse\",\"Otedis Petrolina\",\"N0013 Duplex Arraial do Cabo\",\"Pousada Vila Do Sossego\",\"Guappo Ch\\u00e1cara Hostel\",\"Pousada Diamante\",\"Vintage Apartments Florian\\u00f3polis\",\"Ocean Ipanema\",\"Hostel Anau\\u00ea\",\"Copacabana Beach N 001\",\"Casa Mihika\",\"Lulilo Hostel\",\"Casa Viva Paraty\",\"Pouso de Carpa\",\"Pousada Villa do Sol Itacare\",\"Casa de Jorge - Lencois\",\"Amorelli Private Residence\",\"Apartamento Cristina Condo\",\"Apartamento Jana\\u00edna\",\"Vibe Hostel\",\"Cantinho de Geriba\",\"Local Hostel Manaus\",\"Lobo Urban Stay\",\"Did's Hostel\",\"Mirante do Arvrao\",\"Brit\\u00e2nico Su\\u00edtes e Hostel\",\"Apartamento Maria Julia\",\"Pousada Tudo de Bom\",\"Maraca Hostel Rio\",\"Mambembe Hostel\",\"Barra Surf Hostel\",\"Ball n Kicka - Football Fan Camp\",\"Hostel Carioca Buzios\",\"Casa do Abacateiro\",\"Pousada Alto da Lapa\",\"Pousada Aruana\",\"Hostel Ponto Praia\",\"Pousada Jardim Da Lagoa\",\"Bela Casa Quartos e Hostel\",\"Pousada Viva\",\"Pousada Cuiaba\",\"Pousada Ribas\",\"Hotel Panorama Cuiaba\",\"Pousada Pequizeiro\",\"Aruanda Hostel\",\"Pousada Lua Cheia\",\"Pousada dos Girassois\",\"Caracol Hostel\",\"Hello Hostel Design\",\"Viva Hostel Design\",\"Hotel Faguile\",\"Haleakala Hostel\",\"Pousada do Canal\",\"Solar Hostel B\\u00fazios\",\"Pousada Kurumin\",\"Pousada Recanto dos Bentos\",\"Hostel SP011 Sao Paulo\",\"Pousada Ideal Beach\",\"Pousada Manupi\",\"Recanto Verde Mata\",\"Geckos Hostel\",\"Freedom Hostel - MG\",\"Residence Vila Europa\",\"Onca da Praia - Hostel\",\"Pousada Lavramor\",\"Pousada Passarte Rua Biquinha\",\"Pousada do Limoeiro\",\"HI Hostel Campo Grande MS\",\"Pousada Terra Sul\",\"Hostel Brasil Boutique\",\"Pousada do \\u00d3\",\"Pousada Internacional\",\"Hotel Blumenau\",\"Pousada Taynara\",\"Pousada 21 de abril\",\"Pousada Papyrus\",\"Pousada Inconfidencia Mineira\",\"Pousada Fazenda Xal\\u00e9s de Maraca\\u00edpe\",\"Hostel Duarte Coelho\",\"Pousada Capit\\u00e3es de Areia\",\"Chal\\u00e9s Cavalo Marinho\",\"Zoya Bed and Breakfast\",\"Pousada da Seresta\",\"O'Riley's Perdizes Hostel\",\"Familiar Accomodation\",\"Pousada Porto Tropical\",\"Pousada Cores do Mar\",\"Tapera Hotel\",\"Apartamento Centro SP\",\"Alvorada Iguassu Hotel\",\"Pousada dos Coqueiros\",\"B&B Botarezinha\",\"Pousada do Quiririm\",\"Pousada Rancho Hanna\",\"Pousada Casa de Pedra\",\"Pousada da Tammy\",\"Concept Design Hostel\",\"Che Lagarto Hostel Porto de Galinhas\",\"Hotel Santa Clara Franca\",\"Hotel Ocean Imperium\",\"Hostel Aloha Foz do Iguacu\",\"Hostel Frontier\",\"Favela Nova\",\"Chale Oasis\",\"Pousada Estrelamar - Porto Mirim\",\"Hospedaria da Joatinga\",\"Pousada Beijo Mar\",\"Pousada Juscelino\",\"Hotel Farol de Galinhos\",\"Pousada Brisa do Mar - RN\",\"Pousada Amagali\",\"Corais de Maracaja\\u00fa\",\"Pousada do Farol\",\"Garoa Hostel\",\"Pousada Crepusculo\",\"Sagui Hostel\",\"Hostel Pousada Tia Preta\",\"Pousada EcoJeri\",\"Pousada Lampiao e Maria Bonita\",\"Pousada Imigrantes Jabaquara\",\"Buzios Casa\",\"Green Haven Hostel\",\"Hotel Pousada Saudosa Maloca\",\"Residencial Castor\",\"Hospedaria da Gl\\u00f3ria\",\"Morada da Mangaba\",\"Anhembi Hostel\",\"Pousada Recanto da Piragui\",\"Pousada Pousada Willian Michaud\",\"Pousada Dona Tereza\",\"Pousada da Ilha\",\"Pousada e Restaurante Bella Ilha\",\"Pousada Recanto do Maruja\",\"Pousada Cost'Azul\",\"Pousada Centauro\",\"Pousada Sobre as Ondas\",\"Pousada e Lanchonete Magal\",\"Tropical Sun Rio Flats\",\"GoBrazil\",\"Pousada Acalanto Ilha Grande\",\"Estacao do Mangue Hostel\",\"Pousada Topo Do Cipo\",\"Guaruja Ilha Hostel\",\"Karaguashouse\",\"Mama Brasil Hostel\",\"Maison Tordeur Bed & Breakfast\",\"Brazilodge All Suites Hostel\",\"Pousada Canto das Laranjeiras-Tombo\",\"Boa Viagem Hostel\",\"Pousada Recanto da Villa\",\"B&B O Veleiro Bed and Breakfast\",\"Casa da Lagoa Guest House\",\"Paraty Hostel - Casa do Rio\",\"Art Beach Hostel B\\u00fazios\",\"Linetur\",\"Athenas Apart-Hotel\",\"Pousada do Sui\\u00e7o Parnaiba\",\"Iguassu Falls Hostel\",\"Green Mountain Pousada\",\"Namoa Paulista\",\"Jardim da Nova Era\",\"B&B  Barra da Tijuca\",\"Hostel Aventurismus Chapada Diamantina - Lencois\",\"Casa Pitanga\",\"Pousada Galo Sui\\u00e7o\",\"Hotel Pousada Terras do Sem Fim - Ilheus - Bahia\",\"Bed & Breakfast Leblon Militza\",\"B&B Praia Leme\",\"B&B Lagoa Vitoria Regia\",\"B&B Botafogo Lilian\",\"Pousada Lanai Gramado\",\"Copacabana Apart\",\"B&B Copacabana Verde\",\"Pousada Vov\\u00f3 Idalina\",\"Natus Hostel\",\"Nice Surf House in Pituba\",\"Pousada Estalagem\",\"Pantanal Ranch Meia Lua\",\"Santo Mirante Hostel\",\"Se\\u00f1or Hostel\",\"Hostel Guaratingueta\",\"Hostel BH\",\"Pousada Bangalo\",\"La Aldea Zen Guesthouse\",\"Pousada da Angelica\",\"Hostel Da Ilha De Sao Francisco Do Sul\",\"Discovery Hostel\",\"Apartment in Copacabana\",\"Guest House Canto do Sabia\",\"Minas Hostel\",\"Pousada Leste\",\"Vila Rock Hostel\",\"Mao Dupla Hostel\",\"Hostel Sete Lagoas\",\"Ramada Airport Hotel\",\"Pousada Bella Casa, Foz do Iguacu\",\"Pousada Italia\",\"Sonja\\u00b4s Almh\\u00fctte\",\"Ritz Suites Hotel\",\"Tropico Praia Hotel\",\"Pousada Bicho Preguica\",\"Hotel Delphia Marsallis\",\"Marambaia Apart Hotel\",\"Pousada Vila Bacana\",\"Pousada TonaPraia\",\"Marcia Bed and Breakfast\",\"Harmoni Hostel e Pousada\",\"Pousada Galoo\",\"Moa Backpackers - Campeche\",\"Vista Bela Pousada\",\"Pantanal Backpakers\",\"Rio Forest Hostel\",\"U Surf Me\",\"Pousada Millennium 2\",\"Pousada Praia do Flamengo\",\"Hostel Pousada do Tapajos\",\"Pousada Sudoeste Inn\",\"Goiabada com Queijo Hostel\",\"Eco Hostel Instituto Pindorama\",\"Pousada Abais\",\"Pousada Violeiro - Lencois\",\"Pousada Caminhos da Chapada\",\"Pousada Lua de Cristal - Lencois\",\"Pousada Piratas de Buzios\",\"Malibu Porto Hotel\",\"Pousada Estacao do do Trem\",\"Amazonas Palace Hotel\",\"Pousada Atlantis\",\"Pousada Inn Brunello Paraty\",\"Hotel Paraiso Marili\",\"Bella Vista Village Buzios\",\"Hotel Ver O Peso\",\"Iguassu Eco Hostel\",\"Hostel Praia das Flexas\",\"Pousada Bem-te-vi\",\"Slow Hostel\",\"Pousada Alto do Cajueiro\",\"Hotel Blumenhof\",\"Hotel Pousada Lagoas\",\"Pousada Brasil Tropical\",\"Pousada Baluarte\",\"Casa Cohiba\",\"CityLights Hostel\",\"Pousada Bons Amigos\",\"Pousada Le Palmier\",\"Catarino's Guest House\",\"Pousada Indaia Eco Village\",\"Grande Hotel Blumenau\",\"Flat Mar do Cabo Branco\",\"HI Floripa Hostel Centro\",\"Albergue Explorer\",\"Pousada Marcos\",\"Green House Hostel & Camping\",\"Floripa Surf Hostel\",\"Pousada Halai\",\"Rocinha Guest House\",\"Abudi Palace Hotel\",\"Luiz Leblon Guest House\",\"Esplanada Brasilia Hotel\",\"Pousada P\\u00e9 na Estrada\",\"Pousada SR\",\"Porto Alegre Eco Hostel\",\"Republika Hostel\",\"Pousada Paraguassu\",\"Pousada Ecoverde\",\"Pousada Ciranda\",\"Arraial do Cabo Central Hostel\",\"Che Lagarto Hostel Copacabana\",\"Panorama Hostel EcoBackpackers\",\"Anacardium Vihara\",\"Hotel Iguacu\",\"Copacabana Apartment\",\"Hostel Manga Rosa\",\"Pousada Caramanch\\u00e3o\",\"Vilage Capoeira\",\"MOx Hostel Arraial d'Ajuda\",\"Global Rio de Janeiro\",\"Hotel Pousada O Sol\",\"America Praia Flat\",\"Pousada Manga Rosa\",\"Nautico Praia Hotel & Convention Center\",\"Hotel Estalagem Porto Seguro\",\"Portobello Park Hotel\",\"Pousada Aldeia Portuguesa\",\"Pousada Brisa do Mar\",\"Hotel Costa Verde\",\"Hotel Vale Verde\",\"Pousada Carol\",\"Canto das Laranjeiras\",\"HI Diamantina Hostel\",\"Pousada Mar e Terra\",\"Pousada Naquela Jericoacoara\",\"Pousada Surfing Jeri\",\"Paraiso Tropical\",\"HI Praia do Forte Hostel\",\"Pousada e Hostel Papagaio\",\"Mamma's Hostel\",\"Albergue Hostel Palmas\",\"HospedaSalvador\",\"Hostel In Rio Suites\",\"Surf Camp Pipa Hostel\",\"Bora Mora Bed and Breakfast\",\"Hostel Canasvieiras\",\"Hostel Alice & Padoca Vegan\",\"Pauliceia Hostel\",\"HI Bonns Ventos Hostel\",\"Pousada Fiori di Mare\",\"Mais que Nada Hostel & Patio-Bar\",\"Pousada Janellas do Mar\",\"HI Hostel Chapada - Lencois\",\"Pousada D' Pillel\",\"Pousada Aldeia do Sol\",\"Pontal Hostel\",\"Albergue Veraneio\",\"Surf Hostel Padang\",\"Iguassu Guest House\",\"Hostel Encantadas Ecologic\",\"Pura Vida Hostel Rio de Janeiro\",\"Pousada Santu\\u00e1rio da Madre\",\"Hostel e Pousada Natureza Foz\",\"Che Lagarto Hostel Itacar\\u00e9\",\"Pousada Santa Trem\",\"Ipanema Copa Posto 6\",\"HI Refugio do Pomar\",\"Campeche Hostel\",\"Casa Alto Vidigal\",\"Biergarten Hostel\",\"Books Hostel\",\"HI Arrecifes Hostel\",\"Pousada Cabanas do Curupira\",\"O de Casa Hostel Bar\",\"Albergue da Rose Hostel\",\"Albergaria Hostel\",\"Flamengo Apartment\",\"Joinville Hostel E Pousada\",\"Pousada da Diva\",\"Beach Life Porto de Galinhas\",\"Che Lagarto Hostel Morro de Sao Paulo\",\"Sao Paulo Global Hostel\",\"Recanto Sul Flat\",\"Casa do Miguel\",\"Paraty Hotel\",\"Porto Verano Residence\",\"Pousada Rios\",\"Pousada Bonaparte\",\"Hostel Central Ilhabela\",\"Submarino Hostel\",\"Pousada Casablanca\",\"Che Lagarto Hostel Buzios\",\"SugarCane Hostel\",\"Hostel Lobo Inn Buzios\",\"Olah Hostel - Vila Mariana\",\"Refron du Mar Bed & Breakfast Paraty\",\"Pousada Cheia de Onda\",\"Che Lagarto Hostel Paraty\",\"CabanaCopa Hostel\",\"Eco Pousada Miriti\",\"Hostel Piratas do Sol Recife\",\"Guaruja Hostel\",\"Casa Mango Mango\",\"Condominio dos Nativos\",\"Manaus Jungle Hostel\",\"Hostel New Ipanema\",\"Ron Rio Apartments\",\"Pousada dos Corais\",\"Pousada da Cachoeira\",\"Sampa Hostel\",\"Pousada Paloma\",\"Pousada S\\u00e3o Francisco de Assis\",\"Residencial Sol e Mar de Floripa\",\"Bamboo Rio Hostel\",\"Studio Formana\",\"Geko Pousada Paraty\",\"Bella Italia Hotel e Eventos Ltda\",\"Fatima Macintyre House\",\"Albergue Santa Teresa\",\"Surfcamp Arara\",\"Hotel Del Rey\",\"Pousada Estrelas no Mar\",\"Open House Barra\",\"Aguas do Igua\\u00e7u Hotel Centro\",\"Eco Pousada Villa Verde\",\"Tucano House Summer Hostel\",\"Hostel Galeria 13\",\"La Villa Francaise\",\"Hostel Pousada Cancun\",\"Hostel e Pousada El Shaddai\",\"Deauville Pousada\",\"HI Holandes\",\"Mango Tree Hostel Ipanema\",\"HI Manaira\",\"Hostel Manaus\",\"Hotel Cupim Lazer\",\"Pousada Casa Zaza\",\"Trindade Sea and Forest Yoga Hostel\",\"Hostel Bambu\",\"Walk On The Beach Hostel\",\"A Meson Pousada\",\"Nautilus Apart Hotel\",\"Tupiniquim Hostel\",\"Pousada e Hostel Ancora\",\"HI Marina dos Anjos\",\"O Sorriso do Lagarto\",\"Che Lagarto Hostel Ilha Grande\",\"Imbassai Eco Lujimba\",\"Pousada Daime Sono - Lencois\",\"Pousada S\\u00edtio dos Tucanos\",\"Pousada Favelinha\",\"HI Paudimar Falls\",\"Paudimar Cataratas Hotel\",\"Favela Receptiva\",\"Aquario Hostel Bar & Night Club\",\"Albergue da Costa Hostel\",\"Buzios Pousada Telhado Verde\",\"BaronGarden\",\"Ipanema Beach House\",\"Hotel Rojas All Suite\",\"Tropical Dolphin Hostel e Pousada\",\"Pousada Pouso do Marujo\",\"Nega Maluca Guesthouse\",\"Colinas Residencia\",\"Che Lagarto Hostel Ipanema\",\"Som do Mar\",\"HI Laranjeiras\",\"Foz Express Hotel\",\"Selina Aurora SP\",\"Sonho de Iracema Hostel Boutique\",\"Montepascual Ecovillage\",\"Innbox - Centro\",\"Numa Boa Hostel\",\"Selina Floripa\",\"Family Backpackers Cabo Frio Hostel\",\"Tropicalia Hostel\",\"Ibis Budget Bel\\u00e9m\",\"Hostel Chapada Dos Guimar\\u00e3es\",\"Ref\\u00fagio dos Carneiros Guesthouse\",\"Hostel Casa de Paix\\u00e3o\",\"Way Up Hostel\",\"Temporada em Macei\\u00f3\",\"Pousada Galeria Artes\",\"Stella Solaris Cataratas\",\"Cantinho Tres Coracoes\",\"Espa\\u00e7o Revive  Hostel e Camping\",\"Hospedagem Casa Paulista\",\"Hostel Casa Azul\",\"Hospedagem Perllas Hostel Pinda.ba\",\"Hostel Nos Veremos Otra Vez\",\"Quiron Hostel\",\"DiCasa Hostel\",\"Selina Madalena Sao Paulo\",\"Vila Santa Eulalia Hostel\",\"Mono Beach Hostel\",\"Social Hostel\",\"OuroPreto Hostel\",\"DS Hostel\",\"Itauna Hostel\",\"Hostel das Cores\",\"Reserva do Tombo Lounge Hostel\",\"Pousada Papaya Container\",\"Hostel Lapa 166\",\"Dax Bombinhas Hostel\",\"Massambaba Hostel\",\"Innbox - Canasvieiras\",\"Enseada Hostel\",\"Pousada Ondas de Floripa\",\"Casa Recreanext\",\"Hostel Cape Town\",\"Aquarela Hospedaria\",\"Cantinho dos Acores\",\"Selina Lapa Rio de Janeiro\",\"Flow Hostel Juquehy\",\"Don Pregui\\u00e7a\",\"Hostel da Milla\",\"DPM Eco Hostal\",\"Hotel Villa Canoas\",\"Palmas Hostel\",\"Hostel P\\u00e9 de Caju\",\"Fazenda Quatro Cantos\",\"Hostel California Caf\\u00e9 Bar\",\"Acasarosa Hostel\",\"Casa Hostel Floresce\",\"Hostel Cacari\",\"Hospedaria Rio\",\"Parnaiba Hostel\",\"Castelo de Itaipava Hotel - Eventos - Gastronomia\",\"B\\u00fazios Colinas Homestay\",\"Pousada Thiany\",\"Hotel e Hostel Piazza Batel\",\"Kasa Hostel Bar e Karaoke\",\"Casa Toscano\",\"Br Hostel\",\"Ilha Hostel\",\"Mangamel Hostel\",\"Pousada Vivenda dos Sonhos\",\"Hostel Home Eireli\",\"Pousada Parque Imperial\",\"Hostel Lencois Park\",\"Dom Alberto Hostel\",\"Pousada Tropic\\u00e1lia\",\"MoBu Hostel\",\"Recanto Lus\",\"Casa Ceara\",\"Bamboo Buzios Hostel\",\"Innbox - Praia do Rosa\",\"CLH Suites Copacabana @ Domingos Ferreira\",\"Lia Travel Inn\",\"Reviver Hostel\",\"Mambembe Ilha Grande\",\"Casa de Theo\",\"Hostel Passos MG\",\"La Casa Hostel\",\"Hostel e Pousada Boa Vista\",\"Farofa Loca Hostel & Suites\",\"Bonabrigo Hostel\",\"Hostel Praia Grande de Ubatuba\",\"Kaimana Hostel\",\"Eleganz Hostel & Suites\",\"\\u00d4vibe Party Hostel & Arts\",\"Hostel Barra\",\"Hostel Vila Flor Jericoacoara\",\"Vila Moa\",\"Canto dos Artistas\",\"Aconchego do  lar Hospedagem\",\"Hostel Casarao 65\",\"Maresias Bnb\",\"Pousada Gostoso Village\",\"Muiraquit\\u00e3 Residence\",\"Pousada Jubaia\",\"Hotel Ibis budget Sao Paulo Sao Joao\",\"Stellamares Apartamentos\",\"Today Hostel\",\"Hostel Tribos Livres\",\"Tucupi Hostel & Camping\",\"Porto de Cima Surf Hostel\",\"Porto das Palmeiras Hostel\",\"Meu Hostel\",\"Hostel Berghaus\",\"Casa Swell\",\"House of the stone\",\"Estacao Indaia\",\"Pousada Vayu\",\"Zinga Beach Hostel & Beer\",\"Casamatta Hostel\",\"Casa Terra Hospedagem\",\"Savana Hostel\",\"Tanan Hostel\",\"Pousada Paraty Paradiso\",\"Piratas do Morro Pousada e Hostel\",\"Pousada Semente\",\"Porto Alegre Hostel Boutique\",\"Do Bosque Guest House\",\"Solar do Cosme\",\"Hostel Central\",\"Hostel Casarao\",\"Hostel Boipeba Surf\",\"Pousada D Lia\",\"Apiaka Hostel\",\"Pousada Mata Nativa\",\"CLH Suites Ilha Grande\",\"Pousada Campo Verde\",\"Sao Paulo Hostel Downtown\",\"Hostel Tiradentes\",\"Free Hostel\",\"Casarao Hostel\",\"Acquarela Hostel\",\"Um Hostel\",\"Bonito Hostel\",\"Pousada Chef Brasil\",\"Hostel Chale Mineiro\",\"Solar Beach Hostel\",\"Hostel Vivacre\",\"Pousada Vevo\",\"Maraga Beach Hostel\",\"Laboratorio de Art Telmas Guest House\",\"Beer Hostel Ilhabela\",\"Iguassu Flats Hotel\",\"AElfgar House - Vacation Rental\",\"Pousada Ville Provence\",\"Vila Hostel\",\"Hostel Chocolatche\",\"Drifter Hostel\",\"Rolds Hostel\",\"Hostel Boedo\",\"Pousada Navio Hostel & Camping\",\"El Misti Suites\",\"Hostel Refugio\",\"Amazon Forest Backpackers\",\"Hostel Vila Praiana\",\"Hostel Central Brasil\",\"Hostel Surf Paradise\",\"Pousada Adriana Beach\",\"Coco Knots Kite Lodge\",\"World Hostel Canasvieiras\",\"A Coroa Hostel\",\"Canto Cai\\u00e7ara Hostel\",\"Doug Backpackers\",\"Salvatti Cataratas Hotel\",\"Raizes Eco Hostel\",\"Villa 25 - Hostel & Suites\",\"Oceano Azul Bed and Breakfast\",\"Acomodacao Ipojuca Bella\",\"Pousada Casa del Angel\",\"Guantanamera Hostel\",\"Kiwi Hostel & Lounge\",\"TerrAmor\",\"Hotel Fazenda Caco de Cuia\",\"Solar Chacara Suites\",\"Ref\\u00fagio N\\u00f4made Hostel\",\"Le House Hostel\",\"Hostel Da Bruna Botafogo\",\"Caxinguele\",\"Pantanal Hostel Safari Tours\",\"Hostel Sereia do Mar\",\"Lagarto na Banana\",\"Ipanema Beach Hostel\",\"Ace Suites Inn Rio\",\"Ace Praia de Botafogo Suites\",\"Alma Livre Hostel\",\"Casa Tulipa Hospedagens\",\"Metro Hostel SP\",\"Pipa Peace Hostel\",\"Aquarela do Leme\",\"Hospedaria Green\",\"Positive Hostel\",\"Pousada My House Cabo Frio\",\"Natural Do Rio  Guesthouse\",\"Pousada Nos Na Trilha\",\"Mandala Hostel\",\"Albergue de Lencois Backpackers\",\"Hostel By Hotel Galicia\",\"Ajuricaba Suites 2\",\"Ajuricaba Suites 1\",\"Hostel Uai\",\"Hostel Mandala\",\"Pousada Sol de Itamambuca\",\"Noosa Brasil Surf Republic\",\"Hospedaria Doce Lar\",\"Saqua Beach Hostel\",\"Torre Guesthouse\",\"Hostel Pousada do Alemao\",\"Social Hostel\",\"Pensionato PUP\",\"Haute Haus\",\"Villa Guest House and Hostel\",\"Morada do Aventureiro\",\"Hostel e Pousada Casa de Chica\",\"Casa Tuxi\",\"Pup Hostel SC\",\"Mamangua Beach Hostel\",\"Hospedaria Flor de CaJu\",\"Hostel Nirvana\",\"Quatro Ilhas Beach Hostel\",\"Pousada Terral\",\"Rephostel\",\"Universo Pol Bamboo Hostel\",\"Hostel da Vila\",\"Iguassu Eco Hostel - Backpackers\",\"Liras da Poesia Hostel e Pousada\",\"Blue Magic Hostel\",\"Hostel W3\",\"Pousada Casa Verde\",\"Hostel Blau Hause\",\"Pampulha Hostel\",\"Pousada e Hostel S\\u00e3o Paulo \\u2013 Unidade Econ\\u00f4mica\",\"Pousada e Hostel S\\u00e3o Paulo \\u2013 Unidade Comfort\",\"El Misti Hostel Ipanema\",\"Jeri Kite Surf Hostel\",\"Mad\\u00e1 Hostel\",\"Palma Hostel\",\"Alma Tropical Resort\",\"Pipa Pura Vida\",\"Ohanalu\",\"Oxe Hostel\",\"Rio World Connection Hostel\",\"Casa Amarela\",\"Casa Andalucia\",\"Namorada Brava Guest House\",\"Mar e Sertao\",\"Floripa Beach House Hostel\",\"Makeba\",\"Chez Zany - Copacabana\",\"Floripa Glamping\",\"Blu Hostel\",\"Hostel Sao Xico\",\"Hostel Quintal de Casa\",\"N\\u00f4mades Beach Hostel\",\"Hostel Peditrilha - Chapada Diamantina\",\"Green Haven Ilha Anchieta\",\"Pousada do Trevo Paraty\",\"Paraiso Das Conchas Hostel\",\"I Love Hostel Rio\",\"Hostel Kaizen\",\"Hostel Dela\",\"Vulva Cara\\u00edva Hostel & Pousada Feminino\",\"Youse Hostel\",\"Morada City Hostel\",\"Golden Garden Hostel\",\"Lulle Hostel\",\"Abaporu Art Hostel\",\"Insta Hostel Floripa\",\"Tamboleiros Hotel & Hostel\",\"Pousada Joaquina 433 Floripa\",\"Casa Do Cacau e Mumu\",\"Lagomar Hostel\",\"Peixe Gordo Adults Only Hotel\",\"Hostel Maresia Paraty\",\"Tubiba Hostel\",\"Get Up Hostel\",\"Arte Sagrada Hospedaria\",\"Central Hostel\",\"Aurora Hostel Rio\",\"Local Hostel Novo Airao\",\"No Worries Pipa\",\"Praieira Hostel\",\"Conceitual Hostel Natal\",\"Nuna Hostel Floripa\",\"Residencial Casa Flor, Ponta Negra\",\"Hostel Pelo Mundo\",\"Casulo Hostel Guest House\",\"Hostel Holly Land\",\"Coyote Pousada & Hostel\",\"Hostel do Rasta\",\"Casar\\u00e3o das Figueiras Hostel\",\"Gemeos Gamboa\",\"Pousada Mojomar Buzios\",\"Oncoto Palmas Hostel\",\"Nuh Hostel - Lourdes\",\"Pousada Pi\\u00e7arras\",\"Hostel Gentileza - Guest House\",\"Catavento da Pipa Pousada & Hostel\",\"Friends Forever Hostel\",\"Hostel & Camping Cavalcante\",\"CasAMARelo Hostel\",\"Lapa Casa\",\"Boulevard Bed & Breakfast\",\"Hostel Jabuticaba\",\"Guest House Vida Vibra\",\"Hostel Da Jo\",\"Oh! Madalena Hostel\",\"Tranquilandia Hostel\",\"Le Chat Qui Peche Hostel\",\"Fujima Hostel\",\"Floriarte Guest House\",\"Happy Paradise Hostel\",\"Canoa Roots Hostel\",\"Salve Maloca Hostel\",\"Riverside Inn\",\"Rio Hostel 40 Graus\",\"Projeto Lontra\",\"Matianellu\",\"Soul Lounge Hostel\",\"The Eco Palace Hostel\",\"Hostel Villa Virtudes\",\"Hostel Teodoro\",\"Chill Inn Hostel & Pousada Centro\",\"Rodrigo Hostel Campestre\",\"CasaMar Maraca\",\"Pousada Ronco do Mar Cumbuco\",\"Sea Wolf Hostel Lagoa da Concei\\u00e7\\u00e3o\",\"Casa Kare\",\"Rodrigo Hostel Suites\",\"Hostel Pousada Flor de Paris\",\"Espaco Vaidya Pousada\",\"Man's Place Hostel Masculino\",\"Pelotas Bier Hostel\",\"La Hotel Votuporanga\",\"Bahia Pelo Hostel\",\"Recanto do Cajueiro\",\"Sunflower Hostel\",\"Hostel Barra 161\",\"Pousada Coralia\",\"Americo Hostel\",\"Taj Mahal Suites\",\"Pedramarca Hostel Club\",\"Hotel Barao Ribeirao\",\"Hostel LB\",\"Hostel Terra do Sol\",\"Bela Curitiba Hostel\",\"Pousada Beluga\",\"Fiko na Pituba\",\"Grande Familia Hostel\",\"Pousada e Hostel Coracao Verde\",\"Aldeia Hostel II\",\"Ooxe Hostel\",\"La Musica Hostel Ouro Preto\",\"Aldeia Hostel\",\"Sitio dos Oriundos\",\"Pousada Encanto do Amor Buzios\",\"Hostel Caminho da Cachoeira\",\"Pousada Casa da Praia Buzios\",\"Hostel Engenho do V\\u00f4\",\"Maktub Hostel Prea\",\"Navio Hostel & Camping\",\"Pousada Beira Dagua\",\"Pousada 3J Hotel Fazenda\",\"Friends e Hostels\",\"More Ipanema Hostel\",\"Naim Hotel\",\"Hostel Farol da Barra\",\"Woods Hostel\",\"Hostel Airport Rooms\",\"Casa Maker Redario & Camping\",\"Ruda Hostel & Suites\",\"Guara Hostel\",\"Hostel Castelo Branco\",\"Manero Hostel\",\"Pousada Delle Rose\",\"BahakaJeri\",\"Hostel da Montanha\",\"Fin Soul House\",\"Pousada Bed & Breakfast Cicerone\",\"Pousada Afrika\",\"Hostel Lize\",\"Samo Hostel\",\"Hostel Praia 102\",\"Casa Ecotrips Barra Funda\",\"Pousada Toa Toa Em Pipa\",\"Residencia 346\",\"Hostel Trilhas e Rotas\",\"Gup Hostel\",\"Sabatico Beach House\",\"Costa Terral\",\"Tropicalia Hostel\",\"Guest House Copacabana Hostel\",\"Shangri-La Hostels\",\"Villa Sabia - Eco Bungalows\",\"UP2! HostelBar\",\"Ammonite Hostel - Itacare\",\"Village Retreat, you in the heart of Ilhabela\",\"Vidigal Hostel\",\"Easy Hospedagem\",\"Buzios Flat Pousada\",\"JO&JOE Rio de Janeiro Largo do Botic\\u00e1rio\",\"Lila Limao Hostel\",\"Meu Mundo Hostel Bar\",\"Ivos Hostel & Camping\",\"CasaJomo\",\"Hope Hostel\",\"Curvao Surf House\",\"Ready Camp e Suites da Cachoeira\",\"Pousada&Hostel Bahia\",\"Ipanema Club Hostel\",\"Villa Nevada Hostel\",\"Hostel Music and Sports\",\"Soul do Mar Hostel\",\"Hostel Morocha\",\"Graffi Beach Hostel\",\"Surf Base Hostel\",\"Hostel do C\\u00e9u\",\"Iduna Hostel\",\"Voil\\u00e0 Hostel\",\"Selina Buzios\",\"Georges House\",\"Welcome SP Hostel - Aeroporto de Congonhas\",\"EcoVille Organic Life\",\"Porto Paraiso Hostel Pe Na Areia\",\"Hostel Lumiar Don\",\"Patz Houz Hostel\",\"Barra Porto - Suites & Hostel\",\"Pouso do Marujo\",\"Frida Hostel\",\"A Casa Concha Glamping Praia de Gravat\\u00e1\",\"Selina Bonito\",\"Solar Hostel Parna\\u00edba\",\"Red\\u00e1rio Gengibre Hostel Hammocks to Sleep in Alca\",\"Para Vos y Porque Si\",\"Hotel Rio Vale Verde\",\"Art\\u00e8E Hostel B\\u00fazios\",\"Selina Foz\",\"Praia Virgem Hostel\",\"Espa\\u00e7o Primatas\",\"Santo Hostel\",\"Chales Toatoa em Pipa\",\"Hostel Recanto da Sol\",\"Live in Fortaleza Hotel\",\"O Brejo Encantado Hospedagem e Hostel\"],\"lat\":[-26.2295867,-13.3789396,-22.7575705,-23.1416425,-3.8491694,-2.5254809,-23.5577317,-22.969251,-22.9846956,-23.6063288,-9.6719381,-30.0217658,-6.2369011,-9.489086,-22.9154491,-22.8946738,-16.5923148,-29.6735969,-22.7511662,-23.5166368,-3.7429023,-27.7137145,-9.0088341,-13.0023907,-25.5354009,-2.9148703,-21.7260092,-4.5254015,-12.9501243,-13.0120577,-23.7792258,-29.3373844,-22.9848985,-14.2785407,-12.5006769,-27.5762487,-26.2506215,-6.2368174,-6.2287306,-16.4419764,-25.5375931,-9.0155009,-19.8588742,-25.5896633,-22.7638018,-27.600239,-23.4098263,-23.5526186,-23.1424935,-13.3819554,-22.980119,-2.5790624,-22.9152242,-22.4141182,-26.9956962,-3.6295403,-14.2798459,-14.2868583,-2.760617,-23.4713016,-23.5359036,-23.0310266,-15.7807902,-2.748265,-4.3972938,-23.3191199,-28.1291787,-23.4631763,-6.3694408,-20.383841,-22.9699068,-16.806632,-7.0628198,-23.553165,-20.4557879,-23.4521944,-22.898504,-23.8425633,-13.0049492,-2.7976507,-23.5594465,-27.3963317,-18.9181871,-23.576624,-23.7116762,-2.7491617,-27.1556094,-13.3925136,-15.877654,-23.5967993,-27.7506223,-23.1413445,-22.929341,-23.544697,-23.5643051,-23.4357159,-27.573363,-23.6128189,-21.7064937,-23.572749,-23.8165838,-23.0264177,-8.11562,-2.5783197,-6.2288027,-22.9190958,-27.6869925,-27.5813042,-23.545252,-23.1421157,-2.5206514,-23.8029668,-22.968109,-27.609296,-24.187109,-27.1508299,-26.91244,-27.6051972,-22.9846712,-22.7625357,-22.9163158,-5.87039,-28.1213102,-29.1628578,-20.754514,-23.5604173,-23.1404887,-20.289725,-25.3869797,-2.7952786,-8.1327612,-22.985002,-12.896287,-23.5649656,-15.4591174,-13.0093557,-5.8752959,-27.1499513,-23.217245,-25.5409237,-23.5538689,-23.586203,-23.573254,-5.8715615,-23.560125,-23.6323554,-3.0119471,-27.784801,-23.6221328,-23.5298779,-23.405202,-22.9673467,-3.7493058,-25.5385838,-27.4613849,-25.5770749,-5.8659892,-23.5313129,-22.485218,-27.5729068,-12.5632502,-22.5006043,-21.1336089,-21.127263,-22.9792775,-27.6874033,-22.75,-23.0345918,-6.690158,-23.141695,-23.5088602,-29.3623512,-23.2179308,-14.2766606,-22.9131468,-29.3544078,-27.592124,-23.3515801,-3.0889734,-8.0480714,-28.0741905,-23.7586735,-12.9709619,-23.8126218,-23.8128967,-23.4065236,-27.1480104,-13.381162,-23.61527,-23.216368,-9.2389245,-6.229394,-8.1294208,-23.2441976,-25.5362367,-25.5690702,-25.426691,-14.2803721,-27.5799088,-23.5491096,-23.5637334,-12.970246,-22.9102333,-25.4435735,-2.7955681,-22.954113,-27.575191,-20.749801,-23.579372,-22.9321259,-15.843163,-25.5502494,-26.8967037,-23.4430542,-2.759708,-22.8603968,-28.0279512,-22.776776,-23.350983,-25.557774,-13.89151,-1.449969,-19.9359499,-23.545889,-23.5833454,-2.7502314,-20.3822717,-7.11834,-12.9723388,-12.9675252,-20.3186267,-25.5620367,-29.3218632,-19.8575314,-3.7266933,-3.62829,-25.5365692,-30.0396098,-22.9624384,-22.9956072,-3.7257202,-25.5442783,-19.9459455,-12.9709619,-3.7221119,-19.564197,-25.6274283,-16.489799,-3.0782198,-9.1856122,-22.9689476,-13.381892,-22.579827,-21.1179264,-27.603075,-22.9836813,-25.5581107,-22.9686986,-3.6281337,-23.5431366,-23.2155556,-16.4629575,-14.277238,-12.5707494,-22.9733569,-26.9991926,-26.9872969,-23.2222324,-22.7710997,-3.1306184,-23.559925,-23.5695882,-22.9955185,-29.3757283,-26.9954998,-22.7743514,-22.91855,-22.9161716,-27.574725,-23.0228522,-22.7588011,-22.9527327,-13.7278019,-13.791398,-27.5767574,-27.61424,-23.1443171,-15.4638478,-15.552056,-15.4701389,-15.6007085,-15.4602893,-16.8068542,-22.8954837,-17.3311547,-27.6056416,-31.7591,-23.5486034,-25.5344265,-28.1250876,-27.5854946,-22.777487,-4.039789,-22.745285,-23.5440981,-3.7244694,-8.7571195,-27.9002601,-27.6019444,-20.3866878,-16.385611,-20.2908458,-12.5598899,-13.3785447,-23.216164,-20.4665103,-30.0439257,-23.5552934,-21.1089237,-23.1522047,-25.4243665,-20.3866673,-21.1118073,-21.1103751,-20.3763316,-8.5338944,-8.0180582,-8.4846079,-8.6964266,-8.1257539,-18.2501201,-23.5339061,-12.9667063,-8.5011667,-8.4824217,-21.1285987,-23.5451589,-25.5066622,-23.6219254,-22.9,-24.5548475,-24.5848954,-24.5903303,-24.5562379,-25.5542653,-8.5070989,-20.5315534,-5.9481157,-25.5530556,-25.5071491,-22.995808,-5.0942806,-5.5442297,-23.0112125,-4.8544173,-4.8557496,-5.0856436,-5.4068437,-5.0942864,-5.4088297,-5.0566048,-23.5660163,-25.4575,-27.6756534,-13.378792,-2.7968388,-5.8817066,-23.6484804,-22.7812374,-23.4182208,-16.494134,-5.881723,-22.922347,-13.4159616,-23.5068527,-25.4504049,-25.381725,-25.2164171,-25.2136111,-25.3525,-25.212348,-25.459085,-25.4601057,-25.459379,-25.3525,-22.9824519,-9.585042,-23.1422816,-8.1281933,-19.3380708,-23.9950449,-27.6499052,-23.5579167,-22.9423834,-23.5861137,-24.013367,-8.1100604,-23.7798982,-22.9412689,-22.7749449,-23.2179336,-22.7753304,-15.8543667,-20.4498867,-2.9039628,-25.598254,-27.5066768,-23.5649656,-14.1343918,-22.9740457,-12.5629294,-22.7578289,-9.6443952,-14.9196158,-22.9921566,-22.9619892,-22.9651021,-22.954086,-29.3727603,-22.9736751,-22.9706624,-25.481596,-9.839643,-14.283681,-23.2165276,-20.2658201,-22.9415298,-26.9567846,-14.235,-19.9111783,-2.7975325,-20.373134,-25.5509162,-26.2124337,-22.9204996,-22.9622263,-23.5169952,-19.9070818,-23.5366717,-23.5507864,-12.9742445,-19.4565516,-19.6416194,-25.5482532,-18.9097969,-22.7237104,-9.6325168,-9.660699,-6.2321881,-5.8731294,-5.8778818,-5.124376,-27.6669127,-22.9709538,-23.1442347,-2.7942892,-27.6624725,-13.3784127,-15.5983,-22.9165384,-23.025139,-13.3794928,-12.9272823,-2.502384,-22.9363425,-20.3865039,-22.296819,-10.9932934,-12.5601624,-12.5139199,-12.562846,-22.7675791,-16.4438991,-21.1341006,-19.9176259,-2.797934,-23.207282,-1.4402068,-22.7557237,-1.4514947,-25.609356,-22.9048979,-7.306186,-7.1072061,-12.5568585,-26.9123134,-9.6429085,-25.5654302,-12.9630172,-3.6255126,-23.5618988,-3.2383922,-22.7623989,-21.1249034,-15.0556509,-26.9227124,-7.130377,-27.5905918,-28.1345335,-13.0095538,-25.5448054,-27.6927854,-13.3919441,-22.995762,-15.5965437,-22.9841546,-15.794607,-16.4927839,-20.3869442,-30.0394594,-5.8718685,-12.6076347,-15.593956,-7.7873087,-22.9674369,-22.9641456,-27.599101,-5.9796681,-20.4621924,-22.9736751,-25.4907558,-21.1270618,-16.3861472,-16.491691,-22.914915,-28.0712324,-16.385757,-23.7751635,-16.3937759,-16.4476781,-16.3917332,-16.3417454,-16.4534424,-16.445024,-16.4434833,-4.5267927,-23.964824,-18.2383175,-22.79367,-2.794326,-2.796588,-22.9238566,-12.5778227,-13.3796141,-29.1896561,-10.1826086,-12.9754614,-22.934878,-6.2301308,-23.4661791,-27.4310828,-23.5475579,-23.555467,-23.8158333,-16.4845945,-14.2774924,-22.7499397,-12.5639197,-23.1426241,-16.5928206,-23.030972,-3.7670038,-28.1890965,-25.5344804,-25.5696057,-22.9805466,-27.8997796,-25.5303636,-14.2798112,-22.9159415,-22.984533,-29.4867866,-27.6756591,-22.995788,-23.1415414,-22.9145681,-8.1401532,-25.4395508,-23.5606513,-6.2304802,-3.7221898,-22.9349033,-26.2903141,-24.552743,-8.507023,-13.379004,-23.579777,-5.8827441,-14.2767345,-23.2198876,-16.3836732,-1.1329191,-9.6674811,-23.8128678,-27.598427,-23.1413281,-22.7588011,-6.2302788,-22.770735,-23.5791499,-23.2152615,-16.5887616,-23.218484,-22.963028,-1.4550515,-8.1287044,-23.980351,-22.9162261,-16.5863208,-3.1337942,-22.9836101,-22.9843951,-27.5747848,-23.1449383,-23.5544168,-23.1427138,-12.9678473,-27.42971,-22.968464,-27.6096431,-23.2150218,-25.5348906,-22.9845108,-22.9161716,-6.230777,-25.5347685,-27.7816111,-13.0042807,-25.5347855,-21.1162531,-27.601016,-12.973731,-13.0042325,-13.008245,-25.535531,-22.750587,-23.1442228,-22.9852334,-7.1053848,-3.133578,-20.8166228,-14.2773387,-23.3487912,-25.5447915,-22.971768,-12.9726945,-5.8830875,-22.954917,-27.5813742,-22.973009,-20.3832694,-23.1414896,-12.487782,-12.5626721,-27.7693068,-22.9285757,-25.5498756,-25.5999645,-22.9955689,-23.1409947,-5.8700643,-22.7761509,-22.9231569,-22.9831533,-23.5388878,-23.423943,-27.5828975,-12.967763,-22.9833811,-22.9845323,-16.5874057,-12.9740753,-25.539541,-23.5420508,-3.7193874,-3.347088,-27.598841,-22.7734071,-27.602144,-22.8935679,-12.5624785,-1.4488791,-15.4571593,-8.7176917,-16.8075461,-27.5821559,-9.660216,-21.1208114,-25.5095369,-21.688025,-8.9623935,-23.5706981,-23.6085091,-22.9425142,-22.759039,-16.5950405,-10.1789836,-23.5567456,-31.7773658,-8.5070967,-22.9868171,-20.3868223,-22.9214873,-22.932931,-7.204928,-24.0158662,-23.4475574,-22.9122477,-27.1530656,-22.9721455,-27.4341296,-22.9750599,-27.4368679,-27.438543,-29.0504435,-2.7593375,-27.778753,-22.914374,-23.7666182,-2.502506,-2.0476682,-13.3781778,-25.5342331,-10.1931768,-20.1449534,-19.0048305,-23.56018,-29.198243,-28.1241027,2.8453402,-22.9470657,-2.9110154,-22.3608611,-22.772464,-29.171441,-25.4357687,-26.9829043,-23.0244194,-19.9358061,-3.8403973,-12.5658046,-29.3577161,-23.569414,-23.2229392,-2.7554611,-18.9993298,-12.8991886,-23.0141433,-12.5921466,-3.6232154,-22.7555953,-28.1256666,-22.9716564,-23.6051931,-2.5286728,-23.1428151,-12.9278385,-20.730209,-22.9707354,-8.0500393,-13.3844744,-26.9909258,-23.4655179,-28.129304,-29.3801104,-1.4540764,-11.568946,-2.7945643,-8.554429,-8.0171808,-12.5609013,-13.0052813,-12.487767,-5.1246753,-4.527256,-21.1291904,-23.5397789,-12.9497802,-23.527861,-29.3910033,-0.704711,-13.3796187,-13.0035104,-9.6268256,-27.6085006,-3.8451427,-21.7236994,-23.8164112,-3.022252,-27.4436857,-15.8515145,-27.6521587,-14.1759615,-2.5038957,-23.2422218,-13.381221,-16.4917398,-30.0216601,-22.7759592,-22.9434034,-26.9881356,-20.61487,-13.5908669,-9.6044805,-3.0675969,-23.143648,-23.1414896,-21.1447251,-23.539425,-21.1063209,-6.2325439,-23.1439069,-22.9751139,-22.5061111,-21.1228651,-26.6282536,-19.922024,-27.4282998,-9.9503689,-14.2817402,-9.0166388,-12.9006489,-23.7793844,-25.5460694,-20.465795,-22.7635286,-3.8423176,-29.377332,-23.7682985,-23.9648579,-22.7641195,-14.2764321,-22.9699344,-23.143641,-3.0435933,-22.966525,-22.9104927,-27.902147,-24.7356536,-2.8806775,-27.430382,-22.977563,-23.2016492,-27.6098474,-25.5455669,-2.9107417,-22.9312134,-27.6308905,-8.3976757,-22.9811279,-28.1349897,-3.6240992,-2.5123685,-20.299563,-22.9904763,-21.710815,-22.9609276,-22.9578561,-23.788398,-15.5965566,-23.207114,-6.2393846,-22.9849018,-22.9493493,-22.9492259,-22.2871356,-23.2087919,-23.5012779,-6.23369,-22.9605445,-27.4521772,-26.9727902,-22.9034686,-22.9962852,-12.6160294,-2.7954655,-12.5603278,-22.910652,-3.1343972,-3.137698,-20.3859591,-25.549924,-23.4059286,-22.9747383,-12.5637089,-22.9324342,-21.1182364,-25.5607008,-25.4437829,-30.0678837,-27.6133652,-27.675914,-22.9999629,-8.0168819,-22.9443267,-27.5755889,-23.262683,-6.2293418,-24.8037727,-27.153669,-14.2868583,-20.2365832,-13.38435,-23.778813,-25.609356,-8.5064051,-27.5790749,-15.7519374,-20.7222285,-26.9279804,-19.8588791,-23.5589351,-23.5588985,-22.9850647,-2.7952414,-23.5578239,-2.5300149,-13.068977,-6.230153,-24.1883564,-13.6068461,-22.9170394,-7.0967312,-27.4283852,-22.7522298,-9.6528286,-27.6509938,-6.2294024,-22.9716226,-27.5810539,-26.9074053,-22.9113633,-25.5009088,-27.576057,-12.5632247,-23.55,-23.181567,-22.8554274,-22.8955104,-25.4195733,-21.1135097,-16.8082128,-23.5603241,-23.554731,-23.4518845,-23.6215527,-27.5874762,-27.5768295,-12.9702236,-27.6122944,-27.5771314,-27.7508857,-4.781979,-23.2187748,-8.7533808,-5.8831902,-6.309241,-22.9085842,-22.9545478,-2.6246454,-6.231521,-14.2781053,-5.867506,-27.6035057,-5.888709,-22.9689633,-8.5260945,-2.499687,-25.5598184,-13.013446,-29.1618897,-13.3886005,-22.7511891,-10.1783697,-19.926707,-12.5641252,-14.1342524,-6.2313496,-23.5546973,-13.7981289,-13.0049035,-22.915182,0.0,-19.9120656,-23.40183,-14.8223523,-23.5587847,-14.2784494,-9.6724936,-23.5539507,-27.4278684,-5.8850191,-4.5293396,-3.7324,-2.7576023,-22.9289122,-27.735627,-22.9740215,-2.4837165,-22.7740891,-20.668319,-23.555671,-23.2225336,-21.1210421,-8.5263459,-3.6242382,-27.6048257,-14.2815189,-21.1315476,-9.462011,-12.6257481,-30.0368496,-31.7712873,-20.4238875,-12.969188,-9.6317096,-22.927944,-13.0092213,-9.2406659,-2.5297431,-9.0827024,-28.0731813,-21.1822305,-2.5589194,-16.3807452,-25.4423444,-22.7713509,-14.2796128,-23.5554051,-2.5047314,-3.1369234,-14.2810802,-20.3857546,-3.1290031,-14.3835365,-22.7681777,-27.6056467,-22.7765916,-22.7556034,-2.814553,-14.2764719,-8.529969,-16.0555554,-19.9110616,-22.984542,-20.6121582,-27.5747931,-19.8564698,-23.6373811,-2.056219,-14.2810047,-2.5275976,-3.7234648,-5.8769755,-8.5046341,-2.7952653,-22.73128,-23.4387284,-23.2172105,-22.753425,-23.4493579,-6.2335,-23.4372816,-23.5236129,-6.2315162,-2.5280379,-23.5567369,-25.4268992,-22.7552652,-25.7863545,-14.2793055,-22.9727787,-13.8937862,-2.8191396,-3.6304562,-14.2810514,-23.7783563,-22.9973307,-27.5741849,-22.7844949,-22.9394266,-23.1412649,-14.281077,-22.3701437,-22.9229322,-20.7358933,-23.9860788,-23.1442215,-30.0271859,-22.9854695,-6.7539233,-23.5361607,-22.881633,-9.6522298,-27.702304,-23.401587,-6.2296023,-6.2335174,-27.5883581,-22.7489147,-3.8461483,-23.6235,-23.3096262,-8.4832038,-22.3408871,-27.5712368,-13.0049005,-27.5830567,-2.797981,-8.8457613,-21.1243769,-2.9073029,-2.4048912,-13.3826117,-22.6141255,-22.756913,-25.5468272,-22.5309949,-2.9139551,-23.2206756,-6.2322637,-24.0119811,-3.747904,-23.6325177],\"legendgroup\":\"\",\"lon\":[-48.5018,-38.9132194,-41.8879341,-44.1613715,-32.4200741,-44.2996931,-46.6555705,-42.0202745,-43.2424213,-46.6464588,-35.7164946,-51.1923934,-35.046172,-35.5757479,-43.2303264,-43.1925447,-39.1028396,-50.9920258,-41.8799602,-45.1979911,-38.505784,-48.5025784,-42.6821801,-38.5282633,-54.5786148,-41.4079667,-44.9628115,-37.7018988,-38.3670897,-38.5007423,-45.3578064,-49.7241723,-43.2204522,-38.9929398,-37.9628418,-48.4215725,-49.3837031,-35.0486292,-35.0501411,-39.0689886,-54.5813332,-35.2225019,-43.9759936,-54.5181884,-41.8925686,-48.4713319,-45.0148326,-46.6778113,-44.1678422,-38.910348,-43.189949,-42.7520562,-43.2285606,-42.9035758,-48.6311527,-38.7259365,-38.9913211,-38.9856606,-42.274485,-46.5357441,-46.6412999,-43.478632,-47.8900402,-42.825796,-37.7959565,-46.7858719,-48.6469208,-45.0625176,-35.0083048,-43.5029453,-43.1885169,-39.146347,-34.8415987,-46.635617,-54.5895989,-45.0667503,-43.17803,-46.134459,-38.5329502,-40.510824,-46.6634883,-48.4284972,-48.2796278,-46.64005,-45.4265222,-42.8280957,-48.5445206,-38.9349598,-52.2941715,-46.6727525,-48.5101311,-44.1678441,-42.038911,-46.698818,-46.6332483,-45.0737664,-48.426848,-46.6749192,-47.2723122,-46.641798,-45.3660284,-43.4782795,-34.897107,-42.7513365,-35.0472863,-43.1798615,-48.4837044,-48.4294047,-46.6731679,-44.1672561,-54.9341198,-45.399081,-42.0213189,-48.442717,-46.79278,-48.4851101,-49.0711089,-48.4676514,-43.2196461,-41.8949999,-43.1772025,-35.184442,-48.6509482,-51.1890852,-42.8823637,-46.6904907,-44.1676141,-40.2977758,-49.1996137,-40.517241,-34.904266,-43.195695,-41.318896,-46.6548632,-55.7442034,-38.5248136,-35.1800012,-48.4998256,-44.719704,-54.5881419,-46.6590483,-46.6458131,-46.654872,-35.1825192,-46.688848,-46.6935393,-60.0968564,-48.5336171,-46.549354,-45.2226589,-45.014658,-43.1813791,-38.4495835,-54.5858002,-48.3827455,-54.5422531,-35.1806381,-46.652317,-48.9604835,-48.4270195,-41.391576,-42.9946639,-56.4781156,-56.485184,-43.1911108,-48.4868609,-41.8833333,-44.1762626,-34.9324965,-44.167413,-45.1323908,-50.8102518,-44.7191244,-38.9863455,-43.1811869,-50.8146697,-48.5445953,-44.7245656,-60.0618138,-34.8799683,-48.6264373,-45.6200336,-38.5059072,-45.3657757,-45.3658638,-45.0150009,-48.481949,-38.91111,-46.6790545,-44.7152245,-35.3526222,-35.050072,-34.9033351,-44.6453208,-54.5888183,-54.5540412,-49.2717348,-38.9912721,-48.5369054,-46.6800991,-46.6517108,-38.489853,-43.183958,-49.2770363,-40.513851,-43.1864509,-48.4232743,-49.319818,-46.644863,-42.4644656,-47.97949,-54.5731703,-49.0890884,-45.0689773,-42.8277,-42.4422478,-48.6194157,-41.9118922,-44.7240795,-54.5704886,-38.9519351,-48.495314,-43.939926,-46.6873488,-46.6376991,-42.8149962,-43.5040785,-34.827054,-38.5089815,-38.5065914,-40.3389238,-54.5688392,-49.7132683,-43.9587364,-38.5168833,-38.7250104,-54.5869604,-51.2186785,-43.1694713,-43.243093,-38.5220141,-54.5866699,-43.9412071,-38.5059072,-38.5177955,-43.941766,-48.5360848,-39.073442,-60.0038317,-38.2675155,-42.0316632,-38.919441,-46.521159,-56.5045014,-48.4666214,-43.2011058,-54.5738778,-43.1823365,-38.7271277,-46.4560941,-44.72,-39.0623437,-38.9885326,-41.389858,-43.4140837,-48.6241128,-48.633392,-44.7167175,-41.9061428,-60.0215591,-46.663772,-46.6566385,-43.2425069,-50.8639043,-48.6291064,-41.9301452,-43.2378164,-43.1810372,-48.4273907,-43.5209733,-41.8886072,-43.182093,-46.3542267,-47.464898,-48.425237,-48.462924,-44.1679036,-55.7541179,-56.097697,-55.7488983,-56.0996895,-55.7584681,-39.1495099,-48.4907605,-39.2202227,-48.4689863,-52.336922,-46.6930402,-54.5858362,-48.6527155,-48.4334272,-41.90522,-38.1982827,-46.231275,-46.6897675,-38.5072036,-35.0962784,-48.5907939,-48.4641667,-43.5008034,-39.037226,-40.2940439,-41.3901248,-38.9165935,-44.713917,-54.6286323,-51.2026444,-46.6909933,-44.1771894,-44.732475,-49.2708642,-43.5117698,-44.1663414,-44.1828472,-43.51762,-35.0067715,-34.8529301,-35.0009623,-35.1074123,-34.8990963,-43.59804,-46.6709612,-38.5058019,-35.0056224,-35.000416,-56.4845886,-46.6439768,-54.5891421,-45.3795738,-43.2333333,-48.6784487,-48.6291486,-48.5975323,-48.6779201,-54.5698685,-35.0055371,-47.3885133,-35.1552445,-54.5736111,-54.5888749,-43.2415623,-36.2746341,-35.2575302,-43.2953208,-37.240371,-37.2395958,-36.5839576,-35.3210449,-36.2723109,-35.3112532,-36.0400554,-46.6962472,-48.2461111,-48.4866409,-38.917316,-40.5116181,-35.1764092,-46.6400865,-41.9494075,-45.0600992,-39.074872,-35.1808369,-43.177291,-38.9292297,-46.6275258,-48.2502365,-48.238999,-48.002622,-47.9986111,-48.1683333,-47.996186,-48.245132,-48.2443856,-48.24469,-48.1683333,-43.1923272,-35.664903,-44.1691978,-34.9063069,-43.6180706,-46.2561535,-48.4754911,-46.6505208,-43.1938379,-46.6435764,-46.2744719,-34.8942125,-45.3570058,-43.187192,-41.9068422,-44.7188338,-41.9215101,-47.9531641,-54.6286694,-41.7677864,-54.569145,-48.4238484,-46.6548632,-47.5153247,-43.4004405,-41.3897187,-41.8890205,-35.713037,-39.0208748,-43.2331485,-43.1741237,-43.1980402,-43.1799602,-50.8820573,-43.1893129,-43.1856679,-48.834309,-35.897265,-38.993225,-44.7335046,-56.3033166,-43.1898709,-48.6302561,-51.92528,-43.957248,-40.5139015,-43.501869,-54.5753402,-48.5286817,-43.1777581,-43.1769132,-45.1872938,-43.954053,-46.5726511,-46.6755325,-38.5083185,-44.2491166,-43.9043753,-54.5847278,-48.2581444,-45.5659102,-35.6973354,-35.704856,-35.0441195,-35.1791954,-35.1756249,-35.62485,-48.4850679,-43.1894059,-44.1660156,-40.5192314,-48.4932661,-38.914899,-56.1044,-43.1831796,-43.5114841,-38.912584,-38.3210831,-54.956476,-42.475956,-43.5063956,-42.469942,-37.0532279,-41.3908134,-41.5749877,-41.389446,-41.9038768,-39.0666389,-44.2575619,-43.9364413,-40.515908,-44.717563,-48.4586105,-41.8798236,-48.5023832,-54.480288,-43.1243634,-34.8096449,-34.827793,-41.3912743,-49.0669784,-35.7080093,-48.3151715,-38.5024207,-38.7349475,-46.6932839,-39.2368872,-41.8902545,-56.4879903,-38.9976235,-49.0602066,-34.822439,-48.558345,-48.6482977,-38.5294362,-54.580374,-48.4863194,-38.9338536,-43.2445,-56.0901971,-43.2201403,-47.889436,-39.0732526,-43.505247,-51.2215273,-35.1840806,-38.9658773,-56.0937574,-34.8397149,-42.0258742,-43.1784432,-48.466971,-35.1241493,-54.6238999,-43.1893129,-54.5717425,-56.4900438,-39.0425561,-39.072685,-43.180019,-48.6270975,-39.034434,-45.3547328,-39.0433311,-39.0677881,-39.0423317,-39.0075569,-39.0642973,-39.0625692,-39.0676574,-37.7053852,-46.189142,-43.6061677,-41.93089,-40.514268,-40.516663,-43.36911,-38.0082846,-38.9176673,-51.1914404,-48.3402109,-38.5111134,-43.180026,-35.0473324,-45.0641691,-48.4579796,-46.6918179,-46.653946,-45.37,-39.0808602,-38.9915584,-41.8783855,-41.3899988,-44.1678017,-39.1037706,-43.4777331,-38.4408681,-48.6637003,-54.5900589,-48.3141666,-43.1921835,-48.5917424,-54.5894574,-38.9919512,-43.1898978,-43.193232,-50.7299709,-48.5043815,-43.242133,-44.1685638,-43.182605,-34.914025,-48.7883955,-46.6902935,-35.049337,-38.5107356,-43.1783685,-48.8403311,-48.680655,-35.004415,-38.91742,-46.646288,-35.1764145,-38.9988458,-44.7164563,-39.0353049,-48.459831,-35.7146543,-45.3672507,-48.4640488,-44.1678993,-41.8886072,-35.0492905,-41.912047,-46.6360448,-44.7120064,-39.0986385,-44.716926,-43.180694,-48.4953868,-34.9049728,-46.227532,-43.1836076,-39.0915321,-60.0198357,-43.2012085,-43.1918041,-48.4307798,-44.1691566,-46.6900444,-44.1632457,-38.5059429,-48.449954,-43.1907066,-48.4408004,-44.7120351,-54.5766234,-43.2251071,-43.1810372,-35.0476626,-54.5881128,-48.5085448,-38.5289593,-54.585968,-56.5062986,-48.465521,-38.5081848,-38.5260985,-38.5275399,-54.590819,-41.875858,-44.1656442,-43.2023853,-34.8329849,-60.018467,-43.8099796,-38.9878406,-44.7262311,-54.5803912,-43.190689,-38.5094416,-35.1728714,-43.186521,-48.4349671,-42.0222861,-43.5009624,-44.1614466,-37.9587241,-41.3894465,-48.532243,-43.1939042,-54.5847129,-54.5240052,-43.2695969,-44.1612095,-35.1819496,-41.9057224,-43.1749729,-43.2087479,-46.6465759,-45.0645382,-48.4358695,-38.506624,-43.1947933,-43.21411,-39.0907582,-38.5084839,-54.581659,-46.6437252,-38.5134978,-39.136756,-48.549769,-41.9158094,-48.4368664,-42.029562,-41.3886524,-48.4693673,-55.7468418,-35.0877527,-39.149169,-48.5253959,-35.709422,-56.4972839,-54.5489429,-45.2641376,-35.1749603,-46.6564918,-46.6415024,-45.4202884,-41.890756,-39.1036727,-48.3457728,-46.687821,-52.3452687,-35.0054963,-43.1910998,-43.5013616,-43.2146887,-42.4816736,-39.319218,-46.2770627,-45.0689459,-43.185806,-48.5020939,-42.0306765,-48.4602239,-42.022185,-48.3961889,-48.484279,-50.1417544,-42.8272649,-48.528965,-43.178733,-45.736382,-54.9554149,-60.0210493,-38.9172253,-54.5849482,-48.3610134,-44.1937833,-57.6429184,-46.678092,-49.954787,-48.6496915,-60.653801,-43.1852896,-41.7689465,-43.125098,-41.913842,-51.5040105,-49.287154,-48.641508,-44.3474266,-43.9399023,-32.4107429,-41.3903525,-50.8487129,-46.7086608,-44.7186339,-42.8247196,-57.6566488,-38.6575333,-44.2298421,-38.0362933,-38.7397879,-41.8887118,-48.6545201,-43.1856447,-46.6170349,-44.3051449,-44.1702657,-38.6178364,-46.6196836,-42.0284376,-34.892071,-38.9186618,-48.6406138,-45.0628612,-48.6560679,-50.8763364,-48.4886369,-39.278325,-40.5142953,-35.0135804,-34.8512824,-41.3895157,-38.5273491,-37.958517,-35.6250976,-37.702459,-56.4809722,-46.6442427,-38.3469205,-46.682561,-49.7792399,-48.520249,-38.9175552,-38.5304541,-35.6960225,-48.5476826,-32.4062672,-44.9856716,-46.0460031,-39.641744,-48.3824662,-48.9483777,-48.4726562,-47.8127944,-44.294072,-44.6398304,-38.91123,-39.0743312,-51.2105669,-41.9245423,-43.201532,-48.6321135,-46.05091,-38.9261556,-37.7708409,-60.0041733,-44.167707,-44.1614466,-44.2243812,-46.644629,-44.1744499,-35.0452882,-44.1690439,-42.0227361,-43.1836111,-56.5017819,-48.6977019,-43.9153229,-48.4653147,-67.8188132,-38.9886436,-35.2231292,-38.4846934,-45.3581169,-54.5890235,-54.60504,-41.8926824,-32.4114075,-50.874674,-45.6936388,-46.3500725,-41.8947579,-38.9909063,-43.1889633,-44.166562,-59.9742962,-42.028547,-47.0684361,-48.5936592,-47.529551,-39.9099207,-48.458935,-42.026227,-44.7212078,-48.4485951,-54.5869238,-41.4041521,-43.1803035,-48.4722901,-35.0433665,-43.1962842,-48.6596241,-38.7484359,-54.9426921,-43.8178677,-43.2316679,-41.093466,-43.1694951,-43.1843075,-45.361111,-56.0987701,-44.7177698,-35.0440688,-43.2144252,-43.1829508,-43.1829586,-42.5336978,-44.7188497,-46.6188794,-35.0432809,-43.1701791,-48.411974,-48.6371576,-42.0322319,-43.2405869,-41.4928928,-40.513769,-41.3863028,-43.18736,-60.0201953,-60.0237749,-43.501211,-54.5755907,-45.0149811,-42.0283391,-41.3871146,-42.5202901,-44.1681622,-54.5718315,-49.2752264,-51.1895504,-48.4632182,-48.5042748,-44.3099198,-34.8510657,-43.1855243,-48.5373611,-44.635289,-35.050753,-47.6344299,-48.484205,-38.9856606,-40.2736214,-38.918856,-45.356863,-54.480288,-35.0060902,-48.4320111,-47.8954,-40.5268645,-49.0420022,-43.9758682,-46.6772384,-46.6745481,-43.2050437,-40.5160131,-46.6907639,-44.3042727,-38.729839,-35.0474271,-46.8180871,-38.91218,-43.1785591,-34.8431192,-48.4596944,-41.8766092,-35.7057142,-48.4752519,-35.0500496,-43.190928,-48.4308963,-49.0808114,-45.9589515,-54.5546564,-48.42852,-41.3863114,-45.066667,-44.712121,-41.9900914,-43.2293449,-49.2734204,-44.1605349,-39.1482031,-46.7113914,-46.692716,-45.0658565,-46.6633951,-48.541205,-48.5277021,-38.5079237,-48.4434595,-48.423069,-48.5116315,-37.2828254,-44.7200078,-35.0934551,-35.1786867,-35.038249,-43.1921099,-43.1940323,-60.9443704,-35.047462,-38.9971665,-35.1818347,-48.4656237,-35.173635,-43.1902778,-35.0099238,-43.2506791,-54.5709235,-38.4829706,-51.1786736,-38.9302044,-41.8799393,-48.3462239,-43.94574,-41.3897579,-47.5152239,-35.0466307,-46.676627,-47.4450571,-38.532786,-43.1821136,0.0,-43.9697807,-45.015267,-39.0288686,-46.6872518,-38.9925455,-35.7185476,-46.6354446,-48.4033123,-35.177567,-37.7018119,-38.46158,-42.8378885,-43.1771891,-48.5153697,-43.1932616,-44.2490907,-41.8933792,-40.493912,-46.674742,-44.7255694,-56.4978779,-35.0101485,-38.7408685,-48.4688482,-38.9887143,-56.483125,-35.550904,-41.491316,-51.2207831,-52.3403946,-49.9739568,-38.50758,-35.6982966,-43.177103,-38.5305644,-35.3525311,-44.3043957,-35.2728096,-48.6271755,-47.8121602,-44.2705383,-39.0358111,-49.2443734,-41.901132,-38.992187,-46.6539687,-54.949571,-60.0194159,-38.9887654,-43.5038054,-60.0216397,-39.048916,-41.9040724,-48.5146887,-41.908471,-46.1484729,-40.41489,-38.9910635,-35.008523,-56.5663592,-43.9766164,-43.214107,-46.0634864,-48.4222308,-43.9768088,-46.6588602,-60.0280191,-38.9899764,-44.3001579,-38.5213872,-35.1803098,-35.0017348,-40.5130031,-45.58174,-45.0717292,-44.7327392,-41.879622,-46.474488,-35.0458,-45.0787888,-46.6663887,-35.0430387,-44.2948189,-46.6635705,-49.2540036,-41.8890009,-48.5205197,-38.9942432,-43.1913069,-38.9500478,-40.4066135,-38.7206589,-38.9899196,-45.3582328,-43.2409966,-48.5344167,-41.9295907,-43.2013159,-44.170279,-38.9887641,-44.8851342,-43.1891119,-40.5356404,-46.2270201,-44.1691437,-51.2148647,-43.2055648,-35.635807,-46.6519784,-42.02045,-35.7056666,-48.4950678,-45.015615,-35.050813,-35.0433543,-48.5249885,-41.8813487,-32.414094,-46.66383,-44.7503096,-34.9997368,-42.3191128,-48.4304649,-38.5320978,-48.4357289,-40.5144769,-35.1483123,-56.4856638,-41.7744049,-44.4166224,-38.9105742,-46.4687246,-41.887247,-54.5796466,-41.929504,-41.4026641,-44.7188833,-35.0555929,-46.2797737,-38.467814,-46.8822714],\"marker\":{\"color\":\"#636efa\"},\"mode\":\"markers\",\"name\":\"\",\"showlegend\":false,\"subplot\":\"mapbox\",\"type\":\"scattermapbox\"}],                        {\"template\":{\"data\":{\"histogram2dcontour\":[{\"type\":\"histogram2dcontour\",\"colorbar\":{\"outlinewidth\":0,\"ticks\":\"\"},\"colorscale\":[[0.0,\"#0d0887\"],[0.1111111111111111,\"#46039f\"],[0.2222222222222222,\"#7201a8\"],[0.3333333333333333,\"#9c179e\"],[0.4444444444444444,\"#bd3786\"],[0.5555555555555556,\"#d8576b\"],[0.6666666666666666,\"#ed7953\"],[0.7777777777777778,\"#fb9f3a\"],[0.8888888888888888,\"#fdca26\"],[1.0,\"#f0f921\"]]}],\"choropleth\":[{\"type\":\"choropleth\",\"colorbar\":{\"outlinewidth\":0,\"ticks\":\"\"}}],\"histogram2d\":[{\"type\":\"histogram2d\",\"colorbar\":{\"outlinewidth\":0,\"ticks\":\"\"},\"colorscale\":[[0.0,\"#0d0887\"],[0.1111111111111111,\"#46039f\"],[0.2222222222222222,\"#7201a8\"],[0.3333333333333333,\"#9c179e\"],[0.4444444444444444,\"#bd3786\"],[0.5555555555555556,\"#d8576b\"],[0.6666666666666666,\"#ed7953\"],[0.7777777777777778,\"#fb9f3a\"],[0.8888888888888888,\"#fdca26\"],[1.0,\"#f0f921\"]]}],\"heatmap\":[{\"type\":\"heatmap\",\"colorbar\":{\"outlinewidth\":0,\"ticks\":\"\"},\"colorscale\":[[0.0,\"#0d0887\"],[0.1111111111111111,\"#46039f\"],[0.2222222222222222,\"#7201a8\"],[0.3333333333333333,\"#9c179e\"],[0.4444444444444444,\"#bd3786\"],[0.5555555555555556,\"#d8576b\"],[0.6666666666666666,\"#ed7953\"],[0.7777777777777778,\"#fb9f3a\"],[0.8888888888888888,\"#fdca26\"],[1.0,\"#f0f921\"]]}],\"heatmapgl\":[{\"type\":\"heatmapgl\",\"colorbar\":{\"outlinewidth\":0,\"ticks\":\"\"},\"colorscale\":[[0.0,\"#0d0887\"],[0.1111111111111111,\"#46039f\"],[0.2222222222222222,\"#7201a8\"],[0.3333333333333333,\"#9c179e\"],[0.4444444444444444,\"#bd3786\"],[0.5555555555555556,\"#d8576b\"],[0.6666666666666666,\"#ed7953\"],[0.7777777777777778,\"#fb9f3a\"],[0.8888888888888888,\"#fdca26\"],[1.0,\"#f0f921\"]]}],\"contourcarpet\":[{\"type\":\"contourcarpet\",\"colorbar\":{\"outlinewidth\":0,\"ticks\":\"\"}}],\"contour\":[{\"type\":\"contour\",\"colorbar\":{\"outlinewidth\":0,\"ticks\":\"\"},\"colorscale\":[[0.0,\"#0d0887\"],[0.1111111111111111,\"#46039f\"],[0.2222222222222222,\"#7201a8\"],[0.3333333333333333,\"#9c179e\"],[0.4444444444444444,\"#bd3786\"],[0.5555555555555556,\"#d8576b\"],[0.6666666666666666,\"#ed7953\"],[0.7777777777777778,\"#fb9f3a\"],[0.8888888888888888,\"#fdca26\"],[1.0,\"#f0f921\"]]}],\"surface\":[{\"type\":\"surface\",\"colorbar\":{\"outlinewidth\":0,\"ticks\":\"\"},\"colorscale\":[[0.0,\"#0d0887\"],[0.1111111111111111,\"#46039f\"],[0.2222222222222222,\"#7201a8\"],[0.3333333333333333,\"#9c179e\"],[0.4444444444444444,\"#bd3786\"],[0.5555555555555556,\"#d8576b\"],[0.6666666666666666,\"#ed7953\"],[0.7777777777777778,\"#fb9f3a\"],[0.8888888888888888,\"#fdca26\"],[1.0,\"#f0f921\"]]}],\"mesh3d\":[{\"type\":\"mesh3d\",\"colorbar\":{\"outlinewidth\":0,\"ticks\":\"\"}}],\"scatter\":[{\"fillpattern\":{\"fillmode\":\"overlay\",\"size\":10,\"solidity\":0.2},\"type\":\"scatter\"}],\"parcoords\":[{\"type\":\"parcoords\",\"line\":{\"colorbar\":{\"outlinewidth\":0,\"ticks\":\"\"}}}],\"scatterpolargl\":[{\"type\":\"scatterpolargl\",\"marker\":{\"colorbar\":{\"outlinewidth\":0,\"ticks\":\"\"}}}],\"bar\":[{\"error_x\":{\"color\":\"#2a3f5f\"},\"error_y\":{\"color\":\"#2a3f5f\"},\"marker\":{\"line\":{\"color\":\"#E5ECF6\",\"width\":0.5},\"pattern\":{\"fillmode\":\"overlay\",\"size\":10,\"solidity\":0.2}},\"type\":\"bar\"}],\"scattergeo\":[{\"type\":\"scattergeo\",\"marker\":{\"colorbar\":{\"outlinewidth\":0,\"ticks\":\"\"}}}],\"scatterpolar\":[{\"type\":\"scatterpolar\",\"marker\":{\"colorbar\":{\"outlinewidth\":0,\"ticks\":\"\"}}}],\"histogram\":[{\"marker\":{\"pattern\":{\"fillmode\":\"overlay\",\"size\":10,\"solidity\":0.2}},\"type\":\"histogram\"}],\"scattergl\":[{\"type\":\"scattergl\",\"marker\":{\"colorbar\":{\"outlinewidth\":0,\"ticks\":\"\"}}}],\"scatter3d\":[{\"type\":\"scatter3d\",\"line\":{\"colorbar\":{\"outlinewidth\":0,\"ticks\":\"\"}},\"marker\":{\"colorbar\":{\"outlinewidth\":0,\"ticks\":\"\"}}}],\"scattermapbox\":[{\"type\":\"scattermapbox\",\"marker\":{\"colorbar\":{\"outlinewidth\":0,\"ticks\":\"\"}}}],\"scatterternary\":[{\"type\":\"scatterternary\",\"marker\":{\"colorbar\":{\"outlinewidth\":0,\"ticks\":\"\"}}}],\"scattercarpet\":[{\"type\":\"scattercarpet\",\"marker\":{\"colorbar\":{\"outlinewidth\":0,\"ticks\":\"\"}}}],\"carpet\":[{\"aaxis\":{\"endlinecolor\":\"#2a3f5f\",\"gridcolor\":\"white\",\"linecolor\":\"white\",\"minorgridcolor\":\"white\",\"startlinecolor\":\"#2a3f5f\"},\"baxis\":{\"endlinecolor\":\"#2a3f5f\",\"gridcolor\":\"white\",\"linecolor\":\"white\",\"minorgridcolor\":\"white\",\"startlinecolor\":\"#2a3f5f\"},\"type\":\"carpet\"}],\"table\":[{\"cells\":{\"fill\":{\"color\":\"#EBF0F8\"},\"line\":{\"color\":\"white\"}},\"header\":{\"fill\":{\"color\":\"#C8D4E3\"},\"line\":{\"color\":\"white\"}},\"type\":\"table\"}],\"barpolar\":[{\"marker\":{\"line\":{\"color\":\"#E5ECF6\",\"width\":0.5},\"pattern\":{\"fillmode\":\"overlay\",\"size\":10,\"solidity\":0.2}},\"type\":\"barpolar\"}],\"pie\":[{\"automargin\":true,\"type\":\"pie\"}]},\"layout\":{\"autotypenumbers\":\"strict\",\"colorway\":[\"#636efa\",\"#EF553B\",\"#00cc96\",\"#ab63fa\",\"#FFA15A\",\"#19d3f3\",\"#FF6692\",\"#B6E880\",\"#FF97FF\",\"#FECB52\"],\"font\":{\"color\":\"#2a3f5f\"},\"hovermode\":\"closest\",\"hoverlabel\":{\"align\":\"left\"},\"paper_bgcolor\":\"white\",\"plot_bgcolor\":\"#E5ECF6\",\"polar\":{\"bgcolor\":\"#E5ECF6\",\"angularaxis\":{\"gridcolor\":\"white\",\"linecolor\":\"white\",\"ticks\":\"\"},\"radialaxis\":{\"gridcolor\":\"white\",\"linecolor\":\"white\",\"ticks\":\"\"}},\"ternary\":{\"bgcolor\":\"#E5ECF6\",\"aaxis\":{\"gridcolor\":\"white\",\"linecolor\":\"white\",\"ticks\":\"\"},\"baxis\":{\"gridcolor\":\"white\",\"linecolor\":\"white\",\"ticks\":\"\"},\"caxis\":{\"gridcolor\":\"white\",\"linecolor\":\"white\",\"ticks\":\"\"}},\"coloraxis\":{\"colorbar\":{\"outlinewidth\":0,\"ticks\":\"\"}},\"colorscale\":{\"sequential\":[[0.0,\"#0d0887\"],[0.1111111111111111,\"#46039f\"],[0.2222222222222222,\"#7201a8\"],[0.3333333333333333,\"#9c179e\"],[0.4444444444444444,\"#bd3786\"],[0.5555555555555556,\"#d8576b\"],[0.6666666666666666,\"#ed7953\"],[0.7777777777777778,\"#fb9f3a\"],[0.8888888888888888,\"#fdca26\"],[1.0,\"#f0f921\"]],\"sequentialminus\":[[0.0,\"#0d0887\"],[0.1111111111111111,\"#46039f\"],[0.2222222222222222,\"#7201a8\"],[0.3333333333333333,\"#9c179e\"],[0.4444444444444444,\"#bd3786\"],[0.5555555555555556,\"#d8576b\"],[0.6666666666666666,\"#ed7953\"],[0.7777777777777778,\"#fb9f3a\"],[0.8888888888888888,\"#fdca26\"],[1.0,\"#f0f921\"]],\"diverging\":[[0,\"#8e0152\"],[0.1,\"#c51b7d\"],[0.2,\"#de77ae\"],[0.3,\"#f1b6da\"],[0.4,\"#fde0ef\"],[0.5,\"#f7f7f7\"],[0.6,\"#e6f5d0\"],[0.7,\"#b8e186\"],[0.8,\"#7fbc41\"],[0.9,\"#4d9221\"],[1,\"#276419\"]]},\"xaxis\":{\"gridcolor\":\"white\",\"linecolor\":\"white\",\"ticks\":\"\",\"title\":{\"standoff\":15},\"zerolinecolor\":\"white\",\"automargin\":true,\"zerolinewidth\":2},\"yaxis\":{\"gridcolor\":\"white\",\"linecolor\":\"white\",\"ticks\":\"\",\"title\":{\"standoff\":15},\"zerolinecolor\":\"white\",\"automargin\":true,\"zerolinewidth\":2},\"scene\":{\"xaxis\":{\"backgroundcolor\":\"#E5ECF6\",\"gridcolor\":\"white\",\"linecolor\":\"white\",\"showbackground\":true,\"ticks\":\"\",\"zerolinecolor\":\"white\",\"gridwidth\":2},\"yaxis\":{\"backgroundcolor\":\"#E5ECF6\",\"gridcolor\":\"white\",\"linecolor\":\"white\",\"showbackground\":true,\"ticks\":\"\",\"zerolinecolor\":\"white\",\"gridwidth\":2},\"zaxis\":{\"backgroundcolor\":\"#E5ECF6\",\"gridcolor\":\"white\",\"linecolor\":\"white\",\"showbackground\":true,\"ticks\":\"\",\"zerolinecolor\":\"white\",\"gridwidth\":2}},\"shapedefaults\":{\"line\":{\"color\":\"#2a3f5f\"}},\"annotationdefaults\":{\"arrowcolor\":\"#2a3f5f\",\"arrowhead\":0,\"arrowwidth\":1},\"geo\":{\"bgcolor\":\"white\",\"landcolor\":\"#E5ECF6\",\"subunitcolor\":\"white\",\"showland\":true,\"showlakes\":true,\"lakecolor\":\"white\"},\"title\":{\"x\":0.05},\"mapbox\":{\"style\":\"light\"}}},\"mapbox\":{\"domain\":{\"x\":[0.0,1.0],\"y\":[0.0,1.0]},\"center\":{\"lat\":-18.60403630685053,\"lon\":-44.20280943558719},\"accesstoken\":\"pk.eyJ1IjoidGhhbmFlbCIsImEiOiJjbHdmbnFsMWwwMjh1MmtvN3k4bDlibGZrIn0.GV0-K-dJuFBuCw7HxZnmYA\",\"zoom\":2},\"legend\":{\"tracegroupgap\":0},\"margin\":{\"t\":60}},                        {\"responsive\": true}                    ).then(function(){\n",
       "                            \n",
       "var gd = document.getElementById('a1ae03b5-75dc-4899-a589-3ea400c515e9');\n",
       "var x = new MutationObserver(function (mutations, observer) {{\n",
       "        var display = window.getComputedStyle(gd).display;\n",
       "        if (!display || display === 'none') {{\n",
       "            console.log([gd, 'removed!']);\n",
       "            Plotly.purge(gd);\n",
       "            observer.disconnect();\n",
       "        }}\n",
       "}});\n",
       "\n",
       "// Listen for the removal of the full notebook cells\n",
       "var notebookContainer = gd.closest('#notebook-container');\n",
       "if (notebookContainer) {{\n",
       "    x.observe(notebookContainer, {childList: true});\n",
       "}}\n",
       "\n",
       "// Listen for the clearing of the current output cell\n",
       "var outputEl = gd.closest('.output');\n",
       "if (outputEl) {{\n",
       "    x.observe(outputEl, {childList: true});\n",
       "}}\n",
       "\n",
       "                        })                };                });            </script>        </div>"
      ]
     },
     "metadata": {},
     "output_type": "display_data"
    }
   ],
   "source": [
    "import plotly.express as px\n",
    "import geopandas as gpd\n",
    "\n",
    "geo_df = gpd.read_file(gpd.datasets.get_path('naturalearth_cities'))\n",
    "\n",
    "px.set_mapbox_access_token(open(\".mapbox_token\").read())\n",
    "\n",
    "fig = px.scatter_mapbox(df,\n",
    "                        lat='latitude',\n",
    "                        lon='longitude',\n",
    "                        hover_name=\"name\",\n",
    "                        zoom=2\n",
    "                       )\n",
    "fig.show()"
   ]
  },
  {
   "cell_type": "code",
   "execution_count": null,
   "id": "77bb3f87-5c11-4e1c-a6e4-b898d8b1f9d4",
   "metadata": {},
   "outputs": [],
   "source": []
  }
 ],
 "metadata": {
  "kernelspec": {
   "display_name": "Python 3 (ipykernel)",
   "language": "python",
   "name": "python3"
  },
  "language_info": {
   "codemirror_mode": {
    "name": "ipython",
    "version": 3
   },
   "file_extension": ".py",
   "mimetype": "text/x-python",
   "name": "python",
   "nbconvert_exporter": "python",
   "pygments_lexer": "ipython3",
   "version": "3.11.1"
  }
 },
 "nbformat": 4,
 "nbformat_minor": 5
}
